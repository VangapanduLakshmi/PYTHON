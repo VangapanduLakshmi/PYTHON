{
 "cells": [
  {
   "cell_type": "markdown",
   "id": "4396449a",
   "metadata": {},
   "source": [
    "# Collection Data types"
   ]
  },
  {
   "cell_type": "markdown",
   "id": "76f51d37",
   "metadata": {},
   "source": [
    "1. to store more than single value\n",
    "2. we can store homogenous/heterogenous "
   ]
  },
  {
   "cell_type": "raw",
   "id": "a7386294",
   "metadata": {},
   "source": [
    "list\n",
    "tuple\n",
    "set (frozen set)\n",
    "dictionary"
   ]
  },
  {
   "cell_type": "markdown",
   "id": "75693ed0",
   "metadata": {},
   "source": [
    "# List"
   ]
  },
  {
   "cell_type": "code",
   "execution_count": 1,
   "id": "b1658031",
   "metadata": {},
   "outputs": [
    {
     "name": "stdout",
     "output_type": "stream",
     "text": [
      "['innomatics', 'research', 'labs']\n"
     ]
    }
   ],
   "source": [
    "lst1=[\"innomatics\",\"research\",\"labs\"]\n",
    "print(lst1)"
   ]
  },
  {
   "cell_type": "code",
   "execution_count": 2,
   "id": "eccf1198",
   "metadata": {},
   "outputs": [
    {
     "data": {
      "text/plain": [
       "list"
      ]
     },
     "execution_count": 2,
     "metadata": {},
     "output_type": "execute_result"
    }
   ],
   "source": [
    "type(lst1)"
   ]
  },
  {
   "cell_type": "code",
   "execution_count": 4,
   "id": "aca0bc18",
   "metadata": {},
   "outputs": [
    {
     "data": {
      "text/plain": [
       "5"
      ]
     },
     "execution_count": 4,
     "metadata": {},
     "output_type": "execute_result"
    }
   ],
   "source": [
    "len(lst2)"
   ]
  },
  {
   "cell_type": "code",
   "execution_count": 6,
   "id": "d4a74b63",
   "metadata": {},
   "outputs": [
    {
     "data": {
      "text/plain": [
       "4"
      ]
     },
     "execution_count": 6,
     "metadata": {},
     "output_type": "execute_result"
    }
   ],
   "source": [
    "lst2[3]"
   ]
  },
  {
   "cell_type": "code",
   "execution_count": 18,
   "id": "0c49b846",
   "metadata": {},
   "outputs": [],
   "source": [
    "lst3=[\"laxmi\",\"lakshmi\",\"lucky\",\"rajlaxmi\",\"potato\"]"
   ]
  },
  {
   "cell_type": "code",
   "execution_count": 8,
   "id": "684f3367",
   "metadata": {},
   "outputs": [
    {
     "name": "stdout",
     "output_type": "stream",
     "text": [
      "['laxmi', 'lakshmi', 'lucky', 'rajlaxmi']\n"
     ]
    }
   ],
   "source": [
    "print(lst3)"
   ]
  },
  {
   "cell_type": "code",
   "execution_count": 9,
   "id": "f3a546d8",
   "metadata": {},
   "outputs": [
    {
     "data": {
      "text/plain": [
       "list"
      ]
     },
     "execution_count": 9,
     "metadata": {},
     "output_type": "execute_result"
    }
   ],
   "source": [
    "type(lst3)"
   ]
  },
  {
   "cell_type": "code",
   "execution_count": 10,
   "id": "b75a7f2d",
   "metadata": {},
   "outputs": [
    {
     "data": {
      "text/plain": [
       "4"
      ]
     },
     "execution_count": 10,
     "metadata": {},
     "output_type": "execute_result"
    }
   ],
   "source": [
    "len(lst3)"
   ]
  },
  {
   "cell_type": "code",
   "execution_count": 11,
   "id": "5e814ee9",
   "metadata": {},
   "outputs": [
    {
     "data": {
      "text/plain": [
       "'rajlaxmi'"
      ]
     },
     "execution_count": 11,
     "metadata": {},
     "output_type": "execute_result"
    }
   ],
   "source": [
    "lst3[3]"
   ]
  },
  {
   "cell_type": "code",
   "execution_count": 12,
   "id": "78fc23b9",
   "metadata": {},
   "outputs": [
    {
     "data": {
      "text/plain": [
       "['rajlaxmi', 'lucky']"
      ]
     },
     "execution_count": 12,
     "metadata": {},
     "output_type": "execute_result"
    }
   ],
   "source": [
    "lst3[-1:-3:-1]"
   ]
  },
  {
   "cell_type": "code",
   "execution_count": 14,
   "id": "c8339169",
   "metadata": {},
   "outputs": [
    {
     "data": {
      "text/plain": [
       "['lucky', 'rajlaxmi']"
      ]
     },
     "execution_count": 14,
     "metadata": {},
     "output_type": "execute_result"
    }
   ],
   "source": [
    "lst3[2:]"
   ]
  },
  {
   "cell_type": "code",
   "execution_count": 15,
   "id": "b9a4a560",
   "metadata": {},
   "outputs": [
    {
     "data": {
      "text/plain": [
       "['rajlaxmi', 'lucky', 'lakshmi', 'laxmi']"
      ]
     },
     "execution_count": 15,
     "metadata": {},
     "output_type": "execute_result"
    }
   ],
   "source": [
    "lst3[::-1]"
   ]
  },
  {
   "cell_type": "code",
   "execution_count": 17,
   "id": "813e6e32",
   "metadata": {},
   "outputs": [
    {
     "data": {
      "text/plain": [
       "['rajlaxmi', 'lucky', 'lakshmi', 'laxmi']"
      ]
     },
     "execution_count": 17,
     "metadata": {},
     "output_type": "execute_result"
    }
   ],
   "source": [
    "lst3[-1:-5:-1]"
   ]
  },
  {
   "cell_type": "code",
   "execution_count": 3,
   "id": "a99fde09",
   "metadata": {},
   "outputs": [
    {
     "name": "stdout",
     "output_type": "stream",
     "text": [
      "[1, 2, 3, 4, 5]\n"
     ]
    }
   ],
   "source": [
    "lst2=[1,2,3,4,5]\n",
    "print(lst2)"
   ]
  },
  {
   "cell_type": "code",
   "execution_count": 22,
   "id": "78cbbafb",
   "metadata": {},
   "outputs": [
    {
     "name": "stdout",
     "output_type": "stream",
     "text": [
      "potato\n"
     ]
    }
   ],
   "source": [
    "for i in range(len(lst3)):\n",
    "    if(lst3[i].startswith(\"p\")):\n",
    "        print(lst3[i])"
   ]
  },
  {
   "cell_type": "markdown",
   "id": "13d44ca4",
   "metadata": {},
   "source": [
    "**characteristics/attributes of list**"
   ]
  },
  {
   "cell_type": "raw",
   "id": "612cb092",
   "metadata": {},
   "source": [
    "1. Mutable   #modify/change the original data\n",
    "2. it follwos the ordered\n",
    "3. allow's the duplicates elements\n",
    "4. index based"
   ]
  },
  {
   "cell_type": "code",
   "execution_count": 24,
   "id": "33f507b6",
   "metadata": {},
   "outputs": [],
   "source": [
    "lst4=[1,2,3,4,5,6,1,2,3]  #allows the duplicates elements"
   ]
  },
  {
   "cell_type": "code",
   "execution_count": 25,
   "id": "2dc906fd",
   "metadata": {},
   "outputs": [
    {
     "name": "stdout",
     "output_type": "stream",
     "text": [
      "[1, 2, 3, 4, 5, 6, 1, 2, 3]\n"
     ]
    }
   ],
   "source": [
    "print(lst4)"
   ]
  },
  {
   "cell_type": "code",
   "execution_count": 27,
   "id": "9db7d3f7",
   "metadata": {},
   "outputs": [
    {
     "data": {
      "text/plain": [
       "3"
      ]
     },
     "execution_count": 27,
     "metadata": {},
     "output_type": "execute_result"
    }
   ],
   "source": [
    "lst4[-1]  #index based(ordered)"
   ]
  },
  {
   "cell_type": "code",
   "execution_count": 28,
   "id": "512e5785",
   "metadata": {},
   "outputs": [],
   "source": [
    "orig=[1,2,3,4,5]"
   ]
  },
  {
   "cell_type": "code",
   "execution_count": 29,
   "id": "13be01b6",
   "metadata": {},
   "outputs": [
    {
     "name": "stdout",
     "output_type": "stream",
     "text": [
      "[1, 2, 3, 4, 5, 'bscdfas']\n"
     ]
    }
   ],
   "source": [
    "orig.append(\"bscdfas\")   #string is immutable\n",
    "print(orig)"
   ]
  },
  {
   "cell_type": "code",
   "execution_count": 1,
   "id": "0a3067b1",
   "metadata": {},
   "outputs": [],
   "source": [
    "name=\"ehdgisjxn\""
   ]
  },
  {
   "cell_type": "code",
   "execution_count": 5,
   "id": "9a7bc9df",
   "metadata": {},
   "outputs": [
    {
     "data": {
      "text/plain": [
       "'rhdgisjxn'"
      ]
     },
     "execution_count": 5,
     "metadata": {},
     "output_type": "execute_result"
    }
   ],
   "source": [
    "name.replace(\"e\",\"r\")"
   ]
  },
  {
   "cell_type": "code",
   "execution_count": 6,
   "id": "1d8b6156",
   "metadata": {},
   "outputs": [
    {
     "data": {
      "text/plain": [
       "'rhdgisjxn'"
      ]
     },
     "execution_count": 6,
     "metadata": {},
     "output_type": "execute_result"
    }
   ],
   "source": [
    "name"
   ]
  },
  {
   "cell_type": "code",
   "execution_count": 40,
   "id": "0cf98eae",
   "metadata": {},
   "outputs": [
    {
     "data": {
      "text/plain": [
       "['laxmi', 'lakshmi', 'lucky', 'rajlaxmi', 'potato', 'raw', 'raw']"
      ]
     },
     "execution_count": 40,
     "metadata": {},
     "output_type": "execute_result"
    }
   ],
   "source": [
    "lst3"
   ]
  },
  {
   "cell_type": "code",
   "execution_count": 41,
   "id": "d6b8bb25",
   "metadata": {},
   "outputs": [],
   "source": [
    "lst3.append(\"raw\")"
   ]
  },
  {
   "cell_type": "code",
   "execution_count": 42,
   "id": "deda2657",
   "metadata": {},
   "outputs": [
    {
     "data": {
      "text/plain": [
       "['laxmi', 'lakshmi', 'lucky', 'rajlaxmi', 'potato', 'raw', 'raw', 'raw']"
      ]
     },
     "execution_count": 42,
     "metadata": {},
     "output_type": "execute_result"
    }
   ],
   "source": [
    "lst3"
   ]
  },
  {
   "cell_type": "code",
   "execution_count": 20,
   "id": "a1214f80",
   "metadata": {},
   "outputs": [],
   "source": [
    "lst3=[0,2,4,6,8,10]"
   ]
  },
  {
   "cell_type": "code",
   "execution_count": 21,
   "id": "770737fa",
   "metadata": {},
   "outputs": [],
   "source": [
    "lst3.insert(2,9)"
   ]
  },
  {
   "cell_type": "code",
   "execution_count": 22,
   "id": "16a6c5af",
   "metadata": {},
   "outputs": [
    {
     "name": "stdout",
     "output_type": "stream",
     "text": [
      "[0, 2, 9, 4, 6, 8, 10]\n"
     ]
    }
   ],
   "source": [
    "print(lst3)"
   ]
  },
  {
   "cell_type": "code",
   "execution_count": 47,
   "id": "850ee406",
   "metadata": {},
   "outputs": [],
   "source": [
    "lst3.extend(lst2)"
   ]
  },
  {
   "cell_type": "code",
   "execution_count": 48,
   "id": "bc824429",
   "metadata": {},
   "outputs": [
    {
     "name": "stdout",
     "output_type": "stream",
     "text": [
      "[0, 2, 9, 4, 6, 8, 10, 1, 2, 3, 4, 5]\n"
     ]
    }
   ],
   "source": [
    "print(lst3)"
   ]
  },
  {
   "cell_type": "code",
   "execution_count": 49,
   "id": "d8782498",
   "metadata": {},
   "outputs": [],
   "source": [
    "lst4=[0,2,4,6,10]"
   ]
  },
  {
   "cell_type": "markdown",
   "id": "4f711c89",
   "metadata": {},
   "source": [
    "**List functions/methods**"
   ]
  },
  {
   "cell_type": "code",
   "execution_count": 24,
   "id": "05400027",
   "metadata": {},
   "outputs": [],
   "source": [
    "num=[1,2,3,4,5,6]"
   ]
  },
  {
   "cell_type": "code",
   "execution_count": 51,
   "id": "8143d1f2",
   "metadata": {},
   "outputs": [
    {
     "name": "stdout",
     "output_type": "stream",
     "text": [
      "[1, 2, 3, 4, 5, 6, 7]\n"
     ]
    }
   ],
   "source": [
    "num.append(7)  # adding the element/value at the end of the list\n",
    "print(num)"
   ]
  },
  {
   "cell_type": "code",
   "execution_count": 52,
   "id": "d61ad0bd",
   "metadata": {},
   "outputs": [],
   "source": [
    "num.clear()   #clears the all the values and returns the empty list"
   ]
  },
  {
   "cell_type": "code",
   "execution_count": 53,
   "id": "6d0a66a2",
   "metadata": {},
   "outputs": [
    {
     "name": "stdout",
     "output_type": "stream",
     "text": [
      "[]\n"
     ]
    }
   ],
   "source": [
    "print(num)"
   ]
  },
  {
   "cell_type": "code",
   "execution_count": 9,
   "id": "8eb6931f",
   "metadata": {},
   "outputs": [],
   "source": [
    "num=[1,2,3,4,5,6,6]"
   ]
  },
  {
   "cell_type": "code",
   "execution_count": 11,
   "id": "04bab366",
   "metadata": {},
   "outputs": [],
   "source": [
    "num1=num.copy()       #it returns the original list"
   ]
  },
  {
   "cell_type": "code",
   "execution_count": 12,
   "id": "8b463130",
   "metadata": {},
   "outputs": [
    {
     "name": "stdout",
     "output_type": "stream",
     "text": [
      "[1, 2, 3, 4, 5, 6, 6, 6]\n"
     ]
    }
   ],
   "source": [
    "num1.append(6)\n",
    "print(num1)"
   ]
  },
  {
   "cell_type": "code",
   "execution_count": 13,
   "id": "3207785b",
   "metadata": {},
   "outputs": [
    {
     "data": {
      "text/plain": [
       "[1, 2, 3, 4, 5, 6, 6]"
      ]
     },
     "execution_count": 13,
     "metadata": {},
     "output_type": "execute_result"
    }
   ],
   "source": [
    "num"
   ]
  },
  {
   "cell_type": "code",
   "execution_count": 19,
   "id": "44431eb7",
   "metadata": {},
   "outputs": [],
   "source": [
    "s= \"scvbdsdjncfr\""
   ]
  },
  {
   "cell_type": "code",
   "execution_count": 15,
   "id": "f402f874",
   "metadata": {},
   "outputs": [
    {
     "data": {
      "text/plain": [
       "2"
      ]
     },
     "execution_count": 15,
     "metadata": {},
     "output_type": "execute_result"
    }
   ],
   "source": [
    "num.count(6)  #frequency of occurance"
   ]
  },
  {
   "cell_type": "code",
   "execution_count": 8,
   "id": "481157e1",
   "metadata": {},
   "outputs": [
    {
     "name": "stdout",
     "output_type": "stream",
     "text": [
      "[1, 2, 3, 4, 5, 6, 7, 8, 9, 10]\n"
     ]
    }
   ],
   "source": [
    "num.extend([7,8,9,10])\n",
    "print(num)"
   ]
  },
  {
   "cell_type": "code",
   "execution_count": 64,
   "id": "7298b55f",
   "metadata": {},
   "outputs": [
    {
     "data": {
      "text/plain": [
       "2"
      ]
     },
     "execution_count": 64,
     "metadata": {},
     "output_type": "execute_result"
    }
   ],
   "source": [
    "num.index(3)"
   ]
  },
  {
   "cell_type": "code",
   "execution_count": 65,
   "id": "997859c1",
   "metadata": {},
   "outputs": [],
   "source": [
    "num.insert(3,10)  #if we want to add an value at the particular location/positin/index than use the insert function"
   ]
  },
  {
   "cell_type": "code",
   "execution_count": 66,
   "id": "33078d5e",
   "metadata": {},
   "outputs": [
    {
     "name": "stdout",
     "output_type": "stream",
     "text": [
      "[1, 2, 3, 10, 4, 5, 6, 7, 8, 9, 10, 7, 8, 9, 10, 7, 8, 9, 10]\n"
     ]
    }
   ],
   "source": [
    "print(num)"
   ]
  },
  {
   "cell_type": "code",
   "execution_count": 1,
   "id": "51ca3f5c",
   "metadata": {},
   "outputs": [],
   "source": [
    "val=[1,2,3,4,5]\n",
    "val.insert(3,6)"
   ]
  },
  {
   "cell_type": "code",
   "execution_count": 2,
   "id": "02ea4a19",
   "metadata": {},
   "outputs": [
    {
     "name": "stdout",
     "output_type": "stream",
     "text": [
      "[1, 2, 3, 6, 4, 5]\n"
     ]
    }
   ],
   "source": [
    "print(val)"
   ]
  },
  {
   "cell_type": "code",
   "execution_count": 3,
   "id": "ab7d3032",
   "metadata": {},
   "outputs": [
    {
     "data": {
      "text/plain": [
       "6"
      ]
     },
     "execution_count": 3,
     "metadata": {},
     "output_type": "execute_result"
    }
   ],
   "source": [
    "val.pop(3)  #removing an value using index based"
   ]
  },
  {
   "cell_type": "code",
   "execution_count": 4,
   "id": "5db1df52",
   "metadata": {},
   "outputs": [
    {
     "data": {
      "text/plain": [
       "5"
      ]
     },
     "execution_count": 4,
     "metadata": {},
     "output_type": "execute_result"
    }
   ],
   "source": [
    "val.pop() #if we don't provide the value, than it delete the last element in the list"
   ]
  },
  {
   "cell_type": "code",
   "execution_count": 5,
   "id": "e792ca38",
   "metadata": {},
   "outputs": [
    {
     "name": "stdout",
     "output_type": "stream",
     "text": [
      "[1, 2, 3, 4]\n"
     ]
    }
   ],
   "source": [
    "print(val)"
   ]
  },
  {
   "cell_type": "code",
   "execution_count": 74,
   "id": "78087843",
   "metadata": {},
   "outputs": [],
   "source": [
    "num.remove(10)#removing an value using elements in the list and if the list is having duplicate elements,than it revomes first occurance value"
   ]
  },
  {
   "cell_type": "code",
   "execution_count": 26,
   "id": "1948da6f",
   "metadata": {},
   "outputs": [],
   "source": [
    "num.remove(2)"
   ]
  },
  {
   "cell_type": "code",
   "execution_count": 75,
   "id": "a1c6f1ec",
   "metadata": {},
   "outputs": [
    {
     "name": "stdout",
     "output_type": "stream",
     "text": [
      "[1, 2, 3, 4, 5, 6, 7, 8, 9, 7, 8, 9, 10, 7, 8, 9, 10]\n"
     ]
    }
   ],
   "source": [
    "print(num)"
   ]
  },
  {
   "cell_type": "code",
   "execution_count": 76,
   "id": "bf088b7f",
   "metadata": {},
   "outputs": [],
   "source": [
    "num.sort()"
   ]
  },
  {
   "cell_type": "code",
   "execution_count": 77,
   "id": "86cff788",
   "metadata": {},
   "outputs": [
    {
     "name": "stdout",
     "output_type": "stream",
     "text": [
      "[1, 2, 3, 4, 5, 6, 7, 7, 7, 8, 8, 8, 9, 9, 9, 10, 10]\n"
     ]
    }
   ],
   "source": [
    "print(num)"
   ]
  },
  {
   "cell_type": "code",
   "execution_count": 27,
   "id": "acdfd15e",
   "metadata": {},
   "outputs": [],
   "source": [
    "task=[2,4,6,\"even\",'odd',2.3,5,6,2]"
   ]
  },
  {
   "cell_type": "code",
   "execution_count": 79,
   "id": "b3ccd7a4",
   "metadata": {},
   "outputs": [
    {
     "name": "stdout",
     "output_type": "stream",
     "text": [
      "[2, 4, 6, 'even', 'odd', 2.3, 5, 6, 2, 'true']\n"
     ]
    }
   ],
   "source": [
    "task.append(\"true\")\n",
    "print(task)"
   ]
  },
  {
   "cell_type": "code",
   "execution_count": 80,
   "id": "bba0bcdb",
   "metadata": {},
   "outputs": [
    {
     "name": "stdout",
     "output_type": "stream",
     "text": [
      "[2, 4, 6, 'even', 'odd', 2.3, 5, 6, 2, 'true']\n"
     ]
    }
   ],
   "source": [
    "task1=task.copy()\n",
    "print(task1)"
   ]
  },
  {
   "cell_type": "code",
   "execution_count": 81,
   "id": "0fcb7b23",
   "metadata": {},
   "outputs": [
    {
     "data": {
      "text/plain": [
       "[2, 4, 6, 'even', 'odd', 2.3, 5, 6, 2, 'true']"
      ]
     },
     "execution_count": 81,
     "metadata": {},
     "output_type": "execute_result"
    }
   ],
   "source": [
    "task"
   ]
  },
  {
   "cell_type": "code",
   "execution_count": 82,
   "id": "726d9896",
   "metadata": {},
   "outputs": [
    {
     "name": "stdout",
     "output_type": "stream",
     "text": [
      "[]\n"
     ]
    }
   ],
   "source": [
    "task1.clear()\n",
    "print(task1)"
   ]
  },
  {
   "cell_type": "code",
   "execution_count": 7,
   "id": "68aa0157",
   "metadata": {},
   "outputs": [
    {
     "ename": "NameError",
     "evalue": "name 'task' is not defined",
     "output_type": "error",
     "traceback": [
      "\u001b[1;31m---------------------------------------------------------------------------\u001b[0m",
      "\u001b[1;31mNameError\u001b[0m                                 Traceback (most recent call last)",
      "Cell \u001b[1;32mIn[7], line 1\u001b[0m\n\u001b[1;32m----> 1\u001b[0m task\n",
      "\u001b[1;31mNameError\u001b[0m: name 'task' is not defined"
     ]
    }
   ],
   "source": [
    "task"
   ]
  },
  {
   "cell_type": "code",
   "execution_count": 84,
   "id": "6b6fe0d1",
   "metadata": {},
   "outputs": [
    {
     "data": {
      "text/plain": [
       "2"
      ]
     },
     "execution_count": 84,
     "metadata": {},
     "output_type": "execute_result"
    }
   ],
   "source": [
    "task.count(2)"
   ]
  },
  {
   "cell_type": "code",
   "execution_count": 28,
   "id": "81504eda",
   "metadata": {},
   "outputs": [
    {
     "name": "stdout",
     "output_type": "stream",
     "text": [
      "[2, 4, 6, 'even', 'odd', 2.3, 5, 6, 2, 'false', 9, 8, 7, 5.7]\n"
     ]
    }
   ],
   "source": [
    "task.extend(['false',9,8,7,5.7])\n",
    "print(task)"
   ]
  },
  {
   "cell_type": "code",
   "execution_count": 87,
   "id": "61e4e3c3",
   "metadata": {},
   "outputs": [
    {
     "ename": "ValueError",
     "evalue": "0 is not in list",
     "output_type": "error",
     "traceback": [
      "\u001b[1;31m---------------------------------------------------------------------------\u001b[0m",
      "\u001b[1;31mValueError\u001b[0m                                Traceback (most recent call last)",
      "Cell \u001b[1;32mIn[87], line 1\u001b[0m\n\u001b[1;32m----> 1\u001b[0m task\u001b[38;5;241m.\u001b[39mindex(\u001b[38;5;241m0\u001b[39m)\n",
      "\u001b[1;31mValueError\u001b[0m: 0 is not in list"
     ]
    }
   ],
   "source": [
    "task.index(0)"
   ]
  },
  {
   "cell_type": "code",
   "execution_count": 86,
   "id": "6c3a43bf",
   "metadata": {},
   "outputs": [
    {
     "data": {
      "text/plain": [
       "3"
      ]
     },
     "execution_count": 86,
     "metadata": {},
     "output_type": "execute_result"
    }
   ],
   "source": [
    "task.index(\"even\")"
   ]
  },
  {
   "cell_type": "code",
   "execution_count": 31,
   "id": "316d6085",
   "metadata": {},
   "outputs": [
    {
     "name": "stdout",
     "output_type": "stream",
     "text": [
      "[2, 4, 6, 'even', 'odd', 2.3, 5, 6, 2, 'false', 9, 8, 7]\n"
     ]
    }
   ],
   "source": [
    "task.pop()\n",
    "print(task)"
   ]
  },
  {
   "cell_type": "code",
   "execution_count": 9,
   "id": "31f96a7f",
   "metadata": {},
   "outputs": [
    {
     "ename": "ValueError",
     "evalue": "list.remove(x): x not in list",
     "output_type": "error",
     "traceback": [
      "\u001b[1;31m---------------------------------------------------------------------------\u001b[0m",
      "\u001b[1;31mValueError\u001b[0m                                Traceback (most recent call last)",
      "Cell \u001b[1;32mIn[9], line 1\u001b[0m\n\u001b[1;32m----> 1\u001b[0m task\u001b[38;5;241m.\u001b[39mremove(\u001b[38;5;241m0\u001b[39m)\n",
      "\u001b[1;31mValueError\u001b[0m: list.remove(x): x not in list"
     ]
    }
   ],
   "source": [
    "task.remove(0)"
   ]
  },
  {
   "cell_type": "code",
   "execution_count": 89,
   "id": "c97b530c",
   "metadata": {},
   "outputs": [
    {
     "name": "stdout",
     "output_type": "stream",
     "text": [
      "[2, 6, 'odd', 2.3, 5, 6, 2, 'true', 'false', 9, 8, 7, 5.7]\n"
     ]
    }
   ],
   "source": [
    "task.remove(\"even\")\n",
    "print(task)"
   ]
  },
  {
   "cell_type": "code",
   "execution_count": 91,
   "id": "6c94c310",
   "metadata": {},
   "outputs": [],
   "source": [
    "task.reverse()"
   ]
  },
  {
   "cell_type": "code",
   "execution_count": 92,
   "id": "7211e84a",
   "metadata": {},
   "outputs": [
    {
     "name": "stdout",
     "output_type": "stream",
     "text": [
      "[5.7, 7, 8, 9, 'false', 'true', 2, 6, 5, 2.3, 'odd', 6, 2]\n"
     ]
    }
   ],
   "source": [
    "print(task)"
   ]
  },
  {
   "cell_type": "code",
   "execution_count": 93,
   "id": "d199ed53",
   "metadata": {},
   "outputs": [
    {
     "ename": "TypeError",
     "evalue": "'<' not supported between instances of 'str' and 'int'",
     "output_type": "error",
     "traceback": [
      "\u001b[1;31m---------------------------------------------------------------------------\u001b[0m",
      "\u001b[1;31mTypeError\u001b[0m                                 Traceback (most recent call last)",
      "Cell \u001b[1;32mIn[93], line 1\u001b[0m\n\u001b[1;32m----> 1\u001b[0m task\u001b[38;5;241m.\u001b[39msort()\n\u001b[0;32m      2\u001b[0m \u001b[38;5;28mprint\u001b[39m(task)\n",
      "\u001b[1;31mTypeError\u001b[0m: '<' not supported between instances of 'str' and 'int'"
     ]
    }
   ],
   "source": [
    "task.sort()   #if we want to sort the  heterogenous elements  in the list, it returns the type error. because it not supported b/w diff data types.\n",
    "print(task)"
   ]
  },
  {
   "cell_type": "code",
   "execution_count": 105,
   "id": "1be6bb79",
   "metadata": {},
   "outputs": [],
   "source": [
    "lst=[]"
   ]
  },
  {
   "cell_type": "code",
   "execution_count": 109,
   "id": "e556639a",
   "metadata": {},
   "outputs": [
    {
     "name": "stdout",
     "output_type": "stream",
     "text": [
      "laxmi\n",
      "45\n",
      "vizag\n"
     ]
    }
   ],
   "source": [
    "\n",
    "name=input()\n",
    "marks=int(input())\n",
    "city=input()"
   ]
  },
  {
   "cell_type": "code",
   "execution_count": 110,
   "id": "1b68ae74",
   "metadata": {},
   "outputs": [],
   "source": [
    "lst.append(name)\n",
    "lst.append(marks)\n",
    "lst.append(city)"
   ]
  },
  {
   "cell_type": "code",
   "execution_count": 111,
   "id": "2c25a0ce",
   "metadata": {},
   "outputs": [
    {
     "data": {
      "text/plain": [
       "['lucky', 97, 'vzm', 'laxmi', 45, 'vizag']"
      ]
     },
     "execution_count": 111,
     "metadata": {},
     "output_type": "execute_result"
    }
   ],
   "source": [
    "lst"
   ]
  },
  {
   "cell_type": "code",
   "execution_count": 17,
   "id": "3272a933",
   "metadata": {},
   "outputs": [],
   "source": [
    "list1=[1,2,3,4,5]\n",
    "list2=[1,2,3,4,5]"
   ]
  },
  {
   "cell_type": "code",
   "execution_count": 19,
   "id": "6bd36071",
   "metadata": {},
   "outputs": [
    {
     "ename": "AttributeError",
     "evalue": "'list' object has no attribute 'find'",
     "output_type": "error",
     "traceback": [
      "\u001b[1;31m---------------------------------------------------------------------------\u001b[0m",
      "\u001b[1;31mAttributeError\u001b[0m                            Traceback (most recent call last)",
      "Cell \u001b[1;32mIn[19], line 1\u001b[0m\n\u001b[1;32m----> 1\u001b[0m list1\u001b[38;5;241m.\u001b[39mfind(\u001b[38;5;241m2\u001b[39m)\n",
      "\u001b[1;31mAttributeError\u001b[0m: 'list' object has no attribute 'find'"
     ]
    }
   ],
   "source": [
    "list1."
   ]
  },
  {
   "cell_type": "markdown",
   "id": "d65a63cf",
   "metadata": {},
   "source": [
    "**membership operators**"
   ]
  },
  {
   "cell_type": "code",
   "execution_count": 8,
   "id": "b9c2bc36",
   "metadata": {},
   "outputs": [
    {
     "data": {
      "text/plain": [
       "True"
      ]
     },
     "execution_count": 8,
     "metadata": {},
     "output_type": "execute_result"
    }
   ],
   "source": [
    "1 in list1"
   ]
  },
  {
   "cell_type": "code",
   "execution_count": 9,
   "id": "2c32bf43",
   "metadata": {},
   "outputs": [
    {
     "data": {
      "text/plain": [
       "False"
      ]
     },
     "execution_count": 9,
     "metadata": {},
     "output_type": "execute_result"
    }
   ],
   "source": [
    "\"1\" in list1"
   ]
  },
  {
   "cell_type": "code",
   "execution_count": 10,
   "id": "b2dcedbf",
   "metadata": {},
   "outputs": [
    {
     "data": {
      "text/plain": [
       "False"
      ]
     },
     "execution_count": 10,
     "metadata": {},
     "output_type": "execute_result"
    }
   ],
   "source": [
    "1 not in list1"
   ]
  },
  {
   "cell_type": "markdown",
   "id": "83d69143",
   "metadata": {},
   "source": [
    "**identity operators**"
   ]
  },
  {
   "cell_type": "code",
   "execution_count": 16,
   "id": "19349941",
   "metadata": {},
   "outputs": [
    {
     "data": {
      "text/plain": [
       "False"
      ]
     },
     "execution_count": 16,
     "metadata": {},
     "output_type": "execute_result"
    }
   ],
   "source": [
    "list1 is list2         "
   ]
  },
  {
   "cell_type": "code",
   "execution_count": 17,
   "id": "d7fa5535",
   "metadata": {},
   "outputs": [
    {
     "data": {
      "text/plain": [
       "True"
      ]
     },
     "execution_count": 17,
     "metadata": {},
     "output_type": "execute_result"
    }
   ],
   "source": [
    "list1[0] is list2[0]"
   ]
  },
  {
   "cell_type": "code",
   "execution_count": 3,
   "id": "50eb0228",
   "metadata": {},
   "outputs": [],
   "source": [
    "list3=[1.1,1.2,1.3]\n",
    "list4=[1.1,1.2,1.3]"
   ]
  },
  {
   "cell_type": "code",
   "execution_count": 5,
   "id": "f6a44268",
   "metadata": {},
   "outputs": [
    {
     "data": {
      "text/plain": [
       "False"
      ]
     },
     "execution_count": 5,
     "metadata": {},
     "output_type": "execute_result"
    }
   ],
   "source": [
    "list3[0] is list4[0]"
   ]
  },
  {
   "cell_type": "code",
   "execution_count": 13,
   "id": "2d576023",
   "metadata": {},
   "outputs": [
    {
     "data": {
      "text/plain": [
       "[1.1, 1.2, 1.3]"
      ]
     },
     "execution_count": 13,
     "metadata": {},
     "output_type": "execute_result"
    }
   ],
   "source": [
    "list3"
   ]
  },
  {
   "cell_type": "code",
   "execution_count": 34,
   "id": "442548db",
   "metadata": {},
   "outputs": [
    {
     "data": {
      "text/plain": [
       "[1, 2, 3, 4]"
      ]
     },
     "execution_count": 34,
     "metadata": {},
     "output_type": "execute_result"
    }
   ],
   "source": [
    "lst = list([1,2,3,4])\n",
    "lst"
   ]
  },
  {
   "cell_type": "markdown",
   "id": "98154a51",
   "metadata": {},
   "source": [
    "# TUPLE"
   ]
  },
  {
   "cell_type": "markdown",
   "id": "f0c6911d",
   "metadata": {},
   "source": [
    "**Attributes of tuple**"
   ]
  },
  {
   "cell_type": "raw",
   "id": "908bd987",
   "metadata": {},
   "source": [
    "1. immutable\n",
    "2. ordered\n",
    "3. duplicates are allowed\n",
    "4. index based"
   ]
  },
  {
   "cell_type": "raw",
   "id": "d7b863ca",
   "metadata": {},
   "source": [
    "two ways to create tuple\n",
    "1. using ()\n",
    "2. tuple([])"
   ]
  },
  {
   "cell_type": "code",
   "execution_count": 25,
   "id": "795b0379",
   "metadata": {},
   "outputs": [
    {
     "name": "stdout",
     "output_type": "stream",
     "text": [
      "<class 'tuple'>\n",
      "(1, 2, 3, 4)\n"
     ]
    }
   ],
   "source": [
    "t=(1,2,3,4)         #using parathecis\n",
    "print(type(t))\n",
    "print(t)"
   ]
  },
  {
   "cell_type": "code",
   "execution_count": 26,
   "id": "09956576",
   "metadata": {},
   "outputs": [
    {
     "data": {
      "text/plain": [
       "(1, 2, 3, 4)"
      ]
     },
     "execution_count": 26,
     "metadata": {},
     "output_type": "execute_result"
    }
   ],
   "source": [
    "t1=tuple([1,2,3,4])   #from list\n",
    "t1"
   ]
  },
  {
   "cell_type": "code",
   "execution_count": 27,
   "id": "9d4f67b7",
   "metadata": {},
   "outputs": [],
   "source": [
    "t2=1,2,3,4,5   #packing"
   ]
  },
  {
   "cell_type": "code",
   "execution_count": 28,
   "id": "f2f8f903",
   "metadata": {},
   "outputs": [
    {
     "data": {
      "text/plain": [
       "tuple"
      ]
     },
     "execution_count": 28,
     "metadata": {},
     "output_type": "execute_result"
    }
   ],
   "source": [
    "type(t2)"
   ]
  },
  {
   "cell_type": "code",
   "execution_count": 29,
   "id": "a61bf17a",
   "metadata": {},
   "outputs": [
    {
     "data": {
      "text/plain": [
       "(1, 2, 3, 4, 5)"
      ]
     },
     "execution_count": 29,
     "metadata": {},
     "output_type": "execute_result"
    }
   ],
   "source": [
    "t2"
   ]
  },
  {
   "cell_type": "markdown",
   "id": "88a1359e",
   "metadata": {},
   "source": [
    "**Method/fuctions on tuple**"
   ]
  },
  {
   "cell_type": "markdown",
   "id": "e3d709c3",
   "metadata": {},
   "source": [
    "tuples have only two methods, there are count() and index()"
   ]
  },
  {
   "cell_type": "code",
   "execution_count": 20,
   "id": "27d55863",
   "metadata": {},
   "outputs": [],
   "source": [
    "name= (\"ramesh\",\"rajesh\",\"prakash\",\"rajesh\")"
   ]
  },
  {
   "cell_type": "code",
   "execution_count": 21,
   "id": "c6f8e00e",
   "metadata": {},
   "outputs": [
    {
     "data": {
      "text/plain": [
       "1"
      ]
     },
     "execution_count": 21,
     "metadata": {},
     "output_type": "execute_result"
    }
   ],
   "source": [
    "name.count(\"ramesh\")"
   ]
  },
  {
   "cell_type": "code",
   "execution_count": 22,
   "id": "9ced511f",
   "metadata": {},
   "outputs": [
    {
     "data": {
      "text/plain": [
       "1"
      ]
     },
     "execution_count": 22,
     "metadata": {},
     "output_type": "execute_result"
    }
   ],
   "source": [
    "name.index(\"rajesh\")"
   ]
  },
  {
   "cell_type": "code",
   "execution_count": 23,
   "id": "0218f92a",
   "metadata": {},
   "outputs": [
    {
     "data": {
      "text/plain": [
       "3"
      ]
     },
     "execution_count": 23,
     "metadata": {},
     "output_type": "execute_result"
    }
   ],
   "source": [
    "name.index(\"rajesh\",2)"
   ]
  },
  {
   "cell_type": "markdown",
   "id": "7c28885b",
   "metadata": {},
   "source": [
    "**Associate operators**"
   ]
  },
  {
   "cell_type": "code",
   "execution_count": 15,
   "id": "eb09dff1",
   "metadata": {},
   "outputs": [],
   "source": [
    "x=1\n",
    "y=1"
   ]
  },
  {
   "cell_type": "code",
   "execution_count": 16,
   "id": "2b5cba08",
   "metadata": {},
   "outputs": [
    {
     "name": "stdout",
     "output_type": "stream",
     "text": [
      "2\n"
     ]
    }
   ],
   "source": [
    "x=x+1\n",
    "print(x)"
   ]
  },
  {
   "cell_type": "code",
   "execution_count": 17,
   "id": "41a7635d",
   "metadata": {},
   "outputs": [
    {
     "data": {
      "text/plain": [
       "2"
      ]
     },
     "execution_count": 17,
     "metadata": {},
     "output_type": "execute_result"
    }
   ],
   "source": [
    "y+=1\n",
    "y"
   ]
  },
  {
   "cell_type": "code",
   "execution_count": 18,
   "id": "87a5f9a1",
   "metadata": {},
   "outputs": [
    {
     "ename": "AttributeError",
     "evalue": "'tuple' object has no attribute 'append'",
     "output_type": "error",
     "traceback": [
      "\u001b[1;31m---------------------------------------------------------------------------\u001b[0m",
      "\u001b[1;31mAttributeError\u001b[0m                            Traceback (most recent call last)",
      "Cell \u001b[1;32mIn[18], line 2\u001b[0m\n\u001b[0;32m      1\u001b[0m names\u001b[38;5;241m=\u001b[39m(\u001b[38;5;124m\"\u001b[39m\u001b[38;5;124mlaxmi\u001b[39m\u001b[38;5;124m\"\u001b[39m,\u001b[38;5;124m\"\u001b[39m\u001b[38;5;124mlucky\u001b[39m\u001b[38;5;124m\"\u001b[39m,\u001b[38;5;124m\"\u001b[39m\u001b[38;5;124mlakshmi\u001b[39m\u001b[38;5;124m\"\u001b[39m)\n\u001b[1;32m----> 2\u001b[0m names\u001b[38;5;241m.\u001b[39mappend(\u001b[38;5;124m\"\u001b[39m\u001b[38;5;124mrajlakshmi\u001b[39m\u001b[38;5;124m\"\u001b[39m)\n",
      "\u001b[1;31mAttributeError\u001b[0m: 'tuple' object has no attribute 'append'"
     ]
    }
   ],
   "source": [
    "names=(\"laxmi\",\"lucky\",\"lakshmi\")\n",
    "names.append(\"rajlakshmi\")"
   ]
  },
  {
   "cell_type": "code",
   "execution_count": 19,
   "id": "6ab60b18",
   "metadata": {},
   "outputs": [
    {
     "ename": "AttributeError",
     "evalue": "'tuple' object has no attribute 'insert'",
     "output_type": "error",
     "traceback": [
      "\u001b[1;31m---------------------------------------------------------------------------\u001b[0m",
      "\u001b[1;31mAttributeError\u001b[0m                            Traceback (most recent call last)",
      "Cell \u001b[1;32mIn[19], line 1\u001b[0m\n\u001b[1;32m----> 1\u001b[0m names\u001b[38;5;241m.\u001b[39minsert(\u001b[38;5;241m2\u001b[39m,\u001b[38;5;124m\"\u001b[39m\u001b[38;5;124mlucky\u001b[39m\u001b[38;5;124m\"\u001b[39m)\n",
      "\u001b[1;31mAttributeError\u001b[0m: 'tuple' object has no attribute 'insert'"
     ]
    }
   ],
   "source": [
    "names.insert(2,\"lucky\")"
   ]
  },
  {
   "cell_type": "code",
   "execution_count": 33,
   "id": "2a46258f",
   "metadata": {},
   "outputs": [],
   "source": [
    "names=(9,3,8.5)"
   ]
  },
  {
   "cell_type": "code",
   "execution_count": 34,
   "id": "cf6680b1",
   "metadata": {},
   "outputs": [],
   "source": [
    "names1=(4,5,6)"
   ]
  },
  {
   "cell_type": "code",
   "execution_count": 19,
   "id": "07cd0f6d",
   "metadata": {},
   "outputs": [],
   "source": [
    "val=names+names1  #contatination"
   ]
  },
  {
   "cell_type": "code",
   "execution_count": 29,
   "id": "915d1958",
   "metadata": {},
   "outputs": [
    {
     "ename": "TypeError",
     "evalue": "unsupported operand type(s) for -: 'tuple' and 'int'",
     "output_type": "error",
     "traceback": [
      "\u001b[1;31m---------------------------------------------------------------------------\u001b[0m",
      "\u001b[1;31mTypeError\u001b[0m                                 Traceback (most recent call last)",
      "Cell \u001b[1;32mIn[29], line 1\u001b[0m\n\u001b[1;32m----> 1\u001b[0m names\u001b[38;5;241m-\u001b[39m\u001b[38;5;241m2\u001b[39m\n",
      "\u001b[1;31mTypeError\u001b[0m: unsupported operand type(s) for -: 'tuple' and 'int'"
     ]
    }
   ],
   "source": [
    "names-2"
   ]
  },
  {
   "cell_type": "code",
   "execution_count": 44,
   "id": "78c0be77",
   "metadata": {},
   "outputs": [
    {
     "data": {
      "text/plain": [
       "(9, 3, 8.5, 9, 3, 8.5)"
      ]
     },
     "execution_count": 44,
     "metadata": {},
     "output_type": "execute_result"
    }
   ],
   "source": [
    "names*2  # it returns the repitation"
   ]
  },
  {
   "cell_type": "code",
   "execution_count": 35,
   "id": "8eb8b15b",
   "metadata": {},
   "outputs": [
    {
     "ename": "TypeError",
     "evalue": "can't multiply sequence by non-int of type 'tuple'",
     "output_type": "error",
     "traceback": [
      "\u001b[1;31m---------------------------------------------------------------------------\u001b[0m",
      "\u001b[1;31mTypeError\u001b[0m                                 Traceback (most recent call last)",
      "Cell \u001b[1;32mIn[35], line 1\u001b[0m\n\u001b[1;32m----> 1\u001b[0m names\u001b[38;5;241m*\u001b[39mnames1\n",
      "\u001b[1;31mTypeError\u001b[0m: can't multiply sequence by non-int of type 'tuple'"
     ]
    }
   ],
   "source": [
    "names*names1"
   ]
  },
  {
   "cell_type": "code",
   "execution_count": 46,
   "id": "31a9da63",
   "metadata": {},
   "outputs": [
    {
     "data": {
      "text/plain": [
       "False"
      ]
     },
     "execution_count": 46,
     "metadata": {},
     "output_type": "execute_result"
    }
   ],
   "source": [
    "a=(1,2,3,\"lakshmi\")\n",
    "b=(1,2,3,\"lakshmi\")\n",
    "a is b"
   ]
  },
  {
   "cell_type": "code",
   "execution_count": 43,
   "id": "f3f67ac4",
   "metadata": {},
   "outputs": [
    {
     "data": {
      "text/plain": [
       "1"
      ]
     },
     "execution_count": 43,
     "metadata": {},
     "output_type": "execute_result"
    }
   ],
   "source": [
    "a[0]"
   ]
  },
  {
   "cell_type": "code",
   "execution_count": 44,
   "id": "6cee6705",
   "metadata": {},
   "outputs": [
    {
     "data": {
      "text/plain": [
       "(2, 3, 'lakshmi')"
      ]
     },
     "execution_count": 44,
     "metadata": {},
     "output_type": "execute_result"
    }
   ],
   "source": [
    "a[1:]"
   ]
  },
  {
   "cell_type": "code",
   "execution_count": null,
   "id": "4482977a",
   "metadata": {},
   "outputs": [],
   "source": [
    "a[0] is a[0]"
   ]
  },
  {
   "cell_type": "code",
   "execution_count": 46,
   "id": "334c747c",
   "metadata": {},
   "outputs": [
    {
     "data": {
      "text/plain": [
       "True"
      ]
     },
     "execution_count": 46,
     "metadata": {},
     "output_type": "execute_result"
    }
   ],
   "source": [
    "1 in a"
   ]
  },
  {
   "cell_type": "code",
   "execution_count": 47,
   "id": "4e87bd7c",
   "metadata": {},
   "outputs": [
    {
     "data": {
      "text/plain": [
       "False"
      ]
     },
     "execution_count": 47,
     "metadata": {},
     "output_type": "execute_result"
    }
   ],
   "source": [
    "1 not in a"
   ]
  },
  {
   "cell_type": "raw",
   "id": "369344f4",
   "metadata": {},
   "source": [
    "list                 tuple   \n",
    "  |                     |\n",
    "mutable              immutable              \n",
    "[]                    ()\n",
    "methods (11)         method(2)(count, index)"
   ]
  },
  {
   "cell_type": "raw",
   "id": "57a21a1c",
   "metadata": {},
   "source": [
    "list               tuple                   set\n",
    "  |                  |                      |\n",
    "mutable           immutable              mutable\n",
    "ordered           ordered                not ordered\n",
    "duplicates        duplicates             no duplicates\n",
    "index             index                  not follow index"
   ]
  },
  {
   "cell_type": "markdown",
   "id": "08919907",
   "metadata": {},
   "source": [
    "# SET"
   ]
  },
  {
   "cell_type": "markdown",
   "id": "1d0c80be",
   "metadata": {},
   "source": [
    "**Attributes of set data type**"
   ]
  },
  {
   "cell_type": "code",
   "execution_count": 48,
   "id": "8c25e794",
   "metadata": {},
   "outputs": [
    {
     "data": {
      "text/plain": [
       "set"
      ]
     },
     "execution_count": 48,
     "metadata": {},
     "output_type": "execute_result"
    }
   ],
   "source": [
    "names={\"laxmi\",\"lakshmi\",\"lucky\"}\n",
    "type(names)"
   ]
  },
  {
   "cell_type": "code",
   "execution_count": 49,
   "id": "38c64105",
   "metadata": {},
   "outputs": [
    {
     "data": {
      "text/plain": [
       "3"
      ]
     },
     "execution_count": 49,
     "metadata": {},
     "output_type": "execute_result"
    }
   ],
   "source": [
    "len(names)"
   ]
  },
  {
   "cell_type": "code",
   "execution_count": 50,
   "id": "d5e7b284",
   "metadata": {},
   "outputs": [],
   "source": [
    "names.add(3)"
   ]
  },
  {
   "cell_type": "code",
   "execution_count": 51,
   "id": "32629b27",
   "metadata": {},
   "outputs": [
    {
     "data": {
      "text/plain": [
       "{3, 'lakshmi', 'laxmi', 'lucky'}"
      ]
     },
     "execution_count": 51,
     "metadata": {},
     "output_type": "execute_result"
    }
   ],
   "source": [
    "names"
   ]
  },
  {
   "cell_type": "code",
   "execution_count": 52,
   "id": "36763bda",
   "metadata": {},
   "outputs": [],
   "source": [
    "names.add(\"laxmi\")    #duplicates are not allowed."
   ]
  },
  {
   "cell_type": "code",
   "execution_count": 53,
   "id": "c9de8ed6",
   "metadata": {},
   "outputs": [
    {
     "data": {
      "text/plain": [
       "{3, 'lakshmi', 'laxmi', 'lucky'}"
      ]
     },
     "execution_count": 53,
     "metadata": {},
     "output_type": "execute_result"
    }
   ],
   "source": [
    "names"
   ]
  },
  {
   "cell_type": "code",
   "execution_count": 54,
   "id": "a2233365",
   "metadata": {},
   "outputs": [
    {
     "ename": "TypeError",
     "evalue": "'set' object is not subscriptable",
     "output_type": "error",
     "traceback": [
      "\u001b[1;31m---------------------------------------------------------------------------\u001b[0m",
      "\u001b[1;31mTypeError\u001b[0m                                 Traceback (most recent call last)",
      "Cell \u001b[1;32mIn[54], line 1\u001b[0m\n\u001b[1;32m----> 1\u001b[0m names[\u001b[38;5;241m0\u001b[39m]\n",
      "\u001b[1;31mTypeError\u001b[0m: 'set' object is not subscriptable"
     ]
    }
   ],
   "source": [
    "names[0]  #unordered."
   ]
  },
  {
   "cell_type": "markdown",
   "id": "5d0d03e2",
   "metadata": {},
   "source": [
    "**methods**"
   ]
  },
  {
   "cell_type": "code",
   "execution_count": 10,
   "id": "cf7c99c1",
   "metadata": {},
   "outputs": [],
   "source": [
    "name1={\"lakshmi\",\"laxmi\",\"lucky\",2}"
   ]
  },
  {
   "cell_type": "code",
   "execution_count": 1,
   "id": "5d901873",
   "metadata": {},
   "outputs": [
    {
     "name": "stdout",
     "output_type": "stream",
     "text": [
      "<class 'dict'>\n"
     ]
    }
   ],
   "source": [
    "s = {}\n",
    "print(type(s))"
   ]
  },
  {
   "cell_type": "code",
   "execution_count": 2,
   "id": "681894c9",
   "metadata": {},
   "outputs": [],
   "source": [
    "name2=name1.copy()"
   ]
  },
  {
   "cell_type": "code",
   "execution_count": 3,
   "id": "614cab27",
   "metadata": {},
   "outputs": [
    {
     "data": {
      "text/plain": [
       "{'lakshmi', 'laxmi', 'lucky'}"
      ]
     },
     "execution_count": 3,
     "metadata": {},
     "output_type": "execute_result"
    }
   ],
   "source": [
    "name2"
   ]
  },
  {
   "cell_type": "code",
   "execution_count": 4,
   "id": "2707a725",
   "metadata": {},
   "outputs": [
    {
     "data": {
      "text/plain": [
       "{'lakshmi', 'laxmi', 'lucky'}"
      ]
     },
     "execution_count": 4,
     "metadata": {},
     "output_type": "execute_result"
    }
   ],
   "source": [
    "name1"
   ]
  },
  {
   "cell_type": "code",
   "execution_count": 5,
   "id": "92165338",
   "metadata": {},
   "outputs": [
    {
     "data": {
      "text/plain": [
       "set()"
      ]
     },
     "execution_count": 5,
     "metadata": {},
     "output_type": "execute_result"
    }
   ],
   "source": [
    "name2.clear()\n",
    "name2"
   ]
  },
  {
   "cell_type": "code",
   "execution_count": 6,
   "id": "98602621",
   "metadata": {},
   "outputs": [
    {
     "data": {
      "text/plain": [
       "{'lakshmi', 'laxmi', 'lucky'}"
      ]
     },
     "execution_count": 6,
     "metadata": {},
     "output_type": "execute_result"
    }
   ],
   "source": [
    "name1"
   ]
  },
  {
   "cell_type": "code",
   "execution_count": 7,
   "id": "9ed0147e",
   "metadata": {},
   "outputs": [
    {
     "data": {
      "text/plain": [
       "{'lakshmi', 'laxmi', 'lucky', 'rajlakshmi'}"
      ]
     },
     "execution_count": 7,
     "metadata": {},
     "output_type": "execute_result"
    }
   ],
   "source": [
    "name1.add(\"rajlakshmi\")\n",
    "name1"
   ]
  },
  {
   "cell_type": "code",
   "execution_count": 12,
   "id": "b4ae7fd1",
   "metadata": {},
   "outputs": [
    {
     "data": {
      "text/plain": [
       "{2, 'lakshmi', 'lucky'}"
      ]
     },
     "execution_count": 12,
     "metadata": {},
     "output_type": "execute_result"
    }
   ],
   "source": [
    "name1.discard(\"laxmi\")   #it removes the element. if there is no element, it deosn't throw any error.\n",
    "name1"
   ]
  },
  {
   "cell_type": "code",
   "execution_count": 9,
   "id": "c2722e8d",
   "metadata": {},
   "outputs": [
    {
     "data": {
      "text/plain": [
       "{2, 'lakshmi', 'laxmi', 'lucky'}"
      ]
     },
     "execution_count": 9,
     "metadata": {},
     "output_type": "execute_result"
    }
   ],
   "source": [
    "name1.discard(\"ra\")\n",
    "name1"
   ]
  },
  {
   "cell_type": "code",
   "execution_count": 10,
   "id": "301d654f",
   "metadata": {},
   "outputs": [
    {
     "data": {
      "text/plain": [
       "{'lakshmi', 'rajlakshmi'}"
      ]
     },
     "execution_count": 10,
     "metadata": {},
     "output_type": "execute_result"
    }
   ],
   "source": [
    "name1.remove(\"lucky\")  #it removes the element. if there is no element, it's throw  error.\n",
    "name1"
   ]
  },
  {
   "cell_type": "code",
   "execution_count": 11,
   "id": "a897b523",
   "metadata": {},
   "outputs": [
    {
     "ename": "KeyError",
     "evalue": "'raj'",
     "output_type": "error",
     "traceback": [
      "\u001b[1;31m---------------------------------------------------------------------------\u001b[0m",
      "\u001b[1;31mKeyError\u001b[0m                                  Traceback (most recent call last)",
      "Cell \u001b[1;32mIn[11], line 1\u001b[0m\n\u001b[1;32m----> 1\u001b[0m name1\u001b[38;5;241m.\u001b[39mremove(\u001b[38;5;124m\"\u001b[39m\u001b[38;5;124mraj\u001b[39m\u001b[38;5;124m\"\u001b[39m)\n",
      "\u001b[1;31mKeyError\u001b[0m: 'raj'"
     ]
    }
   ],
   "source": [
    "name1.remove(\"raj\")"
   ]
  },
  {
   "cell_type": "code",
   "execution_count": 7,
   "id": "93598089",
   "metadata": {},
   "outputs": [
    {
     "name": "stdout",
     "output_type": "stream",
     "text": [
      "{False, 1}\n"
     ]
    }
   ],
   "source": [
    "a = {1,1,1,False}\n",
    "print(a)"
   ]
  },
  {
   "cell_type": "code",
   "execution_count": 41,
   "id": "4d1daeff",
   "metadata": {},
   "outputs": [
    {
     "data": {
      "text/plain": [
       "set()"
      ]
     },
     "execution_count": 41,
     "metadata": {},
     "output_type": "execute_result"
    }
   ],
   "source": [
    "name3={1,2,3,5}\n",
    "name4={8,9,10,1,2,3,5}\n",
    "name3.difference(name4)"
   ]
  },
  {
   "cell_type": "code",
   "execution_count": 17,
   "id": "f25e70eb",
   "metadata": {},
   "outputs": [
    {
     "data": {
      "text/plain": [
       "{8, 9, 10}"
      ]
     },
     "execution_count": 17,
     "metadata": {},
     "output_type": "execute_result"
    }
   ],
   "source": [
    "name4.difference(name3)       #remove the comman elements"
   ]
  },
  {
   "cell_type": "code",
   "execution_count": 18,
   "id": "18dee04a",
   "metadata": {},
   "outputs": [
    {
     "data": {
      "text/plain": [
       "{1, 2, 3, 4, 5, 6, 7, 10}"
      ]
     },
     "execution_count": 18,
     "metadata": {},
     "output_type": "execute_result"
    }
   ],
   "source": [
    "name3.add(10)\n",
    "name3"
   ]
  },
  {
   "cell_type": "code",
   "execution_count": 19,
   "id": "2ddcfcff",
   "metadata": {},
   "outputs": [
    {
     "data": {
      "text/plain": [
       "{1, 2, 3, 4, 5, 6, 7, 10}"
      ]
     },
     "execution_count": 19,
     "metadata": {},
     "output_type": "execute_result"
    }
   ],
   "source": [
    "name3"
   ]
  },
  {
   "cell_type": "code",
   "execution_count": 18,
   "id": "bd7c864e",
   "metadata": {},
   "outputs": [
    {
     "ename": "TypeError",
     "evalue": "set.pop() takes no arguments (1 given)",
     "output_type": "error",
     "traceback": [
      "\u001b[1;31m---------------------------------------------------------------------------\u001b[0m",
      "\u001b[1;31mTypeError\u001b[0m                                 Traceback (most recent call last)",
      "Cell \u001b[1;32mIn[18], line 1\u001b[0m\n\u001b[1;32m----> 1\u001b[0m name3\u001b[38;5;241m.\u001b[39mpop(\u001b[38;5;241m7\u001b[39m) \n\u001b[0;32m      2\u001b[0m name3\n",
      "\u001b[1;31mTypeError\u001b[0m: set.pop() takes no arguments (1 given)"
     ]
    }
   ],
   "source": [
    "name3.pop(7) \n",
    "name3 #in set data type the pop() is remove the first element from the set."
   ]
  },
  {
   "cell_type": "code",
   "execution_count": 21,
   "id": "4f435b05",
   "metadata": {
    "collapsed": true
   },
   "outputs": [
    {
     "data": {
      "text/plain": [
       "{2, 3, 4, 5, 6, 7, 10, 11, 12, 13, 14}"
      ]
     },
     "execution_count": 21,
     "metadata": {},
     "output_type": "execute_result"
    }
   ],
   "source": [
    "name3.update({11,12,13,14})  #if we wnat to extand the set we can use the update().\n",
    "name3"
   ]
  },
  {
   "cell_type": "code",
   "execution_count": 30,
   "id": "a758a798",
   "metadata": {},
   "outputs": [],
   "source": [
    "set3={1,2,3,4,5}"
   ]
  },
  {
   "cell_type": "code",
   "execution_count": 3,
   "id": "85bd54d9",
   "metadata": {},
   "outputs": [
    {
     "data": {
      "text/plain": [
       "set"
      ]
     },
     "execution_count": 3,
     "metadata": {},
     "output_type": "execute_result"
    }
   ],
   "source": [
    "set4=set()   #empt set\n",
    "type(set4)"
   ]
  },
  {
   "cell_type": "code",
   "execution_count": 4,
   "id": "ac51a052",
   "metadata": {},
   "outputs": [
    {
     "data": {
      "text/plain": [
       "dict"
      ]
     },
     "execution_count": 4,
     "metadata": {},
     "output_type": "execute_result"
    }
   ],
   "source": [
    "\n",
    "set5={}\n",
    "type(set5)"
   ]
  },
  {
   "cell_type": "code",
   "execution_count": 5,
   "id": "cefdb81f",
   "metadata": {},
   "outputs": [
    {
     "data": {
      "text/plain": [
       "{1, 2, 3, 4, 5}"
      ]
     },
     "execution_count": 5,
     "metadata": {},
     "output_type": "execute_result"
    }
   ],
   "source": [
    "set3"
   ]
  },
  {
   "cell_type": "code",
   "execution_count": 7,
   "id": "10e94b77",
   "metadata": {},
   "outputs": [
    {
     "data": {
      "text/plain": [
       "{1, 2, 3}"
      ]
     },
     "execution_count": 7,
     "metadata": {},
     "output_type": "execute_result"
    }
   ],
   "source": [
    "set3.difference(set4)"
   ]
  },
  {
   "cell_type": "code",
   "execution_count": 8,
   "id": "6314eb63",
   "metadata": {},
   "outputs": [
    {
     "data": {
      "text/plain": [
       "{1, 2, 3, 4, 5}"
      ]
     },
     "execution_count": 8,
     "metadata": {},
     "output_type": "execute_result"
    }
   ],
   "source": [
    "set3"
   ]
  },
  {
   "cell_type": "code",
   "execution_count": 32,
   "id": "716758a7",
   "metadata": {},
   "outputs": [
    {
     "data": {
      "text/plain": [
       "{1, 2, 3, 4, 5}"
      ]
     },
     "execution_count": 32,
     "metadata": {},
     "output_type": "execute_result"
    }
   ],
   "source": [
    "set3"
   ]
  },
  {
   "cell_type": "code",
   "execution_count": 32,
   "id": "c4744b05",
   "metadata": {},
   "outputs": [],
   "source": [
    "set3.difference_update(set4)  #it reflects the original data."
   ]
  },
  {
   "cell_type": "code",
   "execution_count": 33,
   "id": "966ea8df",
   "metadata": {},
   "outputs": [
    {
     "data": {
      "text/plain": [
       "{1, 2, 3}"
      ]
     },
     "execution_count": 33,
     "metadata": {},
     "output_type": "execute_result"
    }
   ],
   "source": [
    "set3"
   ]
  },
  {
   "cell_type": "code",
   "execution_count": 36,
   "id": "c1459ccd",
   "metadata": {},
   "outputs": [
    {
     "data": {
      "text/plain": [
       "True"
      ]
     },
     "execution_count": 36,
     "metadata": {},
     "output_type": "execute_result"
    }
   ],
   "source": [
    "set3.isdisjoint(set4)  #if the two sets are having comman elents it returns the false. else it returns true."
   ]
  },
  {
   "cell_type": "code",
   "execution_count": 37,
   "id": "55eb7e3b",
   "metadata": {},
   "outputs": [
    {
     "data": {
      "text/plain": [
       "{4, 5, 6, 7, 8}"
      ]
     },
     "execution_count": 37,
     "metadata": {},
     "output_type": "execute_result"
    }
   ],
   "source": [
    "set4"
   ]
  },
  {
   "cell_type": "code",
   "execution_count": 26,
   "id": "5a99a71c",
   "metadata": {},
   "outputs": [
    {
     "data": {
      "text/plain": [
       "{1, 2, 3, 4, 5, 6, 7, 8}"
      ]
     },
     "execution_count": 26,
     "metadata": {},
     "output_type": "execute_result"
    }
   ],
   "source": [
    "set3.union(set4)"
   ]
  },
  {
   "cell_type": "code",
   "execution_count": 14,
   "id": "d8abb0eb",
   "metadata": {},
   "outputs": [
    {
     "data": {
      "text/plain": [
       "{4, 5}"
      ]
     },
     "execution_count": 14,
     "metadata": {},
     "output_type": "execute_result"
    }
   ],
   "source": [
    "set3.intersection(set4)"
   ]
  },
  {
   "cell_type": "code",
   "execution_count": 27,
   "id": "c00b7441",
   "metadata": {},
   "outputs": [
    {
     "data": {
      "text/plain": [
       "{1, 2, 3, 4, 5}"
      ]
     },
     "execution_count": 27,
     "metadata": {},
     "output_type": "execute_result"
    }
   ],
   "source": [
    "set3"
   ]
  },
  {
   "cell_type": "code",
   "execution_count": 40,
   "id": "3408a77e",
   "metadata": {},
   "outputs": [
    {
     "data": {
      "text/plain": [
       "7"
      ]
     },
     "execution_count": 40,
     "metadata": {},
     "output_type": "execute_result"
    }
   ],
   "source": [
    "set1={1,2,3,4,1,2,5,6,7}\n",
    "len(set1)"
   ]
  },
  {
   "cell_type": "code",
   "execution_count": 42,
   "id": "4ceb767c",
   "metadata": {},
   "outputs": [],
   "source": [
    "name3.update(name4)"
   ]
  },
  {
   "cell_type": "code",
   "execution_count": 29,
   "id": "8f4f24dd",
   "metadata": {},
   "outputs": [
    {
     "data": {
      "text/plain": [
       "{1, 2, 3, 4, 5, 6, 7, 8}"
      ]
     },
     "execution_count": 29,
     "metadata": {},
     "output_type": "execute_result"
    }
   ],
   "source": [
    "set3"
   ]
  },
  {
   "cell_type": "code",
   "execution_count": 44,
   "id": "e8a5b003",
   "metadata": {},
   "outputs": [
    {
     "data": {
      "text/plain": [
       "True"
      ]
     },
     "execution_count": 44,
     "metadata": {},
     "output_type": "execute_result"
    }
   ],
   "source": [
    "name3.issubset(name4)"
   ]
  },
  {
   "cell_type": "code",
   "execution_count": 46,
   "id": "c60897a9",
   "metadata": {},
   "outputs": [
    {
     "data": {
      "text/plain": [
       "True"
      ]
     },
     "execution_count": 46,
     "metadata": {},
     "output_type": "execute_result"
    }
   ],
   "source": [
    "name4.issuperset(name3)"
   ]
  },
  {
   "cell_type": "code",
   "execution_count": null,
   "id": "77383bdb",
   "metadata": {},
   "outputs": [],
   "source": []
  },
  {
   "cell_type": "code",
   "execution_count": null,
   "id": "59a75528",
   "metadata": {},
   "outputs": [],
   "source": []
  },
  {
   "cell_type": "code",
   "execution_count": null,
   "id": "cebffdc1",
   "metadata": {},
   "outputs": [],
   "source": []
  },
  {
   "cell_type": "markdown",
   "id": "71ad4773",
   "metadata": {},
   "source": [
    "# DICTIONARY"
   ]
  },
  {
   "cell_type": "markdown",
   "id": "5f6621f4",
   "metadata": {},
   "source": [
    "dic={key:value}"
   ]
  },
  {
   "cell_type": "code",
   "execution_count": 41,
   "id": "54b7762e",
   "metadata": {},
   "outputs": [],
   "source": [
    "dic1={0:\"raju\",1:\"ramesh\",2:\"rajesh\",3:\"rakesh\"}   #normal method\n",
    "#{key:value}"
   ]
  },
  {
   "cell_type": "code",
   "execution_count": 42,
   "id": "0035ab2e",
   "metadata": {},
   "outputs": [
    {
     "data": {
      "text/plain": [
       "dict"
      ]
     },
     "execution_count": 42,
     "metadata": {},
     "output_type": "execute_result"
    }
   ],
   "source": [
    "type(dic1)"
   ]
  },
  {
   "cell_type": "code",
   "execution_count": 43,
   "id": "7bc24926",
   "metadata": {},
   "outputs": [
    {
     "data": {
      "text/plain": [
       "4"
      ]
     },
     "execution_count": 43,
     "metadata": {},
     "output_type": "execute_result"
    }
   ],
   "source": [
    "len(dic1)"
   ]
  },
  {
   "cell_type": "code",
   "execution_count": 44,
   "id": "c51e39f4",
   "metadata": {},
   "outputs": [
    {
     "data": {
      "text/plain": [
       "{0: 'raju', 1: 'ramesh', 2: 'rajesh', 3: 'rakesh'}"
      ]
     },
     "execution_count": 44,
     "metadata": {},
     "output_type": "execute_result"
    }
   ],
   "source": [
    "dic1"
   ]
  },
  {
   "cell_type": "code",
   "execution_count": 45,
   "id": "ba70e148",
   "metadata": {},
   "outputs": [
    {
     "data": {
      "text/plain": [
       "2171911535168"
      ]
     },
     "execution_count": 45,
     "metadata": {},
     "output_type": "execute_result"
    }
   ],
   "source": [
    "id(dic1)"
   ]
  },
  {
   "cell_type": "code",
   "execution_count": 46,
   "id": "c105a514",
   "metadata": {},
   "outputs": [],
   "source": [
    "dic2=dict([(1,'r'),(2,'a'),(3,'j'),(4,'u')])   #using dict() \n",
    "#dict([(key,value)])"
   ]
  },
  {
   "cell_type": "code",
   "execution_count": 47,
   "id": "a6e5fd97",
   "metadata": {},
   "outputs": [
    {
     "data": {
      "text/plain": [
       "{1: 'r', 2: 'a', 3: 'j', 4: 'u'}"
      ]
     },
     "execution_count": 47,
     "metadata": {},
     "output_type": "execute_result"
    }
   ],
   "source": [
    "dic2"
   ]
  },
  {
   "cell_type": "code",
   "execution_count": 49,
   "id": "6289eee7",
   "metadata": {},
   "outputs": [
    {
     "data": {
      "text/plain": [
       "{'apple': 20, 'banana': 10, 'kiwi': 30, 'orange': 15}"
      ]
     },
     "execution_count": 49,
     "metadata": {},
     "output_type": "execute_result"
    }
   ],
   "source": [
    "fruits=dict([(\"apple\",20),(\"banana\",10),(\"kiwi\",30),(\"orange\",15)])\n",
    "fruits"
   ]
  },
  {
   "cell_type": "code",
   "execution_count": 2,
   "id": "245d075a",
   "metadata": {},
   "outputs": [
    {
     "data": {
      "text/plain": [
       "{'apple': 20, 'banana': 10, 'kiwi': 30, 'orange': 15}"
      ]
     },
     "execution_count": 2,
     "metadata": {},
     "output_type": "execute_result"
    }
   ],
   "source": [
    "fruits1={\"apple\":20,\"banana\":10,\"kiwi\":30,\"orange\":15}\n",
    "fruits1"
   ]
  },
  {
   "cell_type": "code",
   "execution_count": 60,
   "id": "319f14a3",
   "metadata": {},
   "outputs": [],
   "source": [
    "list1=[\"apple\",\"banana\",\"mango\"]\n",
    "price=[20,30,40]"
   ]
  },
  {
   "cell_type": "code",
   "execution_count": 61,
   "id": "7c1c6d0c",
   "metadata": {},
   "outputs": [],
   "source": [
    "k=dict(zip(list1,price))"
   ]
  },
  {
   "cell_type": "code",
   "execution_count": 62,
   "id": "03a5f1e8",
   "metadata": {},
   "outputs": [
    {
     "data": {
      "text/plain": [
       "{'apple': 20, 'banana': 30, 'mango': 40}"
      ]
     },
     "execution_count": 62,
     "metadata": {},
     "output_type": "execute_result"
    }
   ],
   "source": [
    "k"
   ]
  },
  {
   "cell_type": "code",
   "execution_count": 63,
   "id": "d1a0f90e",
   "metadata": {},
   "outputs": [],
   "source": [
    "empty_dic={}"
   ]
  },
  {
   "cell_type": "code",
   "execution_count": 64,
   "id": "e3d7cb4b",
   "metadata": {},
   "outputs": [
    {
     "data": {
      "text/plain": [
       "{}"
      ]
     },
     "execution_count": 64,
     "metadata": {},
     "output_type": "execute_result"
    }
   ],
   "source": [
    "empty_dic"
   ]
  },
  {
   "cell_type": "code",
   "execution_count": 65,
   "id": "0c8688e5",
   "metadata": {},
   "outputs": [
    {
     "data": {
      "text/plain": [
       "dict"
      ]
     },
     "execution_count": 65,
     "metadata": {},
     "output_type": "execute_result"
    }
   ],
   "source": [
    "type(empty_dic)"
   ]
  },
  {
   "cell_type": "code",
   "execution_count": 86,
   "id": "59be0b14",
   "metadata": {},
   "outputs": [
    {
     "data": {
      "text/plain": [
       "{'apple': 20,\n",
       " 'banana': 10,\n",
       " 'kiwi': 30,\n",
       " 'orange': 15,\n",
       " 'mango': 40,\n",
       " ('grape', 'grape1'): [50, 60]}"
      ]
     },
     "execution_count": 86,
     "metadata": {},
     "output_type": "execute_result"
    }
   ],
   "source": [
    "fruits"
   ]
  },
  {
   "cell_type": "code",
   "execution_count": 87,
   "id": "7980c6a4",
   "metadata": {},
   "outputs": [],
   "source": [
    "fruits[\"mango\"]=40\n",
    "#variable_name[key]=value."
   ]
  },
  {
   "cell_type": "code",
   "execution_count": 88,
   "id": "d4fa0744",
   "metadata": {},
   "outputs": [
    {
     "data": {
      "text/plain": [
       "{'apple': 20,\n",
       " 'banana': 10,\n",
       " 'kiwi': 30,\n",
       " 'orange': 15,\n",
       " 'mango': 40,\n",
       " ('grape', 'grape1'): [50, 60]}"
      ]
     },
     "execution_count": 88,
     "metadata": {},
     "output_type": "execute_result"
    }
   ],
   "source": [
    "fruits"
   ]
  },
  {
   "cell_type": "code",
   "execution_count": 89,
   "id": "f7376d4f",
   "metadata": {},
   "outputs": [],
   "source": [
    "fruits[\"grape\",\"grape1\"]=[50,60]"
   ]
  },
  {
   "cell_type": "code",
   "execution_count": 90,
   "id": "224b2a0d",
   "metadata": {},
   "outputs": [
    {
     "name": "stdout",
     "output_type": "stream",
     "text": [
      "{'apple': 20, 'banana': 10, 'kiwi': 30, 'orange': 15, 'mango': 40, ('grape', 'grape1'): [50, 60]}\n"
     ]
    }
   ],
   "source": [
    "print(fruits)"
   ]
  },
  {
   "cell_type": "code",
   "execution_count": 91,
   "id": "af5e356b",
   "metadata": {},
   "outputs": [
    {
     "ename": "KeyError",
     "evalue": "0",
     "output_type": "error",
     "traceback": [
      "\u001b[1;31m---------------------------------------------------------------------------\u001b[0m",
      "\u001b[1;31mKeyError\u001b[0m                                  Traceback (most recent call last)",
      "Cell \u001b[1;32mIn[91], line 1\u001b[0m\n\u001b[1;32m----> 1\u001b[0m fruits[\u001b[38;5;241m0\u001b[39m]\n",
      "\u001b[1;31mKeyError\u001b[0m: 0"
     ]
    }
   ],
   "source": [
    "fruits[0]"
   ]
  },
  {
   "cell_type": "code",
   "execution_count": 92,
   "id": "9a1693da",
   "metadata": {},
   "outputs": [
    {
     "data": {
      "text/plain": [
       "10"
      ]
     },
     "execution_count": 92,
     "metadata": {},
     "output_type": "execute_result"
    }
   ],
   "source": [
    "fruits[\"banana\"]"
   ]
  },
  {
   "cell_type": "code",
   "execution_count": 93,
   "id": "285a86ae",
   "metadata": {},
   "outputs": [
    {
     "data": {
      "text/plain": [
       "dict_keys(['apple', 'banana', 'kiwi', 'orange', 'mango', ('grape', 'grape1')])"
      ]
     },
     "execution_count": 93,
     "metadata": {},
     "output_type": "execute_result"
    }
   ],
   "source": [
    "fruits.keys()"
   ]
  },
  {
   "cell_type": "code",
   "execution_count": 95,
   "id": "1d883c4c",
   "metadata": {},
   "outputs": [
    {
     "data": {
      "text/plain": [
       "dict_values([20, 10, 30, 15, 40, [50, 60]])"
      ]
     },
     "execution_count": 95,
     "metadata": {},
     "output_type": "execute_result"
    }
   ],
   "source": [
    "fruits.values()  #returns list of values."
   ]
  },
  {
   "cell_type": "code",
   "execution_count": 96,
   "id": "a41b5ea5",
   "metadata": {},
   "outputs": [
    {
     "data": {
      "text/plain": [
       "{'apple': 0.5,\n",
       " 'banana': 0.5,\n",
       " 'kiwi': 0.5,\n",
       " 'orange': 0.5,\n",
       " 'mango': 0.5,\n",
       " ('grape', 'grape1'): 0.5}"
      ]
     },
     "execution_count": 96,
     "metadata": {},
     "output_type": "execute_result"
    }
   ],
   "source": [
    "fruits.fromkeys(['apple', 'banana', 'kiwi', 'orange', 'mango', ('grape', 'grape1')],0.5)"
   ]
  },
  {
   "cell_type": "code",
   "execution_count": 98,
   "id": "9cea5527",
   "metadata": {},
   "outputs": [
    {
     "name": "stdout",
     "output_type": "stream",
     "text": [
      "{'apple': 20, 'banana': 10, 'kiwi': 30, 'orange': 15, 'mango': 40, ('grape', 'grape1'): [50, 60]}\n"
     ]
    }
   ],
   "source": [
    "print(fruits)"
   ]
  },
  {
   "cell_type": "code",
   "execution_count": 99,
   "id": "3d88807d",
   "metadata": {},
   "outputs": [
    {
     "data": {
      "text/plain": [
       "20"
      ]
     },
     "execution_count": 99,
     "metadata": {},
     "output_type": "execute_result"
    }
   ],
   "source": [
    "fruits.get(\"apple\")"
   ]
  },
  {
   "cell_type": "code",
   "execution_count": 100,
   "id": "5b1f88d9",
   "metadata": {},
   "outputs": [
    {
     "data": {
      "text/plain": [
       "20"
      ]
     },
     "execution_count": 100,
     "metadata": {},
     "output_type": "execute_result"
    }
   ],
   "source": [
    "fruits[\"apple\"]"
   ]
  },
  {
   "cell_type": "code",
   "execution_count": null,
   "id": "c41b9831",
   "metadata": {},
   "outputs": [],
   "source": []
  },
  {
   "cell_type": "code",
   "execution_count": 101,
   "id": "cfcb92da",
   "metadata": {},
   "outputs": [
    {
     "data": {
      "text/plain": [
       "dict_items([('apple', 20), ('banana', 10), ('kiwi', 30), ('orange', 15), ('mango', 40), (('grape', 'grape1'), [50, 60])])"
      ]
     },
     "execution_count": 101,
     "metadata": {},
     "output_type": "execute_result"
    }
   ],
   "source": [
    "fruits.items()  #combination of both keys and values"
   ]
  },
  {
   "cell_type": "code",
   "execution_count": 51,
   "id": "e9449c6d",
   "metadata": {},
   "outputs": [
    {
     "data": {
      "text/plain": [
       "10"
      ]
     },
     "execution_count": 51,
     "metadata": {},
     "output_type": "execute_result"
    }
   ],
   "source": [
    "fruits.pop(\"banana\")  #it effects the original data"
   ]
  },
  {
   "cell_type": "code",
   "execution_count": 104,
   "id": "7468d25d",
   "metadata": {},
   "outputs": [
    {
     "name": "stdout",
     "output_type": "stream",
     "text": [
      "{'apple': 20, 'kiwi': 30, 'orange': 15, 'mango': 40, ('grape', 'grape1'): [50, 60]}\n"
     ]
    }
   ],
   "source": [
    "print(fruits)  "
   ]
  },
  {
   "cell_type": "code",
   "execution_count": 106,
   "id": "ff9cbe25",
   "metadata": {},
   "outputs": [
    {
     "data": {
      "text/plain": [
       "('mango', 40)"
      ]
     },
     "execution_count": 106,
     "metadata": {},
     "output_type": "execute_result"
    }
   ],
   "source": [
    "fruits.popitem()   #it removes the last item   \n",
    "#two times runs that's why it remove the mango"
   ]
  },
  {
   "cell_type": "code",
   "execution_count": 107,
   "id": "cf68af83",
   "metadata": {},
   "outputs": [
    {
     "data": {
      "text/plain": [
       "{'apple': 20, 'kiwi': 30, 'orange': 15}"
      ]
     },
     "execution_count": 107,
     "metadata": {},
     "output_type": "execute_result"
    }
   ],
   "source": [
    "fruits"
   ]
  },
  {
   "cell_type": "code",
   "execution_count": 108,
   "id": "00148b11",
   "metadata": {},
   "outputs": [],
   "source": [
    "fruits.update({\"mango\":40})"
   ]
  },
  {
   "cell_type": "code",
   "execution_count": 109,
   "id": "511d44d0",
   "metadata": {},
   "outputs": [
    {
     "data": {
      "text/plain": [
       "{'apple': 20, 'kiwi': 30, 'orange': 15, 'mango': 40}"
      ]
     },
     "execution_count": 109,
     "metadata": {},
     "output_type": "execute_result"
    }
   ],
   "source": [
    "fruits"
   ]
  },
  {
   "cell_type": "code",
   "execution_count": 110,
   "id": "65e00c51",
   "metadata": {},
   "outputs": [],
   "source": [
    "#keys are unique/not allowed duplicates, and it returns the ubdated last value\n",
    "#values are duplicate"
   ]
  },
  {
   "cell_type": "code",
   "execution_count": 111,
   "id": "1e78d3e5",
   "metadata": {},
   "outputs": [],
   "source": [
    "f={1:\"r\",2:\"a\",3:\"j\",1:\"u\"}"
   ]
  },
  {
   "cell_type": "code",
   "execution_count": 112,
   "id": "890ab233",
   "metadata": {},
   "outputs": [
    {
     "data": {
      "text/plain": [
       "{1: 'u', 2: 'a', 3: 'j'}"
      ]
     },
     "execution_count": 112,
     "metadata": {},
     "output_type": "execute_result"
    }
   ],
   "source": [
    "f"
   ]
  },
  {
   "cell_type": "code",
   "execution_count": 113,
   "id": "ca0bc6b8",
   "metadata": {},
   "outputs": [],
   "source": [
    "f={1:\"r\",2:\"a\",3:\"a\",1:\"u\"}"
   ]
  },
  {
   "cell_type": "code",
   "execution_count": 114,
   "id": "a744d020",
   "metadata": {},
   "outputs": [
    {
     "data": {
      "text/plain": [
       "{1: 'u', 2: 'a', 3: 'a'}"
      ]
     },
     "execution_count": 114,
     "metadata": {},
     "output_type": "execute_result"
    }
   ],
   "source": [
    "f"
   ]
  },
  {
   "cell_type": "raw",
   "id": "077054a7",
   "metadata": {},
   "source": [
    "1.{key:value}\n",
    "2.dict([(key:value)])\n",
    "3.lst1=[]\n",
    "  lst2=[]\n",
    "  dict(zip(lst1,lst2))"
   ]
  },
  {
   "cell_type": "markdown",
   "id": "985f952b",
   "metadata": {},
   "source": [
    "# typecasting"
   ]
  },
  {
   "cell_type": "code",
   "execution_count": 117,
   "id": "40284525",
   "metadata": {},
   "outputs": [
    {
     "data": {
      "text/plain": [
       "list"
      ]
     },
     "execution_count": 117,
     "metadata": {},
     "output_type": "execute_result"
    }
   ],
   "source": [
    "lst=[1,2,3,4,5,1,2]\n",
    "type(lst)"
   ]
  },
  {
   "cell_type": "code",
   "execution_count": 118,
   "id": "ce5a8b2c",
   "metadata": {},
   "outputs": [
    {
     "data": {
      "text/plain": [
       "{1, 2, 3, 4, 5}"
      ]
     },
     "execution_count": 118,
     "metadata": {},
     "output_type": "execute_result"
    }
   ],
   "source": [
    "set(lst)  #duplicates are removed"
   ]
  },
  {
   "cell_type": "code",
   "execution_count": 119,
   "id": "e4ccfc67",
   "metadata": {},
   "outputs": [
    {
     "data": {
      "text/plain": [
       "(1, 2, 3, 4, 5, 1, 2)"
      ]
     },
     "execution_count": 119,
     "metadata": {},
     "output_type": "execute_result"
    }
   ],
   "source": [
    "tuple(lst)  #allows the duplicates"
   ]
  },
  {
   "cell_type": "code",
   "execution_count": null,
   "id": "8a279757",
   "metadata": {},
   "outputs": [],
   "source": [
    "tuple1=(1,2,3,4,5,6,1,2,3,4)"
   ]
  },
  {
   "cell_type": "code",
   "execution_count": 8,
   "id": "0d95a494",
   "metadata": {},
   "outputs": [
    {
     "data": {
      "text/plain": [
       "True"
      ]
     },
     "execution_count": 8,
     "metadata": {},
     "output_type": "execute_result"
    }
   ],
   "source": [
    "a = \"Hello\"\n",
    "b =\"Hello\"\n",
    "a is b"
   ]
  }
 ],
 "metadata": {
  "kernelspec": {
   "display_name": "Python 3 (ipykernel)",
   "language": "python",
   "name": "python3"
  },
  "language_info": {
   "codemirror_mode": {
    "name": "ipython",
    "version": 3
   },
   "file_extension": ".py",
   "mimetype": "text/x-python",
   "name": "python",
   "nbconvert_exporter": "python",
   "pygments_lexer": "ipython3",
   "version": "3.11.3"
  }
 },
 "nbformat": 4,
 "nbformat_minor": 5
}
