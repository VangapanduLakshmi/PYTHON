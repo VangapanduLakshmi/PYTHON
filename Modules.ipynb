{
 "cells": [
  {
   "cell_type": "markdown",
   "id": "1e85b4c8",
   "metadata": {},
   "source": [
    "# core python"
   ]
  },
  {
   "cell_type": "code",
   "execution_count": null,
   "id": "b8d04f94",
   "metadata": {},
   "outputs": [],
   "source": [
    "features\n",
    "Identifiers\n",
    "operators\n",
    "data types\n",
    "flow control\n",
    "functions\n",
    "patterns\n",
    "file handling\n",
    "exception handling\n",
    "modules"
   ]
  },
  {
   "cell_type": "markdown",
   "id": "9087677f",
   "metadata": {},
   "source": [
    "# Modules"
   ]
  },
  {
   "cell_type": "raw",
   "id": "0bca7972",
   "metadata": {},
   "source": [
    "collection of packages are called library\n",
    "collection of functions are called module\n",
    "collection of modules are called packages"
   ]
  },
  {
   "cell_type": "raw",
   "id": "81b30bc1",
   "metadata": {},
   "source": [
    "   module\n",
    "    |\n",
    " -----------\n",
    " |         |\n",
    "inbuilt  external"
   ]
  },
  {
   "cell_type": "raw",
   "id": "68007c90",
   "metadata": {},
   "source": [
    "inbuilt: these modules are already exist in python\n",
    "externa module: these modules are not exist, we can install the module"
   ]
  },
  {
   "cell_type": "code",
   "execution_count": null,
   "id": "707cf1a9",
   "metadata": {},
   "outputs": [],
   "source": [
    "import module_name\n",
    "import module_name as mn\n",
    "if we can import more than 1 modu\n",
    "import module1,module2,module3\n",
    "import module1 as m1, module2 as m2, module as m3\n",
    "if we want work on a particular function\n",
    " 1.from module_name import function\n",
    " 2.from module_name import*"
   ]
  },
  {
   "cell_type": "code",
   "execution_count": 7,
   "id": "cdd12d4f",
   "metadata": {},
   "outputs": [],
   "source": [
    "import math as m"
   ]
  },
  {
   "cell_type": "code",
   "execution_count": 5,
   "id": "fc33dd0c",
   "metadata": {},
   "outputs": [
    {
     "data": {
      "text/plain": [
       "['__doc__',\n",
       " '__loader__',\n",
       " '__name__',\n",
       " '__package__',\n",
       " '__spec__',\n",
       " 'acos',\n",
       " 'acosh',\n",
       " 'asin',\n",
       " 'asinh',\n",
       " 'atan',\n",
       " 'atan2',\n",
       " 'atanh',\n",
       " 'cbrt',\n",
       " 'ceil',\n",
       " 'comb',\n",
       " 'copysign',\n",
       " 'cos',\n",
       " 'cosh',\n",
       " 'degrees',\n",
       " 'dist',\n",
       " 'e',\n",
       " 'erf',\n",
       " 'erfc',\n",
       " 'exp',\n",
       " 'exp2',\n",
       " 'expm1',\n",
       " 'fabs',\n",
       " 'factorial',\n",
       " 'floor',\n",
       " 'fmod',\n",
       " 'frexp',\n",
       " 'fsum',\n",
       " 'gamma',\n",
       " 'gcd',\n",
       " 'hypot',\n",
       " 'inf',\n",
       " 'isclose',\n",
       " 'isfinite',\n",
       " 'isinf',\n",
       " 'isnan',\n",
       " 'isqrt',\n",
       " 'lcm',\n",
       " 'ldexp',\n",
       " 'lgamma',\n",
       " 'log',\n",
       " 'log10',\n",
       " 'log1p',\n",
       " 'log2',\n",
       " 'modf',\n",
       " 'nan',\n",
       " 'nextafter',\n",
       " 'perm',\n",
       " 'pi',\n",
       " 'pow',\n",
       " 'prod',\n",
       " 'radians',\n",
       " 'remainder',\n",
       " 'sin',\n",
       " 'sinh',\n",
       " 'sqrt',\n",
       " 'tan',\n",
       " 'tanh',\n",
       " 'tau',\n",
       " 'trunc',\n",
       " 'ulp']"
      ]
     },
     "execution_count": 5,
     "metadata": {},
     "output_type": "execute_result"
    }
   ],
   "source": [
    "dir(math)"
   ]
  },
  {
   "cell_type": "code",
   "execution_count": 8,
   "id": "3929ac2a",
   "metadata": {},
   "outputs": [
    {
     "data": {
      "text/plain": [
       "120"
      ]
     },
     "execution_count": 8,
     "metadata": {},
     "output_type": "execute_result"
    }
   ],
   "source": [
    "m.factorial(5)"
   ]
  },
  {
   "cell_type": "code",
   "execution_count": 9,
   "id": "46cbe1fb",
   "metadata": {},
   "outputs": [
    {
     "name": "stdout",
     "output_type": "stream",
     "text": [
      "1 2 6 24 120 720 "
     ]
    }
   ],
   "source": [
    "lst=[1,2,3,4,5,6]\n",
    "for i in lst:\n",
    "    print(m.factorial(i),end=\" \")"
   ]
  },
  {
   "cell_type": "code",
   "execution_count": 11,
   "id": "a317fca4",
   "metadata": {},
   "outputs": [
    {
     "name": "stdout",
     "output_type": "stream",
     "text": [
      "1.0 4.0 9.0 16.0 25.0 36.0 "
     ]
    }
   ],
   "source": [
    "for i in lst:\n",
    "    print(m.pow(i,2),end=\" \")"
   ]
  },
  {
   "cell_type": "code",
   "execution_count": 12,
   "id": "0d6c4a34",
   "metadata": {},
   "outputs": [],
   "source": [
    "from math import pi"
   ]
  },
  {
   "cell_type": "code",
   "execution_count": 13,
   "id": "ecd00879",
   "metadata": {},
   "outputs": [
    {
     "data": {
      "text/plain": [
       "3.141592653589793"
      ]
     },
     "execution_count": 13,
     "metadata": {},
     "output_type": "execute_result"
    }
   ],
   "source": [
    "pi"
   ]
  },
  {
   "cell_type": "code",
   "execution_count": 14,
   "id": "88550214",
   "metadata": {},
   "outputs": [],
   "source": [
    "from math import*  #it import the all modules to your id."
   ]
  },
  {
   "cell_type": "code",
   "execution_count": 15,
   "id": "b174a515",
   "metadata": {},
   "outputs": [
    {
     "data": {
      "text/plain": [
       "3.141592653589793"
      ]
     },
     "execution_count": 15,
     "metadata": {},
     "output_type": "execute_result"
    }
   ],
   "source": [
    "pi"
   ]
  },
  {
   "cell_type": "code",
   "execution_count": 19,
   "id": "a71f313c",
   "metadata": {},
   "outputs": [
    {
     "data": {
      "text/plain": [
       "7"
      ]
     },
     "execution_count": 19,
     "metadata": {},
     "output_type": "execute_result"
    }
   ],
   "source": [
    "math.ceil(6.1)"
   ]
  },
  {
   "cell_type": "code",
   "execution_count": 20,
   "id": "d0f7d623",
   "metadata": {},
   "outputs": [
    {
     "data": {
      "text/plain": [
       "6"
      ]
     },
     "execution_count": 20,
     "metadata": {},
     "output_type": "execute_result"
    }
   ],
   "source": [
    "math.floor(6.5)"
   ]
  },
  {
   "cell_type": "code",
   "execution_count": 21,
   "id": "59402954",
   "metadata": {},
   "outputs": [
    {
     "data": {
      "text/plain": [
       "6"
      ]
     },
     "execution_count": 21,
     "metadata": {},
     "output_type": "execute_result"
    }
   ],
   "source": [
    "math.floor(6.8)"
   ]
  },
  {
   "cell_type": "code",
   "execution_count": 22,
   "id": "51ac9099",
   "metadata": {},
   "outputs": [],
   "source": [
    "import time"
   ]
  },
  {
   "cell_type": "code",
   "execution_count": 23,
   "id": "87a39afb",
   "metadata": {},
   "outputs": [
    {
     "data": {
      "text/plain": [
       "time.struct_time(tm_year=2023, tm_mon=7, tm_mday=26, tm_hour=10, tm_min=3, tm_sec=0, tm_wday=2, tm_yday=207, tm_isdst=0)"
      ]
     },
     "execution_count": 23,
     "metadata": {},
     "output_type": "execute_result"
    }
   ],
   "source": [
    "time.localtime()"
   ]
  },
  {
   "cell_type": "markdown",
   "id": "ccfb24fe",
   "metadata": {},
   "source": [
    "# log file"
   ]
  },
  {
   "cell_type": "markdown",
   "id": "88d80163",
   "metadata": {},
   "source": [
    "**time+file handling**"
   ]
  },
  {
   "cell_type": "code",
   "execution_count": 52,
   "id": "8443db73",
   "metadata": {},
   "outputs": [],
   "source": [
    "log=open(\"log.txt\",\"w+\")"
   ]
  },
  {
   "cell_type": "code",
   "execution_count": 29,
   "id": "ce0268cd",
   "metadata": {},
   "outputs": [
    {
     "data": {
      "text/plain": [
       "136"
      ]
     },
     "execution_count": 29,
     "metadata": {},
     "output_type": "execute_result"
    }
   ],
   "source": [
    "log.write(f\"the time is now{time.localtime()}\")"
   ]
  },
  {
   "cell_type": "code",
   "execution_count": 30,
   "id": "a31be0e1",
   "metadata": {},
   "outputs": [],
   "source": [
    "log.close()"
   ]
  },
  {
   "cell_type": "code",
   "execution_count": 53,
   "id": "c78eb61f",
   "metadata": {},
   "outputs": [],
   "source": [
    "now=time.strftime(\"%d %b %a %Y: %H:%M:%S\")"
   ]
  },
  {
   "cell_type": "code",
   "execution_count": 54,
   "id": "e64a8751",
   "metadata": {},
   "outputs": [
    {
     "data": {
      "text/plain": [
       "59"
      ]
     },
     "execution_count": 54,
     "metadata": {},
     "output_type": "execute_result"
    }
   ],
   "source": [
    "log.write(f\"{now}: I am eating\\n\")\n",
    "log.write(f\"{now}: I am learning python programmimg\")"
   ]
  },
  {
   "cell_type": "code",
   "execution_count": 55,
   "id": "0d9d2520",
   "metadata": {},
   "outputs": [],
   "source": [
    "log.close()"
   ]
  },
  {
   "cell_type": "markdown",
   "id": "91c43c6b",
   "metadata": {},
   "source": [
    "# create won module"
   ]
  },
  {
   "cell_type": "code",
   "execution_count": 58,
   "id": "45679987",
   "metadata": {},
   "outputs": [],
   "source": [
    "import Innomatices"
   ]
  },
  {
   "cell_type": "code",
   "execution_count": 59,
   "id": "172a3692",
   "metadata": {},
   "outputs": [
    {
     "name": "stdout",
     "output_type": "stream",
     "text": [
      "JNTU\n",
      "Gachibowli\n"
     ]
    }
   ],
   "source": [
    "Innomatices.place()"
   ]
  },
  {
   "cell_type": "code",
   "execution_count": 60,
   "id": "e8259f50",
   "metadata": {},
   "outputs": [
    {
     "name": "stdout",
     "output_type": "stream",
     "text": [
      "Ram\n",
      "Ramya\n",
      "kanav\n",
      "NAGARAJU\n"
     ]
    }
   ],
   "source": [
    "Innomatices.trainers()"
   ]
  },
  {
   "cell_type": "code",
   "execution_count": 62,
   "id": "5c32266b",
   "metadata": {},
   "outputs": [],
   "source": [
    "import Innomatics"
   ]
  },
  {
   "cell_type": "code",
   "execution_count": 63,
   "id": "7163ccc4",
   "metadata": {},
   "outputs": [
    {
     "name": "stdout",
     "output_type": "stream",
     "text": [
      "data science\n",
      "data analysis\n",
      "AI\n",
      "SQL\n",
      "Tableau\n"
     ]
    }
   ],
   "source": [
    "Innomatics.course()"
   ]
  },
  {
   "cell_type": "code",
   "execution_count": 64,
   "id": "b7959c5f",
   "metadata": {},
   "outputs": [
    {
     "name": "stdout",
     "output_type": "stream",
     "text": [
      "JNTU\n",
      "Gachibowli\n"
     ]
    }
   ],
   "source": [
    "Innomatics.place()"
   ]
  },
  {
   "cell_type": "code",
   "execution_count": 65,
   "id": "9929af50",
   "metadata": {},
   "outputs": [
    {
     "name": "stdout",
     "output_type": "stream",
     "text": [
      "Ram\n",
      "Ramya\n",
      "kanav\n",
      "NAGARAJU\n"
     ]
    }
   ],
   "source": [
    "Innomatics.trainers()"
   ]
  },
  {
   "cell_type": "code",
   "execution_count": 66,
   "id": "c981e14c",
   "metadata": {},
   "outputs": [
    {
     "name": "stdout",
     "output_type": "stream",
     "text": [
      "main buildings\n",
      "SSD\n",
      "BBQ\n"
     ]
    }
   ],
   "source": [
    "Innomatics.classroom()"
   ]
  },
  {
   "cell_type": "code",
   "execution_count": 11,
   "id": "7fc13a46",
   "metadata": {},
   "outputs": [],
   "source": [
    "import random as rm"
   ]
  },
  {
   "cell_type": "code",
   "execution_count": 5,
   "id": "1db6efef",
   "metadata": {},
   "outputs": [
    {
     "data": {
      "text/plain": [
       "0.3259555394101159"
      ]
     },
     "execution_count": 5,
     "metadata": {},
     "output_type": "execute_result"
    }
   ],
   "source": [
    "a=random.Random()\n",
    "a.random()"
   ]
  },
  {
   "cell_type": "code",
   "execution_count": 7,
   "id": "a6db33c3",
   "metadata": {},
   "outputs": [
    {
     "data": {
      "text/plain": [
       "8"
      ]
     },
     "execution_count": 7,
     "metadata": {},
     "output_type": "execute_result"
    }
   ],
   "source": [
    "random.randint(3,10)"
   ]
  },
  {
   "cell_type": "code",
   "execution_count": 13,
   "id": "77e80296",
   "metadata": {},
   "outputs": [
    {
     "data": {
      "text/plain": [
       "7"
      ]
     },
     "execution_count": 13,
     "metadata": {},
     "output_type": "execute_result"
    }
   ],
   "source": [
    "rm.randrange(3,10,2)"
   ]
  },
  {
   "cell_type": "code",
   "execution_count": 12,
   "id": "6840a044",
   "metadata": {},
   "outputs": [
    {
     "data": {
      "text/plain": [
       "[112, 169, 172, 164, 129]"
      ]
     },
     "execution_count": 12,
     "metadata": {},
     "output_type": "execute_result"
    }
   ],
   "source": [
    "rm.sample(range(100,200),5)#sapmle provides list of random numbers,5 is represent the how money random no are given,b\\trange"
   ]
  },
  {
   "cell_type": "code",
   "execution_count": 14,
   "id": "46c7224f",
   "metadata": {},
   "outputs": [
    {
     "data": {
      "text/plain": [
       "6.841943303490835"
      ]
     },
     "execution_count": 14,
     "metadata": {},
     "output_type": "execute_result"
    }
   ],
   "source": [
    " rm.uniform(5,10) #uniform() returns the float numbers b\\t 5,10"
   ]
  },
  {
   "cell_type": "code",
   "execution_count": 1,
   "id": "726b5ed6",
   "metadata": {},
   "outputs": [],
   "source": [
    "import math"
   ]
  },
  {
   "cell_type": "code",
   "execution_count": 3,
   "id": "a004b3cc",
   "metadata": {},
   "outputs": [
    {
     "data": {
      "text/plain": [
       "0.0"
      ]
     },
     "execution_count": 3,
     "metadata": {},
     "output_type": "execute_result"
    }
   ],
   "source": [
    "math.log(1)"
   ]
  },
  {
   "cell_type": "code",
   "execution_count": 6,
   "id": "85328027",
   "metadata": {},
   "outputs": [
    {
     "data": {
      "text/plain": [
       "-3.0"
      ]
     },
     "execution_count": 6,
     "metadata": {},
     "output_type": "execute_result"
    }
   ],
   "source": [
    "math.remainder(6,9)"
   ]
  },
  {
   "cell_type": "code",
   "execution_count": 7,
   "id": "cb9e1654",
   "metadata": {},
   "outputs": [
    {
     "data": {
      "text/plain": [
       "6"
      ]
     },
     "execution_count": 7,
     "metadata": {},
     "output_type": "execute_result"
    }
   ],
   "source": [
    "6%9"
   ]
  },
  {
   "cell_type": "code",
   "execution_count": 15,
   "id": "b50974f5",
   "metadata": {},
   "outputs": [
    {
     "data": {
      "text/plain": [
       "1.0"
      ]
     },
     "execution_count": 15,
     "metadata": {},
     "output_type": "execute_result"
    }
   ],
   "source": [
    "#e value--> 2.718281828"
   ]
  },
  {
   "cell_type": "code",
   "execution_count": 16,
   "id": "12a1002c",
   "metadata": {},
   "outputs": [
    {
     "data": {
      "text/plain": [
       "1.0"
      ]
     },
     "execution_count": 16,
     "metadata": {},
     "output_type": "execute_result"
    }
   ],
   "source": [
    "math.exp(0)"
   ]
  },
  {
   "cell_type": "code",
   "execution_count": 18,
   "id": "64004bfe",
   "metadata": {},
   "outputs": [
    {
     "data": {
      "text/plain": [
       "1.0"
      ]
     },
     "execution_count": 18,
     "metadata": {},
     "output_type": "execute_result"
    }
   ],
   "source": [
    " 2.72**0"
   ]
  },
  {
   "cell_type": "code",
   "execution_count": 19,
   "id": "6382cb25",
   "metadata": {},
   "outputs": [
    {
     "data": {
      "text/plain": [
       "7.38905609893065"
      ]
     },
     "execution_count": 19,
     "metadata": {},
     "output_type": "execute_result"
    }
   ],
   "source": [
    "math.exp(2)"
   ]
  },
  {
   "cell_type": "code",
   "execution_count": 24,
   "id": "bbf8737f",
   "metadata": {},
   "outputs": [
    {
     "data": {
      "text/plain": [
       "7.389056096435021"
      ]
     },
     "execution_count": 24,
     "metadata": {},
     "output_type": "execute_result"
    }
   ],
   "source": [
    " 2.718281828**2"
   ]
  },
  {
   "cell_type": "code",
   "execution_count": 25,
   "id": "627fa57d",
   "metadata": {},
   "outputs": [
    {
     "data": {
      "text/plain": [
       "7.398400000000001"
      ]
     },
     "execution_count": 25,
     "metadata": {},
     "output_type": "execute_result"
    }
   ],
   "source": [
    "2.72**2"
   ]
  },
  {
   "cell_type": "code",
   "execution_count": 26,
   "id": "ce1e0288",
   "metadata": {},
   "outputs": [
    {
     "data": {
      "text/plain": [
       "1.0"
      ]
     },
     "execution_count": 26,
     "metadata": {},
     "output_type": "execute_result"
    }
   ],
   "source": [
    "2.72**0"
   ]
  },
  {
   "cell_type": "code",
   "execution_count": 29,
   "id": "ee292375",
   "metadata": {},
   "outputs": [
    {
     "data": {
      "text/plain": [
       "2.718281828459045"
      ]
     },
     "execution_count": 29,
     "metadata": {},
     "output_type": "execute_result"
    }
   ],
   "source": [
    "math.e"
   ]
  },
  {
   "cell_type": "code",
   "execution_count": 33,
   "id": "c199b2c9",
   "metadata": {},
   "outputs": [
    {
     "data": {
      "text/plain": [
       "16.0"
      ]
     },
     "execution_count": 33,
     "metadata": {},
     "output_type": "execute_result"
    }
   ],
   "source": [
    "math.exp2(4)"
   ]
  },
  {
   "cell_type": "code",
   "execution_count": 34,
   "id": "40acf137",
   "metadata": {},
   "outputs": [
    {
     "data": {
      "text/plain": [
       "32.0"
      ]
     },
     "execution_count": 34,
     "metadata": {},
     "output_type": "execute_result"
    }
   ],
   "source": [
    "math.exp2(5)"
   ]
  },
  {
   "cell_type": "code",
   "execution_count": 37,
   "id": "2d4b22bd",
   "metadata": {},
   "outputs": [
    {
     "data": {
      "text/plain": [
       "0.0"
      ]
     },
     "execution_count": 37,
     "metadata": {},
     "output_type": "execute_result"
    }
   ],
   "source": [
    "math.expm1(0)"
   ]
  },
  {
   "cell_type": "code",
   "execution_count": 39,
   "id": "7b20ab54",
   "metadata": {},
   "outputs": [
    {
     "data": {
      "text/plain": [
       "6.38905609893065"
      ]
     },
     "execution_count": 39,
     "metadata": {},
     "output_type": "execute_result"
    }
   ],
   "source": [
    "math.expm1(2)"
   ]
  },
  {
   "cell_type": "code",
   "execution_count": 2,
   "id": "ba5ee0ae",
   "metadata": {},
   "outputs": [
    {
     "data": {
      "text/plain": [
       "5"
      ]
     },
     "execution_count": 2,
     "metadata": {},
     "output_type": "execute_result"
    }
   ],
   "source": [
    "math.ceil(4.5)"
   ]
  },
  {
   "cell_type": "code",
   "execution_count": 3,
   "id": "6d90e848",
   "metadata": {},
   "outputs": [
    {
     "data": {
      "text/plain": [
       "4"
      ]
     },
     "execution_count": 3,
     "metadata": {},
     "output_type": "execute_result"
    }
   ],
   "source": [
    "math.floor(4.5)"
   ]
  },
  {
   "cell_type": "code",
   "execution_count": 6,
   "id": "b53d66e2",
   "metadata": {},
   "outputs": [
    {
     "data": {
      "text/plain": [
       "120"
      ]
     },
     "execution_count": 6,
     "metadata": {},
     "output_type": "execute_result"
    }
   ],
   "source": [
    "lst=[1,2,3,4,5]\n",
    "math.prod(lst)"
   ]
  },
  {
   "cell_type": "code",
   "execution_count": 8,
   "id": "bc8c2672",
   "metadata": {},
   "outputs": [
    {
     "data": {
      "text/plain": [
       "1.7320508075688772"
      ]
     },
     "execution_count": 8,
     "metadata": {},
     "output_type": "execute_result"
    }
   ],
   "source": [
    "math.sqrt(3)"
   ]
  },
  {
   "cell_type": "code",
   "execution_count": 9,
   "id": "2bb17d63",
   "metadata": {},
   "outputs": [
    {
     "data": {
      "text/plain": [
       "1.7320508075688772"
      ]
     },
     "execution_count": 9,
     "metadata": {},
     "output_type": "execute_result"
    }
   ],
   "source": [
    "3**(1/2)"
   ]
  },
  {
   "cell_type": "code",
   "execution_count": 20,
   "id": "49197f88",
   "metadata": {},
   "outputs": [
    {
     "ename": "ValueError",
     "evalue": "math domain error",
     "output_type": "error",
     "traceback": [
      "\u001b[1;31m---------------------------------------------------------------------------\u001b[0m",
      "\u001b[1;31mValueError\u001b[0m                                Traceback (most recent call last)",
      "Cell \u001b[1;32mIn[20], line 2\u001b[0m\n\u001b[0;32m      1\u001b[0m x\u001b[38;5;241m=\u001b[39m\u001b[38;5;241m2.4\u001b[39m\n\u001b[1;32m----> 2\u001b[0m result \u001b[38;5;241m=\u001b[39m math\u001b[38;5;241m.\u001b[39macos(x) \u001b[38;5;66;03m# it is used to caluculate the invers cosine of given value. x is the value for which you want to find the arc cosine.\u001b[39;00m\n\u001b[0;32m      3\u001b[0m \u001b[38;5;28mprint\u001b[39m(result)\n",
      "\u001b[1;31mValueError\u001b[0m: math domain error"
     ]
    }
   ],
   "source": [
    "math.acos(x) # it is used to caluculate the invers cosine of given value. x is the value for which you want to find the arc cos"
   ]
  },
  {
   "cell_type": "code",
   "execution_count": 2,
   "id": "4379eec3",
   "metadata": {},
   "outputs": [
    {
     "name": "stdout",
     "output_type": "stream",
     "text": [
      "1.0471975511965979\n"
     ]
    }
   ],
   "source": [
    "import math\n",
    "x= 0.5\n",
    "result = math.acos(x) # it is used to caluculate the invers cosine of given value. x is the value for which you want to find the arc cos\n",
    "print(result)"
   ]
  },
  {
   "cell_type": "code",
   "execution_count": 3,
   "id": "696ae695",
   "metadata": {},
   "outputs": [
    {
     "name": "stdout",
     "output_type": "stream",
     "text": [
      "0.5235987755982989\n"
     ]
    }
   ],
   "source": [
    "y=0.5\n",
    "result = math.asin(y)\n",
    "print(result)"
   ]
  },
  {
   "cell_type": "code",
   "execution_count": 6,
   "id": "960c53d0",
   "metadata": {},
   "outputs": [
    {
     "name": "stdout",
     "output_type": "stream",
     "text": [
      "0.5253219888177297\n"
     ]
    }
   ],
   "source": [
    "x = 45\n",
    "result= math.cos(x)\n",
    "print(result)"
   ]
  },
  {
   "cell_type": "code",
   "execution_count": 8,
   "id": "94b05b84",
   "metadata": {},
   "outputs": [
    {
     "name": "stdout",
     "output_type": "stream",
     "text": [
      "-0.3048106211022167\n"
     ]
    }
   ],
   "source": [
    "x = 60\n",
    "result= math.sin(x)\n",
    "print(result)"
   ]
  },
  {
   "cell_type": "markdown",
   "id": "9d94c136",
   "metadata": {},
   "source": [
    "**Random**"
   ]
  },
  {
   "cell_type": "code",
   "execution_count": 2,
   "id": "1fe57ddd",
   "metadata": {},
   "outputs": [],
   "source": [
    "import random as rm"
   ]
  },
  {
   "cell_type": "code",
   "execution_count": 11,
   "id": "1d8287c0",
   "metadata": {},
   "outputs": [
    {
     "data": {
      "text/plain": [
       "3.698288390943993"
      ]
     },
     "execution_count": 11,
     "metadata": {},
     "output_type": "execute_result"
    }
   ],
   "source": [
    "rm.uniform(2,5)  #returns the random value between the range. with float value"
   ]
  },
  {
   "cell_type": "code",
   "execution_count": 10,
   "id": "c4e1ad37",
   "metadata": {},
   "outputs": [
    {
     "data": {
      "text/plain": [
       "1.3862943611198906"
      ]
     },
     "execution_count": 10,
     "metadata": {},
     "output_type": "execute_result"
    }
   ],
   "source": [
    "s=rm.LOG4\n",
    "s"
   ]
  },
  {
   "cell_type": "code",
   "execution_count": 8,
   "id": "e2dea96e",
   "metadata": {},
   "outputs": [
    {
     "name": "stdout",
     "output_type": "stream",
     "text": [
      "<class 'float'>\n"
     ]
    }
   ],
   "source": [
    "print(type(s))"
   ]
  },
  {
   "cell_type": "code",
   "execution_count": 12,
   "id": "13ee1488",
   "metadata": {},
   "outputs": [
    {
     "data": {
      "text/plain": [
       "53"
      ]
     },
     "execution_count": 12,
     "metadata": {},
     "output_type": "execute_result"
    }
   ],
   "source": [
    "rm.BPF"
   ]
  },
  {
   "cell_type": "code",
   "execution_count": 19,
   "id": "54c4ad0b",
   "metadata": {},
   "outputs": [
    {
     "ename": "TypeError",
     "evalue": "object of type 'int' has no len()",
     "output_type": "error",
     "traceback": [
      "\u001b[1;31m---------------------------------------------------------------------------\u001b[0m",
      "\u001b[1;31mTypeError\u001b[0m                                 Traceback (most recent call last)",
      "Cell \u001b[1;32mIn[19], line 1\u001b[0m\n\u001b[1;32m----> 1\u001b[0m rm\u001b[38;5;241m.\u001b[39mchoice(\u001b[38;5;241m1243534\u001b[39m)\n",
      "File \u001b[1;32m~\\anaconda3\\envs\\Datascience\\Lib\\random.py:372\u001b[0m, in \u001b[0;36mRandom.choice\u001b[1;34m(self, seq)\u001b[0m\n\u001b[0;32m    368\u001b[0m \u001b[38;5;250m\u001b[39m\u001b[38;5;124;03m\"\"\"Choose a random element from a non-empty sequence.\"\"\"\u001b[39;00m\n\u001b[0;32m    370\u001b[0m \u001b[38;5;66;03m# As an accommodation for NumPy, we don't use \"if not seq\"\u001b[39;00m\n\u001b[0;32m    371\u001b[0m \u001b[38;5;66;03m# because bool(numpy.array()) raises a ValueError.\u001b[39;00m\n\u001b[1;32m--> 372\u001b[0m \u001b[38;5;28;01mif\u001b[39;00m \u001b[38;5;129;01mnot\u001b[39;00m \u001b[38;5;28mlen\u001b[39m(seq):\n\u001b[0;32m    373\u001b[0m     \u001b[38;5;28;01mraise\u001b[39;00m \u001b[38;5;167;01mIndexError\u001b[39;00m(\u001b[38;5;124m'\u001b[39m\u001b[38;5;124mCannot choose from an empty sequence\u001b[39m\u001b[38;5;124m'\u001b[39m)\n\u001b[0;32m    374\u001b[0m \u001b[38;5;28;01mreturn\u001b[39;00m seq[\u001b[38;5;28mself\u001b[39m\u001b[38;5;241m.\u001b[39m_randbelow(\u001b[38;5;28mlen\u001b[39m(seq))]\n",
      "\u001b[1;31mTypeError\u001b[0m: object of type 'int' has no len()"
     ]
    }
   ],
   "source": [
    "rm.choice(1243534)"
   ]
  },
  {
   "cell_type": "code",
   "execution_count": 21,
   "id": "91a6c1c7",
   "metadata": {},
   "outputs": [
    {
     "data": {
      "text/plain": [
       "'3'"
      ]
     },
     "execution_count": 21,
     "metadata": {},
     "output_type": "execute_result"
    }
   ],
   "source": [
    "rm.choice(\"131432543\") # it returns the random number from given string."
   ]
  },
  {
   "cell_type": "code",
   "execution_count": 26,
   "id": "3629f288",
   "metadata": {},
   "outputs": [
    {
     "data": {
      "text/plain": [
       "4"
      ]
     },
     "execution_count": 26,
     "metadata": {},
     "output_type": "execute_result"
    }
   ],
   "source": [
    "rm.choice([1,2,3,4,5])"
   ]
  },
  {
   "cell_type": "code",
   "execution_count": 27,
   "id": "38764b9f",
   "metadata": {},
   "outputs": [
    {
     "ename": "TypeError",
     "evalue": "'set' object is not subscriptable",
     "output_type": "error",
     "traceback": [
      "\u001b[1;31m---------------------------------------------------------------------------\u001b[0m",
      "\u001b[1;31mTypeError\u001b[0m                                 Traceback (most recent call last)",
      "Cell \u001b[1;32mIn[27], line 1\u001b[0m\n\u001b[1;32m----> 1\u001b[0m rm\u001b[38;5;241m.\u001b[39mchoice({\u001b[38;5;241m1\u001b[39m,\u001b[38;5;241m2\u001b[39m,\u001b[38;5;241m3\u001b[39m,\u001b[38;5;241m4\u001b[39m,\u001b[38;5;241m5\u001b[39m,\u001b[38;5;241m6\u001b[39m})\n",
      "File \u001b[1;32m~\\anaconda3\\envs\\Datascience\\Lib\\random.py:374\u001b[0m, in \u001b[0;36mRandom.choice\u001b[1;34m(self, seq)\u001b[0m\n\u001b[0;32m    372\u001b[0m \u001b[38;5;28;01mif\u001b[39;00m \u001b[38;5;129;01mnot\u001b[39;00m \u001b[38;5;28mlen\u001b[39m(seq):\n\u001b[0;32m    373\u001b[0m     \u001b[38;5;28;01mraise\u001b[39;00m \u001b[38;5;167;01mIndexError\u001b[39;00m(\u001b[38;5;124m'\u001b[39m\u001b[38;5;124mCannot choose from an empty sequence\u001b[39m\u001b[38;5;124m'\u001b[39m)\n\u001b[1;32m--> 374\u001b[0m \u001b[38;5;28;01mreturn\u001b[39;00m seq[\u001b[38;5;28mself\u001b[39m\u001b[38;5;241m.\u001b[39m_randbelow(\u001b[38;5;28mlen\u001b[39m(seq))]\n",
      "\u001b[1;31mTypeError\u001b[0m: 'set' object is not subscriptable"
     ]
    }
   ],
   "source": [
    "rm.choice({1,2,3,4,5,6})"
   ]
  },
  {
   "cell_type": "code",
   "execution_count": 28,
   "id": "f0439bc2",
   "metadata": {},
   "outputs": [
    {
     "data": {
      "text/plain": [
       "5"
      ]
     },
     "execution_count": 28,
     "metadata": {},
     "output_type": "execute_result"
    }
   ],
   "source": [
    "rm.choice((1,2,3,4,5,6,7))"
   ]
  },
  {
   "cell_type": "code",
   "execution_count": 29,
   "id": "84600614",
   "metadata": {},
   "outputs": [
    {
     "data": {
      "text/plain": [
       "'rew'"
      ]
     },
     "execution_count": 29,
     "metadata": {},
     "output_type": "execute_result"
    }
   ],
   "source": [
    "rm.choice({1:\"rew\",2:\"dfb\",3:\"df\"})  #it returns the random value."
   ]
  },
  {
   "cell_type": "code",
   "execution_count": 30,
   "id": "cf015774",
   "metadata": {},
   "outputs": [
    {
     "data": {
      "text/plain": [
       "['rew']"
      ]
     },
     "execution_count": 30,
     "metadata": {},
     "output_type": "execute_result"
    }
   ],
   "source": [
    "rm.choices({1:\"rew\",2:\"dfb\",3:\"df\"})"
   ]
  },
  {
   "cell_type": "code",
   "execution_count": 31,
   "id": "8e3eb791",
   "metadata": {},
   "outputs": [
    {
     "data": {
      "text/plain": [
       "[1]"
      ]
     },
     "execution_count": 31,
     "metadata": {},
     "output_type": "execute_result"
    }
   ],
   "source": [
    "rm.choices((1,2,3,4,5,6,7))  #it returns list of random number "
   ]
  },
  {
   "cell_type": "code",
   "execution_count": 32,
   "id": "f0da1fcc",
   "metadata": {},
   "outputs": [
    {
     "data": {
      "text/plain": [
       "['1']"
      ]
     },
     "execution_count": 32,
     "metadata": {},
     "output_type": "execute_result"
    }
   ],
   "source": [
    "rm.choices(\"2351764\")"
   ]
  },
  {
   "cell_type": "code",
   "execution_count": 45,
   "id": "dbeebcd4",
   "metadata": {},
   "outputs": [
    {
     "ename": "TypeError",
     "evalue": "Random.randint() missing 1 required positional argument: 'b'",
     "output_type": "error",
     "traceback": [
      "\u001b[1;31m---------------------------------------------------------------------------\u001b[0m",
      "\u001b[1;31mTypeError\u001b[0m                                 Traceback (most recent call last)",
      "Cell \u001b[1;32mIn[45], line 1\u001b[0m\n\u001b[1;32m----> 1\u001b[0m rm\u001b[38;5;241m.\u001b[39mrandint(\u001b[38;5;241m1\u001b[39m)\n",
      "\u001b[1;31mTypeError\u001b[0m: Random.randint() missing 1 required positional argument: 'b'"
     ]
    }
   ],
   "source": [
    "rm.randint(1)"
   ]
  },
  {
   "cell_type": "markdown",
   "id": "e07a6c2d",
   "metadata": {},
   "source": [
    "### "
   ]
  },
  {
   "cell_type": "code",
   "execution_count": 51,
   "id": "46ce834f",
   "metadata": {},
   "outputs": [
    {
     "data": {
      "text/plain": [
       "2"
      ]
     },
     "execution_count": 51,
     "metadata": {},
     "output_type": "execute_result"
    }
   ],
   "source": [
    "rm.randint(1,3) # it returns the integer value b/t 1 and including 3"
   ]
  },
  {
   "cell_type": "code",
   "execution_count": 69,
   "id": "f3ae0841",
   "metadata": {},
   "outputs": [
    {
     "data": {
      "text/plain": [
       "1"
      ]
     },
     "execution_count": 69,
     "metadata": {},
     "output_type": "execute_result"
    }
   ],
   "source": [
    "rm.randrange(1,3)  # it returns the integer value range(1,3) it return 1 or 2"
   ]
  },
  {
   "cell_type": "code",
   "execution_count": 80,
   "id": "7af13518",
   "metadata": {},
   "outputs": [
    {
     "data": {
      "text/plain": [
       "[1, 10]"
      ]
     },
     "execution_count": 80,
     "metadata": {},
     "output_type": "execute_result"
    }
   ],
   "source": [
    "rm.sample((1,10),2)"
   ]
  },
  {
   "cell_type": "code",
   "execution_count": 81,
   "id": "15f52fcd",
   "metadata": {},
   "outputs": [
    {
     "data": {
      "text/plain": [
       "[6, 2]"
      ]
     },
     "execution_count": 81,
     "metadata": {},
     "output_type": "execute_result"
    }
   ],
   "source": [
    "rm.sample(range(1,10),2)"
   ]
  },
  {
   "cell_type": "code",
   "execution_count": 83,
   "id": "ce897679",
   "metadata": {},
   "outputs": [
    {
     "ename": "ValueError",
     "evalue": "Sample larger than population or is negative",
     "output_type": "error",
     "traceback": [
      "\u001b[1;31m---------------------------------------------------------------------------\u001b[0m",
      "\u001b[1;31mValueError\u001b[0m                                Traceback (most recent call last)",
      "Cell \u001b[1;32mIn[83], line 1\u001b[0m\n\u001b[1;32m----> 1\u001b[0m rm\u001b[38;5;241m.\u001b[39msample(\u001b[38;5;28mrange\u001b[39m(\u001b[38;5;241m1\u001b[39m,\u001b[38;5;241m10\u001b[39m),\u001b[38;5;241m10\u001b[39m)\n",
      "File \u001b[1;32m~\\anaconda3\\envs\\Datascience\\Lib\\random.py:456\u001b[0m, in \u001b[0;36mRandom.sample\u001b[1;34m(self, population, k, counts)\u001b[0m\n\u001b[0;32m    454\u001b[0m randbelow \u001b[38;5;241m=\u001b[39m \u001b[38;5;28mself\u001b[39m\u001b[38;5;241m.\u001b[39m_randbelow\n\u001b[0;32m    455\u001b[0m \u001b[38;5;28;01mif\u001b[39;00m \u001b[38;5;129;01mnot\u001b[39;00m \u001b[38;5;241m0\u001b[39m \u001b[38;5;241m<\u001b[39m\u001b[38;5;241m=\u001b[39m k \u001b[38;5;241m<\u001b[39m\u001b[38;5;241m=\u001b[39m n:\n\u001b[1;32m--> 456\u001b[0m     \u001b[38;5;28;01mraise\u001b[39;00m \u001b[38;5;167;01mValueError\u001b[39;00m(\u001b[38;5;124m\"\u001b[39m\u001b[38;5;124mSample larger than population or is negative\u001b[39m\u001b[38;5;124m\"\u001b[39m)\n\u001b[0;32m    457\u001b[0m result \u001b[38;5;241m=\u001b[39m [\u001b[38;5;28;01mNone\u001b[39;00m] \u001b[38;5;241m*\u001b[39m k\n\u001b[0;32m    458\u001b[0m setsize \u001b[38;5;241m=\u001b[39m \u001b[38;5;241m21\u001b[39m        \u001b[38;5;66;03m# size of a small set minus size of an empty list\u001b[39;00m\n",
      "\u001b[1;31mValueError\u001b[0m: Sample larger than population or is negative"
     ]
    }
   ],
   "source": [
    "rm.sample(range(1,10),10)"
   ]
  },
  {
   "cell_type": "code",
   "execution_count": 84,
   "id": "b0752bb8",
   "metadata": {},
   "outputs": [
    {
     "data": {
      "text/plain": [
       "[9, 7, 8, 4, 3, 1, 5, 6, 2]"
      ]
     },
     "execution_count": 84,
     "metadata": {},
     "output_type": "execute_result"
    }
   ],
   "source": [
    "rm.sample(range(1,10),9)"
   ]
  },
  {
   "cell_type": "code",
   "execution_count": 99,
   "id": "68f506e3",
   "metadata": {},
   "outputs": [
    {
     "name": "stdout",
     "output_type": "stream",
     "text": [
      "[4, 2, 1, 3]\n"
     ]
    }
   ],
   "source": [
    "s=[1,2,3,4]\n",
    "rm.shuffle(s)\n",
    "print(s)"
   ]
  },
  {
   "cell_type": "code",
   "execution_count": 100,
   "id": "ce46bba3",
   "metadata": {},
   "outputs": [
    {
     "data": {
      "text/plain": [
       "1.4513675855632646"
      ]
     },
     "execution_count": 100,
     "metadata": {},
     "output_type": "execute_result"
    }
   ],
   "source": [
    "rm.uniform(1,2) #it returs the random  float number b/t the 1 and 2"
   ]
  },
  {
   "cell_type": "code",
   "execution_count": null,
   "id": "8c093bdf",
   "metadata": {},
   "outputs": [],
   "source": []
  }
 ],
 "metadata": {
  "kernelspec": {
   "display_name": "Python 3 (ipykernel)",
   "language": "python",
   "name": "python3"
  },
  "language_info": {
   "codemirror_mode": {
    "name": "ipython",
    "version": 3
   },
   "file_extension": ".py",
   "mimetype": "text/x-python",
   "name": "python",
   "nbconvert_exporter": "python",
   "pygments_lexer": "ipython3",
   "version": "3.11.3"
  }
 },
 "nbformat": 4,
 "nbformat_minor": 5
}
