{
 "cells": [
  {
   "cell_type": "markdown",
   "id": "1abb74be",
   "metadata": {},
   "source": [
    "# Flow Control"
   ]
  },
  {
   "cell_type": "raw",
   "id": "d5060cc1",
   "metadata": {},
   "source": [
    "           flow control\n",
    "                |\n",
    "---------------------------------------------------\n",
    "|                   |                              |\n",
    "conditional     loop control                   transfer \n",
    "statements      statements                     statements\n",
    "1.if             1.for                         1.break\n",
    "                 2.while                       2.continue\n",
    "2.elif           in python don't have          3.pass\n",
    "3.else              dowhile.\n"
   ]
  },
  {
   "cell_type": "raw",
   "id": "f11fdab8",
   "metadata": {},
   "source": [
    "syntax:if(condition):\n",
    "          statement1\n",
    "          statement2\n",
    "          ......"
   ]
  },
  {
   "cell_type": "raw",
   "id": "5babe791",
   "metadata": {},
   "source": [
    "indentation--->1 tab. or 4 spaces."
   ]
  },
  {
   "cell_type": "code",
   "execution_count": 1,
   "id": "71e4e24d",
   "metadata": {},
   "outputs": [],
   "source": [
    "a=20\n",
    "b=30\n",
    "if(a==20 and b==20):   #true and false==false. therefore the if condition is not executed.\n",
    "    print(a,b)"
   ]
  },
  {
   "cell_type": "code",
   "execution_count": 2,
   "id": "b077f719",
   "metadata": {},
   "outputs": [
    {
     "name": "stdout",
     "output_type": "stream",
     "text": [
      "20 30\n"
     ]
    }
   ],
   "source": [
    "a=20\n",
    "b=30\n",
    "if(a==20 or b==20):\n",
    "    print(a,b)"
   ]
  },
  {
   "cell_type": "code",
   "execution_count": 3,
   "id": "c585c465",
   "metadata": {},
   "outputs": [
    {
     "name": "stdout",
     "output_type": "stream",
     "text": [
      "20\n"
     ]
    }
   ],
   "source": [
    "a=20\n",
    "b=10\n",
    "if a>b:\n",
    "    print(a)"
   ]
  },
  {
   "cell_type": "code",
   "execution_count": 4,
   "id": "2753cd4f",
   "metadata": {},
   "outputs": [
    {
     "name": "stdout",
     "output_type": "stream",
     "text": [
      "innomatics\n"
     ]
    }
   ],
   "source": [
    "s=\"innomatics\"\n",
    "if \"n\" in s:\n",
    "    print(s)"
   ]
  },
  {
   "cell_type": "code",
   "execution_count": 5,
   "id": "d17ef6cb",
   "metadata": {},
   "outputs": [
    {
     "name": "stdout",
     "output_type": "stream",
     "text": [
      "a and b are equale\n"
     ]
    }
   ],
   "source": [
    "a=5\n",
    "b=5\n",
    "if a is b:\n",
    "    print(\"a and b are equale\")"
   ]
  },
  {
   "cell_type": "code",
   "execution_count": 6,
   "id": "7a893d95",
   "metadata": {},
   "outputs": [
    {
     "ename": "IndentationError",
     "evalue": "expected an indented block after 'if' statement on line 2 (2117556379.py, line 3)",
     "output_type": "error",
     "traceback": [
      "\u001b[1;36m  Cell \u001b[1;32mIn[6], line 3\u001b[1;36m\u001b[0m\n\u001b[1;33m    print(s)\u001b[0m\n\u001b[1;37m    ^\u001b[0m\n\u001b[1;31mIndentationError\u001b[0m\u001b[1;31m:\u001b[0m expected an indented block after 'if' statement on line 2\n"
     ]
    }
   ],
   "source": [
    "s=\"innomatics\"\n",
    "if \"n\" in s:\n",
    "print(s)"
   ]
  },
  {
   "cell_type": "raw",
   "id": "fa787e78",
   "metadata": {},
   "source": [
    "elif: more than one condition\n",
    "syntax: elif(condition):\n",
    "             statement1\n",
    "             statement2\n",
    "            ........."
   ]
  },
  {
   "cell_type": "code",
   "execution_count": 7,
   "id": "51c480e5",
   "metadata": {},
   "outputs": [
    {
     "name": "stdout",
     "output_type": "stream",
     "text": [
      "4\n",
      "even\n"
     ]
    }
   ],
   "source": [
    "n1=int(input())\n",
    "if(n1%2==0):\n",
    "    print(\"even\")\n",
    "else:\n",
    "    print(\"odd\")"
   ]
  },
  {
   "cell_type": "markdown",
   "id": "d3cf7368",
   "metadata": {},
   "source": [
    "**Generating a to z**"
   ]
  },
  {
   "cell_type": "code",
   "execution_count": 2,
   "id": "1feb50b1",
   "metadata": {},
   "outputs": [
    {
     "name": "stdout",
     "output_type": "stream",
     "text": [
      "['a', 'b', 'c', 'd', 'e', 'f', 'g', 'h', 'i', 'j', 'k', 'l', 'm', 'n', 'o', 'p', 'q', 'r', 's', 't', 'u', 'v', 'w', 'x', 'y', 'z']\n"
     ]
    }
   ],
   "source": [
    "val=[chr(i) for i in range(65,91)]\n",
    "print(val)"
   ]
  },
  {
   "cell_type": "markdown",
   "id": "0cb76828",
   "metadata": {},
   "source": [
    "**Registration for any website**"
   ]
  },
  {
   "cell_type": "code",
   "execution_count": 1,
   "id": "d459078b",
   "metadata": {},
   "outputs": [
    {
     "name": "stdout",
     "output_type": "stream",
     "text": [
      "Lakshmi\n",
      "laxmivangapandu111@gmail.com\n",
      "Laaxmi@123\n"
     ]
    }
   ],
   "source": [
    "#registration\n",
    "user_name=input()\n",
    "mail_id=input()\n",
    "password=input()"
   ]
  },
  {
   "cell_type": "code",
   "execution_count": 2,
   "id": "01ca9cf5",
   "metadata": {},
   "outputs": [
    {
     "name": "stdout",
     "output_type": "stream",
     "text": [
      "laxmivangapandu111@gmail.com\n",
      "Laxmi@123\n",
      "login faild\n"
     ]
    }
   ],
   "source": [
    "#login\n",
    "mail=input()\n",
    "password1=input()\n",
    "if(mail_id.endswith(\"@gmail.com\") and mail_id==mail and password==password1 and mail_id.lower()):\n",
    "    print(\"login successfully\")\n",
    "else:\n",
    "    print(\"login faild\")"
   ]
  },
  {
   "cell_type": "markdown",
   "id": "6376f986",
   "metadata": {},
   "source": [
    "**Find the maximum number**"
   ]
  },
  {
   "cell_type": "code",
   "execution_count": 4,
   "id": "b3543d51",
   "metadata": {},
   "outputs": [
    {
     "name": "stdout",
     "output_type": "stream",
     "text": [
      "n:2\n",
      "n1:4\n",
      "n2:6\n",
      "n2 is greater\n"
     ]
    }
   ],
   "source": [
    "n=int(input(\"n:\"))\n",
    "n1=int(input(\"n1:\"))\n",
    "n2=int(input(\"n2:\"))\n",
    "if(n>n1 and n>n2):\n",
    "    print(\"n is greater\")\n",
    "elif(n1>n and n1>n2):\n",
    "    print(\"n1 is greater\")\n",
    "else:\n",
    "    print(\"n2 is greater\")"
   ]
  },
  {
   "cell_type": "markdown",
   "id": "d16a0521",
   "metadata": {},
   "source": [
    "**Tax Programm**"
   ]
  },
  {
   "cell_type": "code",
   "execution_count": 3,
   "id": "8a9b3419",
   "metadata": {},
   "outputs": [
    {
     "name": "stdout",
     "output_type": "stream",
     "text": [
      "56\n",
      "no tax\n"
     ]
    }
   ],
   "source": [
    "income=float(input())\n",
    "if(income>0):\n",
    "    if(income>=0 and income<500000):\n",
    "        print(\"no tax\")\n",
    "    elif(income>=500000 and income<700000):\n",
    "        print(income*(5/100))\n",
    "    elif(income>=700000 and income<1000000):\n",
    "        print(income*(10/100))\n",
    "    else:\n",
    "        print(income*(15/100))\n",
    "else:\n",
    "    print(\"invalid income\")"
   ]
  },
  {
   "cell_type": "markdown",
   "id": "a7d144c3",
   "metadata": {},
   "source": [
    "**Ternary operator**"
   ]
  },
  {
   "cell_type": "raw",
   "id": "97595923",
   "metadata": {},
   "source": [
    "num=int(input())\n",
    "val=firstvalue if(condition) else secondvalue   #syntax of ternary operator.\n",
    "print(val)"
   ]
  },
  {
   "cell_type": "code",
   "execution_count": 4,
   "id": "6139bad0",
   "metadata": {},
   "outputs": [
    {
     "name": "stdout",
     "output_type": "stream",
     "text": [
      "4\n",
      "even\n"
     ]
    }
   ],
   "source": [
    "num=int(input())\n",
    "res=\"even\" if(num%2==0) else \"odd\"  # or print(\"even\") if(condition) else print(\"odd\") \n",
    "print(res)"
   ]
  },
  {
   "cell_type": "code",
   "execution_count": 5,
   "id": "17403697",
   "metadata": {},
   "outputs": [
    {
     "data": {
      "text/plain": [
       "30"
      ]
     },
     "execution_count": 5,
     "metadata": {},
     "output_type": "execute_result"
    }
   ],
   "source": [
    "a=20\n",
    "b=30\n",
    "c= a if a>b else b\n",
    "c"
   ]
  },
  {
   "cell_type": "markdown",
   "id": "5c07122c",
   "metadata": {},
   "source": [
    "# Iterative Statements"
   ]
  },
  {
   "cell_type": "markdown",
   "id": "d568e949",
   "metadata": {},
   "source": [
    "**Range():**"
   ]
  },
  {
   "cell_type": "raw",
   "id": "1bb8cf14",
   "metadata": {},
   "source": [
    "1.Range data type represents a sequence of numbers.\n",
    "2.the elements present in the range data type are not modified. i.e range() data type is a immutable.\n",
    "syntax=range(start,stop,step)"
   ]
  },
  {
   "cell_type": "markdown",
   "id": "b3275a45",
   "metadata": {},
   "source": [
    "for loop:\n",
    "syntax: for i in collection:"
   ]
  },
  {
   "cell_type": "code",
   "execution_count": 4,
   "id": "5d611ab1",
   "metadata": {},
   "outputs": [
    {
     "name": "stdout",
     "output_type": "stream",
     "text": [
      "1 2 3 4 5 6 7 8 "
     ]
    }
   ],
   "source": [
    "marks=[1,2,3,4,5,6,7,8]\n",
    "for i in marks:  #i is temparary variable.\n",
    "    print(i,end=\" \")"
   ]
  },
  {
   "cell_type": "code",
   "execution_count": 24,
   "id": "8d40e72d",
   "metadata": {},
   "outputs": [
    {
     "data": {
      "text/plain": [
       "range(1, 10, 2)"
      ]
     },
     "execution_count": 24,
     "metadata": {},
     "output_type": "execute_result"
    }
   ],
   "source": [
    "range(1,10,2)"
   ]
  },
  {
   "cell_type": "raw",
   "id": "1c50f895",
   "metadata": {},
   "source": [
    "for temparary in collection:  #collection---> list,tuple,string,dictionary "
   ]
  },
  {
   "cell_type": "code",
   "execution_count": 13,
   "id": "b77da184",
   "metadata": {},
   "outputs": [
    {
     "name": "stdout",
     "output_type": "stream",
     "text": [
      "*nn*m*t*cs r*s**rch l*b"
     ]
    }
   ],
   "source": [
    "name=\"Innomatics research lab\"\n",
    "for i in name:\n",
    "    if(i ==\"a\" or i==\"e\" or i==\"i\" or i==\"o\" or i==\"u\"or i==\"A\" or i==\"E\" or i==\"I\" or i==\"O\" or i==\"U\"):\n",
    "        print(\"*\",end=\"\")\n",
    "    else:\n",
    "        print(i,end=\"\")"
   ]
  },
  {
   "cell_type": "code",
   "execution_count": 15,
   "id": "b3118a80",
   "metadata": {},
   "outputs": [
    {
     "name": "stdout",
     "output_type": "stream",
     "text": [
      "*nn*m*t*cs R*s**rch L*b"
     ]
    }
   ],
   "source": [
    "name1=\"Innomatics Research Lab\"\n",
    "vow=[\"a\",\"e\",\"i\",\"o\",\"u\"\",A\",\"E\",\"I\",\"O\",\"U\"]\n",
    "for i in name1:\n",
    "    if i in vow:\n",
    "        print(\"*\",end=\"\")\n",
    "    else:\n",
    "        print(i,end=\"\")"
   ]
  },
  {
   "cell_type": "markdown",
   "id": "e6abae43",
   "metadata": {},
   "source": [
    "for--> it associate with each enad every element in collection"
   ]
  },
  {
   "cell_type": "markdown",
   "id": "5dd4ff66",
   "metadata": {},
   "source": [
    "# WHILE"
   ]
  },
  {
   "cell_type": "raw",
   "id": "bd97056d",
   "metadata": {},
   "source": [
    "synt: while(condition):\n",
    "        statement1\n",
    "        statement2\n",
    "        .........\n",
    "        ........."
   ]
  },
  {
   "cell_type": "code",
   "execution_count": 1,
   "id": "39fd2bc7",
   "metadata": {},
   "outputs": [
    {
     "name": "stdout",
     "output_type": "stream",
     "text": [
      "0\n",
      "1\n",
      "2\n",
      "3\n",
      "4\n",
      "5\n",
      "6\n",
      "7\n",
      "8\n",
      "9\n",
      "10\n"
     ]
    }
   ],
   "source": [
    "n=0\n",
    "while(n<=10):\n",
    "    print(n)\n",
    "    n=n+1"
   ]
  },
  {
   "cell_type": "raw",
   "id": "03fda6d7",
   "metadata": {},
   "source": [
    "num=20\n",
    "while(True):  #infinite loop\n",
    "    print(num)"
   ]
  },
  {
   "cell_type": "markdown",
   "id": "f5c33b53",
   "metadata": {},
   "source": [
    "**Luck draw game**"
   ]
  },
  {
   "cell_type": "code",
   "execution_count": 6,
   "id": "5352e512",
   "metadata": {},
   "outputs": [
    {
     "name": "stdout",
     "output_type": "stream",
     "text": [
      "enter the number:5\n",
      "you have2 only\n",
      "enter the number:2\n",
      "you have1 only\n",
      "enter the number:4\n",
      "you have0 only\n",
      "you lost\n"
     ]
    }
   ],
   "source": [
    "import random\n",
    "system_num=random.randint(1,5)\n",
    "attems=3\n",
    "while(attems>0):\n",
    "    user_num=int(input(\"enter the number:\"))\n",
    "    if(system_num==user_num):\n",
    "        print(\"congrats.. you won\")\n",
    "        break\n",
    "    else:\n",
    "        attems=attems-1\n",
    "        print(f\"you have{attems} only\")\n",
    "        if(attems==0):\n",
    "            print(\"you lost\")\n",
    "            break\n",
    "            "
   ]
  },
  {
   "cell_type": "code",
   "execution_count": 2,
   "id": "4db9430d",
   "metadata": {},
   "outputs": [
    {
     "name": "stdout",
     "output_type": "stream",
     "text": [
      "11\n"
     ]
    }
   ],
   "source": [
    "name=\"Innomatics research lab\"\n",
    "s=0\n",
    "while(s<len(name)):\n",
    "    if(name[s]==\"r\"):\n",
    "        print(s)\n",
    "        break\n",
    "    else:\n",
    "        s=s+1"
   ]
  },
  {
   "cell_type": "markdown",
   "id": "492c9e9a",
   "metadata": {},
   "source": [
    "# Transfor Statements"
   ]
  },
  {
   "cell_type": "markdown",
   "id": "2c257932",
   "metadata": {},
   "source": [
    "1. break----> it stop the running \n",
    "2. continue ---> skip the current excution\n",
    "3. pass  ---> nothing"
   ]
  },
  {
   "cell_type": "code",
   "execution_count": 3,
   "id": "f4b748d9",
   "metadata": {},
   "outputs": [
    {
     "data": {
      "text/plain": [
       "'Innomatics research lab'"
      ]
     },
     "execution_count": 3,
     "metadata": {},
     "output_type": "execute_result"
    }
   ],
   "source": [
    "name"
   ]
  },
  {
   "cell_type": "code",
   "execution_count": 19,
   "id": "dd90154a",
   "metadata": {},
   "outputs": [
    {
     "name": "stdout",
     "output_type": "stream",
     "text": [
      "20\n"
     ]
    }
   ],
   "source": [
    "lst=[20,30,40,50,70,30,38]\n",
    "for i in lst:\n",
    "    if(i<40):\n",
    "        print(i)\n",
    "        break"
   ]
  },
  {
   "cell_type": "code",
   "execution_count": 13,
   "id": "31018182",
   "metadata": {},
   "outputs": [
    {
     "name": "stdout",
     "output_type": "stream",
     "text": [
      "40\n",
      "50\n",
      "70\n"
     ]
    }
   ],
   "source": [
    "lst=[20,30,40,50,70,30,38]\n",
    "for i in lst:\n",
    "    if(i<40):\n",
    "        continue\n",
    "    else:\n",
    "        print(i)"
   ]
  },
  {
   "cell_type": "code",
   "execution_count": 14,
   "id": "ed23a797",
   "metadata": {},
   "outputs": [],
   "source": [
    "lst=[20,30,40,50,70,30,38]\n",
    "for i in lst:\n",
    "    if(i<40):\n",
    "        break\n",
    "    else:\n",
    "        print(i)"
   ]
  },
  {
   "cell_type": "code",
   "execution_count": 21,
   "id": "d5bdb4d9",
   "metadata": {},
   "outputs": [
    {
     "name": "stdout",
     "output_type": "stream",
     "text": [
      "1\n",
      "2\n",
      "3\n",
      "4\n",
      "5\n",
      "6\n"
     ]
    }
   ],
   "source": [
    "lst=[1,2,3,4,5,6,7,8,9,10]\n",
    "for i in lst:\n",
    "    if(i>6):\n",
    "        break\n",
    "    else:\n",
    "        print(i)\n",
    "    \n",
    "        \n",
    "            "
   ]
  },
  {
   "cell_type": "code",
   "execution_count": 26,
   "id": "49f66e93",
   "metadata": {},
   "outputs": [
    {
     "name": "stdout",
     "output_type": "stream",
     "text": [
      "2\n",
      "4\n",
      "6\n",
      "8\n",
      "10\n"
     ]
    }
   ],
   "source": [
    "lst=[1,2,3,4,5,6,7,8,9,10]\n",
    "for i in lst:\n",
    "    if(i%2!=0):\n",
    "        continue\n",
    "    else:\n",
    "        print(i)\n",
    "    "
   ]
  }
 ],
 "metadata": {
  "kernelspec": {
   "display_name": "Python 3 (ipykernel)",
   "language": "python",
   "name": "python3"
  },
  "language_info": {
   "codemirror_mode": {
    "name": "ipython",
    "version": 3
   },
   "file_extension": ".py",
   "mimetype": "text/x-python",
   "name": "python",
   "nbconvert_exporter": "python",
   "pygments_lexer": "ipython3",
   "version": "3.11.3"
  }
 },
 "nbformat": 4,
 "nbformat_minor": 5
}
