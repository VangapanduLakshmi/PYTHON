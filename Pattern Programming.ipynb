{
 "cells": [
  {
   "cell_type": "code",
   "execution_count": 7,
   "id": "283e624b",
   "metadata": {},
   "outputs": [
    {
     "name": "stdout",
     "output_type": "stream",
     "text": [
      "5\n",
      "* \n",
      "* * \n",
      "* * * \n",
      "* * * * \n",
      "* * * * * \n"
     ]
    }
   ],
   "source": [
    "n=int(input())\n",
    "for i in range(1,n+1):\n",
    "    print(\"* \"*i,)"
   ]
  },
  {
   "cell_type": "code",
   "execution_count": 8,
   "id": "cc443d82",
   "metadata": {},
   "outputs": [
    {
     "name": "stdout",
     "output_type": "stream",
     "text": [
      "5\n",
      "* * * * * \n",
      "* * * * \n",
      "* * * \n",
      "* * \n",
      "* \n"
     ]
    }
   ],
   "source": [
    "n=int(input())\n",
    "for i in range(n,0,-1):\n",
    "    print(\"* \"*i)"
   ]
  },
  {
   "cell_type": "code",
   "execution_count": 19,
   "id": "946d6fc7",
   "metadata": {},
   "outputs": [
    {
     "name": "stdout",
     "output_type": "stream",
     "text": [
      "5\n",
      "1 \n",
      "2 2 \n",
      "3 3 3 \n",
      "4 4 4 4 \n",
      "5 5 5 5 5 \n"
     ]
    }
   ],
   "source": [
    "n=int(input())\n",
    "for i in range(1,n+1):\n",
    "    print(f\"{i} \"*i)\n",
    "        \n",
    "        \n"
   ]
  },
  {
   "cell_type": "code",
   "execution_count": 20,
   "id": "d51a94eb",
   "metadata": {},
   "outputs": [
    {
     "name": "stdout",
     "output_type": "stream",
     "text": [
      "5\n",
      "5 5 5 5 5 \n",
      "4 4 4 4 \n",
      "3 3 3 \n",
      "2 2 \n",
      "1 \n"
     ]
    }
   ],
   "source": [
    "n=int(input())\n",
    "for i in range(n,0,-1):\n",
    "    print(f\"{i} \"*i)\n",
    "        \n",
    "        "
   ]
  },
  {
   "cell_type": "code",
   "execution_count": 9,
   "id": "c9ae152c",
   "metadata": {},
   "outputs": [
    {
     "name": "stdout",
     "output_type": "stream",
     "text": [
      "5\n",
      "     *\n",
      "    * *\n",
      "   * * *\n",
      "  * * * *\n",
      " * * * * *\n"
     ]
    }
   ],
   "source": [
    "n=int(input())\n",
    "for i in range(n):\n",
    "    print(\" \"*(n-i-1)+\" *\"*(i+1))"
   ]
  },
  {
   "cell_type": "code",
   "execution_count": 34,
   "id": "502742c9",
   "metadata": {},
   "outputs": [
    {
     "name": "stdout",
     "output_type": "stream",
     "text": [
      "5\n",
      " * * * * *\n",
      "  * * * *\n",
      "   * * *\n",
      "    * *\n",
      "     *\n"
     ]
    }
   ],
   "source": [
    "n=int(input())\n",
    "for i in range(n,0,-1):\n",
    "    print(\" \"*(n-i)+\" *\"*(i))"
   ]
  },
  {
   "cell_type": "code",
   "execution_count": 18,
   "id": "ce83fb07",
   "metadata": {},
   "outputs": [
    {
     "name": "stdout",
     "output_type": "stream",
     "text": [
      "5\n",
      "    1\n",
      "   22\n",
      "  333\n",
      " 4444\n",
      "55555\n"
     ]
    }
   ],
   "source": [
    "n=int(input())\n",
    "for i in range(1,n+1):\n",
    "    print(\" \"*(n+1-i-1)+f\"{i}\"*i)"
   ]
  },
  {
   "cell_type": "code",
   "execution_count": 32,
   "id": "b6dc81a6",
   "metadata": {},
   "outputs": [
    {
     "name": "stdout",
     "output_type": "stream",
     "text": [
      "5\n",
      " 5 5 5 5 5\n",
      "  4 4 4 4\n",
      "   3 3 3\n",
      "    2 2\n",
      "     1\n"
     ]
    }
   ],
   "source": [
    "n=int(input())\n",
    "for i in range(n,0,-1):\n",
    "    print(\" \"*(n-i)+f\" {i}\"*i)"
   ]
  },
  {
   "cell_type": "code",
   "execution_count": 7,
   "id": "b96949c0",
   "metadata": {},
   "outputs": [
    {
     "name": "stdout",
     "output_type": "stream",
     "text": [
      "5\n",
      "    1\n",
      "   22\n",
      "  333\n",
      " 4444\n",
      "55555\n",
      " 4444\n",
      "  333\n",
      "   22\n",
      "    1\n"
     ]
    }
   ],
   "source": [
    "n=int(input())\n",
    "for i in range(1,n+1):\n",
    "    print(\" \"*(n+1-i-1)+f\"{i}\"*i)\n",
    "for i in range(n-1,0,-1):\n",
    "    print(\" \"*(n+1-i-1)+f\"{i}\"*i)"
   ]
  },
  {
   "cell_type": "code",
   "execution_count": 67,
   "id": "51c41fe4",
   "metadata": {},
   "outputs": [
    {
     "name": "stdout",
     "output_type": "stream",
     "text": [
      "     1\n",
      "    2 2\n",
      "   3 3 3\n",
      "  4 4 4 4\n",
      " 5 5 5 5 5\n",
      "  4 4 4 4\n",
      "   3 3 3\n",
      "    2 2\n",
      "     1\n"
     ]
    }
   ],
   "source": [
    "def rambos(n):\n",
    "    for i in range(1,n+1):\n",
    "        print(\" \"*(n+1-i-1)+f\" {i}\"*i)\n",
    "    for i in range(n-1,0,-1):\n",
    "        print(\" \"*(n+1-i-1)+f\" {i}\"*i)\n",
    "rambos(5)"
   ]
  },
  {
   "cell_type": "code",
   "execution_count": 11,
   "id": "81b17455",
   "metadata": {},
   "outputs": [
    {
     "name": "stdout",
     "output_type": "stream",
     "text": [
      "5\n",
      "1 \n",
      "1 2 \n",
      "1 2 3 \n",
      "1 2 3 4 \n",
      "1 2 3 4 5 \n"
     ]
    }
   ],
   "source": [
    "n=int(input())\n",
    "for i in range(1,n+1):\n",
    "    for j in range(1,i+1):\n",
    "        print(j,end=\" \")\n",
    "    print()"
   ]
  },
  {
   "cell_type": "code",
   "execution_count": 62,
   "id": "0f169e08",
   "metadata": {},
   "outputs": [
    {
     "name": "stdout",
     "output_type": "stream",
     "text": [
      "1 \n",
      "1 2 \n",
      "1 2 3 \n",
      "1 2 3 4 \n",
      "1 2 3 4 5 \n"
     ]
    }
   ],
   "source": [
    "def shap(n):\n",
    "    for i in range(1,n+1):\n",
    "        for j in range(1,i+1):\n",
    "            print(j,end=\" \")\n",
    "        print()\n",
    "shap(5)"
   ]
  },
  {
   "cell_type": "code",
   "execution_count": 69,
   "id": "8a4ab519",
   "metadata": {},
   "outputs": [
    {
     "name": "stdout",
     "output_type": "stream",
     "text": [
      "        1 \n",
      "        1 1 \n",
      "        1 2 1 \n",
      "        1 3 3 1 \n",
      "        1 4 6 4 1 \n"
     ]
    }
   ],
   "source": [
    "for i in range(1,n+1):\n",
    "    num=1\n",
    "    for j in range(1,n-1+1):\n",
    "        print(\" \",end=\" \")\n",
    "    for k in range(1,i+1):\n",
    "        print(num,end=\" \")\n",
    "        num=num*(i-k)//k\n",
    "    print()"
   ]
  },
  {
   "cell_type": "code",
   "execution_count": 7,
   "id": "12f276bf",
   "metadata": {},
   "outputs": [
    {
     "name": "stdout",
     "output_type": "stream",
     "text": [
      "5\n",
      "    1\n",
      "   101\n",
      "  10101\n",
      " 1010101\n",
      "101010101\n"
     ]
    }
   ],
   "source": [
    "n=int(input())\n",
    "for i in range(1,n+1):\n",
    "    for j in range(n,i,-1):\n",
    "        print(\" \",end=\"\")\n",
    "    for k in range(1,i*2):\n",
    "        print(k%2,end=\"\")\n",
    "    print()"
   ]
  },
  {
   "cell_type": "code",
   "execution_count": 10,
   "id": "f7451c52",
   "metadata": {},
   "outputs": [
    {
     "name": "stdout",
     "output_type": "stream",
     "text": [
      "5\n",
      "    1\n",
      "   1\n",
      "  1\n",
      " 1\n",
      "1\n"
     ]
    }
   ],
   "source": [
    "n=int(input())\n",
    "for i in range(1,n+1):\n",
    "    print(\" \"*(n+1-1-i)+\"1\")"
   ]
  },
  {
   "cell_type": "code",
   "execution_count": 15,
   "id": "27d044a0",
   "metadata": {},
   "outputs": [
    {
     "name": "stdout",
     "output_type": "stream",
     "text": [
      "5\n",
      "1\n",
      " 1\n",
      "  1\n",
      "   1\n",
      "    1\n"
     ]
    }
   ],
   "source": [
    "n=int(input())\n",
    "for j in range(n,0,-1):\n",
    "    print(\" \"*(n+1-1-j)+\"1\")"
   ]
  },
  {
   "cell_type": "code",
   "execution_count": 16,
   "id": "bc227b7c",
   "metadata": {},
   "outputs": [
    {
     "data": {
      "text/plain": [
       "0"
      ]
     },
     "execution_count": 16,
     "metadata": {},
     "output_type": "execute_result"
    }
   ],
   "source": [
    "t=(\"a\",\"b\",\"c\",\"d\")\n",
    "t.index(\"a\")"
   ]
  },
  {
   "cell_type": "code",
   "execution_count": 17,
   "id": "212a0124",
   "metadata": {},
   "outputs": [
    {
     "data": {
      "text/plain": [
       "2"
      ]
     },
     "execution_count": 17,
     "metadata": {},
     "output_type": "execute_result"
    }
   ],
   "source": [
    "t.index(\"c\")"
   ]
  },
  {
   "cell_type": "code",
   "execution_count": null,
   "id": "94356308",
   "metadata": {},
   "outputs": [],
   "source": []
  },
  {
   "cell_type": "code",
   "execution_count": null,
   "id": "0e6b4640",
   "metadata": {},
   "outputs": [],
   "source": []
  }
 ],
 "metadata": {
  "kernelspec": {
   "display_name": "Python 3 (ipykernel)",
   "language": "python",
   "name": "python3"
  },
  "language_info": {
   "codemirror_mode": {
    "name": "ipython",
    "version": 3
   },
   "file_extension": ".py",
   "mimetype": "text/x-python",
   "name": "python",
   "nbconvert_exporter": "python",
   "pygments_lexer": "ipython3",
   "version": "3.11.3"
  }
 },
 "nbformat": 4,
 "nbformat_minor": 5
}
