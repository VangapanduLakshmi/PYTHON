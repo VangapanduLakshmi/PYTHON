{
 "cells": [
  {
   "cell_type": "markdown",
   "id": "7630ea47",
   "metadata": {},
   "source": [
    "# **Identifiers**"
   ]
  },
  {
   "cell_type": "markdown",
   "id": "e2224501",
   "metadata": {},
   "source": [
    "**Definition:** Giving a name to value/entity.\n",
    "it can be **function name(or), class name(or), madule name(or), object name(or), variable name.**"
   ]
  },
  {
   "cell_type": "markdown",
   "id": "f7b4d5b4",
   "metadata": {},
   "source": [
    "Examples:\n",
    "    name=\"Lakshmi\"\n",
    "    batch=241\n",
    "    cource_name= \" data science\"\n",
    "    percentage= 92.5\n",
    "    "
   ]
  },
  {
   "cell_type": "markdown",
   "id": "e86e0c44",
   "metadata": {},
   "source": [
    "**Rules**\n",
    "    "
   ]
  },
  {
   "cell_type": "markdown",
   "id": "38f8dc27",
   "metadata": {},
   "source": [
    "**Do's:**\n",
    "\n",
    "---> Identifiers contains alphanumeric values and Underscore(_) only.\n",
    "    \n",
    "    ex: a-z, A-Z, 0-9, _\n",
    "        \n",
    "---> it should be start with characters and underscore(_).\n",
    "\n",
    "---> we can also creat the identifier with combination of alphanumeric values and underscore(_). but it should be start with characters and underscore(_).  \n",
    "    \n",
    "    "
   ]
  },
  {
   "cell_type": "markdown",
   "id": "bdc096ec",
   "metadata": {},
   "source": [
    "**Examples**"
   ]
  },
  {
   "cell_type": "code",
   "execution_count": 4,
   "id": "a07dd9c8",
   "metadata": {},
   "outputs": [],
   "source": [
    "value=10"
   ]
  },
  {
   "cell_type": "code",
   "execution_count": 6,
   "id": "2a37f53e",
   "metadata": {},
   "outputs": [],
   "source": [
    "marks=200"
   ]
  },
  {
   "cell_type": "code",
   "execution_count": 7,
   "id": "0146d76e",
   "metadata": {},
   "outputs": [],
   "source": [
    "name1=\"laxmi\""
   ]
  },
  {
   "cell_type": "code",
   "execution_count": 8,
   "id": "7798e394",
   "metadata": {},
   "outputs": [],
   "source": [
    "name2=\"lakshmi\""
   ]
  },
  {
   "cell_type": "code",
   "execution_count": 9,
   "id": "6391fd26",
   "metadata": {},
   "outputs": [],
   "source": [
    "_per=23.4"
   ]
  },
  {
   "cell_type": "code",
   "execution_count": 10,
   "id": "5173bf4d",
   "metadata": {},
   "outputs": [],
   "source": [
    "game_name=\"cricket\""
   ]
  },
  {
   "cell_type": "code",
   "execution_count": 1,
   "id": "87488df6",
   "metadata": {},
   "outputs": [],
   "source": [
    "name=\"lakshmi\""
   ]
  },
  {
   "cell_type": "code",
   "execution_count": 2,
   "id": "4649de3a",
   "metadata": {},
   "outputs": [
    {
     "data": {
      "text/plain": [
       "'lakshmi'"
      ]
     },
     "execution_count": 2,
     "metadata": {},
     "output_type": "execute_result"
    }
   ],
   "source": [
    "name"
   ]
  },
  {
   "cell_type": "markdown",
   "id": "bd868dd9",
   "metadata": {},
   "source": [
    "**don'ts:**\n",
    "\n",
    "----> Identifier shoud not start with numbers.\n",
    "\n",
    "----> we can't use any special symblos, except underscore(_).\n",
    "\n",
    "----> we can't use key words\n",
    "     "
   ]
  },
  {
   "cell_type": "markdown",
   "id": "69077743",
   "metadata": {},
   "source": [
    "**Examples**"
   ]
  },
  {
   "cell_type": "code",
   "execution_count": 11,
   "id": "46ca758e",
   "metadata": {
    "scrolled": true
   },
   "outputs": [
    {
     "ename": "SyntaxError",
     "evalue": "invalid decimal literal (1997268889.py, line 1)",
     "output_type": "error",
     "traceback": [
      "\u001b[1;36m  Cell \u001b[1;32mIn[11], line 1\u001b[1;36m\u001b[0m\n\u001b[1;33m    1name=\"lakshmi\"\u001b[0m\n\u001b[1;37m    ^\u001b[0m\n\u001b[1;31mSyntaxError\u001b[0m\u001b[1;31m:\u001b[0m invalid decimal literal\n"
     ]
    }
   ],
   "source": [
    "1name=\"lakshmi\" "
   ]
  },
  {
   "cell_type": "code",
   "execution_count": 12,
   "id": "fe688c25",
   "metadata": {},
   "outputs": [
    {
     "ename": "SyntaxError",
     "evalue": "invalid decimal literal (3329705810.py, line 1)",
     "output_type": "error",
     "traceback": [
      "\u001b[1;36m  Cell \u001b[1;32mIn[12], line 1\u001b[1;36m\u001b[0m\n\u001b[1;33m    2value=130\u001b[0m\n\u001b[1;37m    ^\u001b[0m\n\u001b[1;31mSyntaxError\u001b[0m\u001b[1;31m:\u001b[0m invalid decimal literal\n"
     ]
    }
   ],
   "source": [
    "2value=130"
   ]
  },
  {
   "cell_type": "code",
   "execution_count": 15,
   "id": "086a49e0",
   "metadata": {},
   "outputs": [
    {
     "ename": "SyntaxError",
     "evalue": "cannot assign to expression here. Maybe you meant '==' instead of '='? (3090398020.py, line 1)",
     "output_type": "error",
     "traceback": [
      "\u001b[1;36m  Cell \u001b[1;32mIn[15], line 1\u001b[1;36m\u001b[0m\n\u001b[1;33m    name@12=\"innomatics\"\u001b[0m\n\u001b[1;37m    ^\u001b[0m\n\u001b[1;31mSyntaxError\u001b[0m\u001b[1;31m:\u001b[0m cannot assign to expression here. Maybe you meant '==' instead of '='?\n"
     ]
    }
   ],
   "source": [
    "name@12=\"innomatics\""
   ]
  },
  {
   "cell_type": "code",
   "execution_count": 49,
   "id": "550b7843",
   "metadata": {},
   "outputs": [
    {
     "data": {
      "text/plain": [
       "['False',\n",
       " 'None',\n",
       " 'True',\n",
       " 'and',\n",
       " 'as',\n",
       " 'assert',\n",
       " 'async',\n",
       " 'await',\n",
       " 'break',\n",
       " 'class',\n",
       " 'continue',\n",
       " 'def',\n",
       " 'del',\n",
       " 'elif',\n",
       " 'else',\n",
       " 'except',\n",
       " 'finally',\n",
       " 'for',\n",
       " 'from',\n",
       " 'global',\n",
       " 'if',\n",
       " 'import',\n",
       " 'in',\n",
       " 'is',\n",
       " 'lambda',\n",
       " 'nonlocal',\n",
       " 'not',\n",
       " 'or',\n",
       " 'pass',\n",
       " 'raise',\n",
       " 'return',\n",
       " 'try',\n",
       " 'while',\n",
       " 'with',\n",
       " 'yield']"
      ]
     },
     "execution_count": 49,
     "metadata": {},
     "output_type": "execute_result"
    }
   ],
   "source": [
    "import keyword\n",
    "keyword.kwlist"
   ]
  },
  {
   "cell_type": "code",
   "execution_count": 20,
   "id": "5ff360be",
   "metadata": {},
   "outputs": [
    {
     "ename": "SyntaxError",
     "evalue": "invalid syntax (227670052.py, line 1)",
     "output_type": "error",
     "traceback": [
      "\u001b[1;36m  Cell \u001b[1;32mIn[20], line 1\u001b[1;36m\u001b[0m\n\u001b[1;33m    if=\"innomatics\"\u001b[0m\n\u001b[1;37m      ^\u001b[0m\n\u001b[1;31mSyntaxError\u001b[0m\u001b[1;31m:\u001b[0m invalid syntax\n"
     ]
    }
   ],
   "source": [
    "if=\"innomatics\""
   ]
  },
  {
   "cell_type": "code",
   "execution_count": 21,
   "id": "e91f4211",
   "metadata": {},
   "outputs": [],
   "source": [
    "If=\"innomatics\""
   ]
  },
  {
   "cell_type": "code",
   "execution_count": 22,
   "id": "fb4ffa65",
   "metadata": {},
   "outputs": [
    {
     "data": {
      "text/plain": [
       "'innomatics'"
      ]
     },
     "execution_count": 22,
     "metadata": {},
     "output_type": "execute_result"
    }
   ],
   "source": [
    "If"
   ]
  },
  {
   "cell_type": "code",
   "execution_count": 23,
   "id": "8a926452",
   "metadata": {},
   "outputs": [],
   "source": [
    "false= 100"
   ]
  },
  {
   "cell_type": "code",
   "execution_count": 24,
   "id": "43ff6771",
   "metadata": {},
   "outputs": [
    {
     "ename": "SyntaxError",
     "evalue": "cannot assign to False (1660579091.py, line 1)",
     "output_type": "error",
     "traceback": [
      "\u001b[1;36m  Cell \u001b[1;32mIn[24], line 1\u001b[1;36m\u001b[0m\n\u001b[1;33m    False =100\u001b[0m\n\u001b[1;37m    ^\u001b[0m\n\u001b[1;31mSyntaxError\u001b[0m\u001b[1;31m:\u001b[0m cannot assign to False\n"
     ]
    }
   ],
   "source": [
    "False =100"
   ]
  },
  {
   "cell_type": "code",
   "execution_count": 25,
   "id": "c3adc94a",
   "metadata": {},
   "outputs": [
    {
     "ename": "SyntaxError",
     "evalue": "invalid syntax (804017841.py, line 1)",
     "output_type": "error",
     "traceback": [
      "\u001b[1;36m  Cell \u001b[1;32mIn[25], line 1\u001b[1;36m\u001b[0m\n\u001b[1;33m    continue = \"ok\"\u001b[0m\n\u001b[1;37m             ^\u001b[0m\n\u001b[1;31mSyntaxError\u001b[0m\u001b[1;31m:\u001b[0m invalid syntax\n"
     ]
    }
   ],
   "source": [
    "continue = \"ok\""
   ]
  },
  {
   "cell_type": "code",
   "execution_count": 26,
   "id": "52522086",
   "metadata": {},
   "outputs": [],
   "source": [
    "Continue=\"ok\""
   ]
  },
  {
   "cell_type": "code",
   "execution_count": 27,
   "id": "9a1b97d4",
   "metadata": {},
   "outputs": [
    {
     "data": {
      "text/plain": [
       "'ok'"
      ]
     },
     "execution_count": 27,
     "metadata": {},
     "output_type": "execute_result"
    }
   ],
   "source": [
    "Continue"
   ]
  },
  {
   "cell_type": "markdown",
   "id": "ea275ce1",
   "metadata": {},
   "source": [
    "**There is length limit for python identifiers**"
   ]
  },
  {
   "cell_type": "code",
   "execution_count": 43,
   "id": "41ac1d4e",
   "metadata": {},
   "outputs": [],
   "source": [
    "hbcjsdhbcjxjdshgfiuwesnckHDVFICEWDXBASJCVSUGFWEHDCLBJHXBCJHDGFILUHEARKFVBFDKFGTNVEDBCJVDFNVHBFhciasbdcsbagverbdsxxdkdfBjfdbvjjfvbjbfffjvbz=100"
   ]
  },
  {
   "cell_type": "code",
   "execution_count": 44,
   "id": "be441ac2",
   "metadata": {},
   "outputs": [
    {
     "data": {
      "text/plain": [
       "100"
      ]
     },
     "execution_count": 44,
     "metadata": {},
     "output_type": "execute_result"
    }
   ],
   "source": [
    "hbcjsdhbcjxjdshgfiuwesnckHDVFICEWDXBASJCVSUGFWEHDCLBJHXBCJHDGFILUHEARKFVBFDKFGTNVEDBCJVDFNVHBFhciasbdcsbagverbdsxxdkdfBjfdbvjjfvbjbfffjvbz"
   ]
  },
  {
   "cell_type": "markdown",
   "id": "7da06ade",
   "metadata": {},
   "source": [
    "**Identofiers are case senstive**"
   ]
  },
  {
   "cell_type": "code",
   "execution_count": 45,
   "id": "2f394fd0",
   "metadata": {},
   "outputs": [],
   "source": [
    "name=\"innomatics\""
   ]
  },
  {
   "cell_type": "code",
   "execution_count": 46,
   "id": "721e3753",
   "metadata": {},
   "outputs": [
    {
     "data": {
      "text/plain": [
       "'innomatics'"
      ]
     },
     "execution_count": 46,
     "metadata": {},
     "output_type": "execute_result"
    }
   ],
   "source": [
    "name"
   ]
  },
  {
   "cell_type": "code",
   "execution_count": 47,
   "id": "6f97eb9a",
   "metadata": {},
   "outputs": [
    {
     "ename": "NameError",
     "evalue": "name 'NAME' is not defined",
     "output_type": "error",
     "traceback": [
      "\u001b[1;31m---------------------------------------------------------------------------\u001b[0m",
      "\u001b[1;31mNameError\u001b[0m                                 Traceback (most recent call last)",
      "Cell \u001b[1;32mIn[47], line 1\u001b[0m\n\u001b[1;32m----> 1\u001b[0m NAME\n",
      "\u001b[1;31mNameError\u001b[0m: name 'NAME' is not defined"
     ]
    }
   ],
   "source": [
    "NAME"
   ]
  },
  {
   "cell_type": "code",
   "execution_count": null,
   "id": "b6510ebd",
   "metadata": {},
   "outputs": [],
   "source": []
  }
 ],
 "metadata": {
  "kernelspec": {
   "display_name": "Python 3 (ipykernel)",
   "language": "python",
   "name": "python3"
  },
  "language_info": {
   "codemirror_mode": {
    "name": "ipython",
    "version": 3
   },
   "file_extension": ".py",
   "mimetype": "text/x-python",
   "name": "python",
   "nbconvert_exporter": "python",
   "pygments_lexer": "ipython3",
   "version": "3.10.9"
  }
 },
 "nbformat": 4,
 "nbformat_minor": 5
}
