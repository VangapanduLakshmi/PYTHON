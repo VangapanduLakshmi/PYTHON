{
 "cells": [
  {
   "cell_type": "markdown",
   "id": "f7b5252f",
   "metadata": {},
   "source": [
    "# Operators"
   ]
  },
  {
   "cell_type": "markdown",
   "id": "6db6f934",
   "metadata": {},
   "source": [
    "Operator is a symbol that perform certain operation."
   ]
  },
  {
   "cell_type": "markdown",
   "id": "4b377ee6",
   "metadata": {},
   "source": [
    "**Operators available in python are:**\n",
    "\n",
    "Arithmatic (+, -, *, /, %, //, ***)\n",
    "\n",
    "Relational (>, >=, <, <=)\n",
    "\n",
    "Equality (==, !=)\n",
    "\n",
    "Logical (and, or, not)\n",
    "\n",
    "Bitwise (&, |, ^, ~, <<, >>)\n",
    "\n",
    "Assignment (=, +=, -=, *=, /=, etc..)\n",
    "\n",
    "**Ternary Operators**\n",
    "\n",
    "Identity --> is, is not (used for address comparision)\n",
    "\n",
    "Membership --> in, not in"
   ]
  },
  {
   "cell_type": "markdown",
   "id": "b34b806d",
   "metadata": {},
   "source": [
    "**Arithematic operators**"
   ]
  },
  {
   "cell_type": "raw",
   "id": "4a1009ed",
   "metadata": {},
   "source": [
    "1.Addition\n",
    "2.subtraction\n",
    "3.multiplication\n",
    "4.division\n",
    "5.Exponent"
   ]
  },
  {
   "cell_type": "markdown",
   "id": "57997f84",
   "metadata": {},
   "source": [
    "**Addition**\n",
    "def: adding the numbers, \n",
    "the numbers either int,float etc."
   ]
  },
  {
   "cell_type": "raw",
   "id": "245efd9a",
   "metadata": {},
   "source": [
    "1.Integer\n",
    "ex: 2,3,4,5,4564,78\n",
    "2.Float\n",
    "ex:2.3,4.5,6.7 etc\n",
    "3.String\n",
    "ex: lakshmi,laxmi"
   ]
  },
  {
   "cell_type": "code",
   "execution_count": 1,
   "id": "8c9e013b",
   "metadata": {},
   "outputs": [
    {
     "data": {
      "text/plain": [
       "8"
      ]
     },
     "execution_count": 1,
     "metadata": {},
     "output_type": "execute_result"
    }
   ],
   "source": [
    "3+5"
   ]
  },
  {
   "cell_type": "code",
   "execution_count": 2,
   "id": "0a551dca",
   "metadata": {},
   "outputs": [
    {
     "data": {
      "text/plain": [
       "10.5"
      ]
     },
     "execution_count": 2,
     "metadata": {},
     "output_type": "execute_result"
    }
   ],
   "source": [
    "3+7.5"
   ]
  },
  {
   "cell_type": "raw",
   "id": "760c2b16",
   "metadata": {},
   "source": [
    "1.addition\n",
    "2.concatenation"
   ]
  },
  {
   "cell_type": "code",
   "execution_count": 6,
   "id": "d7084eab",
   "metadata": {},
   "outputs": [
    {
     "data": {
      "text/plain": [
       "'vangapandu Lakshmi'"
      ]
     },
     "execution_count": 6,
     "metadata": {},
     "output_type": "execute_result"
    }
   ],
   "source": [
    "\"vangapandu\"+\" Lakshmi\""
   ]
  },
  {
   "cell_type": "code",
   "execution_count": 7,
   "id": "21c720ce",
   "metadata": {
    "scrolled": true
   },
   "outputs": [
    {
     "ename": "TypeError",
     "evalue": "can only concatenate str (not \"int\") to str",
     "output_type": "error",
     "traceback": [
      "\u001b[1;31m---------------------------------------------------------------------------\u001b[0m",
      "\u001b[1;31mTypeError\u001b[0m                                 Traceback (most recent call last)",
      "Cell \u001b[1;32mIn[7], line 1\u001b[0m\n\u001b[1;32m----> 1\u001b[0m \u001b[38;5;124m\"\u001b[39m\u001b[38;5;124mLakshmi\u001b[39m\u001b[38;5;124m\"\u001b[39m\u001b[38;5;241m+\u001b[39m \u001b[38;5;241m4\u001b[39m\n",
      "\u001b[1;31mTypeError\u001b[0m: can only concatenate str (not \"int\") to str"
     ]
    }
   ],
   "source": [
    "\"Lakshmi\"+ 4"
   ]
  },
  {
   "cell_type": "code",
   "execution_count": 8,
   "id": "58ffb97d",
   "metadata": {},
   "outputs": [
    {
     "data": {
      "text/plain": [
       "'Lakshmi4'"
      ]
     },
     "execution_count": 8,
     "metadata": {},
     "output_type": "execute_result"
    }
   ],
   "source": [
    "\"Lakshmi\"+\"4\""
   ]
  },
  {
   "cell_type": "code",
   "execution_count": 9,
   "id": "e04cde43",
   "metadata": {},
   "outputs": [
    {
     "data": {
      "text/plain": [
       "3"
      ]
     },
     "execution_count": 9,
     "metadata": {},
     "output_type": "execute_result"
    }
   ],
   "source": [
    "2+ True"
   ]
  },
  {
   "cell_type": "markdown",
   "id": "048c4ac6",
   "metadata": {},
   "source": [
    "in python True is consider as \"1\" and False is consider as \"0\""
   ]
  },
  {
   "cell_type": "code",
   "execution_count": 1,
   "id": "2e088319",
   "metadata": {},
   "outputs": [
    {
     "data": {
      "text/plain": [
       "4"
      ]
     },
     "execution_count": 1,
     "metadata": {},
     "output_type": "execute_result"
    }
   ],
   "source": [
    "4+ False"
   ]
  },
  {
   "cell_type": "code",
   "execution_count": 12,
   "id": "681d0048",
   "metadata": {},
   "outputs": [
    {
     "ename": "TypeError",
     "evalue": "can only concatenate str (not \"bool\") to str",
     "output_type": "error",
     "traceback": [
      "\u001b[1;31m---------------------------------------------------------------------------\u001b[0m",
      "\u001b[1;31mTypeError\u001b[0m                                 Traceback (most recent call last)",
      "Cell \u001b[1;32mIn[12], line 1\u001b[0m\n\u001b[1;32m----> 1\u001b[0m \u001b[38;5;124m\"\u001b[39m\u001b[38;5;124mstring\u001b[39m\u001b[38;5;124m\"\u001b[39m\u001b[38;5;241m+\u001b[39m \u001b[38;5;28;01mTrue\u001b[39;00m\n",
      "\u001b[1;31mTypeError\u001b[0m: can only concatenate str (not \"bool\") to str"
     ]
    }
   ],
   "source": [
    "\"string\"+ True"
   ]
  },
  {
   "cell_type": "markdown",
   "id": "9a782c30",
   "metadata": {},
   "source": [
    "**Subtraction**(-)"
   ]
  },
  {
   "cell_type": "markdown",
   "id": "bf2a7f65",
   "metadata": {},
   "source": [
    "int,float etc."
   ]
  },
  {
   "cell_type": "code",
   "execution_count": 16,
   "id": "3bf78a25",
   "metadata": {},
   "outputs": [
    {
     "ename": "TypeError",
     "evalue": "unsupported operand type(s) for -: 'str' and 'str'",
     "output_type": "error",
     "traceback": [
      "\u001b[1;31m---------------------------------------------------------------------------\u001b[0m",
      "\u001b[1;31mTypeError\u001b[0m                                 Traceback (most recent call last)",
      "Cell \u001b[1;32mIn[16], line 1\u001b[0m\n\u001b[1;32m----> 1\u001b[0m \u001b[38;5;124m\"\u001b[39m\u001b[38;5;124mstring\u001b[39m\u001b[38;5;124m\"\u001b[39m\u001b[38;5;241m-\u001b[39m\u001b[38;5;124m\"\u001b[39m\u001b[38;5;124mstring1\u001b[39m\u001b[38;5;124m\"\u001b[39m\n",
      "\u001b[1;31mTypeError\u001b[0m: unsupported operand type(s) for -: 'str' and 'str'"
     ]
    }
   ],
   "source": [
    "\"string\"-\"string1\""
   ]
  },
  {
   "cell_type": "code",
   "execution_count": 14,
   "id": "02edd81e",
   "metadata": {},
   "outputs": [
    {
     "data": {
      "text/plain": [
       "-42"
      ]
     },
     "execution_count": 14,
     "metadata": {},
     "output_type": "execute_result"
    }
   ],
   "source": [
    "3-45"
   ]
  },
  {
   "cell_type": "code",
   "execution_count": 15,
   "id": "8e4fadf4",
   "metadata": {},
   "outputs": [
    {
     "data": {
      "text/plain": [
       "-2.2"
      ]
     },
     "execution_count": 15,
     "metadata": {},
     "output_type": "execute_result"
    }
   ],
   "source": [
    "2-4.2"
   ]
  },
  {
   "cell_type": "code",
   "execution_count": 2,
   "id": "6ddc319a",
   "metadata": {},
   "outputs": [
    {
     "data": {
      "text/plain": [
       "1"
      ]
     },
     "execution_count": 2,
     "metadata": {},
     "output_type": "execute_result"
    }
   ],
   "source": [
    "2 - True"
   ]
  },
  {
   "cell_type": "markdown",
   "id": "15809086",
   "metadata": {},
   "source": [
    "**Multiplication**"
   ]
  },
  {
   "cell_type": "code",
   "execution_count": 1,
   "id": "b4e09c45",
   "metadata": {},
   "outputs": [
    {
     "data": {
      "text/plain": [
       "8"
      ]
     },
     "execution_count": 1,
     "metadata": {},
     "output_type": "execute_result"
    }
   ],
   "source": [
    "2*4"
   ]
  },
  {
   "cell_type": "code",
   "execution_count": 17,
   "id": "b3466e53",
   "metadata": {},
   "outputs": [
    {
     "data": {
      "text/plain": [
       "''"
      ]
     },
     "execution_count": 17,
     "metadata": {},
     "output_type": "execute_result"
    }
   ],
   "source": [
    "\"lakshmi\"*False # string with boolian."
   ]
  },
  {
   "cell_type": "code",
   "execution_count": 18,
   "id": "1ffe7150",
   "metadata": {},
   "outputs": [
    {
     "data": {
      "text/plain": [
       "'lakshmi'"
      ]
     },
     "execution_count": 18,
     "metadata": {},
     "output_type": "execute_result"
    }
   ],
   "source": [
    "\"lakshmi\"*True"
   ]
  },
  {
   "cell_type": "code",
   "execution_count": 20,
   "id": "4a00184c",
   "metadata": {},
   "outputs": [
    {
     "data": {
      "text/plain": [
       "'innomatics innomatics innomatics innomatics '"
      ]
     },
     "execution_count": 20,
     "metadata": {},
     "output_type": "execute_result"
    }
   ],
   "source": [
    "\"innomatics \"*4 #Repetation (strings & int)"
   ]
  },
  {
   "cell_type": "code",
   "execution_count": 21,
   "id": "fb92328d",
   "metadata": {},
   "outputs": [
    {
     "ename": "TypeError",
     "evalue": "can't multiply sequence by non-int of type 'float'",
     "output_type": "error",
     "traceback": [
      "\u001b[1;31m---------------------------------------------------------------------------\u001b[0m",
      "\u001b[1;31mTypeError\u001b[0m                                 Traceback (most recent call last)",
      "Cell \u001b[1;32mIn[21], line 1\u001b[0m\n\u001b[1;32m----> 1\u001b[0m \u001b[38;5;124m\"\u001b[39m\u001b[38;5;124mlaxmi\u001b[39m\u001b[38;5;124m\"\u001b[39m\u001b[38;5;241m*\u001b[39m\u001b[38;5;241m4.5\u001b[39m\n",
      "\u001b[1;31mTypeError\u001b[0m: can't multiply sequence by non-int of type 'float'"
     ]
    }
   ],
   "source": [
    "\"laxmi\"*4.5"
   ]
  },
  {
   "cell_type": "code",
   "execution_count": 22,
   "id": "cd7e585f",
   "metadata": {},
   "outputs": [
    {
     "data": {
      "text/plain": [
       "16"
      ]
     },
     "execution_count": 22,
     "metadata": {},
     "output_type": "execute_result"
    }
   ],
   "source": [
    "4*4"
   ]
  },
  {
   "cell_type": "markdown",
   "id": "04ab5d63",
   "metadata": {},
   "source": [
    "**Division**"
   ]
  },
  {
   "cell_type": "raw",
   "id": "427772f4",
   "metadata": {},
   "source": [
    "normal division(/)\n",
    "floor division(//)\n",
    "modulor operator(%)"
   ]
  },
  {
   "cell_type": "markdown",
   "id": "6249daff",
   "metadata": {},
   "source": [
    "**normal division(/)**  "
   ]
  },
  {
   "cell_type": "markdown",
   "id": "384be989",
   "metadata": {},
   "source": [
    "it gives exact value"
   ]
  },
  {
   "cell_type": "code",
   "execution_count": 23,
   "id": "01b50981",
   "metadata": {},
   "outputs": [
    {
     "data": {
      "text/plain": [
       "3.0"
      ]
     },
     "execution_count": 23,
     "metadata": {},
     "output_type": "execute_result"
    }
   ],
   "source": [
    "15/5"
   ]
  },
  {
   "cell_type": "code",
   "execution_count": 24,
   "id": "a2ada705",
   "metadata": {},
   "outputs": [
    {
     "data": {
      "text/plain": [
       "11.25"
      ]
     },
     "execution_count": 24,
     "metadata": {},
     "output_type": "execute_result"
    }
   ],
   "source": [
    "45/4"
   ]
  },
  {
   "cell_type": "code",
   "execution_count": 25,
   "id": "b1712bc9",
   "metadata": {},
   "outputs": [
    {
     "data": {
      "text/plain": [
       "4.0"
      ]
     },
     "execution_count": 25,
     "metadata": {},
     "output_type": "execute_result"
    }
   ],
   "source": [
    "12/3"
   ]
  },
  {
   "cell_type": "markdown",
   "id": "9cad2416",
   "metadata": {},
   "source": [
    "**floor division**"
   ]
  },
  {
   "cell_type": "raw",
   "id": "11e0f5bb",
   "metadata": {},
   "source": [
    "it gives the quocient"
   ]
  },
  {
   "cell_type": "code",
   "execution_count": 28,
   "id": "00ba5df7",
   "metadata": {},
   "outputs": [
    {
     "data": {
      "text/plain": [
       "3"
      ]
     },
     "execution_count": 28,
     "metadata": {},
     "output_type": "execute_result"
    }
   ],
   "source": [
    "15//5"
   ]
  },
  {
   "cell_type": "code",
   "execution_count": 29,
   "id": "eea1a5d2",
   "metadata": {},
   "outputs": [
    {
     "data": {
      "text/plain": [
       "11"
      ]
     },
     "execution_count": 29,
     "metadata": {},
     "output_type": "execute_result"
    }
   ],
   "source": [
    "45//4"
   ]
  },
  {
   "cell_type": "code",
   "execution_count": 30,
   "id": "1107a1ac",
   "metadata": {},
   "outputs": [
    {
     "data": {
      "text/plain": [
       "4"
      ]
     },
     "execution_count": 30,
     "metadata": {},
     "output_type": "execute_result"
    }
   ],
   "source": [
    "12//3"
   ]
  },
  {
   "cell_type": "markdown",
   "id": "10261522",
   "metadata": {},
   "source": [
    "**modulor operator**"
   ]
  },
  {
   "cell_type": "markdown",
   "id": "882904b3",
   "metadata": {},
   "source": [
    "it gives the remainder"
   ]
  },
  {
   "cell_type": "code",
   "execution_count": 31,
   "id": "0f47b791",
   "metadata": {},
   "outputs": [
    {
     "data": {
      "text/plain": [
       "0"
      ]
     },
     "execution_count": 31,
     "metadata": {},
     "output_type": "execute_result"
    }
   ],
   "source": [
    "15%5"
   ]
  },
  {
   "cell_type": "code",
   "execution_count": 32,
   "id": "cc4ec977",
   "metadata": {},
   "outputs": [
    {
     "data": {
      "text/plain": [
       "1"
      ]
     },
     "execution_count": 32,
     "metadata": {},
     "output_type": "execute_result"
    }
   ],
   "source": [
    "45%4"
   ]
  },
  {
   "cell_type": "code",
   "execution_count": 33,
   "id": "6cfa01e7",
   "metadata": {},
   "outputs": [
    {
     "data": {
      "text/plain": [
       "0"
      ]
     },
     "execution_count": 33,
     "metadata": {},
     "output_type": "execute_result"
    }
   ],
   "source": [
    "12%3"
   ]
  },
  {
   "cell_type": "code",
   "execution_count": 34,
   "id": "6bd2f3aa",
   "metadata": {},
   "outputs": [
    {
     "data": {
      "text/plain": [
       "0.5"
      ]
     },
     "execution_count": 34,
     "metadata": {},
     "output_type": "execute_result"
    }
   ],
   "source": [
    "3/6"
   ]
  },
  {
   "cell_type": "code",
   "execution_count": 35,
   "id": "34d6dc06",
   "metadata": {},
   "outputs": [
    {
     "data": {
      "text/plain": [
       "0"
      ]
     },
     "execution_count": 35,
     "metadata": {},
     "output_type": "execute_result"
    }
   ],
   "source": [
    "3//6"
   ]
  },
  {
   "cell_type": "code",
   "execution_count": 36,
   "id": "9b8c7c6c",
   "metadata": {},
   "outputs": [
    {
     "data": {
      "text/plain": [
       "3"
      ]
     },
     "execution_count": 36,
     "metadata": {},
     "output_type": "execute_result"
    }
   ],
   "source": [
    "3%6"
   ]
  },
  {
   "cell_type": "code",
   "execution_count": 37,
   "id": "debf89fe",
   "metadata": {},
   "outputs": [
    {
     "data": {
      "text/plain": [
       "41.666666666666664"
      ]
     },
     "execution_count": 37,
     "metadata": {},
     "output_type": "execute_result"
    }
   ],
   "source": [
    "125/3"
   ]
  },
  {
   "cell_type": "code",
   "execution_count": 38,
   "id": "1ce1fb00",
   "metadata": {},
   "outputs": [
    {
     "data": {
      "text/plain": [
       "41"
      ]
     },
     "execution_count": 38,
     "metadata": {},
     "output_type": "execute_result"
    }
   ],
   "source": [
    "125//3"
   ]
  },
  {
   "cell_type": "code",
   "execution_count": 39,
   "id": "2a736bc6",
   "metadata": {},
   "outputs": [
    {
     "data": {
      "text/plain": [
       "2"
      ]
     },
     "execution_count": 39,
     "metadata": {},
     "output_type": "execute_result"
    }
   ],
   "source": [
    "125%3"
   ]
  },
  {
   "cell_type": "markdown",
   "id": "b4332ea2",
   "metadata": {},
   "source": [
    "**use cases**"
   ]
  },
  {
   "cell_type": "markdown",
   "id": "29d4a6cb",
   "metadata": {},
   "source": [
    "even/odd numbers"
   ]
  },
  {
   "cell_type": "code",
   "execution_count": 40,
   "id": "14888f9a",
   "metadata": {},
   "outputs": [
    {
     "data": {
      "text/plain": [
       "0"
      ]
     },
     "execution_count": 40,
     "metadata": {},
     "output_type": "execute_result"
    }
   ],
   "source": [
    "126%2"
   ]
  },
  {
   "cell_type": "code",
   "execution_count": 41,
   "id": "34939c8d",
   "metadata": {},
   "outputs": [
    {
     "data": {
      "text/plain": [
       "1"
      ]
     },
     "execution_count": 41,
     "metadata": {},
     "output_type": "execute_result"
    }
   ],
   "source": [
    "127%2"
   ]
  },
  {
   "cell_type": "markdown",
   "id": "a456e514",
   "metadata": {},
   "source": [
    "**Exponent/Power operator**"
   ]
  },
  {
   "cell_type": "markdown",
   "id": "89171263",
   "metadata": {},
   "source": [
    "sqare of 3^2"
   ]
  },
  {
   "cell_type": "code",
   "execution_count": 42,
   "id": "079087cc",
   "metadata": {},
   "outputs": [
    {
     "data": {
      "text/plain": [
       "9"
      ]
     },
     "execution_count": 42,
     "metadata": {},
     "output_type": "execute_result"
    }
   ],
   "source": [
    "3**2"
   ]
  },
  {
   "cell_type": "code",
   "execution_count": 43,
   "id": "0c5f27b9",
   "metadata": {},
   "outputs": [
    {
     "data": {
      "text/plain": [
       "1024"
      ]
     },
     "execution_count": 43,
     "metadata": {},
     "output_type": "execute_result"
    }
   ],
   "source": [
    "4**5"
   ]
  },
  {
   "cell_type": "code",
   "execution_count": 44,
   "id": "91d80b4a",
   "metadata": {},
   "outputs": [
    {
     "data": {
      "text/plain": [
       "3.0"
      ]
     },
     "execution_count": 44,
     "metadata": {},
     "output_type": "execute_result"
    }
   ],
   "source": [
    "9**(1/2) #square root"
   ]
  },
  {
   "cell_type": "code",
   "execution_count": 46,
   "id": "962c585d",
   "metadata": {},
   "outputs": [
    {
     "data": {
      "text/plain": [
       "4.0"
      ]
     },
     "execution_count": 46,
     "metadata": {},
     "output_type": "execute_result"
    }
   ],
   "source": [
    "16**(1/2)"
   ]
  },
  {
   "cell_type": "code",
   "execution_count": 60,
   "id": "3e7a2151",
   "metadata": {},
   "outputs": [
    {
     "name": "stdout",
     "output_type": "stream",
     "text": [
      "addtion  65\n",
      "subtraction  -25\n",
      "multiplication  900\n",
      "Normal division  0.4444444444444444\n",
      "floor division 0\n",
      "modulor operator 20\n",
      "exponent operator  4.47213595499958\n",
      "exponent operator  6.708203932499369\n"
     ]
    }
   ],
   "source": [
    "n1=20\n",
    "n2=45\n",
    "print(\"addtion \", n1+n2)\n",
    "print(\"subtraction \", n1-n2)\n",
    "print(\"multiplication \", n1*n2)\n",
    "print(\"Normal division \",n1/n2)\n",
    "print(\"floor division\",n1//n2)\n",
    "print(\"modulor operator\",n1%n2)\n",
    "print(\"exponent operator \",n1**0.5)\n",
    "print(\"exponent operator \",n2**0.5)"
   ]
  },
  {
   "cell_type": "code",
   "execution_count": 67,
   "id": "ff7e765c",
   "metadata": {},
   "outputs": [
    {
     "name": "stdout",
     "output_type": "stream",
     "text": [
      "Vangapandu Lakshmi \n"
     ]
    }
   ],
   "source": [
    "name1=\"Lakshmi \"\n",
    "name2=\"Vangapandu\"\n",
    "print(name2+\" \"+ name1)"
   ]
  },
  {
   "cell_type": "code",
   "execution_count": 58,
   "id": "b535863b",
   "metadata": {},
   "outputs": [
    {
     "name": "stdout",
     "output_type": "stream",
     "text": [
      "Lakshmi Lakshmi Lakshmi \n"
     ]
    }
   ],
   "source": [
    "print(name1*3)"
   ]
  },
  {
   "cell_type": "markdown",
   "id": "52f3423d",
   "metadata": {},
   "source": [
    "**2. Comparative Operators**"
   ]
  },
  {
   "cell_type": "markdown",
   "id": "7ed2ee8d",
   "metadata": {},
   "source": [
    "it returs boolean data type"
   ]
  },
  {
   "cell_type": "raw",
   "id": "48543065",
   "metadata": {},
   "source": [
    ">= greater than or equal\n",
    "<= less than or equal\n",
    ">  less than\n",
    "<  greater than\n",
    "==  equal\n",
    "!= not equal"
   ]
  },
  {
   "cell_type": "code",
   "execution_count": 61,
   "id": "604630c4",
   "metadata": {},
   "outputs": [
    {
     "data": {
      "text/plain": [
       "True"
      ]
     },
     "execution_count": 61,
     "metadata": {},
     "output_type": "execute_result"
    }
   ],
   "source": [
    "20>=20"
   ]
  },
  {
   "cell_type": "code",
   "execution_count": 62,
   "id": "82373119",
   "metadata": {},
   "outputs": [
    {
     "data": {
      "text/plain": [
       "True"
      ]
     },
     "execution_count": 62,
     "metadata": {},
     "output_type": "execute_result"
    }
   ],
   "source": [
    "20<=20"
   ]
  },
  {
   "cell_type": "code",
   "execution_count": 63,
   "id": "2814a5fe",
   "metadata": {},
   "outputs": [
    {
     "data": {
      "text/plain": [
       "False"
      ]
     },
     "execution_count": 63,
     "metadata": {},
     "output_type": "execute_result"
    }
   ],
   "source": [
    "20>20"
   ]
  },
  {
   "cell_type": "code",
   "execution_count": 64,
   "id": "e0924c12",
   "metadata": {},
   "outputs": [
    {
     "data": {
      "text/plain": [
       "False"
      ]
     },
     "execution_count": 64,
     "metadata": {},
     "output_type": "execute_result"
    }
   ],
   "source": [
    "20<20"
   ]
  },
  {
   "cell_type": "code",
   "execution_count": 65,
   "id": "af3f93e2",
   "metadata": {},
   "outputs": [
    {
     "data": {
      "text/plain": [
       "True"
      ]
     },
     "execution_count": 65,
     "metadata": {},
     "output_type": "execute_result"
    }
   ],
   "source": [
    "20==20"
   ]
  },
  {
   "cell_type": "code",
   "execution_count": 66,
   "id": "f0cdefd2",
   "metadata": {},
   "outputs": [
    {
     "data": {
      "text/plain": [
       "False"
      ]
     },
     "execution_count": 66,
     "metadata": {},
     "output_type": "execute_result"
    }
   ],
   "source": [
    "20!=20"
   ]
  },
  {
   "cell_type": "code",
   "execution_count": 69,
   "id": "4fad430d",
   "metadata": {},
   "outputs": [],
   "source": [
    "a=30\n",
    "b=40"
   ]
  },
  {
   "cell_type": "code",
   "execution_count": 70,
   "id": "2f2c34f4",
   "metadata": {},
   "outputs": [
    {
     "data": {
      "text/plain": [
       "True"
      ]
     },
     "execution_count": 70,
     "metadata": {},
     "output_type": "execute_result"
    }
   ],
   "source": [
    "a<b"
   ]
  },
  {
   "cell_type": "code",
   "execution_count": 71,
   "id": "862b0c51",
   "metadata": {},
   "outputs": [
    {
     "data": {
      "text/plain": [
       "False"
      ]
     },
     "execution_count": 71,
     "metadata": {},
     "output_type": "execute_result"
    }
   ],
   "source": [
    "a>b"
   ]
  },
  {
   "cell_type": "code",
   "execution_count": 72,
   "id": "6158c896",
   "metadata": {},
   "outputs": [
    {
     "data": {
      "text/plain": [
       "True"
      ]
     },
     "execution_count": 72,
     "metadata": {},
     "output_type": "execute_result"
    }
   ],
   "source": [
    "a<=b"
   ]
  },
  {
   "cell_type": "code",
   "execution_count": 73,
   "id": "286a750e",
   "metadata": {},
   "outputs": [
    {
     "data": {
      "text/plain": [
       "False"
      ]
     },
     "execution_count": 73,
     "metadata": {},
     "output_type": "execute_result"
    }
   ],
   "source": [
    "a>=b"
   ]
  },
  {
   "cell_type": "code",
   "execution_count": 74,
   "id": "c9ef5418",
   "metadata": {},
   "outputs": [
    {
     "data": {
      "text/plain": [
       "False"
      ]
     },
     "execution_count": 74,
     "metadata": {},
     "output_type": "execute_result"
    }
   ],
   "source": [
    "a==b"
   ]
  },
  {
   "cell_type": "code",
   "execution_count": 75,
   "id": "e972f7e4",
   "metadata": {},
   "outputs": [
    {
     "data": {
      "text/plain": [
       "True"
      ]
     },
     "execution_count": 75,
     "metadata": {},
     "output_type": "execute_result"
    }
   ],
   "source": [
    "a!=b"
   ]
  },
  {
   "cell_type": "code",
   "execution_count": 84,
   "id": "81e46229",
   "metadata": {},
   "outputs": [
    {
     "name": "stdout",
     "output_type": "stream",
     "text": [
      "False\n",
      "False\n",
      "True\n",
      "True\n",
      "False\n",
      "True\n"
     ]
    }
   ],
   "source": [
    "n1=20\n",
    "n2=150\n",
    "print(n1>n2)\n",
    "print(n1>=n2)\n",
    "print(n1<n2)\n",
    "print(n1<=n2)\n",
    "print(n1==n2)\n",
    "print(n1!=n2)"
   ]
  },
  {
   "cell_type": "markdown",
   "id": "bda72df2",
   "metadata": {},
   "source": [
    "**3.Logical Operators**"
   ]
  },
  {
   "cell_type": "raw",
   "id": "e6e46607",
   "metadata": {},
   "source": [
    "AND (and)\n",
    "OR  (or)\n",
    "NOT  (not)\n"
   ]
  },
  {
   "cell_type": "raw",
   "id": "42ae625f",
   "metadata": {},
   "source": [
    "AND\n",
    "\n",
    "i/p1    i/p2     o/p\n",
    "\n",
    "false  false    false\n",
    "false  true     false\n",
    "true   false    false\n",
    "true   true     true"
   ]
  },
  {
   "cell_type": "markdown",
   "id": "094e42ec",
   "metadata": {},
   "source": [
    "0, 0.0, \"\"  -----> false"
   ]
  },
  {
   "cell_type": "code",
   "execution_count": 85,
   "id": "087c82dd",
   "metadata": {},
   "outputs": [
    {
     "data": {
      "text/plain": [
       "False"
      ]
     },
     "execution_count": 85,
     "metadata": {},
     "output_type": "execute_result"
    }
   ],
   "source": [
    "True and False"
   ]
  },
  {
   "cell_type": "code",
   "execution_count": 86,
   "id": "448b8793",
   "metadata": {},
   "outputs": [
    {
     "data": {
      "text/plain": [
       "True"
      ]
     },
     "execution_count": 86,
     "metadata": {},
     "output_type": "execute_result"
    }
   ],
   "source": [
    "(4>3) and (5>4)"
   ]
  },
  {
   "cell_type": "code",
   "execution_count": 89,
   "id": "b011169e",
   "metadata": {},
   "outputs": [
    {
     "data": {
      "text/plain": [
       "0"
      ]
     },
     "execution_count": 89,
     "metadata": {},
     "output_type": "execute_result"
    }
   ],
   "source": [
    "0 and 0"
   ]
  },
  {
   "cell_type": "code",
   "execution_count": 90,
   "id": "d3523040",
   "metadata": {},
   "outputs": [
    {
     "data": {
      "text/plain": [
       "0"
      ]
     },
     "execution_count": 90,
     "metadata": {},
     "output_type": "execute_result"
    }
   ],
   "source": [
    "0 and 1"
   ]
  },
  {
   "cell_type": "code",
   "execution_count": 91,
   "id": "0b8507e9",
   "metadata": {},
   "outputs": [
    {
     "data": {
      "text/plain": [
       "1"
      ]
     },
     "execution_count": 91,
     "metadata": {},
     "output_type": "execute_result"
    }
   ],
   "source": [
    "1 and 1"
   ]
  },
  {
   "cell_type": "markdown",
   "id": "f91350bb",
   "metadata": {},
   "source": [
    "None zero:\n",
    "    it returns the last value"
   ]
  },
  {
   "cell_type": "code",
   "execution_count": 3,
   "id": "ac45d0ae",
   "metadata": {},
   "outputs": [
    {
     "data": {
      "text/plain": [
       "0"
      ]
     },
     "execution_count": 3,
     "metadata": {},
     "output_type": "execute_result"
    }
   ],
   "source": [
    "0 and 2"
   ]
  },
  {
   "cell_type": "code",
   "execution_count": 4,
   "id": "828f2454",
   "metadata": {},
   "outputs": [
    {
     "data": {
      "text/plain": [
       "0"
      ]
     },
     "execution_count": 4,
     "metadata": {},
     "output_type": "execute_result"
    }
   ],
   "source": [
    "3 and 2 and 0 and 5"
   ]
  },
  {
   "cell_type": "code",
   "execution_count": 94,
   "id": "cb98a4ec",
   "metadata": {},
   "outputs": [
    {
     "data": {
      "text/plain": [
       "4"
      ]
     },
     "execution_count": 94,
     "metadata": {},
     "output_type": "execute_result"
    }
   ],
   "source": [
    "3 and 4"
   ]
  },
  {
   "cell_type": "code",
   "execution_count": 1,
   "id": "18ef8931",
   "metadata": {},
   "outputs": [
    {
     "name": "stdout",
     "output_type": "stream",
     "text": [
      "addtion  30\n",
      "subtraction  10\n",
      "multiplication  200\n",
      "Normal division  2.0\n",
      "floor division 2\n",
      "modulor operator 0\n",
      "exponent operator  4.47213595499958\n",
      "exponent operator  3.1622776601683795\n"
     ]
    }
   ],
   "source": [
    "a=20\n",
    "b=10\n",
    "print(\"addtion \", a+b)\n",
    "print(\"subtraction \", a-b)\n",
    "print(\"multiplication \", a*b)\n",
    "print(\"Normal division \",a/b)\n",
    "print(\"floor division\", a//b)\n",
    "print(\"modulor operator\",a%b)\n",
    "print(\"exponent operator \", a**0.5)\n",
    "print(\"exponent operator \", b**0.5)"
   ]
  },
  {
   "cell_type": "code",
   "execution_count": 2,
   "id": "061c8cb0",
   "metadata": {},
   "outputs": [
    {
     "name": "stdout",
     "output_type": "stream",
     "text": [
      "True\n",
      "True\n",
      "False\n",
      "False\n",
      "False\n",
      "True\n"
     ]
    }
   ],
   "source": [
    "a=20\n",
    "b=10\n",
    "print(a>b)   \n",
    "print(a>=b)\n",
    "print(a<b)\n",
    "print(a<=b)\n",
    "print(a==b)\n",
    "print(a!=b)"
   ]
  },
  {
   "cell_type": "code",
   "execution_count": 3,
   "id": "753d990a",
   "metadata": {},
   "outputs": [
    {
     "data": {
      "text/plain": [
       "10"
      ]
     },
     "execution_count": 3,
     "metadata": {},
     "output_type": "execute_result"
    }
   ],
   "source": [
    "a and b  #it returs last value"
   ]
  },
  {
   "cell_type": "code",
   "execution_count": 4,
   "id": "01bdaab4",
   "metadata": {},
   "outputs": [
    {
     "ename": "SyntaxError",
     "evalue": "invalid decimal literal (2380214837.py, line 1)",
     "output_type": "error",
     "traceback": [
      "\u001b[1;36m  Cell \u001b[1;32mIn[4], line 1\u001b[1;36m\u001b[0m\n\u001b[1;33m    1-(1i+2)\u001b[0m\n\u001b[1;37m       ^\u001b[0m\n\u001b[1;31mSyntaxError\u001b[0m\u001b[1;31m:\u001b[0m invalid decimal literal\n"
     ]
    }
   ],
   "source": [
    "1-(1i+2)"
   ]
  },
  {
   "cell_type": "code",
   "execution_count": 1,
   "id": "f3c3291e",
   "metadata": {},
   "outputs": [
    {
     "data": {
      "text/plain": [
       "300"
      ]
     },
     "execution_count": 1,
     "metadata": {},
     "output_type": "execute_result"
    }
   ],
   "source": [
    "100 and 200 and 300"
   ]
  },
  {
   "cell_type": "code",
   "execution_count": 27,
   "id": "9d069f3d",
   "metadata": {},
   "outputs": [
    {
     "data": {
      "text/plain": [
       "0"
      ]
     },
     "execution_count": 27,
     "metadata": {},
     "output_type": "execute_result"
    }
   ],
   "source": [
    "9 and 0   # if we can take combination of binary and non-zero , at that time non-zero value converted into binary vslue .. 9-->1"
   ]
  },
  {
   "cell_type": "markdown",
   "id": "42a08f5f",
   "metadata": {},
   "source": [
    "# OR "
   ]
  },
  {
   "cell_type": "code",
   "execution_count": 2,
   "id": "b16f144e",
   "metadata": {},
   "outputs": [
    {
     "data": {
      "text/plain": [
       "1"
      ]
     },
     "execution_count": 2,
     "metadata": {},
     "output_type": "execute_result"
    }
   ],
   "source": [
    "0 or 1"
   ]
  },
  {
   "cell_type": "code",
   "execution_count": 3,
   "id": "db3473d1",
   "metadata": {},
   "outputs": [
    {
     "data": {
      "text/plain": [
       "1"
      ]
     },
     "execution_count": 3,
     "metadata": {},
     "output_type": "execute_result"
    }
   ],
   "source": [
    "1 or 1"
   ]
  },
  {
   "cell_type": "code",
   "execution_count": 4,
   "id": "343898f7",
   "metadata": {},
   "outputs": [
    {
     "data": {
      "text/plain": [
       "1"
      ]
     },
     "execution_count": 4,
     "metadata": {},
     "output_type": "execute_result"
    }
   ],
   "source": [
    "1 or 0"
   ]
  },
  {
   "cell_type": "code",
   "execution_count": 5,
   "id": "fd39eb24",
   "metadata": {},
   "outputs": [
    {
     "data": {
      "text/plain": [
       "0"
      ]
     },
     "execution_count": 5,
     "metadata": {},
     "output_type": "execute_result"
    }
   ],
   "source": [
    "0 or 0"
   ]
  },
  {
   "cell_type": "code",
   "execution_count": 6,
   "id": "4832e2f8",
   "metadata": {},
   "outputs": [
    {
     "data": {
      "text/plain": [
       "1"
      ]
     },
     "execution_count": 6,
     "metadata": {},
     "output_type": "execute_result"
    }
   ],
   "source": [
    "1 or 0 or 0"
   ]
  },
  {
   "cell_type": "code",
   "execution_count": 7,
   "id": "a5ee70c4",
   "metadata": {},
   "outputs": [
    {
     "data": {
      "text/plain": [
       "True"
      ]
     },
     "execution_count": 7,
     "metadata": {},
     "output_type": "execute_result"
    }
   ],
   "source": [
    "True or False"
   ]
  },
  {
   "cell_type": "code",
   "execution_count": 8,
   "id": "772268b2",
   "metadata": {},
   "outputs": [
    {
     "data": {
      "text/plain": [
       "False"
      ]
     },
     "execution_count": 8,
     "metadata": {},
     "output_type": "execute_result"
    }
   ],
   "source": [
    "False or False"
   ]
  },
  {
   "cell_type": "code",
   "execution_count": 9,
   "id": "cd4187b4",
   "metadata": {},
   "outputs": [
    {
     "data": {
      "text/plain": [
       "200"
      ]
     },
     "execution_count": 9,
     "metadata": {},
     "output_type": "execute_result"
    }
   ],
   "source": [
    "200 or 100"
   ]
  },
  {
   "cell_type": "code",
   "execution_count": 10,
   "id": "a46cd7a0",
   "metadata": {},
   "outputs": [
    {
     "data": {
      "text/plain": [
       "100"
      ]
     },
     "execution_count": 10,
     "metadata": {},
     "output_type": "execute_result"
    }
   ],
   "source": [
    "100 or 200"
   ]
  },
  {
   "cell_type": "code",
   "execution_count": 11,
   "id": "0c6ae917",
   "metadata": {},
   "outputs": [
    {
     "data": {
      "text/plain": [
       "200"
      ]
     },
     "execution_count": 11,
     "metadata": {},
     "output_type": "execute_result"
    }
   ],
   "source": [
    "200 or 300 or 122222"
   ]
  },
  {
   "cell_type": "markdown",
   "id": "a390f6e4",
   "metadata": {},
   "source": [
    "not 100 ---> it returns false\n",
    "     |\n",
    "    true\n",
    "true ---> false\n",
    "false-->true"
   ]
  },
  {
   "cell_type": "code",
   "execution_count": 12,
   "id": "6f620e57",
   "metadata": {},
   "outputs": [
    {
     "data": {
      "text/plain": [
       "False"
      ]
     },
     "execution_count": 12,
     "metadata": {},
     "output_type": "execute_result"
    }
   ],
   "source": [
    "bool(0)"
   ]
  },
  {
   "cell_type": "code",
   "execution_count": 13,
   "id": "93a24cfd",
   "metadata": {},
   "outputs": [
    {
     "data": {
      "text/plain": [
       "False"
      ]
     },
     "execution_count": 13,
     "metadata": {},
     "output_type": "execute_result"
    }
   ],
   "source": [
    "bool(0.0)"
   ]
  },
  {
   "cell_type": "code",
   "execution_count": 14,
   "id": "76943955",
   "metadata": {},
   "outputs": [
    {
     "data": {
      "text/plain": [
       "False"
      ]
     },
     "execution_count": 14,
     "metadata": {},
     "output_type": "execute_result"
    }
   ],
   "source": [
    "bool(\"\")"
   ]
  },
  {
   "cell_type": "raw",
   "id": "441c41e2",
   "metadata": {},
   "source": [
    "0, 0.0 , \"\" ---> false\n",
    "non-zero, not empty string ----> true"
   ]
  },
  {
   "cell_type": "code",
   "execution_count": 15,
   "id": "4c99750a",
   "metadata": {},
   "outputs": [
    {
     "data": {
      "text/plain": [
       "True"
      ]
     },
     "execution_count": 15,
     "metadata": {},
     "output_type": "execute_result"
    }
   ],
   "source": [
    "not False"
   ]
  },
  {
   "cell_type": "code",
   "execution_count": 16,
   "id": "3b13a0e1",
   "metadata": {},
   "outputs": [
    {
     "data": {
      "text/plain": [
       "False"
      ]
     },
     "execution_count": 16,
     "metadata": {},
     "output_type": "execute_result"
    }
   ],
   "source": [
    "not True"
   ]
  },
  {
   "cell_type": "code",
   "execution_count": 17,
   "id": "07b59756",
   "metadata": {},
   "outputs": [
    {
     "data": {
      "text/plain": [
       "True"
      ]
     },
     "execution_count": 17,
     "metadata": {},
     "output_type": "execute_result"
    }
   ],
   "source": [
    "not 0"
   ]
  },
  {
   "cell_type": "code",
   "execution_count": 18,
   "id": "51a2dafd",
   "metadata": {},
   "outputs": [
    {
     "data": {
      "text/plain": [
       "True"
      ]
     },
     "execution_count": 18,
     "metadata": {},
     "output_type": "execute_result"
    }
   ],
   "source": [
    "not 0.0"
   ]
  },
  {
   "cell_type": "code",
   "execution_count": 19,
   "id": "7d6e7258",
   "metadata": {},
   "outputs": [
    {
     "data": {
      "text/plain": [
       "True"
      ]
     },
     "execution_count": 19,
     "metadata": {},
     "output_type": "execute_result"
    }
   ],
   "source": [
    "not \"\""
   ]
  },
  {
   "cell_type": "code",
   "execution_count": 20,
   "id": "244e29dd",
   "metadata": {},
   "outputs": [
    {
     "data": {
      "text/plain": [
       "False"
      ]
     },
     "execution_count": 20,
     "metadata": {},
     "output_type": "execute_result"
    }
   ],
   "source": [
    "not 100"
   ]
  },
  {
   "cell_type": "code",
   "execution_count": 21,
   "id": "bc97a4bd",
   "metadata": {},
   "outputs": [
    {
     "data": {
      "text/plain": [
       "False"
      ]
     },
     "execution_count": 21,
     "metadata": {},
     "output_type": "execute_result"
    }
   ],
   "source": [
    "not\"2\""
   ]
  },
  {
   "cell_type": "code",
   "execution_count": 22,
   "id": "04dde768",
   "metadata": {},
   "outputs": [
    {
     "data": {
      "text/plain": [
       "False"
      ]
     },
     "execution_count": 22,
     "metadata": {},
     "output_type": "execute_result"
    }
   ],
   "source": [
    "not \" \""
   ]
  },
  {
   "cell_type": "code",
   "execution_count": 23,
   "id": "3e078950",
   "metadata": {},
   "outputs": [
    {
     "data": {
      "text/plain": [
       "False"
      ]
     },
     "execution_count": 23,
     "metadata": {},
     "output_type": "execute_result"
    }
   ],
   "source": [
    "not\"@\""
   ]
  },
  {
   "cell_type": "code",
   "execution_count": 24,
   "id": "8375ffbb",
   "metadata": {},
   "outputs": [
    {
     "data": {
      "text/plain": [
       "False"
      ]
     },
     "execution_count": 24,
     "metadata": {},
     "output_type": "execute_result"
    }
   ],
   "source": [
    "not \".\""
   ]
  },
  {
   "cell_type": "code",
   "execution_count": 25,
   "id": "d82b65e9",
   "metadata": {},
   "outputs": [
    {
     "data": {
      "text/plain": [
       "True"
      ]
     },
     "execution_count": 25,
     "metadata": {},
     "output_type": "execute_result"
    }
   ],
   "source": [
    "not 0.0000000000"
   ]
  },
  {
   "cell_type": "code",
   "execution_count": 26,
   "id": "b136463a",
   "metadata": {},
   "outputs": [
    {
     "data": {
      "text/plain": [
       "False"
      ]
     },
     "execution_count": 26,
     "metadata": {},
     "output_type": "execute_result"
    }
   ],
   "source": [
    "not 0.0000000001"
   ]
  },
  {
   "cell_type": "markdown",
   "id": "c31ebc01",
   "metadata": {},
   "source": [
    "# Bitwise Operators"
   ]
  },
  {
   "cell_type": "raw",
   "id": "c6b03374",
   "metadata": {},
   "source": [
    "and (&)\n",
    "or  (|)\n",
    "not (~)\n",
    "xor (^)\n",
    "left shift(<<) \n",
    "right shift(>>)"
   ]
  },
  {
   "cell_type": "markdown",
   "id": "bf7da553",
   "metadata": {},
   "source": [
    " Bitwise and(&) operator"
   ]
  },
  {
   "cell_type": "code",
   "execution_count": 28,
   "id": "c66f9513",
   "metadata": {},
   "outputs": [
    {
     "data": {
      "text/plain": [
       "12"
      ]
     },
     "execution_count": 28,
     "metadata": {},
     "output_type": "execute_result"
    }
   ],
   "source": [
    "63 & 12"
   ]
  },
  {
   "cell_type": "code",
   "execution_count": 29,
   "id": "272635e5",
   "metadata": {},
   "outputs": [
    {
     "data": {
      "text/plain": [
       "20"
      ]
     },
     "execution_count": 29,
     "metadata": {},
     "output_type": "execute_result"
    }
   ],
   "source": [
    "20 &30"
   ]
  },
  {
   "cell_type": "code",
   "execution_count": 30,
   "id": "901fe0c5",
   "metadata": {},
   "outputs": [
    {
     "data": {
      "text/plain": [
       "32"
      ]
     },
     "execution_count": 30,
     "metadata": {},
     "output_type": "execute_result"
    }
   ],
   "source": [
    "54 & 97"
   ]
  },
  {
   "cell_type": "code",
   "execution_count": 31,
   "id": "c13ca314",
   "metadata": {},
   "outputs": [
    {
     "data": {
      "text/plain": [
       "0"
      ]
     },
     "execution_count": 31,
     "metadata": {},
     "output_type": "execute_result"
    }
   ],
   "source": [
    "4 & 2"
   ]
  },
  {
   "cell_type": "markdown",
   "id": "f86c73f3",
   "metadata": {},
   "source": [
    " Bitwise or(|) operator"
   ]
  },
  {
   "cell_type": "code",
   "execution_count": 34,
   "id": "779defac",
   "metadata": {},
   "outputs": [
    {
     "data": {
      "text/plain": [
       "1"
      ]
     },
     "execution_count": 34,
     "metadata": {},
     "output_type": "execute_result"
    }
   ],
   "source": [
    "0|1"
   ]
  },
  {
   "cell_type": "code",
   "execution_count": 35,
   "id": "9e896806",
   "metadata": {},
   "outputs": [
    {
     "data": {
      "text/plain": [
       "1"
      ]
     },
     "execution_count": 35,
     "metadata": {},
     "output_type": "execute_result"
    }
   ],
   "source": [
    "1|0"
   ]
  },
  {
   "cell_type": "code",
   "execution_count": 36,
   "id": "33353ca8",
   "metadata": {},
   "outputs": [
    {
     "data": {
      "text/plain": [
       "1"
      ]
     },
     "execution_count": 36,
     "metadata": {},
     "output_type": "execute_result"
    }
   ],
   "source": [
    "1|1"
   ]
  },
  {
   "cell_type": "code",
   "execution_count": 32,
   "id": "0ccf35b5",
   "metadata": {},
   "outputs": [
    {
     "data": {
      "text/plain": [
       "30"
      ]
     },
     "execution_count": 32,
     "metadata": {},
     "output_type": "execute_result"
    }
   ],
   "source": [
    "26 | 12   "
   ]
  },
  {
   "cell_type": "code",
   "execution_count": 33,
   "id": "5e3d78f4",
   "metadata": {},
   "outputs": [
    {
     "data": {
      "text/plain": [
       "45"
      ]
     },
     "execution_count": 33,
     "metadata": {},
     "output_type": "execute_result"
    }
   ],
   "source": [
    "32 | 45"
   ]
  },
  {
   "cell_type": "markdown",
   "id": "6883a557",
   "metadata": {},
   "source": [
    "xor(^)"
   ]
  },
  {
   "cell_type": "markdown",
   "id": "fb61fcdc",
   "metadata": {},
   "source": [
    "if odd number of ones in the input's  side than it returns 1. else 0"
   ]
  },
  {
   "cell_type": "code",
   "execution_count": 44,
   "id": "3445e5a8",
   "metadata": {},
   "outputs": [
    {
     "data": {
      "text/plain": [
       "1"
      ]
     },
     "execution_count": 44,
     "metadata": {},
     "output_type": "execute_result"
    }
   ],
   "source": [
    "1^0"
   ]
  },
  {
   "cell_type": "code",
   "execution_count": 45,
   "id": "d8e9bc60",
   "metadata": {},
   "outputs": [
    {
     "data": {
      "text/plain": [
       "1"
      ]
     },
     "execution_count": 45,
     "metadata": {},
     "output_type": "execute_result"
    }
   ],
   "source": [
    "1^1^1^0"
   ]
  },
  {
   "cell_type": "code",
   "execution_count": 46,
   "id": "329c63ef",
   "metadata": {},
   "outputs": [
    {
     "data": {
      "text/plain": [
       "0"
      ]
     },
     "execution_count": 46,
     "metadata": {},
     "output_type": "execute_result"
    }
   ],
   "source": [
    "1^1"
   ]
  },
  {
   "cell_type": "code",
   "execution_count": 47,
   "id": "6a70e1e4",
   "metadata": {},
   "outputs": [
    {
     "data": {
      "text/plain": [
       "0"
      ]
     },
     "execution_count": 47,
     "metadata": {},
     "output_type": "execute_result"
    }
   ],
   "source": [
    "1^0^1"
   ]
  },
  {
   "cell_type": "code",
   "execution_count": 48,
   "id": "f4ffdd47",
   "metadata": {},
   "outputs": [
    {
     "data": {
      "text/plain": [
       "52"
      ]
     },
     "execution_count": 48,
     "metadata": {},
     "output_type": "execute_result"
    }
   ],
   "source": [
    "21^33"
   ]
  },
  {
   "cell_type": "code",
   "execution_count": 49,
   "id": "6d9848ac",
   "metadata": {},
   "outputs": [
    {
     "data": {
      "text/plain": [
       "52"
      ]
     },
     "execution_count": 49,
     "metadata": {},
     "output_type": "execute_result"
    }
   ],
   "source": [
    "33^21"
   ]
  },
  {
   "cell_type": "markdown",
   "id": "ff6a1559",
   "metadata": {},
   "source": [
    "leftshift operator(<<)"
   ]
  },
  {
   "cell_type": "raw",
   "id": "4c442f1e",
   "metadata": {},
   "source": [
    "to shift lest side \n",
    "n*(2^m)\n",
    "n--->number\n",
    "m--> no of shifts\n",
    "12 ----> 12*(2^3)  for 3 shifts  ----> 12*8=96"
   ]
  },
  {
   "cell_type": "code",
   "execution_count": 53,
   "id": "2742bd3c",
   "metadata": {},
   "outputs": [
    {
     "data": {
      "text/plain": [
       "96"
      ]
     },
     "execution_count": 53,
     "metadata": {},
     "output_type": "execute_result"
    }
   ],
   "source": [
    "12<<3"
   ]
  },
  {
   "cell_type": "code",
   "execution_count": 54,
   "id": "46b9890b",
   "metadata": {},
   "outputs": [
    {
     "data": {
      "text/plain": [
       "640"
      ]
     },
     "execution_count": 54,
     "metadata": {},
     "output_type": "execute_result"
    }
   ],
   "source": [
    "10<<6"
   ]
  },
  {
   "cell_type": "code",
   "execution_count": 55,
   "id": "93ca0ad6",
   "metadata": {},
   "outputs": [
    {
     "data": {
      "text/plain": [
       "24"
      ]
     },
     "execution_count": 55,
     "metadata": {},
     "output_type": "execute_result"
    }
   ],
   "source": [
    "6<<2"
   ]
  },
  {
   "cell_type": "markdown",
   "id": "27ee9c11",
   "metadata": {},
   "source": [
    "Rightshift(>>)"
   ]
  },
  {
   "cell_type": "raw",
   "id": "0968a4d6",
   "metadata": {},
   "source": [
    "to shift rightside\n",
    "n/(2^m)"
   ]
  },
  {
   "cell_type": "code",
   "execution_count": 56,
   "id": "16060e6e",
   "metadata": {},
   "outputs": [
    {
     "data": {
      "text/plain": [
       "4"
      ]
     },
     "execution_count": 56,
     "metadata": {},
     "output_type": "execute_result"
    }
   ],
   "source": [
    "16>>2"
   ]
  },
  {
   "cell_type": "code",
   "execution_count": null,
   "id": "d09d9504",
   "metadata": {},
   "outputs": [],
   "source": [
    "ignore decimal values and return only quotient value "
   ]
  },
  {
   "cell_type": "code",
   "execution_count": 57,
   "id": "7eef3fcb",
   "metadata": {},
   "outputs": [
    {
     "data": {
      "text/plain": [
       "0"
      ]
     },
     "execution_count": 57,
     "metadata": {},
     "output_type": "execute_result"
    }
   ],
   "source": [
    "4>>4"
   ]
  },
  {
   "cell_type": "code",
   "execution_count": 58,
   "id": "b6fae08b",
   "metadata": {},
   "outputs": [
    {
     "data": {
      "text/plain": [
       "6"
      ]
     },
     "execution_count": 58,
     "metadata": {},
     "output_type": "execute_result"
    }
   ],
   "source": [
    "100>>4"
   ]
  },
  {
   "cell_type": "markdown",
   "id": "f73f93fe",
   "metadata": {},
   "source": [
    "not(~)"
   ]
  },
  {
   "cell_type": "markdown",
   "id": "b98ef13c",
   "metadata": {},
   "source": [
    "~x=-(x+1)"
   ]
  },
  {
   "cell_type": "code",
   "execution_count": 1,
   "id": "e372b506",
   "metadata": {},
   "outputs": [
    {
     "data": {
      "text/plain": [
       "-11"
      ]
     },
     "execution_count": 1,
     "metadata": {},
     "output_type": "execute_result"
    }
   ],
   "source": [
    "~10"
   ]
  },
  {
   "cell_type": "code",
   "execution_count": 2,
   "id": "a5f764da",
   "metadata": {},
   "outputs": [
    {
     "data": {
      "text/plain": [
       "9"
      ]
     },
     "execution_count": 2,
     "metadata": {},
     "output_type": "execute_result"
    }
   ],
   "source": [
    "~-10"
   ]
  },
  {
   "cell_type": "markdown",
   "id": "572e4834",
   "metadata": {},
   "source": [
    "**4.Identity operators**"
   ]
  },
  {
   "cell_type": "markdown",
   "id": "9fc91454",
   "metadata": {},
   "source": [
    "it compare addresses "
   ]
  },
  {
   "cell_type": "raw",
   "id": "c0fdc767",
   "metadata": {},
   "source": [
    "is\n",
    "is not"
   ]
  },
  {
   "cell_type": "code",
   "execution_count": 60,
   "id": "ccc74698",
   "metadata": {},
   "outputs": [
    {
     "data": {
      "text/plain": [
       "140721049080904"
      ]
     },
     "execution_count": 60,
     "metadata": {},
     "output_type": "execute_result"
    }
   ],
   "source": [
    "a=10\n",
    "b=10\n",
    "id(a)"
   ]
  },
  {
   "cell_type": "code",
   "execution_count": 61,
   "id": "84d06bd3",
   "metadata": {},
   "outputs": [
    {
     "data": {
      "text/plain": [
       "140721049080904"
      ]
     },
     "execution_count": 61,
     "metadata": {},
     "output_type": "execute_result"
    }
   ],
   "source": [
    "id(b)"
   ]
  },
  {
   "cell_type": "code",
   "execution_count": 62,
   "id": "3308c19d",
   "metadata": {},
   "outputs": [
    {
     "data": {
      "text/plain": [
       "True"
      ]
     },
     "execution_count": 62,
     "metadata": {},
     "output_type": "execute_result"
    }
   ],
   "source": [
    "a is b"
   ]
  },
  {
   "cell_type": "code",
   "execution_count": 63,
   "id": "6a46744c",
   "metadata": {},
   "outputs": [
    {
     "data": {
      "text/plain": [
       "False"
      ]
     },
     "execution_count": 63,
     "metadata": {},
     "output_type": "execute_result"
    }
   ],
   "source": [
    "a=1219\n",
    "b=2386\n",
    "a is b"
   ]
  },
  {
   "cell_type": "code",
   "execution_count": 64,
   "id": "c90613f3",
   "metadata": {},
   "outputs": [
    {
     "data": {
      "text/plain": [
       "2113492228240"
      ]
     },
     "execution_count": 64,
     "metadata": {},
     "output_type": "execute_result"
    }
   ],
   "source": [
    "id(a)"
   ]
  },
  {
   "cell_type": "code",
   "execution_count": 65,
   "id": "15cac530",
   "metadata": {},
   "outputs": [
    {
     "data": {
      "text/plain": [
       "2113492227248"
      ]
     },
     "execution_count": 65,
     "metadata": {},
     "output_type": "execute_result"
    }
   ],
   "source": [
    "id(b)"
   ]
  },
  {
   "cell_type": "code",
   "execution_count": 5,
   "id": "52e2540b",
   "metadata": {},
   "outputs": [
    {
     "data": {
      "text/plain": [
       "False"
      ]
     },
     "execution_count": 5,
     "metadata": {},
     "output_type": "execute_result"
    }
   ],
   "source": [
    "num=2.5\n",
    "num1=2.5\n",
    "num is num1"
   ]
  },
  {
   "cell_type": "code",
   "execution_count": 6,
   "id": "e6a343fb",
   "metadata": {},
   "outputs": [
    {
     "data": {
      "text/plain": [
       "2187484353264"
      ]
     },
     "execution_count": 6,
     "metadata": {},
     "output_type": "execute_result"
    }
   ],
   "source": [
    "id(num)"
   ]
  },
  {
   "cell_type": "code",
   "execution_count": 7,
   "id": "f4aa79e0",
   "metadata": {},
   "outputs": [
    {
     "data": {
      "text/plain": [
       "2187483078000"
      ]
     },
     "execution_count": 7,
     "metadata": {},
     "output_type": "execute_result"
    }
   ],
   "source": [
    "id(num1)"
   ]
  },
  {
   "cell_type": "code",
   "execution_count": 67,
   "id": "efae0c1f",
   "metadata": {},
   "outputs": [
    {
     "data": {
      "text/plain": [
       "True"
      ]
     },
     "execution_count": 67,
     "metadata": {},
     "output_type": "execute_result"
    }
   ],
   "source": [
    "2.5 ==2.5"
   ]
  },
  {
   "cell_type": "code",
   "execution_count": 68,
   "id": "4250323e",
   "metadata": {},
   "outputs": [
    {
     "data": {
      "text/plain": [
       "True"
      ]
     },
     "execution_count": 68,
     "metadata": {},
     "output_type": "execute_result"
    }
   ],
   "source": [
    "2.50 ==2.5"
   ]
  },
  {
   "cell_type": "code",
   "execution_count": 69,
   "id": "6c5268f5",
   "metadata": {},
   "outputs": [
    {
     "data": {
      "text/plain": [
       "True"
      ]
     },
     "execution_count": 69,
     "metadata": {},
     "output_type": "execute_result"
    }
   ],
   "source": [
    "n1=2.5\n",
    "n2=2.50\n",
    "n1==n2"
   ]
  },
  {
   "cell_type": "code",
   "execution_count": 70,
   "id": "0e27824d",
   "metadata": {},
   "outputs": [
    {
     "data": {
      "text/plain": [
       "2113490822160"
      ]
     },
     "execution_count": 70,
     "metadata": {},
     "output_type": "execute_result"
    }
   ],
   "source": [
    "id(n1)"
   ]
  },
  {
   "cell_type": "code",
   "execution_count": 71,
   "id": "3e235d23",
   "metadata": {},
   "outputs": [
    {
     "data": {
      "text/plain": [
       "2113490829104"
      ]
     },
     "execution_count": 71,
     "metadata": {},
     "output_type": "execute_result"
    }
   ],
   "source": [
    "id(n2)"
   ]
  },
  {
   "cell_type": "code",
   "execution_count": 72,
   "id": "0bb0ace2",
   "metadata": {},
   "outputs": [
    {
     "data": {
      "text/plain": [
       "False"
      ]
     },
     "execution_count": 72,
     "metadata": {},
     "output_type": "execute_result"
    }
   ],
   "source": [
    "n1 is n2"
   ]
  },
  {
   "cell_type": "code",
   "execution_count": 73,
   "id": "83cbba28",
   "metadata": {},
   "outputs": [
    {
     "data": {
      "text/plain": [
       "True"
      ]
     },
     "execution_count": 73,
     "metadata": {},
     "output_type": "execute_result"
    }
   ],
   "source": [
    "a= True\n",
    "b= True\n",
    "a is b"
   ]
  },
  {
   "cell_type": "code",
   "execution_count": 74,
   "id": "b7026f93",
   "metadata": {},
   "outputs": [
    {
     "data": {
      "text/plain": [
       "True"
      ]
     },
     "execution_count": 74,
     "metadata": {},
     "output_type": "execute_result"
    }
   ],
   "source": [
    "a=\"hello\"\n",
    "b=\"hello\"\n",
    "a is b"
   ]
  },
  {
   "cell_type": "raw",
   "id": "e7b09d6b",
   "metadata": {},
   "source": [
    "int, string, boolean ---> if value is same , is operator returns True.\n",
    "float ---> if values are same, but the addres is different so, is operator returns to False."
   ]
  },
  {
   "cell_type": "markdown",
   "id": "7151d9d2",
   "metadata": {},
   "source": [
    "**Membership operators**"
   ]
  },
  {
   "cell_type": "raw",
   "id": "84816af3",
   "metadata": {},
   "source": [
    "in\n",
    "not in"
   ]
  },
  {
   "cell_type": "raw",
   "id": "2e1cbb7f",
   "metadata": {},
   "source": [
    "\"Hello world\" \n",
    "\"h\" in \"Hello world\" --->false\n",
    "\"H\" in \"Hello world\" ----> True"
   ]
  },
  {
   "cell_type": "code",
   "execution_count": 75,
   "id": "5ae0cfeb",
   "metadata": {},
   "outputs": [
    {
     "data": {
      "text/plain": [
       "True"
      ]
     },
     "execution_count": 75,
     "metadata": {},
     "output_type": "execute_result"
    }
   ],
   "source": [
    "name= \"Lakshmi\"\n",
    "\"s\" in name"
   ]
  },
  {
   "cell_type": "code",
   "execution_count": 77,
   "id": "d9a2a9c9",
   "metadata": {},
   "outputs": [
    {
     "data": {
      "text/plain": [
       "False"
      ]
     },
     "execution_count": 77,
     "metadata": {},
     "output_type": "execute_result"
    }
   ],
   "source": [
    "\"hello\" in name"
   ]
  },
  {
   "cell_type": "code",
   "execution_count": 78,
   "id": "905c43a6",
   "metadata": {},
   "outputs": [
    {
     "data": {
      "text/plain": [
       "False"
      ]
     },
     "execution_count": 78,
     "metadata": {},
     "output_type": "execute_result"
    }
   ],
   "source": [
    "\"La \" in name"
   ]
  },
  {
   "cell_type": "code",
   "execution_count": 79,
   "id": "c4e652a8",
   "metadata": {},
   "outputs": [
    {
     "data": {
      "text/plain": [
       "True"
      ]
     },
     "execution_count": 79,
     "metadata": {},
     "output_type": "execute_result"
    }
   ],
   "source": [
    "\"\" in name"
   ]
  },
  {
   "cell_type": "code",
   "execution_count": null,
   "id": "00a45f62",
   "metadata": {},
   "outputs": [],
   "source": [
    "name= \"innomatics research lab\""
   ]
  },
  {
   "cell_type": "code",
   "execution_count": 3,
   "id": "3c9c6a39",
   "metadata": {},
   "outputs": [
    {
     "data": {
      "text/plain": [
       "True"
      ]
     },
     "execution_count": 3,
     "metadata": {},
     "output_type": "execute_result"
    }
   ],
   "source": [
    "a=10\n",
    "b=10\n",
    "a is b"
   ]
  },
  {
   "cell_type": "code",
   "execution_count": 4,
   "id": "bda5217a",
   "metadata": {},
   "outputs": [
    {
     "data": {
      "text/plain": [
       "140721063957576"
      ]
     },
     "execution_count": 4,
     "metadata": {},
     "output_type": "execute_result"
    }
   ],
   "source": [
    "id(a)"
   ]
  },
  {
   "cell_type": "code",
   "execution_count": 5,
   "id": "3e51e8ab",
   "metadata": {},
   "outputs": [
    {
     "data": {
      "text/plain": [
       "140721063957576"
      ]
     },
     "execution_count": 5,
     "metadata": {},
     "output_type": "execute_result"
    }
   ],
   "source": [
    "id(b)"
   ]
  },
  {
   "cell_type": "code",
   "execution_count": 6,
   "id": "4e1e8373",
   "metadata": {},
   "outputs": [
    {
     "data": {
      "text/plain": [
       "False"
      ]
     },
     "execution_count": 6,
     "metadata": {},
     "output_type": "execute_result"
    }
   ],
   "source": [
    "id(a) is id(b)"
   ]
  },
  {
   "cell_type": "code",
   "execution_count": null,
   "id": "70f22d97",
   "metadata": {},
   "outputs": [],
   "source": []
  }
 ],
 "metadata": {
  "kernelspec": {
   "display_name": "Python 3 (ipykernel)",
   "language": "python",
   "name": "python3"
  },
  "language_info": {
   "codemirror_mode": {
    "name": "ipython",
    "version": 3
   },
   "file_extension": ".py",
   "mimetype": "text/x-python",
   "name": "python",
   "nbconvert_exporter": "python",
   "pygments_lexer": "ipython3",
   "version": "3.10.9"
  }
 },
 "nbformat": 4,
 "nbformat_minor": 5
}
