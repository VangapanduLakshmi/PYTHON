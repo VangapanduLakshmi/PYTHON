{
 "cells": [
  {
   "cell_type": "raw",
   "id": "8e4f3a3f",
   "metadata": {},
   "source": [
    "OOPS:object oriented programmimg --> an approach/way/paradigm\n",
    "the compleate task dividing in to objects"
   ]
  },
  {
   "cell_type": "raw",
   "id": "c681be86",
   "metadata": {},
   "source": [
    "why?\n",
    "-->Complex Problems\n",
    "--> organized\n",
    "-->remove the redandence(duplicate)"
   ]
  },
  {
   "cell_type": "raw",
   "id": "48e48c02",
   "metadata": {},
   "source": [
    "object\n",
    "class\n",
    "Encapsulation\n",
    "Inheritance\n",
    "polymorphism\n",
    "Abstraction"
   ]
  },
  {
   "cell_type": "raw",
   "id": "3389dca1",
   "metadata": {},
   "source": [
    "Data science\n",
    "--> compitation oriented -->going to build logic-->java,python,c,c++ etc\n",
    "-->data centric--> AI,Data Science, DB-->python"
   ]
  },
  {
   "cell_type": "raw",
   "id": "bf903319",
   "metadata": {},
   "source": [
    "Class:Design/blue print/reference for task\n",
    "             Class\n",
    "               |\n",
    "        --------------\n",
    "        |             |\n",
    "        Attributes/    methods/function/Actions\n",
    "        variables/\n",
    "        behaviour."
   ]
  },
  {
   "cell_type": "raw",
   "id": "7ffc6af4",
   "metadata": {},
   "source": [
    "everything in python is an \"object\""
   ]
  },
  {
   "cell_type": "raw",
   "id": "6d5c9f33",
   "metadata": {},
   "source": [
    "Object: the physical existence of class/the instance of the class/example of class"
   ]
  },
  {
   "cell_type": "markdown",
   "id": "9337d06a",
   "metadata": {},
   "source": [
    "**Creating Class**"
   ]
  },
  {
   "cell_type": "raw",
   "id": "9a0e97c3",
   "metadata": {},
   "source": [
    "class class_name:\n",
    "    -->attributes\n",
    "    -->create methods/functions"
   ]
  },
  {
   "cell_type": "code",
   "execution_count": 1,
   "id": "4e7a5491",
   "metadata": {},
   "outputs": [],
   "source": [
    "class sample:\n",
    "    pass"
   ]
  },
  {
   "cell_type": "markdown",
   "id": "4821cabb",
   "metadata": {},
   "source": [
    "**Bank Application**"
   ]
  },
  {
   "cell_type": "raw",
   "id": "5c3132ea",
   "metadata": {},
   "source": [
    "Attributes:\n",
    "    1.name\n",
    "    2.Account no\n",
    "    3.IFSc\n",
    "    4.Branch\n",
    "    5.balance\n",
    " Actions:\n",
    "    1.Deposit\n",
    "    2.withdraw\n",
    "    3.Transfer\n",
    "    4.Balance check"
   ]
  },
  {
   "cell_type": "code",
   "execution_count": 30,
   "id": "092aa944",
   "metadata": {},
   "outputs": [],
   "source": [
    "class bank:\n",
    "    def __init__(self,name,account_no,IFSC,Branch,Balance): #__init__ -->initialise the attributes/variables.\n",
    "        #attributes,variables,behavoiur.\n",
    "        self.name = name   #self store the current running object\n",
    "        self.account_no = account_no\n",
    "        self.IFSC = IFSC\n",
    "        self.Branch = Branch\n",
    "        self.Balance = Balance\n",
    "    #action,functions, methods\n",
    "    def deposit(self):\n",
    "        amount=int(input(\"enter the amount to deposit:\"))\n",
    "        self.Balance=self.Balance+amount\n",
    "        print(\"successfully deposited\")\n",
    "    def withdraw(self):\n",
    "        amount=int(input(\"enter the amount to withdraw:\"))\n",
    "        if(self.Balance<amount):\n",
    "            print(\"Insufficient fund in you account\")\n",
    "        else:\n",
    "            self.Balance=self.Balance-amount\n",
    "            print(\"successfully withdraw\")\n",
    "    def  checkbal(self):\n",
    "        print(f'you habe{self.Balance} in your account')\n",
    "    def customer_details(self):\n",
    "        print(f'{self.name}\\n{self.Balance}\\n{self.Branch}\\n')"
   ]
  },
  {
   "cell_type": "code",
   "execution_count": 32,
   "id": "237b1af1",
   "metadata": {},
   "outputs": [],
   "source": [
    "#Creating Object\n",
    "customer=bank(\"Lakshmi\",\"123445\",\"IFSC123\",\"India\",200000)\n"
   ]
  },
  {
   "cell_type": "code",
   "execution_count": 33,
   "id": "1c75509e",
   "metadata": {},
   "outputs": [
    {
     "name": "stdout",
     "output_type": "stream",
     "text": [
      "enter the amount to deposit:500000\n",
      "successfully deposited\n"
     ]
    }
   ],
   "source": [
    "customer.deposit()"
   ]
  },
  {
   "cell_type": "code",
   "execution_count": 34,
   "id": "621b0720",
   "metadata": {},
   "outputs": [
    {
     "name": "stdout",
     "output_type": "stream",
     "text": [
      "you habe700000 in your account\n"
     ]
    }
   ],
   "source": [
    "customer.checkbal()"
   ]
  },
  {
   "cell_type": "code",
   "execution_count": 35,
   "id": "2818ae25",
   "metadata": {},
   "outputs": [
    {
     "name": "stdout",
     "output_type": "stream",
     "text": [
      "enter the amount to withdraw:400000\n",
      "successfully withdraw\n"
     ]
    }
   ],
   "source": [
    "customer.withdraw()"
   ]
  },
  {
   "cell_type": "code",
   "execution_count": 36,
   "id": "591d7983",
   "metadata": {},
   "outputs": [
    {
     "name": "stdout",
     "output_type": "stream",
     "text": [
      "you habe300000 in your account\n"
     ]
    }
   ],
   "source": [
    "customer.checkbal()"
   ]
  },
  {
   "cell_type": "code",
   "execution_count": 37,
   "id": "597213d2",
   "metadata": {},
   "outputs": [
    {
     "data": {
      "text/plain": [
       "'Lakshmi'"
      ]
     },
     "execution_count": 37,
     "metadata": {},
     "output_type": "execute_result"
    }
   ],
   "source": [
    "customer.name"
   ]
  },
  {
   "cell_type": "code",
   "execution_count": 1,
   "id": "4af8376c",
   "metadata": {},
   "outputs": [
    {
     "ename": "NameError",
     "evalue": "name 'customer' is not defined",
     "output_type": "error",
     "traceback": [
      "\u001b[1;31m---------------------------------------------------------------------------\u001b[0m",
      "\u001b[1;31mNameError\u001b[0m                                 Traceback (most recent call last)",
      "Cell \u001b[1;32mIn[1], line 1\u001b[0m\n\u001b[1;32m----> 1\u001b[0m customer\u001b[38;5;241m.\u001b[39mcustomer_details()\n",
      "\u001b[1;31mNameError\u001b[0m: name 'customer' is not defined"
     ]
    }
   ],
   "source": [
    "customer.customer_details()"
   ]
  },
  {
   "cell_type": "markdown",
   "id": "b0038b1d",
   "metadata": {},
   "source": [
    "# Inheritance"
   ]
  },
  {
   "cell_type": "markdown",
   "id": "27d831b4",
   "metadata": {},
   "source": [
    "def: access the variables and methods from parent class to child class (super class to sub class)"
   ]
  },
  {
   "cell_type": "markdown",
   "id": "975c846f",
   "metadata": {},
   "source": [
    "# single inheritance"
   ]
  },
  {
   "cell_type": "raw",
   "id": "de99b4b1",
   "metadata": {},
   "source": [
    "  parent\n",
    "    |\n",
    "  child"
   ]
  },
  {
   "cell_type": "code",
   "execution_count": 6,
   "id": "dbcac983",
   "metadata": {},
   "outputs": [],
   "source": [
    "#single inheritance.\n",
    "class parent:\n",
    "    def __init__(self,a,b):\n",
    "        self.a = a\n",
    "        self.b = b\n",
    "    def add():\n",
    "        print(self.a + self.b)\n",
    "    def mul():\n",
    "        print(self.a *self.b)\n",
    "class child:\n",
    "    def wish(self):\n",
    "        print(\"hello\")"
   ]
  },
  {
   "cell_type": "code",
   "execution_count": 7,
   "id": "bddcc6d4",
   "metadata": {},
   "outputs": [],
   "source": [
    "child_class = child()"
   ]
  },
  {
   "cell_type": "code",
   "execution_count": 8,
   "id": "58da9f30",
   "metadata": {},
   "outputs": [
    {
     "name": "stdout",
     "output_type": "stream",
     "text": [
      "hello\n"
     ]
    }
   ],
   "source": [
    "child_class.wish()"
   ]
  },
  {
   "cell_type": "code",
   "execution_count": 17,
   "id": "052a7713",
   "metadata": {},
   "outputs": [],
   "source": [
    "class parent:\n",
    "    def __init__(self,a,b):\n",
    "        self.a = a\n",
    "        self.b = b\n",
    "    def add(self):\n",
    "        print(self.a + self.b)\n",
    "    def mul(self):\n",
    "        print(self.a *self.b)\n",
    "class child(parent):\n",
    "    def wish(self):\n",
    "        print(\"hello\")"
   ]
  },
  {
   "cell_type": "code",
   "execution_count": 18,
   "id": "40ae5924",
   "metadata": {},
   "outputs": [],
   "source": [
    "child_class1 = child(2,4)"
   ]
  },
  {
   "cell_type": "code",
   "execution_count": 19,
   "id": "91e11d9a",
   "metadata": {},
   "outputs": [
    {
     "data": {
      "text/plain": [
       "2"
      ]
     },
     "execution_count": 19,
     "metadata": {},
     "output_type": "execute_result"
    }
   ],
   "source": [
    "child_class1.a"
   ]
  },
  {
   "cell_type": "code",
   "execution_count": 20,
   "id": "47e68f5e",
   "metadata": {},
   "outputs": [
    {
     "name": "stdout",
     "output_type": "stream",
     "text": [
      "6\n"
     ]
    }
   ],
   "source": [
    "child_class1.add()"
   ]
  },
  {
   "cell_type": "code",
   "execution_count": 21,
   "id": "9ba0b191",
   "metadata": {},
   "outputs": [
    {
     "name": "stdout",
     "output_type": "stream",
     "text": [
      "8\n"
     ]
    }
   ],
   "source": [
    "child_class1.mul()"
   ]
  },
  {
   "cell_type": "code",
   "execution_count": 23,
   "id": "6be5a0bb",
   "metadata": {},
   "outputs": [],
   "source": [
    "parent_class= parent(10,30)"
   ]
  },
  {
   "cell_type": "code",
   "execution_count": 24,
   "id": "8dfe4f56",
   "metadata": {},
   "outputs": [
    {
     "name": "stdout",
     "output_type": "stream",
     "text": [
      "40\n"
     ]
    }
   ],
   "source": [
    "parent_class.add()"
   ]
  },
  {
   "cell_type": "markdown",
   "id": "453278b5",
   "metadata": {},
   "source": [
    "# Multiple inheritance"
   ]
  },
  {
   "cell_type": "raw",
   "id": "fcc7f007",
   "metadata": {},
   "source": [
    "   father    mother\n",
    "     \\         /\n",
    "        child"
   ]
  },
  {
   "cell_type": "code",
   "execution_count": 39,
   "id": "06cc4173",
   "metadata": {},
   "outputs": [],
   "source": [
    "#multiple inheritance\n",
    "class father:\n",
    "    def __init__(self,a,b):\n",
    "        self.a = a\n",
    "        self.b = b\n",
    "    def add(self):\n",
    "        print(self.a + self.b)\n",
    "    def mul(self):\n",
    "        print(self.a *self.b)\n",
    "class mother:\n",
    "    def __init__(self,a,b):\n",
    "        self.a =a\n",
    "        self.b=b\n",
    "    def sub(self):\n",
    "        print(self.a - self.b)\n",
    "    def div(self):\n",
    "        print(self.a / self.b)\n",
    "class child(father,mother):\n",
    "    def wish(self):\n",
    "        print(\"hello\")\n",
    "  "
   ]
  },
  {
   "cell_type": "code",
   "execution_count": 40,
   "id": "6268bd4e",
   "metadata": {},
   "outputs": [],
   "source": [
    "name= child(10,20)"
   ]
  },
  {
   "cell_type": "code",
   "execution_count": 41,
   "id": "5e39cd12",
   "metadata": {},
   "outputs": [
    {
     "name": "stdout",
     "output_type": "stream",
     "text": [
      "30\n"
     ]
    }
   ],
   "source": [
    "name.add()"
   ]
  },
  {
   "cell_type": "code",
   "execution_count": 42,
   "id": "607e2a76",
   "metadata": {},
   "outputs": [
    {
     "name": "stdout",
     "output_type": "stream",
     "text": [
      "200\n"
     ]
    }
   ],
   "source": [
    "name.mul()"
   ]
  },
  {
   "cell_type": "code",
   "execution_count": 43,
   "id": "e836a5ab",
   "metadata": {},
   "outputs": [
    {
     "name": "stdout",
     "output_type": "stream",
     "text": [
      "-10\n"
     ]
    }
   ],
   "source": [
    "name.sub()"
   ]
  },
  {
   "cell_type": "code",
   "execution_count": 44,
   "id": "9b75da42",
   "metadata": {},
   "outputs": [
    {
     "name": "stdout",
     "output_type": "stream",
     "text": [
      "0.5\n"
     ]
    }
   ],
   "source": [
    "name.div()"
   ]
  },
  {
   "cell_type": "code",
   "execution_count": 46,
   "id": "c9a9f7e1",
   "metadata": {},
   "outputs": [
    {
     "data": {
      "text/plain": [
       "[__main__.child, __main__.father, __main__.mother, object]"
      ]
     },
     "execution_count": 46,
     "metadata": {},
     "output_type": "execute_result"
    }
   ],
   "source": [
    "child.mro() #method resolution order."
   ]
  },
  {
   "cell_type": "code",
   "execution_count": 62,
   "id": "836ff23c",
   "metadata": {},
   "outputs": [],
   "source": [
    "class father:\n",
    "    def method1(self):\n",
    "        print(\"i am father\")\n",
    "class mother:\n",
    "    def method2(self):\n",
    "        print(\" i am mother\")\n",
    "class child(father,mother):\n",
    "    def mothod(self):\n",
    "        print(\"i am child\")"
   ]
  },
  {
   "cell_type": "code",
   "execution_count": 63,
   "id": "d1aab570",
   "metadata": {},
   "outputs": [],
   "source": [
    "name = child()"
   ]
  },
  {
   "cell_type": "code",
   "execution_count": 64,
   "id": "cd6a5dd9",
   "metadata": {},
   "outputs": [
    {
     "name": "stdout",
     "output_type": "stream",
     "text": [
      "i am child\n"
     ]
    }
   ],
   "source": [
    "name.mothod()"
   ]
  },
  {
   "cell_type": "code",
   "execution_count": 65,
   "id": "d2aa7cd7",
   "metadata": {},
   "outputs": [
    {
     "name": "stdout",
     "output_type": "stream",
     "text": [
      "i am father\n"
     ]
    }
   ],
   "source": [
    "name.method1()"
   ]
  },
  {
   "cell_type": "code",
   "execution_count": 66,
   "id": "6d3b07f8",
   "metadata": {},
   "outputs": [
    {
     "name": "stdout",
     "output_type": "stream",
     "text": [
      " i am mother\n"
     ]
    }
   ],
   "source": [
    "name.method2()"
   ]
  },
  {
   "cell_type": "code",
   "execution_count": 68,
   "id": "2ca6c139",
   "metadata": {},
   "outputs": [],
   "source": [
    "class father:\n",
    "    def method1(self):\n",
    "        print(\"i am father\")\n",
    "class mother:\n",
    "    def method1(self):  \n",
    "        print(\" i am mother\")\n",
    "class child(father,mother):\n",
    "    def mothod(self):\n",
    "        print(\"i am child\")"
   ]
  },
  {
   "cell_type": "code",
   "execution_count": 69,
   "id": "bd299c18",
   "metadata": {},
   "outputs": [],
   "source": [
    "name = child()"
   ]
  },
  {
   "cell_type": "code",
   "execution_count": 70,
   "id": "b62ef650",
   "metadata": {},
   "outputs": [
    {
     "name": "stdout",
     "output_type": "stream",
     "text": [
      "i am child\n"
     ]
    }
   ],
   "source": [
    "name.mothod()"
   ]
  },
  {
   "cell_type": "code",
   "execution_count": 71,
   "id": "5dd06691",
   "metadata": {},
   "outputs": [
    {
     "name": "stdout",
     "output_type": "stream",
     "text": [
      "i am father\n"
     ]
    }
   ],
   "source": [
    "name.method1()"
   ]
  },
  {
   "cell_type": "code",
   "execution_count": 72,
   "id": "e0c96371",
   "metadata": {},
   "outputs": [
    {
     "name": "stdout",
     "output_type": "stream",
     "text": [
      "i am father\n"
     ]
    }
   ],
   "source": [
    "name.method1()"
   ]
  },
  {
   "cell_type": "markdown",
   "id": "b6582523",
   "metadata": {},
   "source": [
    "**Multilevel inheritance**"
   ]
  },
  {
   "cell_type": "raw",
   "id": "26d780fe",
   "metadata": {},
   "source": [
    "multilevel inhertance\n",
    "\n",
    "grand parent\n",
    "    |\n",
    "  parent\n",
    "    |\n",
    "  child"
   ]
  },
  {
   "cell_type": "code",
   "execution_count": 82,
   "id": "3cca27e7",
   "metadata": {},
   "outputs": [],
   "source": [
    "class grand_parent:\n",
    "    def method1(self):\n",
    "        print(\"i am grand_parent\")\n",
    "class parent(grand_parent):\n",
    "    def method2(self):  \n",
    "        print(\" i am parent\")\n",
    "class child (parent):\n",
    "    def mothod(self):\n",
    "        print(\"i am child\")"
   ]
  },
  {
   "cell_type": "code",
   "execution_count": 83,
   "id": "c4c9339b",
   "metadata": {},
   "outputs": [],
   "source": [
    "name2 = child()"
   ]
  },
  {
   "cell_type": "code",
   "execution_count": 84,
   "id": "e06244d5",
   "metadata": {},
   "outputs": [
    {
     "name": "stdout",
     "output_type": "stream",
     "text": [
      "i am child\n"
     ]
    }
   ],
   "source": [
    "name2.mothod()"
   ]
  },
  {
   "cell_type": "code",
   "execution_count": 85,
   "id": "5fa915fc",
   "metadata": {},
   "outputs": [
    {
     "name": "stdout",
     "output_type": "stream",
     "text": [
      "i am grand_parent\n"
     ]
    }
   ],
   "source": [
    "name2.method1()"
   ]
  },
  {
   "cell_type": "code",
   "execution_count": 86,
   "id": "4127969e",
   "metadata": {},
   "outputs": [
    {
     "name": "stdout",
     "output_type": "stream",
     "text": [
      " i am parent\n"
     ]
    }
   ],
   "source": [
    "name2.method2()"
   ]
  },
  {
   "cell_type": "code",
   "execution_count": 87,
   "id": "c2e53f7a",
   "metadata": {},
   "outputs": [],
   "source": [
    "name3= parent()"
   ]
  },
  {
   "cell_type": "code",
   "execution_count": 88,
   "id": "b5aa49a2",
   "metadata": {},
   "outputs": [
    {
     "name": "stdout",
     "output_type": "stream",
     "text": [
      "i am grand_parent\n"
     ]
    }
   ],
   "source": [
    "name3.method1()"
   ]
  },
  {
   "cell_type": "code",
   "execution_count": 89,
   "id": "3917f5d0",
   "metadata": {},
   "outputs": [
    {
     "name": "stdout",
     "output_type": "stream",
     "text": [
      " i am parent\n"
     ]
    }
   ],
   "source": [
    "name3.method2()"
   ]
  },
  {
   "cell_type": "code",
   "execution_count": 90,
   "id": "e29eaa40",
   "metadata": {},
   "outputs": [
    {
     "ename": "AttributeError",
     "evalue": "'parent' object has no attribute 'method'",
     "output_type": "error",
     "traceback": [
      "\u001b[1;31m---------------------------------------------------------------------------\u001b[0m",
      "\u001b[1;31mAttributeError\u001b[0m                            Traceback (most recent call last)",
      "Cell \u001b[1;32mIn[90], line 1\u001b[0m\n\u001b[1;32m----> 1\u001b[0m name3\u001b[38;5;241m.\u001b[39mmethod()\n",
      "\u001b[1;31mAttributeError\u001b[0m: 'parent' object has no attribute 'method'"
     ]
    }
   ],
   "source": [
    "name3.method()"
   ]
  },
  {
   "cell_type": "markdown",
   "id": "a1eb7a3c",
   "metadata": {},
   "source": [
    "# Hierarchical inheritance"
   ]
  },
  {
   "cell_type": "raw",
   "id": "9051e68f",
   "metadata": {},
   "source": [
    "      parent\n",
    "      /  |  \\\n",
    "   chi1 chi2 chi3"
   ]
  },
  {
   "cell_type": "code",
   "execution_count": 103,
   "id": "c837447c",
   "metadata": {},
   "outputs": [],
   "source": [
    "class parent:\n",
    "    def method1(self):\n",
    "        print(\"i am parent\")\n",
    "class child1(parent):\n",
    "    def method2(self):  \n",
    "        print(\" i am child1\")\n",
    "class child2(parent):\n",
    "    def mothod3(self):\n",
    "        print(\"i am child2\")"
   ]
  },
  {
   "cell_type": "code",
   "execution_count": 104,
   "id": "7d8ef149",
   "metadata": {},
   "outputs": [],
   "source": [
    "c1 = child1()"
   ]
  },
  {
   "cell_type": "code",
   "execution_count": 105,
   "id": "a3f198ca",
   "metadata": {},
   "outputs": [
    {
     "name": "stdout",
     "output_type": "stream",
     "text": [
      " i am child1\n"
     ]
    }
   ],
   "source": [
    "c1.method2()"
   ]
  },
  {
   "cell_type": "code",
   "execution_count": 106,
   "id": "7c02e1af",
   "metadata": {},
   "outputs": [
    {
     "name": "stdout",
     "output_type": "stream",
     "text": [
      "i am parent\n"
     ]
    }
   ],
   "source": [
    "c1.method1()"
   ]
  },
  {
   "cell_type": "markdown",
   "id": "c5d4c6ec",
   "metadata": {},
   "source": [
    "# Hybrid Inheritance "
   ]
  },
  {
   "cell_type": "code",
   "execution_count": 108,
   "id": "6fb3e60e",
   "metadata": {},
   "outputs": [],
   "source": [
    "class grand_parent:\n",
    "    def method1(self):\n",
    "        print(\"i am grand_parent\")\n",
    "class parent1(grand_parent):\n",
    "    def method2(self):  \n",
    "        print(\" i am parent1\")\n",
    "class parent2:\n",
    "    def method3(self):\n",
    "        print(\"i am parent2\")\n",
    "class child (parent1,parent2):\n",
    "    def mothod(self):\n",
    "        print(\"i am child\")"
   ]
  },
  {
   "cell_type": "code",
   "execution_count": 109,
   "id": "15411452",
   "metadata": {},
   "outputs": [],
   "source": [
    "p1= parent1()"
   ]
  },
  {
   "cell_type": "code",
   "execution_count": 110,
   "id": "165b5ebd",
   "metadata": {},
   "outputs": [
    {
     "name": "stdout",
     "output_type": "stream",
     "text": [
      "i am grand_parent\n"
     ]
    }
   ],
   "source": [
    "p1.method1()"
   ]
  },
  {
   "cell_type": "code",
   "execution_count": 111,
   "id": "de8849c2",
   "metadata": {},
   "outputs": [],
   "source": [
    "ch = child()"
   ]
  },
  {
   "cell_type": "code",
   "execution_count": 112,
   "id": "b2f766b2",
   "metadata": {},
   "outputs": [
    {
     "name": "stdout",
     "output_type": "stream",
     "text": [
      "i am child\n"
     ]
    }
   ],
   "source": [
    "ch.mothod()"
   ]
  },
  {
   "cell_type": "code",
   "execution_count": 113,
   "id": "4e437d51",
   "metadata": {},
   "outputs": [
    {
     "name": "stdout",
     "output_type": "stream",
     "text": [
      "i am grand_parent\n"
     ]
    }
   ],
   "source": [
    "ch.method1()"
   ]
  },
  {
   "cell_type": "code",
   "execution_count": 114,
   "id": "c56efc0a",
   "metadata": {},
   "outputs": [
    {
     "name": "stdout",
     "output_type": "stream",
     "text": [
      " i am parent1\n"
     ]
    }
   ],
   "source": [
    "ch.method2()"
   ]
  },
  {
   "cell_type": "code",
   "execution_count": 115,
   "id": "d7fef945",
   "metadata": {},
   "outputs": [
    {
     "name": "stdout",
     "output_type": "stream",
     "text": [
      "i am parent2\n"
     ]
    }
   ],
   "source": [
    "ch.method3()"
   ]
  },
  {
   "cell_type": "markdown",
   "id": "da4be7e6",
   "metadata": {},
   "source": [
    "# To remove the duplicate methods"
   ]
  },
  {
   "cell_type": "code",
   "execution_count": null,
   "id": "c4b3e0f7",
   "metadata": {},
   "outputs": [],
   "source": []
  },
  {
   "cell_type": "code",
   "execution_count": 52,
   "id": "cc09f05c",
   "metadata": {},
   "outputs": [],
   "source": [
    "class faculty:\n",
    "    def __init__(self,desgn,salary):\n",
    "        self.desgn = desgn\n",
    "        self.salary = salary\n",
    "    def salary(self):\n",
    "        print(self.salary)\n",
    "    def desgn1(self):\n",
    "        print(self.desgn)  "
   ]
  },
  {
   "cell_type": "code",
   "execution_count": 59,
   "id": "0e95dc97",
   "metadata": {},
   "outputs": [],
   "source": [
    "class duplicate:\n",
    "    def __init__(self,name,branch,phone,address):\n",
    "        self.name =name\n",
    "        self.branch = branch\n",
    "        self.phone = phone\n",
    "        self.address = address\n",
    "    def change_details(self):\n",
    "        name=input()\n",
    "        self.name=name\n",
    "        address=input()\n",
    "        self.address= address\n",
    "        print(self.name,self.address)\n",
    "    def phone(self):\n",
    "        print(self.phone)\n",
    "    def branch(self):\n",
    "        print(self.branch)\n",
    "    def phonechanged(self):\n",
    "        new_phone = input()\n",
    "        self.phone= new_phone\n",
    "        print(\"the phone number is successfully\")"
   ]
  },
  {
   "cell_type": "code",
   "execution_count": 60,
   "id": "789df609",
   "metadata": {},
   "outputs": [],
   "source": [
    "class student(duplicate):\n",
    "    def __init__(self,year,fee):\n",
    "        self.fee = fee\n",
    "        self.year = year\n",
    "    def Fee(self):\n",
    "        print(self.fee)"
   ]
  },
  {
   "cell_type": "code",
   "execution_count": 61,
   "id": "f99fb0dc",
   "metadata": {},
   "outputs": [],
   "source": [
    "st= student(2020,70000)"
   ]
  },
  {
   "cell_type": "code",
   "execution_count": 62,
   "id": "2c88bf6a",
   "metadata": {},
   "outputs": [
    {
     "data": {
      "text/plain": [
       "70000"
      ]
     },
     "execution_count": 62,
     "metadata": {},
     "output_type": "execute_result"
    }
   ],
   "source": [
    "st.fee"
   ]
  },
  {
   "cell_type": "code",
   "execution_count": 63,
   "id": "9d39c0dd",
   "metadata": {},
   "outputs": [
    {
     "data": {
      "text/plain": [
       "2020"
      ]
     },
     "execution_count": 63,
     "metadata": {},
     "output_type": "execute_result"
    }
   ],
   "source": [
    "st.year"
   ]
  },
  {
   "cell_type": "code",
   "execution_count": 68,
   "id": "62c21a10",
   "metadata": {},
   "outputs": [
    {
     "name": "stdout",
     "output_type": "stream",
     "text": [
      "12345678\n",
      "the phone number is successfully\n"
     ]
    }
   ],
   "source": [
    "st.phonechanged()"
   ]
  },
  {
   "cell_type": "code",
   "execution_count": 65,
   "id": "b94315a5",
   "metadata": {},
   "outputs": [],
   "source": [
    "dp= duplicate(\"Lakshmi\",\"ECE\",1243435445,\"HYD\")"
   ]
  },
  {
   "cell_type": "code",
   "execution_count": 66,
   "id": "f66a0fef",
   "metadata": {},
   "outputs": [
    {
     "data": {
      "text/plain": [
       "'HYD'"
      ]
     },
     "execution_count": 66,
     "metadata": {},
     "output_type": "execute_result"
    }
   ],
   "source": [
    "dp.address"
   ]
  },
  {
   "cell_type": "code",
   "execution_count": 70,
   "id": "55aa6952",
   "metadata": {},
   "outputs": [
    {
     "name": "stdout",
     "output_type": "stream",
     "text": [
      "laxmi\n",
      "vizag\n",
      "laxmi vizag\n"
     ]
    }
   ],
   "source": [
    "dp.change_details()"
   ]
  },
  {
   "cell_type": "markdown",
   "id": "fbe3805f",
   "metadata": {},
   "source": [
    "# Polymorphism"
   ]
  },
  {
   "cell_type": "raw",
   "id": "9703a6f3",
   "metadata": {},
   "source": [
    "*\n",
    "1. multiplication\n",
    "2. repitation\n",
    "3. variable length arguments\n",
    "4. "
   ]
  },
  {
   "cell_type": "raw",
   "id": "1b5afb62",
   "metadata": {},
   "source": [
    "                 Polymorphism\n",
    "                      |\n",
    "-------------------------------------------------\n",
    "|                 |                             |\n",
    "duck type       overloading                   overriding\n",
    "philosopy of      1.operator overloading        1.mothod overriding\n",
    "python            2. method overloading         2. constructor overriding\n",
    "                  3. cunstructor overloading"
   ]
  },
  {
   "cell_type": "code",
   "execution_count": null,
   "id": "a78489b2",
   "metadata": {},
   "outputs": [],
   "source": [
    "\n",
    "class st:\n",
    "    def name(self, int):\n",
    "        print(\"int data type\")\n",
    "    def name(self, float):\n",
    "        print(\"float data type\")\n",
    "    def name(self, str):\n",
    "        print(\"string data type\")"
   ]
  },
  {
   "cell_type": "raw",
   "id": "b8c86703",
   "metadata": {},
   "source": [
    "method overloading: differant data type and  length of arguments. and same method name"
   ]
  },
  {
   "cell_type": "raw",
   "id": "0977f888",
   "metadata": {},
   "source": [
    "python doen't support the method overloading. but, we can do multiple dispatch method"
   ]
  },
  {
   "cell_type": "markdown",
   "id": "f5efb5ad",
   "metadata": {},
   "source": [
    "# Operator overlaoding"
   ]
  },
  {
   "cell_type": "code",
   "execution_count": 82,
   "id": "180b7653",
   "metadata": {},
   "outputs": [],
   "source": [
    "class sum:\n",
    "    def __init__(self,a):\n",
    "        self.a = a\n",
    "    def __add__(self,other):\n",
    "        return (self.a + other.a)"
   ]
  },
  {
   "cell_type": "code",
   "execution_count": 83,
   "id": "564b19fc",
   "metadata": {},
   "outputs": [],
   "source": [
    "c = sum(200)"
   ]
  },
  {
   "cell_type": "code",
   "execution_count": 84,
   "id": "2e97e1ab",
   "metadata": {},
   "outputs": [],
   "source": [
    "d= sum(300)"
   ]
  },
  {
   "cell_type": "code",
   "execution_count": 85,
   "id": "822d07ae",
   "metadata": {},
   "outputs": [
    {
     "data": {
      "text/plain": [
       "500"
      ]
     },
     "execution_count": 85,
     "metadata": {},
     "output_type": "execute_result"
    }
   ],
   "source": [
    "c+d"
   ]
  },
  {
   "cell_type": "code",
   "execution_count": 86,
   "id": "eaea5a3c",
   "metadata": {},
   "outputs": [],
   "source": [
    "s=sum(\"hello\")"
   ]
  },
  {
   "cell_type": "code",
   "execution_count": 89,
   "id": "32a6391c",
   "metadata": {},
   "outputs": [],
   "source": [
    "p= sum(\" Lakshmi\")"
   ]
  },
  {
   "cell_type": "code",
   "execution_count": 90,
   "id": "fd63be0e",
   "metadata": {},
   "outputs": [
    {
     "data": {
      "text/plain": [
       "'hello Lakshmi'"
      ]
     },
     "execution_count": 90,
     "metadata": {},
     "output_type": "execute_result"
    }
   ],
   "source": [
    "s+p"
   ]
  },
  {
   "cell_type": "markdown",
   "id": "781426bb",
   "metadata": {},
   "source": [
    "# Constructor"
   ]
  },
  {
   "cell_type": "code",
   "execution_count": 91,
   "id": "f83386de",
   "metadata": {},
   "outputs": [],
   "source": [
    "class name:\n",
    "    def __init__(self): # constructor name is init in this code. it takes the last constructor returns the that constructor only\n",
    "        print(\"no arguments\")\n",
    "    def __init__(self,a):\n",
    "        print(\"one argument\")\n",
    "    def __init__(self,a,b):\n",
    "        print(\"two arguments\")"
   ]
  },
  {
   "cell_type": "code",
   "execution_count": 92,
   "id": "dcdf992b",
   "metadata": {},
   "outputs": [
    {
     "ename": "TypeError",
     "evalue": "name.__init__() missing 2 required positional arguments: 'a' and 'b'",
     "output_type": "error",
     "traceback": [
      "\u001b[1;31m---------------------------------------------------------------------------\u001b[0m",
      "\u001b[1;31mTypeError\u001b[0m                                 Traceback (most recent call last)",
      "Cell \u001b[1;32mIn[92], line 1\u001b[0m\n\u001b[1;32m----> 1\u001b[0m n\u001b[38;5;241m=\u001b[39m name()\n",
      "\u001b[1;31mTypeError\u001b[0m: name.__init__() missing 2 required positional arguments: 'a' and 'b'"
     ]
    }
   ],
   "source": [
    "n= name()"
   ]
  },
  {
   "cell_type": "code",
   "execution_count": 93,
   "id": "babe2704",
   "metadata": {},
   "outputs": [
    {
     "ename": "TypeError",
     "evalue": "name.__init__() missing 1 required positional argument: 'b'",
     "output_type": "error",
     "traceback": [
      "\u001b[1;31m---------------------------------------------------------------------------\u001b[0m",
      "\u001b[1;31mTypeError\u001b[0m                                 Traceback (most recent call last)",
      "Cell \u001b[1;32mIn[93], line 1\u001b[0m\n\u001b[1;32m----> 1\u001b[0m n\u001b[38;5;241m=\u001b[39m name(\u001b[38;5;241m1\u001b[39m)\n",
      "\u001b[1;31mTypeError\u001b[0m: name.__init__() missing 1 required positional argument: 'b'"
     ]
    }
   ],
   "source": [
    "n= name(1)"
   ]
  },
  {
   "cell_type": "code",
   "execution_count": 94,
   "id": "dcff19c7",
   "metadata": {},
   "outputs": [
    {
     "name": "stdout",
     "output_type": "stream",
     "text": [
      "two arguments\n"
     ]
    }
   ],
   "source": [
    "n =name(1,2)"
   ]
  },
  {
   "cell_type": "code",
   "execution_count": 95,
   "id": "e87f7111",
   "metadata": {},
   "outputs": [],
   "source": [
    "class name:\n",
    "    def __init__(self): # constructor name is init in this code. it takes the last constructor returns the that constructor only\n",
    "        print(\"no arguments\")\n",
    "    def __init__(self,a,b):\n",
    "        print(\"two arguments\")\n",
    "    def __init__(self,a):\n",
    "        print(\"one argument\")"
   ]
  },
  {
   "cell_type": "code",
   "execution_count": 96,
   "id": "dac10be5",
   "metadata": {},
   "outputs": [
    {
     "ename": "TypeError",
     "evalue": "name.__init__() missing 1 required positional argument: 'a'",
     "output_type": "error",
     "traceback": [
      "\u001b[1;31m---------------------------------------------------------------------------\u001b[0m",
      "\u001b[1;31mTypeError\u001b[0m                                 Traceback (most recent call last)",
      "Cell \u001b[1;32mIn[96], line 1\u001b[0m\n\u001b[1;32m----> 1\u001b[0m s\u001b[38;5;241m=\u001b[39m name()\n",
      "\u001b[1;31mTypeError\u001b[0m: name.__init__() missing 1 required positional argument: 'a'"
     ]
    }
   ],
   "source": [
    "s= name()"
   ]
  },
  {
   "cell_type": "code",
   "execution_count": 97,
   "id": "3524f7f2",
   "metadata": {},
   "outputs": [
    {
     "ename": "TypeError",
     "evalue": "name.__init__() takes 2 positional arguments but 3 were given",
     "output_type": "error",
     "traceback": [
      "\u001b[1;31m---------------------------------------------------------------------------\u001b[0m",
      "\u001b[1;31mTypeError\u001b[0m                                 Traceback (most recent call last)",
      "Cell \u001b[1;32mIn[97], line 1\u001b[0m\n\u001b[1;32m----> 1\u001b[0m s \u001b[38;5;241m=\u001b[39mname(\u001b[38;5;241m1\u001b[39m,\u001b[38;5;241m2\u001b[39m)\n",
      "\u001b[1;31mTypeError\u001b[0m: name.__init__() takes 2 positional arguments but 3 were given"
     ]
    }
   ],
   "source": [
    "s =name(1,2)"
   ]
  },
  {
   "cell_type": "code",
   "execution_count": 98,
   "id": "8a0a2845",
   "metadata": {},
   "outputs": [
    {
     "name": "stdout",
     "output_type": "stream",
     "text": [
      "one argument\n"
     ]
    }
   ],
   "source": [
    "s = name(2)"
   ]
  },
  {
   "cell_type": "markdown",
   "id": "f424420e",
   "metadata": {},
   "source": [
    "# overriding"
   ]
  },
  {
   "cell_type": "raw",
   "id": "3e4c4653",
   "metadata": {},
   "source": [
    "if we can write same method name and differant arguments in differant classes . that type of method is called overriding."
   ]
  },
  {
   "cell_type": "code",
   "execution_count": 99,
   "id": "59c6c9c8",
   "metadata": {},
   "outputs": [],
   "source": [
    "class a:\n",
    "    def method(self):\n",
    "        print(\"class a\")\n",
    "class b:\n",
    "    def method(self):\n",
    "        print(\"class b\")"
   ]
  },
  {
   "cell_type": "code",
   "execution_count": 100,
   "id": "1244fed6",
   "metadata": {},
   "outputs": [],
   "source": [
    "c= b()"
   ]
  },
  {
   "cell_type": "code",
   "execution_count": 101,
   "id": "11dee8c6",
   "metadata": {},
   "outputs": [
    {
     "name": "stdout",
     "output_type": "stream",
     "text": [
      "class b\n"
     ]
    }
   ],
   "source": [
    "c.method()"
   ]
  },
  {
   "cell_type": "code",
   "execution_count": 104,
   "id": "cbdf107f",
   "metadata": {},
   "outputs": [],
   "source": [
    "class a:\n",
    "    def method(self):\n",
    "        print(\"class a\")\n",
    "class b(a):\n",
    "    def method(self):\n",
    "        print(\"class b\")"
   ]
  },
  {
   "cell_type": "code",
   "execution_count": 106,
   "id": "c097e6dd",
   "metadata": {},
   "outputs": [],
   "source": [
    "d1= b()"
   ]
  },
  {
   "cell_type": "code",
   "execution_count": 107,
   "id": "2f181e98",
   "metadata": {},
   "outputs": [
    {
     "name": "stdout",
     "output_type": "stream",
     "text": [
      "class b\n"
     ]
    }
   ],
   "source": [
    "d1.method()"
   ]
  },
  {
   "cell_type": "code",
   "execution_count": 108,
   "id": "1138b216",
   "metadata": {},
   "outputs": [],
   "source": [
    "class a:\n",
    "    def method(self):\n",
    "        print(\"class a\")\n",
    "class b(a):\n",
    "    def method(self):\n",
    "        super().method()\n",
    "        print(\"class b\")"
   ]
  },
  {
   "cell_type": "code",
   "execution_count": 109,
   "id": "c7fd8735",
   "metadata": {},
   "outputs": [],
   "source": [
    "s=b()"
   ]
  },
  {
   "cell_type": "code",
   "execution_count": 110,
   "id": "4d5f972e",
   "metadata": {},
   "outputs": [
    {
     "name": "stdout",
     "output_type": "stream",
     "text": [
      "class a\n",
      "class b\n"
     ]
    }
   ],
   "source": [
    "s.method()1"
   ]
  },
  {
   "cell_type": "markdown",
   "id": "aff1e46e",
   "metadata": {},
   "source": [
    "# constructor overriding"
   ]
  },
  {
   "cell_type": "code",
   "execution_count": 111,
   "id": "109263ef",
   "metadata": {},
   "outputs": [],
   "source": [
    "class name:\n",
    "    def __init__(self):\n",
    "        print(\"this is the name class\")\n",
    "class name1:\n",
    "    def __init__(self):\n",
    "        print(\"this is the name1 class\")"
   ]
  },
  {
   "cell_type": "code",
   "execution_count": 112,
   "id": "5c8bb69c",
   "metadata": {},
   "outputs": [
    {
     "name": "stdout",
     "output_type": "stream",
     "text": [
      "this is the name1 class\n"
     ]
    }
   ],
   "source": [
    "d= name1()"
   ]
  },
  {
   "cell_type": "code",
   "execution_count": 117,
   "id": "fda1b74a",
   "metadata": {},
   "outputs": [],
   "source": [
    "class name:\n",
    "    def __init__(self):\n",
    "        print(\"this is the name class\")\n",
    "class name1(name):\n",
    "    def __init__(self):\n",
    "        super().__init__()\n",
    "        print(\"this is the name1 class\")"
   ]
  },
  {
   "cell_type": "code",
   "execution_count": 118,
   "id": "f5243b50",
   "metadata": {},
   "outputs": [
    {
     "name": "stdout",
     "output_type": "stream",
     "text": [
      "this is the name class\n",
      "this is the name1 class\n"
     ]
    }
   ],
   "source": [
    "e= name1()"
   ]
  },
  {
   "cell_type": "markdown",
   "id": "d3a4ce56",
   "metadata": {},
   "source": [
    "# Encapsulation"
   ]
  },
  {
   "cell_type": "markdown",
   "id": "8c4bb7a5",
   "metadata": {},
   "source": [
    "Encapsulation is one of the fundamental principles of object-oriented programming (OOP) that focuses on bundling data and methods together within a class, hiding the internal details and providing a public interface to interact with the object\n",
    "\n",
    "It promotes the concept of data hiding and information hiding."
   ]
  },
  {
   "cell_type": "code",
   "execution_count": 2,
   "id": "5616c02a",
   "metadata": {},
   "outputs": [
    {
     "name": "stdout",
     "output_type": "stream",
     "text": [
      "John\n",
      "30\n",
      "30\n",
      "Name: John, Age: 35\n"
     ]
    }
   ],
   "source": [
    "class Person:\n",
    "    def __init__(self, name, age):\n",
    "        self._name = name\n",
    "        self.__age = age\n",
    "\n",
    "    def get_age(self):\n",
    "        return self.__age\n",
    "\n",
    "    def set_age(self, age):\n",
    "        if age > 0:\n",
    "            self.__age = age\n",
    "\n",
    "    def display_info(self):\n",
    "        print(f\"Name: {self._name}, Age: {self.__age}\")\n",
    "\n",
    "\n",
    "# Create an instance of the Person class\n",
    "person = Person(\"John\", 30)\n",
    "\n",
    "# Access the public attribute directly\n",
    "print(person._name)  # Output: John\n",
    "\n",
    "# Access the protected attribute (convention, not enforced)\n",
    "print(person._Person__age)  # Output: 30\n",
    "\n",
    "# Access the private attribute (name-mangled)\n",
    "# print(person.__age)  # Raises an AttributeError\n",
    "\n",
    "# Access the attribute using a getter method\n",
    "print(person.get_age())  # Output: 30\n",
    "\n",
    "# Modify the attribute using a setter method\n",
    "person.set_age(35)\n",
    "\n",
    "# Call a method that displays the person's information\n",
    "person.display_info()  # Output: Name: John, Age: 35"
   ]
  },
  {
   "cell_type": "code",
   "execution_count": null,
   "id": "28e0b7da",
   "metadata": {},
   "outputs": [],
   "source": []
  }
 ],
 "metadata": {
  "kernelspec": {
   "display_name": "Python 3 (ipykernel)",
   "language": "python",
   "name": "python3"
  },
  "language_info": {
   "codemirror_mode": {
    "name": "ipython",
    "version": 3
   },
   "file_extension": ".py",
   "mimetype": "text/x-python",
   "name": "python",
   "nbconvert_exporter": "python",
   "pygments_lexer": "ipython3",
   "version": "3.11.3"
  }
 },
 "nbformat": 4,
 "nbformat_minor": 5
}
