{
 "cells": [
  {
   "cell_type": "markdown",
   "id": "6afb6ed9",
   "metadata": {},
   "source": [
    "**Task 1: Function Parameters**"
   ]
  },
  {
   "cell_type": "markdown",
   "id": "6ee62807",
   "metadata": {},
   "source": [
    "1. Create a Python function called \"calculate_area\" that takes two parameters: length and width.\n",
    "\n",
    "2. Inside the function, calculate the area of a rectangle using the formula: area = length width.\n",
    "\n",
    "3. Return the calculated area from the function. 4. Prompt the user to enter the length and width of a rectangle.\n",
    "\n",
    "5. Call the \"calculate_area\" function with the user's inputs as arguments and display the calculated area.\n"
   ]
  },
  {
   "cell_type": "code",
   "execution_count": 1,
   "id": "aa4e427e",
   "metadata": {},
   "outputs": [
    {
     "name": "stdout",
     "output_type": "stream",
     "text": [
      "4.5\n",
      "6.0\n",
      "27.0\n"
     ]
    }
   ],
   "source": [
    "def calculate_area(length,width):\n",
    "    area=length*width\n",
    "    return area\n",
    "length=float(input())\n",
    "width=float(input())\n",
    "result=calculate_area(length,width)\n",
    "print(result)"
   ]
  },
  {
   "cell_type": "markdown",
   "id": "3daa898f",
   "metadata": {},
   "source": [
    "**Task 2: Variables and Scope**"
   ]
  },
  {
   "cell_type": "markdown",
   "id": "dcb693b5",
   "metadata": {},
   "source": [
    "1. Create a Python program that performs the following tasks:\n",
    "\n",
    "- Define a global variable called \"count\" and initialize it with a value of 0.\n",
    "\n",
    "- Write a function called \"increment_count\" that increments the value of the \"count\" variable by 1.\n",
    "\n",
    "- Call the \"increment_count function three times.\n",
    "\n",
    "- Display the final value of the \"count\" variable."
   ]
  },
  {
   "cell_type": "code",
   "execution_count": 19,
   "id": "192e6f3c",
   "metadata": {},
   "outputs": [
    {
     "name": "stdout",
     "output_type": "stream",
     "text": [
      "3\n"
     ]
    }
   ],
   "source": [
    "count=0\n",
    "def increment_count():\n",
    "    global count\n",
    "    count+=1\n",
    "increment_count()\n",
    "increment_count()\n",
    "increment_count()\n",
    "print(count)"
   ]
  },
  {
   "cell_type": "markdown",
   "id": "df83fad3",
   "metadata": {},
   "source": [
    "**Task 3: Lambda Functions**"
   ]
  },
  {
   "cell_type": "markdown",
   "id": "da4b63f3",
   "metadata": {},
   "source": [
    "1. Create a lambda function called \"multiply_numbers\" that takes two parameters: num1 and num2.\n",
    "\n",
    "2. Inside the lambda function, multiply the two numbers and return the result.\n",
    "\n",
    "3. Prompt the user to enter two numbers.\n",
    "\n",
    "4. Call the lambda function with the user's Inputs as arguments and display the result."
   ]
  },
  {
   "cell_type": "code",
   "execution_count": 23,
   "id": "ae0a0dc0",
   "metadata": {},
   "outputs": [
    {
     "name": "stdout",
     "output_type": "stream",
     "text": [
      "5\n",
      "6\n"
     ]
    },
    {
     "data": {
      "text/plain": [
       "30"
      ]
     },
     "execution_count": 23,
     "metadata": {},
     "output_type": "execute_result"
    }
   ],
   "source": [
    "Multiply_numbers= lambda num1,num2 :num1*num2\n",
    "num1=int(input())\n",
    "num2=int(input())\n",
    "Multiply_numbers(num1,num2)"
   ]
  },
  {
   "cell_type": "code",
   "execution_count": null,
   "id": "ae80696b",
   "metadata": {},
   "outputs": [],
   "source": []
  }
 ],
 "metadata": {
  "kernelspec": {
   "display_name": "Python 3 (ipykernel)",
   "language": "python",
   "name": "python3"
  },
  "language_info": {
   "codemirror_mode": {
    "name": "ipython",
    "version": 3
   },
   "file_extension": ".py",
   "mimetype": "text/x-python",
   "name": "python",
   "nbconvert_exporter": "python",
   "pygments_lexer": "ipython3",
   "version": "3.11.3"
  }
 },
 "nbformat": 4,
 "nbformat_minor": 5
}
