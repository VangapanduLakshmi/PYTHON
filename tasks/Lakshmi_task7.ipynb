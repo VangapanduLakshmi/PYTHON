{
 "cells": [
  {
   "cell_type": "markdown",
   "id": "41ab1eff",
   "metadata": {},
   "source": [
    "**1. Append and Modify Elements**"
   ]
  },
  {
   "cell_type": "raw",
   "id": "89a500f7",
   "metadata": {},
   "source": [
    "1.Create an empty list called numbers.\n",
    "2.Append the numbers 1, 2, and 3 to the list.\n",
    "3.modify the element at index 1 to be 4.\n",
    "4.Print the updated list."
   ]
  },
  {
   "cell_type": "code",
   "execution_count": 4,
   "id": "ad27be59",
   "metadata": {},
   "outputs": [
    {
     "name": "stdout",
     "output_type": "stream",
     "text": [
      "[1, 2, 3]\n",
      "[1, 4, 2, 3]\n"
     ]
    }
   ],
   "source": [
    "numbers=[]\n",
    "numbers.append(1)\n",
    "numbers.append(2)\n",
    "numbers.append(3)\n",
    "print(numbers)\n",
    "numbers.insert(1,4)\n",
    "print(numbers)"
   ]
  },
  {
   "cell_type": "markdown",
   "id": "887a6419",
   "metadata": {},
   "source": [
    "**2.Slicing and Concatenation**"
   ]
  },
  {
   "cell_type": "raw",
   "id": "f7e2e1e4",
   "metadata": {},
   "source": [
    "i.   Create a list called fruits with elements apple\", \"banana\", \"orange\", \"mango\", and \"kiwi\". \n",
    "ii.  Create a new list called citrus by slicing fruits to include only the citrus fruits (orange\" and \"mango\"). \n",
    "iii. Create new list called tropical by slicing fruits to include only the tropical fruits (\"banana and \"kiwi\"). \n",
    "iV.  Concatenate citrus and tropical 11sts to create a new list called combined. Print combined."
   ]
  },
  {
   "cell_type": "code",
   "execution_count": 10,
   "id": "308cd484",
   "metadata": {},
   "outputs": [
    {
     "name": "stdout",
     "output_type": "stream",
     "text": [
      "['orange', 'mango', 'banana', 'kiwi']\n"
     ]
    }
   ],
   "source": [
    "fruits =[\"apple\", \"banana\", \"orange\", \"mango\",\"kiwi\"]\n",
    "citrus=fruits[2:4]\n",
    "tropical=[]\n",
    "tropical.append(fruits[1])\n",
    "tropical.append(fruits[-1])\n",
    "combined=citrus+tropical\n",
    "print(combined)"
   ]
  },
  {
   "cell_type": "markdown",
   "id": "2b5ba598",
   "metadata": {},
   "source": [
    "**3. Counting and Removing Elements**"
   ]
  },
  {
   "cell_type": "raw",
   "id": "9b226ba3",
   "metadata": {},
   "source": [
    "Create a list called colors with repeated elments \"red\", \"blue\", \"rad\", \"gre\", \"red\". \n",
    "Print the number of occurrences of \"red\" In the list. \n",
    "Remove all occurrences of red from the list.\n",
    "Print the updated list."
   ]
  },
  {
   "cell_type": "code",
   "execution_count": 11,
   "id": "837fe2e8",
   "metadata": {},
   "outputs": [
    {
     "name": "stdout",
     "output_type": "stream",
     "text": [
      "2\n",
      "['blue', 'rad', 'gre']\n"
     ]
    }
   ],
   "source": [
    "colors=[\"red\", \"blue\", \"rad\", \"gre\", \"red\"]\n",
    "print(colors.count(\"red\"))\n",
    "colors.remove(\"red\")\n",
    "colors.remove(\"red\")\n",
    "print(colors)"
   ]
  },
  {
   "cell_type": "markdown",
   "id": "267148e6",
   "metadata": {},
   "source": [
    "**4. List Manipulation**"
   ]
  },
  {
   "cell_type": "raw",
   "id": "83460cbe",
   "metadata": {},
   "source": [
    "Create a list called groceries with initial items: \"bread\", \"milk\", \"egg\", \"butter\"\n",
    "Add cheese to the end of the list. \n",
    "Remove milk from the list,\n",
    "Insert yogurt at index 1.\n",
    "Print the final list of groceries."
   ]
  },
  {
   "cell_type": "code",
   "execution_count": 12,
   "id": "f30909fb",
   "metadata": {},
   "outputs": [
    {
     "name": "stdout",
     "output_type": "stream",
     "text": [
      "['bread', 'yogurt', 'egg', 'butter', 'cheese']\n"
     ]
    }
   ],
   "source": [
    "groceries=[\"bread\", \"milk\", \"egg\", \"butter\"]\n",
    "groceries.append(\"cheese\")\n",
    "groceries.remove(\"milk\")\n",
    "groceries.insert(1,\"yogurt\")\n",
    "print(groceries)"
   ]
  },
  {
   "cell_type": "code",
   "execution_count": null,
   "id": "45afef2c",
   "metadata": {},
   "outputs": [],
   "source": []
  }
 ],
 "metadata": {
  "kernelspec": {
   "display_name": "Python 3 (ipykernel)",
   "language": "python",
   "name": "python3"
  },
  "language_info": {
   "codemirror_mode": {
    "name": "ipython",
    "version": 3
   },
   "file_extension": ".py",
   "mimetype": "text/x-python",
   "name": "python",
   "nbconvert_exporter": "python",
   "pygments_lexer": "ipython3",
   "version": "3.10.9"
  }
 },
 "nbformat": 4,
 "nbformat_minor": 5
}
