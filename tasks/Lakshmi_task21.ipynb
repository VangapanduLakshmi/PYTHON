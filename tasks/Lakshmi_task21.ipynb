{
 "cells": [
  {
   "cell_type": "code",
   "execution_count": 1,
   "id": "871bfd49",
   "metadata": {},
   "outputs": [],
   "source": [
    "class Restaurant:\n",
    "    def __init__(self,Menu,Tables,Orders,Staff,Payments):\n",
    "        self.Menu = Menu\n",
    "        self.Tables =Tables\n",
    "        self.Ordees = Orders\n",
    "        self.Staff = Staff\n",
    "        self.Payments = Payments\n",
    "    def Disply_Menu(self):\n",
    "        dic={}\n",
    "        no_menu_names=int(input())\n",
    "        for i in range(no_menu_names):\n",
    "            Menu_name=input()\n",
    "            no_of_food_types=int(input())\n",
    "            dict1={}\n",
    "            for i in range(no_of_food_types):\n",
    "                food_name=input()\n",
    "                food_cost=int(input())\n",
    "                dict1[food_name] = food_cost\n",
    "            dic[Menu_name]=dict1\n",
    "        print(dic)\n",
    "    def Manage_Tables(self):\n",
    "        no_of_tables=int(input())\n",
    "        dict_tables={}\n",
    "        for i in range(no_of_tables):\n",
    "            table_no = int(input(\"enter the table no:\"))\n",
    "            no_of_chairs = int(input())\n",
    "            dict_tables[table_no] = no_of_chairs\n",
    "        print(f\"total tables list:{dict_tables}\")\n",
    "        for i in dict_tables:\n",
    "            no_of_chairs= dict_tables[i]\n",
    "            no_of_occupancy=int(input())\n",
    "            if(no_of_occupancy== no_of_chairs):\n",
    "                print(f\" table {i}  is occupied\")\n",
    "            else:\n",
    "                print(f\"table {i} is vacant\")\n",
    "    def staff_management(self):\n",
    "        staff= {}\n",
    "        no_staff_names=int(input())\n",
    "        for i in range(no_staff_names):\n",
    "            staff_name=input()\n",
    "            no_of_workers=int(input())\n",
    "            for i in range(no_of_workers):\n",
    "                staff1= {}\n",
    "                worker_name =input()\n",
    "                worker_role = input()\n",
    "                staff1[worker_name] = worker_role\n",
    "            staff[staff_name] =staff1\n",
    "        print(staff)\n",
    "    def Tack_order(self):\n",
    "        dict_orders={}\n",
    "        no_of_items=int(input())\n",
    "        while(no_of_items>0):\n",
    "            item_name = input()\n",
    "            quantity=int(input())\n",
    "            dict_orders[item_name] = quantity\n",
    "            no_of_items=no_of_items-1\n",
    "        print(f\"Order{dict_orders}\")\n",
    "        self.process_order(dict_orders)\n",
    "    def process_order(self,orders):\n",
    "        length=len(orders)\n",
    "        if length >0:\n",
    "            print(\"preparing the orders\")\n",
    "        else:\n",
    "            print(\"there is no orders\")\n",
    "    "
   ]
  },
  {
   "cell_type": "code",
   "execution_count": 4,
   "id": "ebdd44fc",
   "metadata": {},
   "outputs": [],
   "source": [
    "Mehfil = Restaurant([\"main courses\",\"desserts\",\"appetizers\",\"soups\"],[\"Table numbers\",\"seating_capacity\",\"current_occupncy_status\"],[\"in progress\",\"served\",\"completed\"],[\"waiters\",\"chefs\",\"managers\"],[\"cash\",\"cards\",\"payment status\"])"
   ]
  },
  {
   "cell_type": "code",
   "execution_count": 3,
   "id": "2d5a5817",
   "metadata": {},
   "outputs": [
    {
     "name": "stdout",
     "output_type": "stream",
     "text": [
      "2\n",
      "soups\n",
      "3\n",
      "chicken noodle soup\n",
      "300\n",
      "cream soup\n",
      "250\n",
      "tomato soup\n",
      "500\n",
      "Pizza's\n",
      "5\n",
      "california pizza\n",
      "300\n",
      "sicilian pizza\n",
      "450\n",
      "greek pizza\n",
      "500\n",
      "brick oven pizza\n",
      "600\n",
      "neapolitan pizza\n",
      "280\n",
      "{'soups': {'chicken noodle soup': 300, 'cream soup': 250, 'tomato soup': 500}, \"Pizza's\": {'california pizza': 300, 'sicilian pizza': 450, 'greek pizza': 500, 'brick oven pizza': 600, 'neapolitan pizza': 280}}\n"
     ]
    }
   ],
   "source": [
    "Mehfil.Disply_Menu()"
   ]
  },
  {
   "cell_type": "code",
   "execution_count": 3,
   "id": "b5a5ace7",
   "metadata": {},
   "outputs": [
    {
     "name": "stdout",
     "output_type": "stream",
     "text": [
      "5\n",
      "enter the table no:1\n",
      "4\n",
      "enter the table no:2\n",
      "6\n",
      "enter the table no:3\n",
      "3\n",
      "enter the table no:4\n",
      "4\n",
      "enter the table no:5\n",
      "2\n",
      "total tables list:{1: 4, 2: 6, 3: 3, 4: 4, 5: 2}\n",
      "3\n",
      "table 1 is vacant\n",
      "6\n",
      " table 2  is occupied\n",
      "2\n",
      "table 3 is vacant\n",
      "4\n",
      " table 4  is occupied\n",
      "2\n",
      " table 5  is occupied\n"
     ]
    }
   ],
   "source": [
    "Mehfil.Manage_Tables()"
   ]
  },
  {
   "cell_type": "code",
   "execution_count": 6,
   "id": "0aeba4df",
   "metadata": {},
   "outputs": [
    {
     "name": "stdout",
     "output_type": "stream",
     "text": [
      "3\n",
      "cheff_staff\n",
      "3\n",
      "ram\n",
      "cheff\n",
      "ramesh\n",
      "cheff\n",
      "ragesh\n",
      "helping for cheff\n",
      "bill management staff\n",
      "2\n",
      "lakshmi\n",
      "account manager\n",
      "sravani\n",
      "collect the bills\n",
      "waiters\n",
      "4\n",
      "surash\n",
      "food serve\n",
      "sum\n",
      "cleaning\n",
      "santhu\n",
      "cleaning\n",
      "ravi\n",
      "food serve\n",
      "{'cheff_staff': {'ragesh': 'helping for cheff'}, 'bill management staff': {'sravani': 'collect the bills'}, 'waiters': {'ravi': 'food serve'}}\n"
     ]
    }
   ],
   "source": [
    "Mehfil.staff_management()"
   ]
  },
  {
   "cell_type": "code",
   "execution_count": 3,
   "id": "9234d85a",
   "metadata": {},
   "outputs": [
    {
     "name": "stdout",
     "output_type": "stream",
     "text": [
      "2\n",
      "greek pizza\n",
      "2\n",
      "tomato soup\n",
      "1\n",
      "Order{'greek pizza': 2, 'tomato soup': 1}\n",
      "preparing the orders\n"
     ]
    }
   ],
   "source": [
    "Mehfil.Tack_order()"
   ]
  },
  {
   "cell_type": "code",
   "execution_count": 5,
   "id": "9ae861e9",
   "metadata": {},
   "outputs": [
    {
     "data": {
      "text/plain": [
       "['waiters', 'chefs', 'managers']"
      ]
     },
     "execution_count": 5,
     "metadata": {},
     "output_type": "execute_result"
    }
   ],
   "source": [
    "Mehfil.Staff"
   ]
  },
  {
   "cell_type": "code",
   "execution_count": null,
   "id": "383e6a1f",
   "metadata": {},
   "outputs": [],
   "source": []
  }
 ],
 "metadata": {
  "kernelspec": {
   "display_name": "Python 3 (ipykernel)",
   "language": "python",
   "name": "python3"
  },
  "language_info": {
   "codemirror_mode": {
    "name": "ipython",
    "version": 3
   },
   "file_extension": ".py",
   "mimetype": "text/x-python",
   "name": "python",
   "nbconvert_exporter": "python",
   "pygments_lexer": "ipython3",
   "version": "3.11.3"
  }
 },
 "nbformat": 4,
 "nbformat_minor": 5
}
