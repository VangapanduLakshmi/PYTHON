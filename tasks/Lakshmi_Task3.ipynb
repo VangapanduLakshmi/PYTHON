{
 "cells": [
  {
   "cell_type": "markdown",
   "id": "4ff8f52d",
   "metadata": {},
   "source": [
    "1. write a python program that takes two numbers as input and perform the bitwise AND operation on them"
   ]
  },
  {
   "cell_type": "code",
   "execution_count": 1,
   "id": "a2036d79",
   "metadata": {},
   "outputs": [
    {
     "data": {
      "text/plain": [
       "0"
      ]
     },
     "execution_count": 1,
     "metadata": {},
     "output_type": "execute_result"
    }
   ],
   "source": [
    "num1=20\n",
    "num2=40\n",
    "num1&num2"
   ]
  },
  {
   "cell_type": "markdown",
   "id": "af8f3a49",
   "metadata": {},
   "source": [
    "2. write a python program that takes two numbers as input and checks if the first number is greater than the second number"
   ]
  },
  {
   "cell_type": "code",
   "execution_count": 2,
   "id": "58902956",
   "metadata": {},
   "outputs": [
    {
     "name": "stdout",
     "output_type": "stream",
     "text": [
      "minimum\n"
     ]
    }
   ],
   "source": [
    "a=10\n",
    "b=20\n",
    "if(a>b):\n",
    "    print(\"maximum\")\n",
    "else:\n",
    "    print(\"minimum\")"
   ]
  },
  {
   "cell_type": "markdown",
   "id": "547fe1bb",
   "metadata": {},
   "source": [
    "3. Write a python program to calculate the average of three numbers using the arithmetic operators"
   ]
  },
  {
   "cell_type": "code",
   "execution_count": 5,
   "id": "85395891",
   "metadata": {},
   "outputs": [
    {
     "name": "stdout",
     "output_type": "stream",
     "text": [
      "40.0\n"
     ]
    }
   ],
   "source": [
    "a=10\n",
    "b=20\n",
    "c=30\n",
    "avg=a+b+c/3\n",
    "print(avg)"
   ]
  },
  {
   "cell_type": "markdown",
   "id": "52f872de",
   "metadata": {},
   "source": [
    "4. write a python program that checks if a given element is present in a list using the \"in\" operator"
   ]
  },
  {
   "cell_type": "code",
   "execution_count": 7,
   "id": "139257b7",
   "metadata": {},
   "outputs": [
    {
     "data": {
      "text/plain": [
       "False"
      ]
     },
     "execution_count": 7,
     "metadata": {},
     "output_type": "execute_result"
    }
   ],
   "source": [
    "lst=[\"lakshmi\", \"innomatics\", \"research lab\"]\n",
    "\"la\" in lst"
   ]
  },
  {
   "cell_type": "code",
   "execution_count": 8,
   "id": "ac9a7a60",
   "metadata": {},
   "outputs": [
    {
     "data": {
      "text/plain": [
       "True"
      ]
     },
     "execution_count": 8,
     "metadata": {},
     "output_type": "execute_result"
    }
   ],
   "source": [
    "\"lakshmi\" in lst"
   ]
  },
  {
   "cell_type": "code",
   "execution_count": 9,
   "id": "48badbb1",
   "metadata": {},
   "outputs": [
    {
     "data": {
      "text/plain": [
       "False"
      ]
     },
     "execution_count": 9,
     "metadata": {},
     "output_type": "execute_result"
    }
   ],
   "source": [
    "\"inno\" in lst"
   ]
  },
  {
   "cell_type": "code",
   "execution_count": 10,
   "id": "8704c8f6",
   "metadata": {},
   "outputs": [
    {
     "data": {
      "text/plain": [
       "False"
      ]
     },
     "execution_count": 10,
     "metadata": {},
     "output_type": "execute_result"
    }
   ],
   "source": [
    "\" research lab\" in lst"
   ]
  },
  {
   "cell_type": "code",
   "execution_count": 11,
   "id": "51c27a2f",
   "metadata": {},
   "outputs": [
    {
     "data": {
      "text/plain": [
       "True"
      ]
     },
     "execution_count": 11,
     "metadata": {},
     "output_type": "execute_result"
    }
   ],
   "source": [
    "\"research lab\" in lst"
   ]
  },
  {
   "cell_type": "markdown",
   "id": "7407c69d",
   "metadata": {},
   "source": [
    "5. write a python program that compares two variables using the \"is\" operator and checks if they refer to the same object."
   ]
  },
  {
   "cell_type": "code",
   "execution_count": 12,
   "id": "bdf88a8e",
   "metadata": {},
   "outputs": [
    {
     "data": {
      "text/plain": [
       "True"
      ]
     },
     "execution_count": 12,
     "metadata": {},
     "output_type": "execute_result"
    }
   ],
   "source": [
    "a=10\n",
    "b=10\n",
    "a is b\n"
   ]
  },
  {
   "cell_type": "code",
   "execution_count": 15,
   "id": "cba5f1b5",
   "metadata": {},
   "outputs": [
    {
     "data": {
      "text/plain": [
       "140721078047816"
      ]
     },
     "execution_count": 15,
     "metadata": {},
     "output_type": "execute_result"
    }
   ],
   "source": [
    "id(a) "
   ]
  },
  {
   "cell_type": "code",
   "execution_count": 16,
   "id": "448b2b38",
   "metadata": {},
   "outputs": [
    {
     "data": {
      "text/plain": [
       "140721078047816"
      ]
     },
     "execution_count": 16,
     "metadata": {},
     "output_type": "execute_result"
    }
   ],
   "source": [
    "id(b)"
   ]
  },
  {
   "cell_type": "code",
   "execution_count": 19,
   "id": "99899fa9",
   "metadata": {},
   "outputs": [
    {
     "data": {
      "text/plain": [
       "False"
      ]
     },
     "execution_count": 19,
     "metadata": {},
     "output_type": "execute_result"
    }
   ],
   "source": [
    "a=10.5\n",
    "b=10.5\n",
    "a is b"
   ]
  },
  {
   "cell_type": "code",
   "execution_count": 20,
   "id": "1ab510bf",
   "metadata": {},
   "outputs": [
    {
     "data": {
      "text/plain": [
       "1835944250160"
      ]
     },
     "execution_count": 20,
     "metadata": {},
     "output_type": "execute_result"
    }
   ],
   "source": [
    "id(a)"
   ]
  },
  {
   "cell_type": "code",
   "execution_count": 21,
   "id": "b78b4f2c",
   "metadata": {},
   "outputs": [
    {
     "data": {
      "text/plain": [
       "1835944252048"
      ]
     },
     "execution_count": 21,
     "metadata": {},
     "output_type": "execute_result"
    }
   ],
   "source": [
    "id(b)"
   ]
  },
  {
   "cell_type": "code",
   "execution_count": 22,
   "id": "67712c62",
   "metadata": {},
   "outputs": [
    {
     "data": {
      "text/plain": [
       "False"
      ]
     },
     "execution_count": 22,
     "metadata": {},
     "output_type": "execute_result"
    }
   ],
   "source": [
    "a=\"lakshmi\"\n",
    "b=\"innomatics\"\n",
    "a is b"
   ]
  },
  {
   "cell_type": "code",
   "execution_count": 23,
   "id": "11feb84e",
   "metadata": {},
   "outputs": [
    {
     "data": {
      "text/plain": [
       "1835944480560"
      ]
     },
     "execution_count": 23,
     "metadata": {},
     "output_type": "execute_result"
    }
   ],
   "source": [
    "id(a)"
   ]
  },
  {
   "cell_type": "code",
   "execution_count": 24,
   "id": "acb2f693",
   "metadata": {},
   "outputs": [
    {
     "data": {
      "text/plain": [
       "1835944481008"
      ]
     },
     "execution_count": 24,
     "metadata": {},
     "output_type": "execute_result"
    }
   ],
   "source": [
    "id(b)"
   ]
  },
  {
   "cell_type": "code",
   "execution_count": null,
   "id": "cf7e493f",
   "metadata": {},
   "outputs": [],
   "source": []
  }
 ],
 "metadata": {
  "kernelspec": {
   "display_name": "Python 3 (ipykernel)",
   "language": "python",
   "name": "python3"
  },
  "language_info": {
   "codemirror_mode": {
    "name": "ipython",
    "version": 3
   },
   "file_extension": ".py",
   "mimetype": "text/x-python",
   "name": "python",
   "nbconvert_exporter": "python",
   "pygments_lexer": "ipython3",
   "version": "3.11.3"
  }
 },
 "nbformat": 4,
 "nbformat_minor": 5
}
