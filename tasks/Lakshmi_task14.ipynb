{
 "cells": [
  {
   "cell_type": "markdown",
   "id": "f9f01498",
   "metadata": {},
   "source": [
    "**1. Write a function called \"add_numbers\" that takes two integers as input and returns their sum.**"
   ]
  },
  {
   "cell_type": "code",
   "execution_count": 4,
   "id": "07eb6920",
   "metadata": {},
   "outputs": [
    {
     "name": "stdout",
     "output_type": "stream",
     "text": [
      "5\n",
      "8\n",
      "13\n"
     ]
    }
   ],
   "source": [
    "def add_numbers(a,b):\n",
    "    s=a+b\n",
    "    return s\n",
    "a=int(input())\n",
    "b=int(input())\n",
    "print(add_numbers(a,b))"
   ]
  },
  {
   "cell_type": "markdown",
   "id": "27eb79d7",
   "metadata": {},
   "source": [
    "**2. Write a function called \"multiply_numbers\" that takes two integers as input and returns their product.**"
   ]
  },
  {
   "cell_type": "code",
   "execution_count": 5,
   "id": "a604ae87",
   "metadata": {},
   "outputs": [
    {
     "name": "stdout",
     "output_type": "stream",
     "text": [
      "6\n",
      "9\n",
      "54\n"
     ]
    }
   ],
   "source": [
    "def multiply_numbers(a,b):\n",
    "    s=a*b\n",
    "    return s\n",
    "a=int(input())\n",
    "b=int(input())\n",
    "result=multiply_numbers(a,b)\n",
    "print(result)"
   ]
  },
  {
   "cell_type": "markdown",
   "id": "bc47c5f9",
   "metadata": {},
   "source": [
    "**3. Write a function called \"calculate_average that takes a list of numbers as input and returns the average of those numbers.**"
   ]
  },
  {
   "cell_type": "code",
   "execution_count": 10,
   "id": "45643ce8",
   "metadata": {},
   "outputs": [
    {
     "name": "stdout",
     "output_type": "stream",
     "text": [
      "1 2 3 4 5\n",
      "3.0\n"
     ]
    }
   ],
   "source": [
    "def calculate_average(lst):\n",
    "    sum=0\n",
    "    n=len(lst)\n",
    "    for i in lst:\n",
    "        sum=sum+i\n",
    "    average=sum/n\n",
    "    return average\n",
    "lst=list(map(int,input().split()))\n",
    "result=calculate_average(lst)\n",
    "print(result)       "
   ]
  },
  {
   "cell_type": "markdown",
   "id": "4acf8974",
   "metadata": {},
   "source": [
    "**4. Write a function called \"is even that takes an Integer as Input and returns True If the number is even, and False otherwise.**"
   ]
  },
  {
   "cell_type": "code",
   "execution_count": 12,
   "id": "496d9c04",
   "metadata": {},
   "outputs": [
    {
     "name": "stdout",
     "output_type": "stream",
     "text": [
      "4\n",
      "True\n"
     ]
    }
   ],
   "source": [
    "def is_even(n):\n",
    "    if n%2==0:\n",
    "        return True\n",
    "    else:\n",
    "        return False\n",
    "n=int(input())\n",
    "result=is_even(n)\n",
    "print(result)"
   ]
  },
  {
   "cell_type": "markdown",
   "id": "b88dd635",
   "metadata": {},
   "source": [
    "**5. Write a function called \"is_prime\" that takes an Integer as Input and returns True if the number Is prime, and False otherwise.**"
   ]
  },
  {
   "cell_type": "code",
   "execution_count": 22,
   "id": "b7a1524d",
   "metadata": {},
   "outputs": [
    {
     "name": "stdout",
     "output_type": "stream",
     "text": [
      "11\n",
      "True\n"
     ]
    }
   ],
   "source": [
    "def is_prime(n):\n",
    "    count=0\n",
    "    for i in range(1,n+1):\n",
    "        if(n%i==0):\n",
    "            count=count+1\n",
    "    if(count==2):\n",
    "        return True\n",
    "    else:\n",
    "        return False\n",
    "n=int(input())\n",
    "result=is_prime(n)\n",
    "print(result)\n",
    "            "
   ]
  },
  {
   "cell_type": "markdown",
   "id": "de1416bb",
   "metadata": {},
   "source": [
    "**6. Write a function called \"reverse_string\" that takes a string as input and returns the reverse of that string.**"
   ]
  },
  {
   "cell_type": "code",
   "execution_count": 24,
   "id": "8164718d",
   "metadata": {},
   "outputs": [
    {
     "name": "stdout",
     "output_type": "stream",
     "text": [
      "innomatics research lab\n",
      "bal hcraeser scitamonni\n"
     ]
    }
   ],
   "source": [
    "def revers_string(string):\n",
    "    a=len(string)+1\n",
    "    s=string[-1:-a:-1]\n",
    "    return s\n",
    "string=input()\n",
    "result=revers_string(string)\n",
    "print(result)"
   ]
  },
  {
   "cell_type": "markdown",
   "id": "15e088d7",
   "metadata": {},
   "source": [
    "**7. Write a function called \"count vowels\" that takes a string as input and returns the number of vowels (a, e, i, o, u) in that string.**"
   ]
  },
  {
   "cell_type": "code",
   "execution_count": 29,
   "id": "ae499537",
   "metadata": {},
   "outputs": [
    {
     "name": "stdout",
     "output_type": "stream",
     "text": [
      "innomatics research lab\n",
      "8\n"
     ]
    }
   ],
   "source": [
    "def count_vowels(string):\n",
    "    lst=[\"a\",\"e\",\"i\",\"o\",\"u\",\"A\",\"E\",\"I\",\"O\",\"U\"]\n",
    "    count=0\n",
    "    for i in string:\n",
    "        if i in lst:\n",
    "            count+=1\n",
    "    return count\n",
    "string=input()\n",
    "result=count_vowels(string)\n",
    "print(result)\n",
    "            "
   ]
  },
  {
   "cell_type": "markdown",
   "id": "96423649",
   "metadata": {},
   "source": [
    "**8. Write a function called \"find_max\" that takes a list of numbers as input and returns the maximum value in that list**"
   ]
  },
  {
   "cell_type": "code",
   "execution_count": 30,
   "id": "ac8950d3",
   "metadata": {},
   "outputs": [
    {
     "name": "stdout",
     "output_type": "stream",
     "text": [
      "23 45 76 93 12 35 10 5\n",
      "5\n"
     ]
    }
   ],
   "source": [
    "def find_min(lst):\n",
    "    minimum=0\n",
    "    for i in range(len(lst)-1):\n",
    "        for j in range(i+1,len(lst)):\n",
    "            if(lst[i]<lst[j]):\n",
    "                minimum=lst[i]\n",
    "            else:\n",
    "                minimum=lst[j]\n",
    "        if(minimum<lst[i+1]):\n",
    "            continue\n",
    "        else:\n",
    "            minimum=lst[i+1]\n",
    "    return minimum\n",
    "lst=list(map(int,input().split()))\n",
    "result=find_min(lst)\n",
    "print(result)"
   ]
  },
  {
   "cell_type": "markdown",
   "id": "112c1f8f",
   "metadata": {},
   "source": [
    "**9. Write a function called \"find_min\" that takes a list of numbers as input and returns the minimum value in that list.**"
   ]
  },
  {
   "cell_type": "code",
   "execution_count": 34,
   "id": "84472691",
   "metadata": {},
   "outputs": [
    {
     "name": "stdout",
     "output_type": "stream",
     "text": [
      "12 43 57 98 34 2 5 90\n",
      "98\n"
     ]
    }
   ],
   "source": [
    "def find_max(lst):\n",
    "    maximum=0\n",
    "    for i in range(len(lst)-1):\n",
    "        if maximum>lst[i]:\n",
    "            continue\n",
    "        else:\n",
    "            maximum=lst[i]\n",
    "    return maximum\n",
    "lst=list(map(int,input().split()))\n",
    "result=find_max(lst)\n",
    "print(result)"
   ]
  },
  {
   "cell_type": "code",
   "execution_count": null,
   "id": "7307607e",
   "metadata": {},
   "outputs": [],
   "source": []
  }
 ],
 "metadata": {
  "kernelspec": {
   "display_name": "Python 3 (ipykernel)",
   "language": "python",
   "name": "python3"
  },
  "language_info": {
   "codemirror_mode": {
    "name": "ipython",
    "version": 3
   },
   "file_extension": ".py",
   "mimetype": "text/x-python",
   "name": "python",
   "nbconvert_exporter": "python",
   "pygments_lexer": "ipython3",
   "version": "3.11.3"
  }
 },
 "nbformat": 4,
 "nbformat_minor": 5
}
