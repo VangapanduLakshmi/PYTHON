{
 "cells": [
  {
   "cell_type": "markdown",
   "id": "50d3d818",
   "metadata": {},
   "source": [
    "**Task 1:** \n",
    "\n",
    "Write a code snippet that uses a loop to calculate the sum of all even numbers from 1 to 50 (inclusive). Print the final sum. "
   ]
  },
  {
   "cell_type": "code",
   "execution_count": 1,
   "id": "69135771",
   "metadata": {},
   "outputs": [
    {
     "name": "stdout",
     "output_type": "stream",
     "text": [
      "650\n"
     ]
    }
   ],
   "source": [
    "sum=0\n",
    "for i in range(1,51):\n",
    "    if(i%2==0):\n",
    "        sum=sum+i\n",
    "print(sum)"
   ]
  },
  {
   "cell_type": "markdown",
   "id": "05c9d3de",
   "metadata": {},
   "source": [
    "**Task 2:** \n",
    "\n",
    "Write a code snippet that uses a loop to iterate over a list of numbers. If a number is divisible by 3, print \"Fizz\". \n",
    "If a number is divisible by 5, print \"Buzz\". If a number is divisible by both 3 and 5, print \"FizzBuzz\". Otherwise, print the number itself. "
   ]
  },
  {
   "cell_type": "code",
   "execution_count": 1,
   "id": "9eab7de8",
   "metadata": {},
   "outputs": [
    {
     "name": "stdout",
     "output_type": "stream",
     "text": [
      "34,56,78,9,15,50\n",
      "Buzz\n",
      "Buzz\n",
      "Fizz\n",
      "Fizz\n",
      "FizzBuzz\n",
      "Buzz\n"
     ]
    }
   ],
   "source": [
    "lst=list(map(int,input().split(\",\")))\n",
    "for i in range(len(lst)):\n",
    "    if(lst[i]%5==0 and lst[i]%3==0):\n",
    "        print(\"FizzBuzz\")\n",
    "    elif(lst[i]%3==0):\n",
    "        print(\"Fizz\")\n",
    "    else:\n",
    "        print(\"Buzz\")"
   ]
  },
  {
   "cell_type": "markdown",
   "id": "bb10a80a",
   "metadata": {},
   "source": [
    "**Task 3:**\n",
    "\n",
    "Write a code snippet that uses a loop to iterate over a string. If a character is a vowel (a, e, i, o, u), skip it and continue to the next iteration. Print the remaining characters. "
   ]
  },
  {
   "cell_type": "code",
   "execution_count": 10,
   "id": "f6950f0f",
   "metadata": {},
   "outputs": [
    {
     "name": "stdout",
     "output_type": "stream",
     "text": [
      "innomatics research lab\n",
      "n n m t c s   r s r c h   l b "
     ]
    }
   ],
   "source": [
    "name=input()\n",
    "vowel=[\"a\",\"e\",\"i\",\"o\",\"u\",\"A\",\"E\",\"I\",\"O\",\"U\"]\n",
    "for i in name:\n",
    "    if i in vowel:\n",
    "        continue\n",
    "    else:\n",
    "        print(i,end=\" \")"
   ]
  },
  {
   "cell_type": "markdown",
   "id": "899f88c5",
   "metadata": {},
   "source": [
    "**Task 4:** \n",
    "\n",
    "Write a code snippet that uses a loop to find the smallest number in a given list. Once the smallest number is found, break out of the loop and print the result. "
   ]
  },
  {
   "cell_type": "code",
   "execution_count": 14,
   "id": "70e664d3",
   "metadata": {},
   "outputs": [
    {
     "name": "stdout",
     "output_type": "stream",
     "text": [
      "34,56,78,34,56,78,23,45,21,12,11,43\n",
      "11\n"
     ]
    }
   ],
   "source": [
    "lst=list(map(int,input().split(\",\")))\n",
    "min=0\n",
    "for i in range(len(lst)-1):\n",
    "    for j in range(i+1, len(lst)):\n",
    "        if(lst[i]<lst[j]):\n",
    "            min=lst[i]\n",
    "        else:\n",
    "            min=lst[j]\n",
    "    if(min<lst[i+1]):\n",
    "        continue\n",
    "    else:\n",
    "        min=lst[i+1]\n",
    "print(min)"
   ]
  },
  {
   "cell_type": "markdown",
   "id": "d8583fbb",
   "metadata": {},
   "source": [
    "**Task 5:** \n",
    "\n",
    "Write a code snippet that uses a loop to iterate over a list of strings. If a string starts with the letter \"A\", skip it and continue to the next iteration. Print the remaining strings. "
   ]
  },
  {
   "cell_type": "code",
   "execution_count": 6,
   "id": "78f0b20d",
   "metadata": {},
   "outputs": [
    {
     "name": "stdout",
     "output_type": "stream",
     "text": [
      "Banana\n",
      "Butterfly\n",
      "Custard apple\n",
      "Cow\n"
     ]
    }
   ],
   "source": [
    "lst=[\"Apple\",\"Ant\",\"Banana\",\"Butterfly\",\"Custard apple\",\"Cow\"]\n",
    "for i in range(len(lst)):\n",
    "    if(lst[i].startswith(\"A\")):\n",
    "        continue\n",
    "    else:\n",
    "        print(lst[i])"
   ]
  },
  {
   "cell_type": "markdown",
   "id": "07dabb24",
   "metadata": {},
   "source": [
    "**Task 6:**\n",
    "\n",
    "Write a code snippet that uses a loop to iterate over a range of numbers from 1 to 10. If a number is divisible by 2, add 1 to it and continue to the next iteration. Print the modified numbers. "
   ]
  },
  {
   "cell_type": "code",
   "execution_count": 5,
   "id": "f1827ca1",
   "metadata": {},
   "outputs": [
    {
     "name": "stdout",
     "output_type": "stream",
     "text": [
      "3\n",
      "5\n",
      "7\n",
      "9\n"
     ]
    }
   ],
   "source": [
    "for i in range(1,10):\n",
    "    if(i%2==0):\n",
    "        print(i+1)"
   ]
  },
  {
   "cell_type": "markdown",
   "id": "1b47a82b",
   "metadata": {},
   "source": [
    "**Task 7:** \n",
    "\n",
    "Write a code snippet that uses a loop to iterate over a list of names. If a name starts with the letter \"J\", print \"Goodbye\" and break out of the loop. Otherwise, print \"Hello\" followed by the name. "
   ]
  },
  {
   "cell_type": "code",
   "execution_count": 4,
   "id": "bb528e02",
   "metadata": {},
   "outputs": [
    {
     "name": "stdout",
     "output_type": "stream",
     "text": [
      "Hello Lakshmi\n",
      "Hello abhilasha\n",
      "Hello grash\n",
      "Goodbye\n"
     ]
    }
   ],
   "source": [
    "lst=[\"Lakshmi\",\"abhilasha\",\"grash\",\"John\",\"sravani\"]\n",
    "for i in range(len(lst)):\n",
    "    if(lst[i].startswith(\"J\")):\n",
    "        print(\"Goodbye\")\n",
    "        break\n",
    "    else:\n",
    "        print(f\"Hello {lst[i]}\")"
   ]
  },
  {
   "cell_type": "markdown",
   "id": "224f8bd3",
   "metadata": {},
   "source": [
    "**Task 8:**\n",
    "\n",
    "Write a code snippet that uses a loop to iterate over a string. If a character is a space, skip it and continue to the next iteration. Print the remaining characters. "
   ]
  },
  {
   "cell_type": "code",
   "execution_count": 3,
   "id": "d3324636",
   "metadata": {},
   "outputs": [
    {
     "name": "stdout",
     "output_type": "stream",
     "text": [
      "innomatics research lab\n",
      "innomaticsresearchlab"
     ]
    }
   ],
   "source": [
    "string=input()\n",
    "for i in string:\n",
    "    if(i==\" \"):\n",
    "        continue\n",
    "    else:\n",
    "        print(i,end=\"\")"
   ]
  }
 ],
 "metadata": {
  "kernelspec": {
   "display_name": "Python 3 (ipykernel)",
   "language": "python",
   "name": "python3"
  },
  "language_info": {
   "codemirror_mode": {
    "name": "ipython",
    "version": 3
   },
   "file_extension": ".py",
   "mimetype": "text/x-python",
   "name": "python",
   "nbconvert_exporter": "python",
   "pygments_lexer": "ipython3",
   "version": "3.11.3"
  }
 },
 "nbformat": 4,
 "nbformat_minor": 5
}
