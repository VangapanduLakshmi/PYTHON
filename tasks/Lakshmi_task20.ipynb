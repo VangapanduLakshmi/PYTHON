{
 "cells": [
  {
   "cell_type": "markdown",
   "id": "bbf3bab4",
   "metadata": {},
   "source": [
    "# File handling + Time module"
   ]
  },
  {
   "cell_type": "markdown",
   "id": "666c5854",
   "metadata": {},
   "source": [
    "**Task Description**"
   ]
  },
  {
   "cell_type": "markdown",
   "id": "72e38717",
   "metadata": {},
   "source": [
    "\n",
    "Create a Python script that simulates a simple login system. The script should prompt the user to enter their username and password. If the entered username and password match the predefined credentials, the script should log a successful login event to a log file. If the credentials do not match, it should log a failed login attempt to the log file.\n"
   ]
  },
  {
   "cell_type": "markdown",
   "id": "fec43b4b",
   "metadata": {},
   "source": [
    "**Example Output**"
   ]
  },
  {
   "cell_type": "markdown",
   "id": "3ce5aa96",
   "metadata": {},
   "source": [
    "\n",
    "Assuming the predefined credentials are `username: \"user123\"` and `password: \"pass123\"`, here's an example output of the script:\n"
   ]
  },
  {
   "cell_type": "code",
   "execution_count": 1,
   "id": "5cca278a",
   "metadata": {},
   "outputs": [
    {
     "name": "stdout",
     "output_type": "stream",
     "text": [
      "2\n",
      "lakshmi123\n",
      "pass123\n",
      "admin\n",
      "pass456\n"
     ]
    }
   ],
   "source": [
    "import time\n",
    "with open(\"login.txt\",\"w+\") as file:\n",
    "    n=int(input())\n",
    "    for i in range(n):\n",
    "        user_name=input()\n",
    "        password=input()\n",
    "        file.write(f\"Please Enter your Username:{user_name}\\n\")\n",
    "        file.write(f\"Please Enter your Password:{password}\\n\")\n",
    "        login_time=time.strftime(\"%Y-%m-%d %H:%M:%S\")\n",
    "        file.write(f\"login successfully for {user_name}:{login_time}\\n\")\n"
   ]
  },
  {
   "cell_type": "code",
   "execution_count": 3,
   "id": "8fb8f4e9",
   "metadata": {},
   "outputs": [
    {
     "name": "stdout",
     "output_type": "stream",
     "text": [
      "Please Enter your Username:lakshmi123\n",
      "Please Enter your Password:pass123\n",
      "login successfully for lakshmi123:2023-07-26 20:06:40\n",
      "Please Enter your Username:admin\n",
      "Please Enter your Password:pass456\n",
      "login successfully for admin:2023-07-26 20:06:49\n",
      "\n"
     ]
    }
   ],
   "source": [
    "with open(\"login.txt\",\"r\") as f1:\n",
    "    print(f1.read())"
   ]
  },
  {
   "cell_type": "markdown",
   "id": "5fddcb21",
   "metadata": {},
   "source": [
    "# Modules:"
   ]
  },
  {
   "cell_type": "raw",
   "id": "bbef0094",
   "metadata": {},
   "source": [
    "\n",
    "Create any 5 of following modules\n",
    "Restaurant    **\n",
    "IPL\n",
    "Mathematics\n",
    "Data Science  **\n",
    "India\n",
    "Shopping mall\n",
    "Amazon_price   **\n"
   ]
  },
  {
   "cell_type": "code",
   "execution_count": 5,
   "id": "620aad3a",
   "metadata": {},
   "outputs": [],
   "source": [
    "import Restaurant as r"
   ]
  },
  {
   "cell_type": "code",
   "execution_count": 7,
   "id": "dca9eba7",
   "metadata": {},
   "outputs": [
    {
     "name": "stdout",
     "output_type": "stream",
     "text": [
      "food\n",
      "veg_items\n",
      "Nonveg_items\n",
      "Ice_creams\n",
      "pizza's\n",
      "soups\n",
      "staters\n",
      "Drinks\n"
     ]
    }
   ],
   "source": [
    "r.Menu()"
   ]
  },
  {
   "cell_type": "code",
   "execution_count": 8,
   "id": "aa71bfe3",
   "metadata": {},
   "outputs": [
    {
     "name": "stdout",
     "output_type": "stream",
     "text": [
      "Sandvich\n",
      "Soups\n",
      "Staters\n",
      "Pizza's\n",
      "Biryani\n"
     ]
    }
   ],
   "source": [
    "r.veg_items()"
   ]
  },
  {
   "cell_type": "code",
   "execution_count": 9,
   "id": "21ffe533",
   "metadata": {},
   "outputs": [
    {
     "name": "stdout",
     "output_type": "stream",
     "text": [
      "Plain Cheese Pizza\n",
      "Capsicum, Onion Pizza\n",
      "Tomato, Onion Pizza\n",
      "Capsicum, Onion, Mashroom Pizza\n",
      "Jain Spl. Pizza\n",
      "Tandoori Pizza\n"
     ]
    }
   ],
   "source": [
    "r.Pizza()"
   ]
  },
  {
   "cell_type": "code",
   "execution_count": 10,
   "id": "3f0e018e",
   "metadata": {},
   "outputs": [
    {
     "name": "stdout",
     "output_type": "stream",
     "text": [
      "Chicken Biryani\n",
      "Mutton Biryani\n",
      "Fish Biryani\n",
      "Egg Biryani\n",
      "Hyderabadi Dum Biryani\n"
     ]
    }
   ],
   "source": [
    "r.Nonveg_Biryani()"
   ]
  },
  {
   "cell_type": "code",
   "execution_count": 11,
   "id": "ad97bfd7",
   "metadata": {},
   "outputs": [
    {
     "name": "stdout",
     "output_type": "stream",
     "text": [
      "plain sandvich\n",
      "Grilled Sandwic\n",
      "Club Sandwich\n"
     ]
    }
   ],
   "source": [
    "r.sandvich()"
   ]
  },
  {
   "cell_type": "code",
   "execution_count": 12,
   "id": "0b0be804",
   "metadata": {},
   "outputs": [
    {
     "name": "stdout",
     "output_type": "stream",
     "text": [
      "Vegetable Dum Biryani\n",
      "Paneer (Cottage Cheese) Biryani\n",
      "Mushroom Biryani\n",
      "Soya Chunk Biryani\n",
      "Jackfruit Biryani\n",
      "Potato Biryani\n",
      "Spinach and Peas Biryani\n",
      "Mixed Vegetable Biryani\n",
      "Corn and Bell Pepper Biryani\n"
     ]
    }
   ],
   "source": [
    "r.veg_Biryani()"
   ]
  },
  {
   "cell_type": "code",
   "execution_count": 13,
   "id": "eed68616",
   "metadata": {},
   "outputs": [
    {
     "name": "stdout",
     "output_type": "stream",
     "text": [
      "Hot & Sour\n",
      "Lemon & Coriander\n",
      "Veg. Noodle Soup\n",
      "Sweet Corn\n",
      "Veg. Munchow\n",
      "Veg. Clear Soup\n"
     ]
    }
   ],
   "source": [
    "r.soups()"
   ]
  },
  {
   "cell_type": "code",
   "execution_count": 14,
   "id": "1e809dab",
   "metadata": {},
   "outputs": [
    {
     "name": "stdout",
     "output_type": "stream",
     "text": [
      "spring roll\n",
      "Chilly Paneer\n",
      "Veg.Manchurian Dry\n",
      "Potatoes in Honey & Chilly\n",
      "Chilly Mushroom Dry \n"
     ]
    }
   ],
   "source": [
    "r.staters()"
   ]
  },
  {
   "cell_type": "code",
   "execution_count": 15,
   "id": "3d0adfe9",
   "metadata": {},
   "outputs": [
    {
     "name": "stdout",
     "output_type": "stream",
     "text": [
      "Icy Bros\n",
      "Polar Ice Cream Co.\n",
      "Sugar Rush Ice Cream\n",
      "Petite Treat Ice Cream\n",
      "Frosted Tips Desserts\n",
      "Scoop Troop Ice Cream\n"
     ]
    }
   ],
   "source": [
    "r.Ice_cream()"
   ]
  },
  {
   "cell_type": "code",
   "execution_count": 16,
   "id": "e943ff15",
   "metadata": {},
   "outputs": [
    {
     "name": "stdout",
     "output_type": "stream",
     "text": [
      "Chicken Curry\n",
      "Fish and Chips\n",
      "Butter Chicken\n",
      "Tandoori Chicken\n",
      "Mutton Curry\n"
     ]
    }
   ],
   "source": [
    "r.nonveg_items()"
   ]
  },
  {
   "cell_type": "code",
   "execution_count": 23,
   "id": "2a059bdf",
   "metadata": {},
   "outputs": [],
   "source": [
    "import Data_Science as ds"
   ]
  },
  {
   "cell_type": "code",
   "execution_count": 24,
   "id": "dcf8a1e1",
   "metadata": {},
   "outputs": [
    {
     "name": "stdout",
     "output_type": "stream",
     "text": [
      "python\n",
      "Statistics\n",
      "Python Data Analysis\n",
      "SQL+Tableau\n",
      "Machine Learning\n",
      "Deep Learning\n",
      "Computer Vision\n",
      "NLP\n"
     ]
    }
   ],
   "source": [
    "ds.Course_topics()"
   ]
  },
  {
   "cell_type": "code",
   "execution_count": 25,
   "id": "f30a5c82",
   "metadata": {},
   "outputs": [
    {
     "name": "stdout",
     "output_type": "stream",
     "text": [
      "Introduction\n",
      "Data Types and Data Structure\n",
      "Flow Control\n",
      "Functions\n",
      "File Handling\n",
      "Exception Handling\n",
      "Modules\n",
      "Class and Objects\n"
     ]
    }
   ],
   "source": [
    "ds.Python()"
   ]
  },
  {
   "cell_type": "code",
   "execution_count": 26,
   "id": "a3b4bb54",
   "metadata": {},
   "outputs": [
    {
     "name": "stdout",
     "output_type": "stream",
     "text": [
      "Data Manipulation with Pandas\n",
      "Data Visualization with Matplotlib and Seaborn\n",
      "Exploratory Data Analysis (EDA)\n",
      "Machine Learning with Scikit-learn\n",
      "Web Scraping and Data Collection\n",
      "Text Data Analysis with NLTK and SpaCy\n"
     ]
    }
   ],
   "source": [
    "ds.Python_Data_Analysis()"
   ]
  },
  {
   "cell_type": "code",
   "execution_count": 27,
   "id": "fa19e719",
   "metadata": {},
   "outputs": [
    {
     "name": "stdout",
     "output_type": "stream",
     "text": [
      "Descriptive Statistics\n",
      "Inferential Statistics\n",
      "Probability Distributions\n",
      "Regression Analysis\n",
      "Time Series Analysis\n",
      "Bayesian Statistics\n",
      "Experimental Design\n",
      "Sampling Techniques\n",
      "Multivariate Analysis\n"
     ]
    }
   ],
   "source": [
    "ds.Statistics()"
   ]
  },
  {
   "cell_type": "code",
   "execution_count": 28,
   "id": "5d21f9bd",
   "metadata": {},
   "outputs": [
    {
     "name": "stdout",
     "output_type": "stream",
     "text": [
      "SQL Fundamentals and Querying\n",
      "Data Manipulation and Filtering with SQL\n",
      "Aggregation and Grouping in SQL\n",
      "Joins and Subqueries in SQL\n",
      "Data Modeling and Database Design\n",
      "SQL for Data Cleaning and Preprocessing\n",
      "Advanced SQL Techniques (Window Functions, CTEs, etc.)\n"
     ]
    }
   ],
   "source": [
    "ds.SQL()"
   ]
  },
  {
   "cell_type": "code",
   "execution_count": 29,
   "id": "a4c00751",
   "metadata": {},
   "outputs": [
    {
     "name": "stdout",
     "output_type": "stream",
     "text": [
      "Tableau Interface and Navigation\n",
      "Data Connection and Data Preparation in Tableau\n",
      "Creating Visualizations (Charts, Graphs, Maps, etc.)\n",
      "Dashboard Design and Layout\n",
      "Tableau Calculations and Expressions\n",
      "Interactive Filtering and Parameters in Tableau\n",
      "Advanced Tableau Features and Integration with Data Science Workflow\n"
     ]
    }
   ],
   "source": [
    "ds.Tableau()"
   ]
  },
  {
   "cell_type": "code",
   "execution_count": 30,
   "id": "26d58837",
   "metadata": {},
   "outputs": [
    {
     "name": "stdout",
     "output_type": "stream",
     "text": [
      "Supervised Learning\n",
      "Unsupervised Learning\n",
      "Model Evaluation and Selection\n",
      "Feature Engineering\n",
      "Ensemble Learning\n",
      "Deep Learning\n",
      "Natural Language Processing (NLP) and Text Analysis\n"
     ]
    }
   ],
   "source": [
    "ds.Machine_Learning()"
   ]
  },
  {
   "cell_type": "code",
   "execution_count": 31,
   "id": "801e06d3",
   "metadata": {},
   "outputs": [
    {
     "name": "stdout",
     "output_type": "stream",
     "text": [
      "Artificial Neural Networks (ANNs)\n",
      "Convolutional Neural Networks (CNNs)\n",
      "Recurrent Neural Networks (RNNs)\n",
      "Long Short-Term Memory (LSTM)\n",
      "Generative Adversarial Networks (GANs)\n",
      "Transfer Learning\n",
      "Deep Reinforcement Learning\n"
     ]
    }
   ],
   "source": [
    "ds.Deep_Learning()"
   ]
  },
  {
   "cell_type": "code",
   "execution_count": 32,
   "id": "2c20e51b",
   "metadata": {},
   "outputs": [
    {
     "name": "stdout",
     "output_type": "stream",
     "text": [
      "Text Preprocessing\n",
      "Named Entity Recognition (NER)\n",
      "Sentiment Analysis\n",
      "Topic Modeling\n",
      "Language Modeling\n",
      "Text Classification\n",
      "Machine Translation\n"
     ]
    }
   ],
   "source": [
    "ds.NLP()"
   ]
  },
  {
   "cell_type": "code",
   "execution_count": 34,
   "id": "13dc5dab",
   "metadata": {},
   "outputs": [],
   "source": [
    "import INDIA as In"
   ]
  },
  {
   "cell_type": "code",
   "execution_count": 35,
   "id": "0dd1ac26",
   "metadata": {},
   "outputs": [
    {
     "name": "stdout",
     "output_type": "stream",
     "text": [
      "Andhra Pradesh\n",
      "Arunachal Pradesh\n",
      "Assam\n",
      "Bihar\n",
      "Chhattisgarh\n",
      "Goa\n",
      "Gujarat\n",
      "Haryana\n",
      "Himachal Pradesh\n",
      "Jharkhand\n",
      "Karnataka\n",
      "Kerala\n",
      "Madhya Pradesh\n",
      "Maharashtra\n",
      "Meghalaya\n",
      "Mizoram\n",
      "Nagaland\n",
      "Odisha\n",
      "Punjab\n",
      "Rajasthan\n",
      "Sikkim\n",
      "Tamil Nadu\n",
      "Telangana\n",
      "Tripur\n",
      "Uttar Pradesh\n",
      "Uttarakhand\n",
      "West Bengal\n"
     ]
    }
   ],
   "source": [
    "In.States()"
   ]
  },
  {
   "cell_type": "code",
   "execution_count": 36,
   "id": "ea111854",
   "metadata": {},
   "outputs": [
    {
     "name": "stdout",
     "output_type": "stream",
     "text": [
      "Goa\n",
      "Haryana\n",
      "Kerala\n",
      "Karnataka\n",
      "Gujrat\n",
      "Maharashtra\n"
     ]
    }
   ],
   "source": [
    "In.Most_Developed_States()"
   ]
  },
  {
   "cell_type": "code",
   "execution_count": 37,
   "id": "440f5497",
   "metadata": {},
   "outputs": [
    {
     "name": "stdout",
     "output_type": "stream",
     "text": [
      "Hassan (242.04 µg/m3)\n",
      "Bhiwadi (103.08 µg/m3)\n",
      "Faridabad (87.90 µg/m3)\n",
      "Gurugram (87.83 µg/m3)\n",
      "Delhi (84.17 µg/m3)\n"
     ]
    }
   ],
   "source": [
    "In.Most_Polluted_Cities()"
   ]
  },
  {
   "cell_type": "code",
   "execution_count": 38,
   "id": "638795ea",
   "metadata": {},
   "outputs": [],
   "source": [
    "import IPL as ip"
   ]
  },
  {
   "cell_type": "code",
   "execution_count": 39,
   "id": "b1d0f290",
   "metadata": {},
   "outputs": [
    {
     "name": "stdout",
     "output_type": "stream",
     "text": [
      "Mumbai, Maharashtra\n",
      "Chennai, Tamil Nadu\n",
      "Kolkata, West Bengal\n",
      "Bangalore, Karnataka\n",
      "Delhi\n",
      "Mohali, Punjab\n",
      "Jaipur, Rajasthan\n",
      "Hyderabad, Telangana\n"
     ]
    }
   ],
   "source": [
    "ip.Cities()"
   ]
  },
  {
   "cell_type": "code",
   "execution_count": 40,
   "id": "4731fcbf",
   "metadata": {},
   "outputs": [
    {
     "name": "stdout",
     "output_type": "stream",
     "text": [
      "Mumbai Indians (MI)\n",
      "Chennai Super Kings (CSK)\n",
      "Kolkata Knight Riders (KKR)\n",
      "Royal Challengers Bangalore(RCB)\n",
      "Delhi Capitals (DC)\n",
      "Punjab Kings(PBKS)\n",
      "Rajasthan Royals(RR)\n",
      "Sunrisers Hyderabad (SRH)\n"
     ]
    }
   ],
   "source": [
    "ip.Teams()"
   ]
  },
  {
   "cell_type": "code",
   "execution_count": 41,
   "id": "909499b8",
   "metadata": {},
   "outputs": [
    {
     "name": "stdout",
     "output_type": "stream",
     "text": [
      "Devon Conway\n",
      "Ruturaj Gaikwad\n",
      "Ajinkya Rahane\n",
      "Ambati Rayudu\n",
      "Moeen Ali\n",
      "Shivam Dube\n",
      "MS Dhoni(w/c)\n",
      "Ravindra Jadeja\n",
      "Deepak Chahar\n",
      "Tushar Deshpande\n",
      "Maheesh Theekshana\n",
      "Matheesha Pathirana\n"
     ]
    }
   ],
   "source": [
    "ip.CSK_players()"
   ]
  },
  {
   "cell_type": "code",
   "execution_count": 42,
   "id": "9f577316",
   "metadata": {},
   "outputs": [
    {
     "name": "stdout",
     "output_type": "stream",
     "text": [
      "Rahmanullah Gurbaz (wk)\n",
      "Mandeep Singh\n",
      "Rinku Singh\n",
      "Nitish Rana (c)\n",
      "Andre Russell\n",
      "Shardul Thakur\n",
      "Sunil Narine\n",
      "Varun Chakravarthy\n",
      "Umesh Yadav\n",
      "Tim Southee\n",
      "Anukul Roy\n"
     ]
    }
   ],
   "source": [
    "ip.KKR_players()"
   ]
  },
  {
   "cell_type": "code",
   "execution_count": 43,
   "id": "fa47bae3",
   "metadata": {},
   "outputs": [
    {
     "name": "stdout",
     "output_type": "stream",
     "text": [
      "Rohit Sharma\n",
      "Ishan Kishan\n",
      "Cameron Green\n",
      "Suryakumar Yadav\n",
      "Tim David\n",
      "Tilak Varma\n",
      "Chris Jordan\n",
      "Hrithik Shokeen\n",
      "Piyush Chawla\n",
      "Jason Behrendorff\n",
      "Akash Madhwal\n",
      "Nehal Wadhera\n"
     ]
    }
   ],
   "source": [
    "ip.MI_players()"
   ]
  },
  {
   "cell_type": "code",
   "execution_count": 44,
   "id": "4f6a201e",
   "metadata": {},
   "outputs": [
    {
     "name": "stdout",
     "output_type": "stream",
     "text": [
      "Faf du Plessis\n",
      "Virat Kohli\n",
      "Glenn Maxwell\n",
      "Michael Bracewell\n",
      "Dinesh Karthik (wk)\n",
      "Shahbaz Ahmed\n",
      "Karn Sharma\n",
      "Wanindu Hasaranga\n",
      "Harshal Patel\n",
      "Reece Topley\n",
      "Mohammed Siraj\n"
     ]
    }
   ],
   "source": [
    "ip.RCB_players()"
   ]
  },
  {
   "cell_type": "code",
   "execution_count": 45,
   "id": "2d273018",
   "metadata": {},
   "outputs": [],
   "source": [
    "import Shopping_mall as mall"
   ]
  },
  {
   "cell_type": "code",
   "execution_count": 46,
   "id": "73907da1",
   "metadata": {},
   "outputs": [
    {
     "name": "stdout",
     "output_type": "stream",
     "text": [
      "Inorbit Mall\n",
      "Forum Sujana Mall\n",
      "Hyderabad Central Mall\n",
      "GVK One\n",
      "City Center Mall\n",
      "Manjeera Mall\n"
     ]
    }
   ],
   "source": [
    "mall.Names()"
   ]
  },
  {
   "cell_type": "code",
   "execution_count": 47,
   "id": "a6a9ce72",
   "metadata": {},
   "outputs": [
    {
     "name": "stdout",
     "output_type": "stream",
     "text": [
      "Inorbit Mall - Located in Madhapur, Hyderabad.\n",
      "Forum Sujana Mall - Situated in Kukatpally, Hyderabad.\n",
      "Hyderabad Central Mall - Located in Punjagutta, Hyderabad.\n",
      "GVK One - Situated in Banjara Hills, Hyderabad.\n",
      "City Center Mall - Located in Banjara Hills, Hyderabad.\n",
      "Manjeera Mall - Situated in Kukatpally, Hyderabad.\n"
     ]
    }
   ],
   "source": [
    "mall.Location()"
   ]
  },
  {
   "cell_type": "code",
   "execution_count": 48,
   "id": "2bb3980b",
   "metadata": {},
   "outputs": [
    {
     "name": "stdout",
     "output_type": "stream",
     "text": [
      "T-shirts and tops\n",
      "Pants and jeans\n",
      "Shorts and skirts\n",
      "Dresses and frocks\n",
      "Shirts and blouses\n",
      "Sweaters and cardigans\n",
      "Jackets and coats\n"
     ]
    }
   ],
   "source": [
    "mall.dresses()"
   ]
  },
  {
   "cell_type": "code",
   "execution_count": null,
   "id": "e3cff56c",
   "metadata": {},
   "outputs": [],
   "source": []
  }
 ],
 "metadata": {
  "kernelspec": {
   "display_name": "Python 3 (ipykernel)",
   "language": "python",
   "name": "python3"
  },
  "language_info": {
   "codemirror_mode": {
    "name": "ipython",
    "version": 3
   },
   "file_extension": ".py",
   "mimetype": "text/x-python",
   "name": "python",
   "nbconvert_exporter": "python",
   "pygments_lexer": "ipython3",
   "version": "3.11.3"
  }
 },
 "nbformat": 4,
 "nbformat_minor": 5
}
