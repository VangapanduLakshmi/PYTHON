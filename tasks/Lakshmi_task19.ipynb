{
 "cells": [
  {
   "cell_type": "code",
   "execution_count": null,
   "id": "c93d1826",
   "metadata": {},
   "outputs": [],
   "source": []
  },
  {
   "cell_type": "code",
   "execution_count": 11,
   "id": "f33551c9",
   "metadata": {},
   "outputs": [
    {
     "name": "stdout",
     "output_type": "stream",
     "text": [
      "3\n",
      "lakshmi\n",
      "90 79 89\n",
      "lakshmi average: 86.0\n",
      "sravani\n",
      "98 40 30\n",
      "lakshmi average: 86.0\n",
      "sravani average: 56.0\n",
      "manga\n",
      "\n",
      "subject marks suold be provide\n",
      "40 60 80\n",
      "manga average: 60.0\n"
     ]
    }
   ],
   "source": [
    "n=int(input())  #number of students\n",
    "if not isinstance(n,int):  #isinstance means it checks the what data type.e.i int,float,srt\n",
    "    raise ValueError(\"number of students must be integer\") #if the number of students not an integer, than it raise the ValueError\n",
    "dic={}\n",
    "for i in range(n):\n",
    "    student_name=input()  #student name\n",
    "    marks=list(map(int,input().split()))  #list of marks for the student\n",
    "    for i in range(len(marks)):\n",
    "        if(marks[i]<0): # if we enter the Negative numbers, than it raise the ValueError.\n",
    "            raise ValueError(\"marks must sould be positive values only/NegativeValueError\")\n",
    "    no_subjects_marks=len(marks)\n",
    "    dic[student_name]=marks\n",
    "    try: \n",
    "        for i,j in dic.items():\n",
    "            total_marks=sum(j)  #add the total marks of the student\n",
    "            avg=total_marks/no_subjects_marks  #average of the student marks\n",
    "            print(f'{i} average:',avg)\n",
    "    except ZeroDivisionError:\n",
    "        print(\"subject marks suold be provide\") #if the student marks are not provided, than it returns the ZerodivisionError\n",
    "        marks=list(map(int,input().split())) #again we privide the student marks, if ZerodivisionError occur.\n",
    "        no_subjects_marks=len(marks)\n",
    "        total_marks1=0\n",
    "        for i in marks:\n",
    "            total_marks1+=i\n",
    "        avg=total_marks1/no_subjects_marks # find the average marks\n",
    "        print(f'{student_name} average:',avg)"
   ]
  },
  {
   "cell_type": "code",
   "execution_count": 14,
   "id": "f53bee12",
   "metadata": {},
   "outputs": [
    {
     "name": "stdout",
     "output_type": "stream",
     "text": [
      "3\n",
      "lakshmi\n",
      "40 50 60\n",
      "lakshmi average: 50.0\n",
      "manga\n",
      "-56 70 -90\n"
     ]
    },
    {
     "ename": "ValueError",
     "evalue": "marks must sould be positive values only/NegativeValueError",
     "output_type": "error",
     "traceback": [
      "\u001b[1;31m---------------------------------------------------------------------------\u001b[0m",
      "\u001b[1;31mValueError\u001b[0m                                Traceback (most recent call last)",
      "Cell \u001b[1;32mIn[14], line 10\u001b[0m\n\u001b[0;32m      8\u001b[0m \u001b[38;5;28;01mfor\u001b[39;00m i \u001b[38;5;129;01min\u001b[39;00m \u001b[38;5;28mrange\u001b[39m(\u001b[38;5;28mlen\u001b[39m(marks)):\n\u001b[0;32m      9\u001b[0m     \u001b[38;5;28;01mif\u001b[39;00m(marks[i]\u001b[38;5;241m<\u001b[39m\u001b[38;5;241m0\u001b[39m): \u001b[38;5;66;03m# if we enter the Negative numbers, than it raise the ValueError.\u001b[39;00m\n\u001b[1;32m---> 10\u001b[0m         \u001b[38;5;28;01mraise\u001b[39;00m \u001b[38;5;167;01mValueError\u001b[39;00m(\u001b[38;5;124m\"\u001b[39m\u001b[38;5;124mmarks must sould be positive values only/NegativeValueError\u001b[39m\u001b[38;5;124m\"\u001b[39m)\n\u001b[0;32m     11\u001b[0m no_subjects_marks\u001b[38;5;241m=\u001b[39m\u001b[38;5;28mlen\u001b[39m(marks)\n\u001b[0;32m     12\u001b[0m dic[student_name]\u001b[38;5;241m=\u001b[39mmarks\n",
      "\u001b[1;31mValueError\u001b[0m: marks must sould be positive values only/NegativeValueError"
     ]
    }
   ],
   "source": [
    "n=int(input())  #number of students\n",
    "if not isinstance(n,int):  #isinstance means it checks the what data type.e.i int,float,srt\n",
    "    raise ValueError(\"number of students must be integer\") #if the number of students not an integer, than it raise the ValueError\n",
    "dic={}\n",
    "for i in range(n):\n",
    "    student_name=input()  #student name\n",
    "    marks=list(map(int,input().split()))  #list of marks for the student\n",
    "    for i in range(len(marks)):\n",
    "        if(marks[i]<0): # if we enter the Negative numbers, than it raise the ValueError.\n",
    "            raise ValueError(\"marks must sould be positive values only/NegativeValueError\")\n",
    "    no_subjects_marks=len(marks)\n",
    "    dic[student_name]=marks\n",
    "    try: \n",
    "        for i,j in dic.items():\n",
    "            total_marks=sum(j)  #add the total marks of the student\n",
    "            avg=total_marks/no_subjects_marks  #average of the student marks\n",
    "            print(f'{i} average:',avg)\n",
    "    except ZeroDivisionError:\n",
    "        print(\"subject marks suold be provide\") #if the student marks are not provided, than it returns the ZerodivisionError\n",
    "        marks=list(map(int,input().split())) #again we privide the student marks, if ZerodivisionError occur.\n",
    "        no_subjects_marks=len(marks)\n",
    "        total_marks1=0\n",
    "        for i in marks:\n",
    "            total_marks1+=i\n",
    "        avg=total_marks1/no_subjects_marks # find the average marks\n",
    "        print(f'{student_name} average:',avg)"
   ]
  },
  {
   "cell_type": "code",
   "execution_count": null,
   "id": "51d1ffbb",
   "metadata": {},
   "outputs": [],
   "source": []
  }
 ],
 "metadata": {
  "kernelspec": {
   "display_name": "Python 3 (ipykernel)",
   "language": "python",
   "name": "python3"
  },
  "language_info": {
   "codemirror_mode": {
    "name": "ipython",
    "version": 3
   },
   "file_extension": ".py",
   "mimetype": "text/x-python",
   "name": "python",
   "nbconvert_exporter": "python",
   "pygments_lexer": "ipython3",
   "version": "3.11.3"
  }
 },
 "nbformat": 4,
 "nbformat_minor": 5
}
