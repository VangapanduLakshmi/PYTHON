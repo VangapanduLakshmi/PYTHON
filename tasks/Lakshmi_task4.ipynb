{
 "cells": [
  {
   "cell_type": "markdown",
   "id": "48568020",
   "metadata": {},
   "source": [
    "1.Write a Python code snippet that prompts the user to enter their name and stores it in a variable. Print a welcome message using the entered name"
   ]
  },
  {
   "cell_type": "code",
   "execution_count": 2,
   "id": "65e6f03d",
   "metadata": {},
   "outputs": [
    {
     "name": "stdout",
     "output_type": "stream",
     "text": [
      "enter the name:wecome\n"
     ]
    }
   ],
   "source": [
    "name=input(\"enter the name:\")"
   ]
  },
  {
   "cell_type": "code",
   "execution_count": 3,
   "id": "a433dc49",
   "metadata": {},
   "outputs": [
    {
     "name": "stdout",
     "output_type": "stream",
     "text": [
      "wecome\n"
     ]
    }
   ],
   "source": [
    "print(name)"
   ]
  },
  {
   "cell_type": "markdown",
   "id": "7c1d3853",
   "metadata": {},
   "source": [
    "2.Create a Python program that calculates the area of a rectangle. Prompt the user to enter the length and width of the rectangle, store them in variables, and compute the area using the formula:\n",
    "\n",
    "area = length width.\n",
    "\n",
    "Finally, print the calculated area."
   ]
  },
  {
   "cell_type": "code",
   "execution_count": 4,
   "id": "65e12b2b",
   "metadata": {},
   "outputs": [
    {
     "name": "stdout",
     "output_type": "stream",
     "text": [
      "40\n",
      "36\n",
      "1440\n"
     ]
    }
   ],
   "source": [
    "length=int(input())\n",
    "width=int(input())\n",
    "area=length*width\n",
    "print(area)"
   ]
  },
  {
   "cell_type": "markdown",
   "id": "a0591848",
   "metadata": {},
   "source": [
    "3.Create a Python program that calculates the average of three exam scores. Prompt the user to enter the scores, store them in variables, calculate the average, and print the result."
   ]
  },
  {
   "cell_type": "code",
   "execution_count": 5,
   "id": "156bb7ba",
   "metadata": {},
   "outputs": [
    {
     "name": "stdout",
     "output_type": "stream",
     "text": [
      "3\n",
      "6\n",
      "78\n",
      "35.0\n"
     ]
    }
   ],
   "source": [
    "a=int(input())\n",
    "b=int(input())\n",
    "c=int(input())\n",
    "avg=a+b+c/3\n",
    "print(avg)"
   ]
  },
  {
   "cell_type": "markdown",
   "id": "03e4c9c0",
   "metadata": {},
   "source": [
    "4.Write a Python program that converts temperature from Celsius to Fahrenheit. Prompt the user to enter a temperature in Celsius, store it in a variable, and convert it to Fahrenheit using the formula: Fahrenheit = (Celsius*9/5) + 32, and print the converted temperature. What are the logical operators in Python? Explain each one with an example"
   ]
  },
  {
   "cell_type": "code",
   "execution_count": 2,
   "id": "c166ec64",
   "metadata": {},
   "outputs": [
    {
     "name": "stdout",
     "output_type": "stream",
     "text": [
      "87\n",
      "188.6\n"
     ]
    }
   ],
   "source": [
    "cels=int(input())\n",
    "fohren=(cels*9/5)+32\n",
    "print(fohren)"
   ]
  },
  {
   "cell_type": "markdown",
   "id": "a7f03ba0",
   "metadata": {},
   "source": [
    "5.What are the logical operators in Python? Explain each one with an example."
   ]
  },
  {
   "cell_type": "raw",
   "id": "6913f820",
   "metadata": {},
   "source": [
    "1.AND\n",
    "2.OR \n",
    "3.NOT"
   ]
  },
  {
   "cell_type": "raw",
   "id": "971adda9",
   "metadata": {},
   "source": [
    "AND:\n",
    "truth table\n",
    "I/P1  I/P2   O/P\n",
    "0(F)  0(F)   0(F)\n",
    "0(F)  1(T)   0(F)\n",
    "1(T)  0(F)   0(F)\n",
    "1(T)  1(T)   1(T)\n",
    "boolean/binary: it returns multiplication operation \n",
    "non-zero ---> it returns the last value."
   ]
  },
  {
   "cell_type": "code",
   "execution_count": 3,
   "id": "2c3846f6",
   "metadata": {},
   "outputs": [
    {
     "data": {
      "text/plain": [
       "0"
      ]
     },
     "execution_count": 3,
     "metadata": {},
     "output_type": "execute_result"
    }
   ],
   "source": [
    "0 and 1"
   ]
  },
  {
   "cell_type": "code",
   "execution_count": 4,
   "id": "42ab7b5e",
   "metadata": {},
   "outputs": [
    {
     "data": {
      "text/plain": [
       "0"
      ]
     },
     "execution_count": 4,
     "metadata": {},
     "output_type": "execute_result"
    }
   ],
   "source": [
    "0 and 0"
   ]
  },
  {
   "cell_type": "code",
   "execution_count": 5,
   "id": "dcc15443",
   "metadata": {},
   "outputs": [
    {
     "data": {
      "text/plain": [
       "0"
      ]
     },
     "execution_count": 5,
     "metadata": {},
     "output_type": "execute_result"
    }
   ],
   "source": [
    "1 and 0"
   ]
  },
  {
   "cell_type": "code",
   "execution_count": 6,
   "id": "68d09ffc",
   "metadata": {},
   "outputs": [
    {
     "data": {
      "text/plain": [
       "1"
      ]
     },
     "execution_count": 6,
     "metadata": {},
     "output_type": "execute_result"
    }
   ],
   "source": [
    "1 and 1"
   ]
  },
  {
   "cell_type": "code",
   "execution_count": 7,
   "id": "ea397db3",
   "metadata": {},
   "outputs": [
    {
     "data": {
      "text/plain": [
       "3"
      ]
     },
     "execution_count": 7,
     "metadata": {},
     "output_type": "execute_result"
    }
   ],
   "source": [
    "2 and 3"
   ]
  },
  {
   "cell_type": "code",
   "execution_count": 8,
   "id": "11515334",
   "metadata": {},
   "outputs": [
    {
     "data": {
      "text/plain": [
       "2"
      ]
     },
     "execution_count": 8,
     "metadata": {},
     "output_type": "execute_result"
    }
   ],
   "source": [
    "3 and 2"
   ]
  },
  {
   "cell_type": "raw",
   "id": "127cccbf",
   "metadata": {},
   "source": [
    "OR Operation\n",
    "i/p1   i/p2   o/p\n",
    "0(F)  0(F)   0(F)\n",
    "0(F)  1(T)   1(T)\n",
    "1(T)  0(F)   1(T)\n",
    "1(T)  1(T)   1(T)\n",
    "boolean/binary :It returns the addition operation\n",
    "non-zero ---> it returns the first value."
   ]
  },
  {
   "cell_type": "code",
   "execution_count": 9,
   "id": "f52a7b1b",
   "metadata": {},
   "outputs": [
    {
     "data": {
      "text/plain": [
       "0"
      ]
     },
     "execution_count": 9,
     "metadata": {},
     "output_type": "execute_result"
    }
   ],
   "source": [
    "0 or 0"
   ]
  },
  {
   "cell_type": "code",
   "execution_count": 10,
   "id": "ff2e1094",
   "metadata": {},
   "outputs": [
    {
     "data": {
      "text/plain": [
       "1"
      ]
     },
     "execution_count": 10,
     "metadata": {},
     "output_type": "execute_result"
    }
   ],
   "source": [
    "0 or 1"
   ]
  },
  {
   "cell_type": "code",
   "execution_count": 11,
   "id": "545cf0b4",
   "metadata": {},
   "outputs": [
    {
     "data": {
      "text/plain": [
       "1"
      ]
     },
     "execution_count": 11,
     "metadata": {},
     "output_type": "execute_result"
    }
   ],
   "source": [
    "1 or 0"
   ]
  },
  {
   "cell_type": "code",
   "execution_count": 12,
   "id": "7c34045d",
   "metadata": {},
   "outputs": [
    {
     "data": {
      "text/plain": [
       "1"
      ]
     },
     "execution_count": 12,
     "metadata": {},
     "output_type": "execute_result"
    }
   ],
   "source": [
    "1 or 1"
   ]
  },
  {
   "cell_type": "code",
   "execution_count": 13,
   "id": "978626bb",
   "metadata": {},
   "outputs": [
    {
     "data": {
      "text/plain": [
       "2"
      ]
     },
     "execution_count": 13,
     "metadata": {},
     "output_type": "execute_result"
    }
   ],
   "source": [
    "2 or 3"
   ]
  },
  {
   "cell_type": "code",
   "execution_count": 14,
   "id": "0746dcd5",
   "metadata": {},
   "outputs": [
    {
     "data": {
      "text/plain": [
       "3"
      ]
     },
     "execution_count": 14,
     "metadata": {},
     "output_type": "execute_result"
    }
   ],
   "source": [
    "3 or 2"
   ]
  },
  {
   "cell_type": "code",
   "execution_count": 15,
   "id": "835b75ed",
   "metadata": {},
   "outputs": [
    {
     "data": {
      "text/plain": [
       "5"
      ]
     },
     "execution_count": 15,
     "metadata": {},
     "output_type": "execute_result"
    }
   ],
   "source": [
    "5 or 8"
   ]
  },
  {
   "cell_type": "raw",
   "id": "b164ac1f",
   "metadata": {},
   "source": [
    "NOT: \n",
    "false ---> it returns  true\n",
    "true ----> it returns false\n",
    "non-zero --->false\n",
    "0, 0.0 ,\"\" ----> true"
   ]
  },
  {
   "cell_type": "code",
   "execution_count": 16,
   "id": "8ff607d2",
   "metadata": {},
   "outputs": [
    {
     "data": {
      "text/plain": [
       "False"
      ]
     },
     "execution_count": 16,
     "metadata": {},
     "output_type": "execute_result"
    }
   ],
   "source": [
    "not 8"
   ]
  },
  {
   "cell_type": "code",
   "execution_count": 17,
   "id": "025c1b75",
   "metadata": {},
   "outputs": [
    {
     "data": {
      "text/plain": [
       "True"
      ]
     },
     "execution_count": 17,
     "metadata": {},
     "output_type": "execute_result"
    }
   ],
   "source": [
    "not 0"
   ]
  },
  {
   "cell_type": "code",
   "execution_count": 18,
   "id": "df2e0e01",
   "metadata": {},
   "outputs": [
    {
     "data": {
      "text/plain": [
       "True"
      ]
     },
     "execution_count": 18,
     "metadata": {},
     "output_type": "execute_result"
    }
   ],
   "source": [
    "not 0.0"
   ]
  },
  {
   "cell_type": "code",
   "execution_count": 19,
   "id": "bbb7f3d9",
   "metadata": {},
   "outputs": [
    {
     "data": {
      "text/plain": [
       "True"
      ]
     },
     "execution_count": 19,
     "metadata": {},
     "output_type": "execute_result"
    }
   ],
   "source": [
    "not \"\""
   ]
  },
  {
   "cell_type": "code",
   "execution_count": 20,
   "id": "60253194",
   "metadata": {},
   "outputs": [
    {
     "data": {
      "text/plain": [
       "False"
      ]
     },
     "execution_count": 20,
     "metadata": {},
     "output_type": "execute_result"
    }
   ],
   "source": [
    "not \" \""
   ]
  },
  {
   "cell_type": "code",
   "execution_count": 21,
   "id": "f2aa2164",
   "metadata": {},
   "outputs": [
    {
     "data": {
      "text/plain": [
       "False"
      ]
     },
     "execution_count": 21,
     "metadata": {},
     "output_type": "execute_result"
    }
   ],
   "source": [
    "not \"@\""
   ]
  },
  {
   "cell_type": "code",
   "execution_count": 22,
   "id": "c2dfed90",
   "metadata": {},
   "outputs": [
    {
     "data": {
      "text/plain": [
       "False"
      ]
     },
     "execution_count": 22,
     "metadata": {},
     "output_type": "execute_result"
    }
   ],
   "source": [
    "not 100"
   ]
  },
  {
   "cell_type": "markdown",
   "id": "8eb670d1",
   "metadata": {},
   "source": [
    "6.what are the membership operators in python? explaine use cases with an example"
   ]
  },
  {
   "cell_type": "raw",
   "id": "b5f14748",
   "metadata": {},
   "source": [
    "the membership operators are two types, using membership operators we can check whethere the elements (or) digits are present in the dataset or not\n",
    "1. in\n",
    "2. not"
   ]
  },
  {
   "cell_type": "code",
   "execution_count": 30,
   "id": "694bddb4",
   "metadata": {},
   "outputs": [
    {
     "name": "stdout",
     "output_type": "stream",
     "text": [
      "enter the name:Lakshmi is a good girl\n"
     ]
    },
    {
     "data": {
      "text/plain": [
       "False"
      ]
     },
     "execution_count": 30,
     "metadata": {},
     "output_type": "execute_result"
    }
   ],
   "source": [
    "name=input(\"enter the name:\")\n",
    "\"la\" in name"
   ]
  },
  {
   "cell_type": "code",
   "execution_count": 31,
   "id": "33a69daf",
   "metadata": {},
   "outputs": [
    {
     "data": {
      "text/plain": [
       "True"
      ]
     },
     "execution_count": 31,
     "metadata": {},
     "output_type": "execute_result"
    }
   ],
   "source": [
    "\"La\" in name"
   ]
  },
  {
   "cell_type": "code",
   "execution_count": 25,
   "id": "f068eba8",
   "metadata": {},
   "outputs": [
    {
     "data": {
      "text/plain": [
       "True"
      ]
     },
     "execution_count": 25,
     "metadata": {},
     "output_type": "execute_result"
    }
   ],
   "source": [
    "\" is\" in name"
   ]
  },
  {
   "cell_type": "code",
   "execution_count": 26,
   "id": "c495d016",
   "metadata": {},
   "outputs": [
    {
     "data": {
      "text/plain": [
       "True"
      ]
     },
     "execution_count": 26,
     "metadata": {},
     "output_type": "execute_result"
    }
   ],
   "source": [
    "\"good \" in name"
   ]
  },
  {
   "cell_type": "code",
   "execution_count": 27,
   "id": "cf9bfbf5",
   "metadata": {},
   "outputs": [
    {
     "data": {
      "text/plain": [
       "True"
      ]
     },
     "execution_count": 27,
     "metadata": {},
     "output_type": "execute_result"
    }
   ],
   "source": [
    "\" \" in name"
   ]
  },
  {
   "cell_type": "code",
   "execution_count": 28,
   "id": "015423c6",
   "metadata": {},
   "outputs": [
    {
     "data": {
      "text/plain": [
       "False"
      ]
     },
     "execution_count": 28,
     "metadata": {},
     "output_type": "execute_result"
    }
   ],
   "source": [
    "\" Inno\" in name"
   ]
  },
  {
   "cell_type": "code",
   "execution_count": 29,
   "id": "1c5486a7",
   "metadata": {},
   "outputs": [
    {
     "data": {
      "text/plain": [
       "False"
      ]
     },
     "execution_count": 29,
     "metadata": {},
     "output_type": "execute_result"
    }
   ],
   "source": [
    "\" innomat\" in name"
   ]
  },
  {
   "cell_type": "code",
   "execution_count": 32,
   "id": "60b9e8cb",
   "metadata": {},
   "outputs": [
    {
     "data": {
      "text/plain": [
       "False"
      ]
     },
     "execution_count": 32,
     "metadata": {},
     "output_type": "execute_result"
    }
   ],
   "source": [
    "\" Lakshmi\" in name"
   ]
  },
  {
   "cell_type": "code",
   "execution_count": 33,
   "id": "521977b2",
   "metadata": {},
   "outputs": [
    {
     "data": {
      "text/plain": [
       "True"
      ]
     },
     "execution_count": 33,
     "metadata": {},
     "output_type": "execute_result"
    }
   ],
   "source": [
    "\" Innomatics\" not in name"
   ]
  },
  {
   "cell_type": "code",
   "execution_count": 34,
   "id": "434f01d1",
   "metadata": {},
   "outputs": [
    {
     "data": {
      "text/plain": [
       "True"
      ]
     },
     "execution_count": 34,
     "metadata": {},
     "output_type": "execute_result"
    }
   ],
   "source": [
    "\" Lakshmi\" not in name"
   ]
  },
  {
   "cell_type": "code",
   "execution_count": 35,
   "id": "fb3b4df1",
   "metadata": {},
   "outputs": [
    {
     "data": {
      "text/plain": [
       "False"
      ]
     },
     "execution_count": 35,
     "metadata": {},
     "output_type": "execute_result"
    }
   ],
   "source": [
    "\"Lakshmi\" not in name"
   ]
  },
  {
   "cell_type": "markdown",
   "id": "e04e9255",
   "metadata": {},
   "source": [
    "7. list and briefly explain basic data types available in python"
   ]
  },
  {
   "cell_type": "markdown",
   "id": "6ade4bff",
   "metadata": {},
   "source": [
    "three basic data types are available in python\n",
    "1. numerical data types\n",
    "2. non-numerical data types\n",
    "3. sequencial/collection data types"
   ]
  },
  {
   "cell_type": "markdown",
   "id": "4eebb9ae",
   "metadata": {},
   "source": [
    "**numerical data tyeps**"
   ]
  },
  {
   "cell_type": "markdown",
   "id": "a740482d",
   "metadata": {},
   "source": [
    "1. int\n",
    "2. float\n",
    "3. complex"
   ]
  },
  {
   "cell_type": "code",
   "execution_count": 38,
   "id": "924b6d2d",
   "metadata": {},
   "outputs": [],
   "source": [
    "#int \n",
    "a=10\n",
    "b=-12\n",
    "c=1236"
   ]
  },
  {
   "cell_type": "code",
   "execution_count": 39,
   "id": "25202bff",
   "metadata": {},
   "outputs": [
    {
     "name": "stdout",
     "output_type": "stream",
     "text": [
      "-2\n",
      "1224\n",
      "1226\n"
     ]
    }
   ],
   "source": [
    "print(a+b)\n",
    "print(c+b)\n",
    "print(c-a)"
   ]
  },
  {
   "cell_type": "code",
   "execution_count": 40,
   "id": "c1c81f66",
   "metadata": {},
   "outputs": [],
   "source": [
    "#float\n",
    "a=10.0\n",
    "b=23.04\n",
    "c=43.6453"
   ]
  },
  {
   "cell_type": "code",
   "execution_count": 41,
   "id": "cd913cbf",
   "metadata": {},
   "outputs": [
    {
     "name": "stdout",
     "output_type": "stream",
     "text": [
      "33.04\n",
      "66.6853\n",
      "-33.6453\n"
     ]
    }
   ],
   "source": [
    "print(a+b)\n",
    "print(c+b)\n",
    "print(a-c)"
   ]
  },
  {
   "cell_type": "code",
   "execution_count": 43,
   "id": "1e018abc",
   "metadata": {},
   "outputs": [],
   "source": [
    "#complext\n",
    "a=2+4j\n",
    "b=1+0j\n",
    "c=0+3j "
   ]
  },
  {
   "cell_type": "code",
   "execution_count": 44,
   "id": "e2262b29",
   "metadata": {},
   "outputs": [
    {
     "name": "stdout",
     "output_type": "stream",
     "text": [
      "(3+4j)\n",
      "(1+3j)\n",
      "(-2-1j)\n"
     ]
    }
   ],
   "source": [
    "print(a+b)\n",
    "print(c+b)\n",
    "print(c-a)"
   ]
  },
  {
   "cell_type": "markdown",
   "id": "f9e54787",
   "metadata": {},
   "source": [
    "**non-numerical data types**"
   ]
  },
  {
   "cell_type": "raw",
   "id": "e657e172",
   "metadata": {},
   "source": [
    "boolean:\n",
    "A=True\n",
    "b=False"
   ]
  },
  {
   "cell_type": "code",
   "execution_count": 46,
   "id": "568b65c0",
   "metadata": {},
   "outputs": [
    {
     "name": "stdout",
     "output_type": "stream",
     "text": [
      "True\n"
     ]
    }
   ],
   "source": [
    "a=True\n",
    "print(a)"
   ]
  },
  {
   "cell_type": "code",
   "execution_count": 48,
   "id": "0c5bc720",
   "metadata": {},
   "outputs": [],
   "source": [
    "b=False"
   ]
  },
  {
   "cell_type": "code",
   "execution_count": 49,
   "id": "411a34c2",
   "metadata": {},
   "outputs": [
    {
     "name": "stdout",
     "output_type": "stream",
     "text": [
      "False\n"
     ]
    }
   ],
   "source": [
    "print(b)"
   ]
  },
  {
   "cell_type": "code",
   "execution_count": 50,
   "id": "c03c1951",
   "metadata": {},
   "outputs": [],
   "source": [
    "#string\n",
    "name=\"Lakshmi\"\n",
    "password=\"sabkhds5732jbsxjh@\"\n",
    "name1=\"innomatics research labs\" "
   ]
  },
  {
   "cell_type": "code",
   "execution_count": 51,
   "id": "1ca82cac",
   "metadata": {},
   "outputs": [
    {
     "name": "stdout",
     "output_type": "stream",
     "text": [
      "Lakshmi\n"
     ]
    }
   ],
   "source": [
    "print(name)"
   ]
  },
  {
   "cell_type": "code",
   "execution_count": 53,
   "id": "89e3989d",
   "metadata": {},
   "outputs": [
    {
     "name": "stdout",
     "output_type": "stream",
     "text": [
      "Lakshmi innomatics research labs\n"
     ]
    }
   ],
   "source": [
    "print(name+\" \"+name1)"
   ]
  },
  {
   "cell_type": "markdown",
   "id": "7c4db49f",
   "metadata": {},
   "source": [
    "8. Write a Python code snippet that assigns a value to a variable and determines its data type using the type() function."
   ]
  },
  {
   "cell_type": "code",
   "execution_count": 1,
   "id": "47b8877d",
   "metadata": {},
   "outputs": [
    {
     "name": "stdout",
     "output_type": "stream",
     "text": [
      "<class 'int'>\n",
      "<class 'float'>\n",
      "<class 'complex'>\n",
      "<class 'str'>\n",
      "<class 'bool'>\n"
     ]
    }
   ],
   "source": [
    "a=10\n",
    "b=23.0\n",
    "c=2+3+8j\n",
    "name=\"lakshmi\"\n",
    "d=True\n",
    "print(type(a))\n",
    "print(type(b))\n",
    "print(type(c))\n",
    "print(type(name))\n",
    "print(type(d))"
   ]
  },
  {
   "cell_type": "code",
   "execution_count": null,
   "id": "bbc9a602",
   "metadata": {},
   "outputs": [],
   "source": []
  }
 ],
 "metadata": {
  "kernelspec": {
   "display_name": "Python 3 (ipykernel)",
   "language": "python",
   "name": "python3"
  },
  "language_info": {
   "codemirror_mode": {
    "name": "ipython",
    "version": 3
   },
   "file_extension": ".py",
   "mimetype": "text/x-python",
   "name": "python",
   "nbconvert_exporter": "python",
   "pygments_lexer": "ipython3",
   "version": "3.11.3"
  }
 },
 "nbformat": 4,
 "nbformat_minor": 5
}
