{
 "cells": [
  {
   "cell_type": "code",
   "execution_count": 171,
   "id": "3e905f32",
   "metadata": {},
   "outputs": [
    {
     "name": "stdout",
     "output_type": "stream",
     "text": [
      "Python is a compiled language. Before executing Python code, you need to compile it into machine code.\n",
      "Python uses indentation to define blocks of code, making it visually appealing and easy to read.\n",
      "In Python, you must declare variables before using them; otherwise, it will raise an error.\n",
      "Python supports dynamic typing, allowing variables to change their data type during runtime.\n",
      "Python is a statically-typed language, which means you need to declare the data type of variables explicitly.\n",
      "Python is not a cross-platform language, and code written on one operating system may not work on another.\n"
     ]
    }
   ],
   "source": [
    "with open(\"correct_it.txt\",\"r\") as file:\n",
    "    print(file.read())"
   ]
  },
  {
   "cell_type": "code",
   "execution_count": 179,
   "id": "39b908b6",
   "metadata": {},
   "outputs": [],
   "source": [
    "file1=open(\"correct_it.txt\",\"r\")\n",
    "a=file1.read()"
   ]
  },
  {
   "cell_type": "code",
   "execution_count": 180,
   "id": "50280381",
   "metadata": {},
   "outputs": [
    {
     "data": {
      "text/plain": [
       "'Python is a compiled language. Before executing Python code, you need to compile it into machine code.\\nPython uses indentation to define blocks of code, making it visually appealing and easy to read.\\nIn Python, you must declare variables before using them; otherwise, it will raise an error.\\nPython supports dynamic typing, allowing variables to change their data type during runtime.\\nPython is a statically-typed language, which means you need to declare the data type of variables explicitly.\\nPython is not a cross-platform language, and code written on one operating system may not work on another.'"
      ]
     },
     "execution_count": 180,
     "metadata": {},
     "output_type": "execute_result"
    }
   ],
   "source": [
    "a"
   ]
  },
  {
   "cell_type": "code",
   "execution_count": 181,
   "id": "22930e4b",
   "metadata": {},
   "outputs": [],
   "source": [
    "file.close()"
   ]
  },
  {
   "cell_type": "code",
   "execution_count": 182,
   "id": "11d40e55",
   "metadata": {},
   "outputs": [],
   "source": [
    "lst=a.split()"
   ]
  },
  {
   "cell_type": "code",
   "execution_count": 184,
   "id": "e8d3e5a6",
   "metadata": {},
   "outputs": [
    {
     "name": "stdout",
     "output_type": "stream",
     "text": [
      "Python is a interpreted language. Before executing Python code, you need to compile it into machine code. Python uses indentation to define blocks of code, making it visually appealing and easy to read. In Python, you must declare variables before using them; otherwise, it will raise an error. Python supports dynamic typing, allowing variables to change their data type during runtime. Python is a dynamically-typed no language, which means you need to declare the data type of variables explicitly. Python is a cross-platform language, and code written on one operating system may work on another.\n"
     ]
    }
   ],
   "source": [
    "for i in range(len(lst)):\n",
    "    if lst[i]==\"compiled\":\n",
    "        lst[i]=\"interpreted\"\n",
    "    if lst[i]==\"statically-typed\":\n",
    "        lst[i]=\"dynamically-typed\"\n",
    "    if lst[i]==\"not\":\n",
    "        lst.remove(lst[i])\n",
    "sep=\" \"\n",
    "lst.insert(65,\"no\")\n",
    "updated_data=sep.join(lst)\n",
    "print(updated_data)"
   ]
  },
  {
   "cell_type": "code",
   "execution_count": 193,
   "id": "8a0ed1c7",
   "metadata": {},
   "outputs": [],
   "source": [
    "file.close()"
   ]
  },
  {
   "cell_type": "code",
   "execution_count": 189,
   "id": "e5637ab8",
   "metadata": {},
   "outputs": [
    {
     "data": {
      "text/plain": [
       "'C:\\\\Users\\\\laxmi'"
      ]
     },
     "execution_count": 189,
     "metadata": {},
     "output_type": "execute_result"
    }
   ],
   "source": [
    "import os\n",
    "os.getcwd()"
   ]
  },
  {
   "cell_type": "code",
   "execution_count": 190,
   "id": "332b8dbe",
   "metadata": {},
   "outputs": [],
   "source": [
    "import shutil"
   ]
  },
  {
   "cell_type": "code",
   "execution_count": 192,
   "id": "9890da87",
   "metadata": {},
   "outputs": [
    {
     "ename": "Error",
     "evalue": "Destination path 'D:\\data\\correct_it.txt' already exists",
     "output_type": "error",
     "traceback": [
      "\u001b[1;31m---------------------------------------------------------------------------\u001b[0m",
      "\u001b[1;31mError\u001b[0m                                     Traceback (most recent call last)",
      "Cell \u001b[1;32mIn[192], line 1\u001b[0m\n\u001b[1;32m----> 1\u001b[0m shutil\u001b[38;5;241m.\u001b[39mmove(\u001b[38;5;124mr\u001b[39m\u001b[38;5;124m\"\u001b[39m\u001b[38;5;124mC:\u001b[39m\u001b[38;5;124m\\\u001b[39m\u001b[38;5;124mUsers\u001b[39m\u001b[38;5;124m\\\u001b[39m\u001b[38;5;124mlaxmi\u001b[39m\u001b[38;5;124m\\\u001b[39m\u001b[38;5;124mcorrect_it.txt\u001b[39m\u001b[38;5;124m\"\u001b[39m,\u001b[38;5;124mr\u001b[39m\u001b[38;5;124m\"\u001b[39m\u001b[38;5;124mD:\u001b[39m\u001b[38;5;124m\\\u001b[39m\u001b[38;5;124mdata\u001b[39m\u001b[38;5;124m\"\u001b[39m)\n",
      "File \u001b[1;32m~\\anaconda3\\envs\\Datascience\\Lib\\shutil.py:823\u001b[0m, in \u001b[0;36mmove\u001b[1;34m(src, dst, copy_function)\u001b[0m\n\u001b[0;32m    820\u001b[0m     real_dst \u001b[38;5;241m=\u001b[39m os\u001b[38;5;241m.\u001b[39mpath\u001b[38;5;241m.\u001b[39mjoin(dst, _basename(src))\n\u001b[0;32m    822\u001b[0m     \u001b[38;5;28;01mif\u001b[39;00m os\u001b[38;5;241m.\u001b[39mpath\u001b[38;5;241m.\u001b[39mexists(real_dst):\n\u001b[1;32m--> 823\u001b[0m         \u001b[38;5;28;01mraise\u001b[39;00m Error(\u001b[38;5;124m\"\u001b[39m\u001b[38;5;124mDestination path \u001b[39m\u001b[38;5;124m'\u001b[39m\u001b[38;5;132;01m%s\u001b[39;00m\u001b[38;5;124m'\u001b[39m\u001b[38;5;124m already exists\u001b[39m\u001b[38;5;124m\"\u001b[39m \u001b[38;5;241m%\u001b[39m real_dst)\n\u001b[0;32m    824\u001b[0m \u001b[38;5;28;01mtry\u001b[39;00m:\n\u001b[0;32m    825\u001b[0m     os\u001b[38;5;241m.\u001b[39mrename(src, real_dst)\n",
      "\u001b[1;31mError\u001b[0m: Destination path 'D:\\data\\correct_it.txt' already exists"
     ]
    }
   ],
   "source": [
    "shutil.move(r\"C:\\Users\\laxmi\\correct_it.txt\",r\"D:\\data\")"
   ]
  },
  {
   "cell_type": "code",
   "execution_count": null,
   "id": "33496245",
   "metadata": {},
   "outputs": [],
   "source": []
  }
 ],
 "metadata": {
  "kernelspec": {
   "display_name": "Python 3 (ipykernel)",
   "language": "python",
   "name": "python3"
  },
  "language_info": {
   "codemirror_mode": {
    "name": "ipython",
    "version": 3
   },
   "file_extension": ".py",
   "mimetype": "text/x-python",
   "name": "python",
   "nbconvert_exporter": "python",
   "pygments_lexer": "ipython3",
   "version": "3.11.3"
  }
 },
 "nbformat": 4,
 "nbformat_minor": 5
}
