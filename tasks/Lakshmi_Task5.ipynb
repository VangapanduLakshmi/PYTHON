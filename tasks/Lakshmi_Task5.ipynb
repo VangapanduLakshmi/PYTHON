{
 "cells": [
  {
   "cell_type": "markdown",
   "id": "d5a7cb80",
   "metadata": {},
   "source": [
    "var_name = \"innomatics Research Labs\"\n",
    "\n",
    "Task 1: String Slicing\n",
    "\n",
    "a) Print the first three characters of the string.\n",
    "\n",
    "b) Print the last three characters of the string.\n",
    "\n",
    "c) Print every second character of the string.\n",
    "\n",
    "d) Print the string in reverse order.\n"
   ]
  },
  {
   "cell_type": "code",
   "execution_count": 10,
   "id": "8be870e8",
   "metadata": {},
   "outputs": [
    {
     "name": "stdout",
     "output_type": "stream",
     "text": [
      "innomatics Research Labs\n",
      "24\n",
      "inn\n",
      "abs\n",
      "inmtc eerhLb\n",
      "sbaL hcraeseR scitamonni\n"
     ]
    }
   ],
   "source": [
    "var_name=\"innomatics Research Labs\"\n",
    "print(len(var_name))\n",
    "print(var_name[0:3])\n",
    "print(var_name[21:])\n",
    "print(var_name[0:25:2])\n",
    "print(var_name[-1:-25:-1])"
   ]
  },
  {
   "cell_type": "markdown",
   "id": "79edaae7",
   "metadata": {},
   "source": [
    "**Task 2: String Indexing**\n",
    "\n",
    "Write a Python program that takes a user input string and performs the following operations:\n",
    "\n",
    "a) Print the first character of the string. b) Print the last character of the string.\n",
    "\n",
    "Print the third character of the string.\n",
    "\n",
    "d) Print the second-to-last character of the string."
   ]
  },
  {
   "cell_type": "code",
   "execution_count": 11,
   "id": "8c2f8128",
   "metadata": {},
   "outputs": [
    {
     "name": "stdout",
     "output_type": "stream",
     "text": [
      "Lakshmi is a data science student\n",
      "L\n",
      "t\n",
      "k\n",
      "kshmi is a data science student\n"
     ]
    }
   ],
   "source": [
    "name=input()\n",
    "print(name[0])\n",
    "print(name[-1])\n",
    "print(name[2])\n",
    "print(name[2:])"
   ]
  },
  {
   "cell_type": "markdown",
   "id": "d14d7761",
   "metadata": {},
   "source": [
    "**Task 3: Escape Characters**\n",
    "\n",
    "Write a Python program that demonstrates the usage of escape characters. Print the following statements: a) \"I'm learning Python.\"\n",
    "\n",
    "b) 'He said, \"Python is awesome!\""
   ]
  },
  {
   "cell_type": "raw",
   "id": "882bf99c",
   "metadata": {},
   "source": [
    "Escape characters are useful when \"How we want to Print the string\"\n",
    "---->\\n New Line\n",
    "---->\\t Horizontal Tab\n",
    "----->\\r Carriage Return\n",
    "----->\\b Back Space\n",
    "----->\\f Form Feed\n",
    "----->\\v Vertical Tab\n",
    "----->\\'Single Quote Double Quote\n",
    "----->\\\\Back Slash Symbol.....etc"
   ]
  },
  {
   "cell_type": "code",
   "execution_count": 16,
   "id": "dba37ada",
   "metadata": {},
   "outputs": [
    {
     "name": "stdout",
     "output_type": "stream",
     "text": [
      "I'm learning python\n",
      "I'm \n",
      "learning \n",
      "python\n",
      "I'm \tlearning \tpython\n",
      "I'm \r",
      "learning \r",
      "python\n",
      "I'm \blearning \bpython\n",
      "I'm \f",
      "learning \f",
      "python\n",
      "I'm \u000b",
      "learning \u000b",
      "python\n",
      "I'm 'learning 'python\n",
      "I'm \\learning \\python\n"
     ]
    }
   ],
   "source": [
    "name1=\"I'm learning python\"\n",
    "print(name1)\n",
    "print(\"I'm \\nlearning \\npython\")\n",
    "print(\"I'm \\tlearning \\tpython\")\n",
    "print(\"I'm \\rlearning \\rpython\")\n",
    "print(\"I'm \\blearning \\bpython\")\n",
    "print(\"I'm \\flearning \\fpython\")\n",
    "print(\"I'm \\vlearning \\vpython\")\n",
    "print(\"I'm \\'learning \\'python\")\n",
    "print(\"I'm \\\\learning \\\\python\")"
   ]
  },
  {
   "cell_type": "code",
   "execution_count": 17,
   "id": "6706cdbb",
   "metadata": {},
   "outputs": [
    {
     "name": "stdout",
     "output_type": "stream",
     "text": [
      "Python is awesome!\n",
      "Python \n",
      "is \n",
      "awesome!\n",
      "Python \tis \tawesome!\n",
      "Python \r",
      "is \r",
      "awesome!\n",
      "Python \bis \bawesome!\n",
      "Python \f",
      "is \f",
      "awesome!\n",
      "Python \u000b",
      "is \u000b",
      "awesome!\n",
      "Python 'is 'awesome!\n",
      "Python \\is \\awesome!\n"
     ]
    }
   ],
   "source": [
    "name2=\"Python is awesome!\"\n",
    "print(name2)\n",
    "print(\"Python \\nis \\nawesome!\")\n",
    "print(\"Python \\tis \\tawesome!\")\n",
    "print(\"Python \\ris \\rawesome!\")\n",
    "print(\"Python \\bis \\bawesome!\")\n",
    "print(\"Python \\fis \\fawesome!\")\n",
    "print(\"Python \\vis \\vawesome!\")\n",
    "print(\"Python \\'is \\'awesome!\")\n",
    "print(\"Python \\\\is \\\\awesome!\")"
   ]
  },
  {
   "cell_type": "code",
   "execution_count": null,
   "id": "2ee47699",
   "metadata": {},
   "outputs": [],
   "source": []
  }
 ],
 "metadata": {
  "kernelspec": {
   "display_name": "Python 3 (ipykernel)",
   "language": "python",
   "name": "python3"
  },
  "language_info": {
   "codemirror_mode": {
    "name": "ipython",
    "version": 3
   },
   "file_extension": ".py",
   "mimetype": "text/x-python",
   "name": "python",
   "nbconvert_exporter": "python",
   "pygments_lexer": "ipython3",
   "version": "3.11.3"
  }
 },
 "nbformat": 4,
 "nbformat_minor": 5
}
