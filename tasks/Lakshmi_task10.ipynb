{
 "cells": [
  {
   "cell_type": "markdown",
   "id": "714dc6eb",
   "metadata": {},
   "source": [
    "**Task 1:Leap Year Checker**"
   ]
  },
  {
   "cell_type": "markdown",
   "id": "2ebd834d",
   "metadata": {},
   "source": [
    "Write a program that takes a year as input and determines whether it is a leap year or not. A leap year is a\n",
    "\n",
    "year that is divisible by 4, but not divisible by 100, unless it is also divisible by 400. Display an appropriate message\n",
    "\n",
    "indicating whether the year is a leap year or not."
   ]
  },
  {
   "cell_type": "code",
   "execution_count": 6,
   "id": "8fcda991",
   "metadata": {},
   "outputs": [
    {
     "name": "stdout",
     "output_type": "stream",
     "text": [
      "1900\n",
      "the year is a not leap year\n"
     ]
    }
   ],
   "source": [
    "year=int(input())\n",
    "if(year%4==0 and year%100):\n",
    "    print(\"the year is a leap year\")\n",
    "elif(year%4==0 and year%400==0):\n",
    "    print(\"the year is a leap year\")\n",
    "else:\n",
    "    print(\"the year is a not leap year\")"
   ]
  },
  {
   "cell_type": "markdown",
   "id": "24338a77",
   "metadata": {},
   "source": [
    "**Task 2: Grade Calculator write a program that takes a student's score as input (out of 100) and determines their grade based on the following\n",
    "contion**"
   ]
  },
  {
   "cell_type": "markdown",
   "id": "c279a207",
   "metadata": {},
   "source": [
    "If the score is 98 or above, the grade is A. If the score is between 88 and 89, the grade is 8-\n",
    "\n",
    "If the score is between 78 and 79, the grade is 'C-\n",
    "\n",
    "If the score is between 68 and 59, the grade 15 'D'.\n",
    "\n",
    "If the score is below 60, the grade is F\n",
    "\n",
    "Display the grade corresponding to the entered score."
   ]
  },
  {
   "cell_type": "code",
   "execution_count": 3,
   "id": "88c22774",
   "metadata": {},
   "outputs": [
    {
     "name": "stdout",
     "output_type": "stream",
     "text": [
      "58\n",
      "F\n"
     ]
    }
   ],
   "source": [
    "marks=int(input())\n",
    "if(marks>90):\n",
    "    print(\"A\")\n",
    "elif(marks<=89 and marks>=80):\n",
    "    print(\"B\")\n",
    "elif(marks<=79 and marks>=70):\n",
    "    print(\"C\")\n",
    "elif(marks<=69 and marks>=60):\n",
    "    print(\"D\")\n",
    "else:\n",
    "    print(\"F\")"
   ]
  },
  {
   "cell_type": "markdown",
   "id": "04c3d2ea",
   "metadata": {},
   "source": [
    "**Task 3: Calculator write a program that takes two numbers as input and performs a mathematical operation (+, -,*,/) based on the user's choice. Use conditional statement to determine the operation to be performed. Display the result of the calculation.**"
   ]
  },
  {
   "cell_type": "code",
   "execution_count": 7,
   "id": "9d6cc92c",
   "metadata": {},
   "outputs": [
    {
     "name": "stdout",
     "output_type": "stream",
     "text": [
      "10\n",
      "30\n",
      "+\n",
      "addition: 40\n"
     ]
    }
   ],
   "source": [
    "num=int(input())\n",
    "num1=int(input())\n",
    "a=input()\n",
    "if(a==\"+\"):\n",
    "    print(\"addition:\",num+num1)\n",
    "elif(a==\"-\"):\n",
    "    print(\"multiplication:\",num*num1)\n",
    "elif(num-num1):\n",
    "    print(\"subtraction:\",num-num1)\n",
    "else:\n",
    "    print(\"division\")"
   ]
  },
  {
   "cell_type": "code",
   "execution_count": null,
   "id": "149a1317",
   "metadata": {},
   "outputs": [],
   "source": []
  }
 ],
 "metadata": {
  "kernelspec": {
   "display_name": "Python 3 (ipykernel)",
   "language": "python",
   "name": "python3"
  },
  "language_info": {
   "codemirror_mode": {
    "name": "ipython",
    "version": 3
   },
   "file_extension": ".py",
   "mimetype": "text/x-python",
   "name": "python",
   "nbconvert_exporter": "python",
   "pygments_lexer": "ipython3",
   "version": "3.11.3"
  }
 },
 "nbformat": 4,
 "nbformat_minor": 5
}
