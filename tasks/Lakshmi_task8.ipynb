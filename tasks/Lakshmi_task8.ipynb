{
 "cells": [
  {
   "cell_type": "markdown",
   "id": "b5e5c727",
   "metadata": {},
   "source": [
    "# 1.Tuple Operations"
   ]
  },
  {
   "cell_type": "markdown",
   "id": "afe9149e",
   "metadata": {},
   "source": [
    "1.Create a tuple named \"fruits\" containing the following fruits: \"apple\", \"banana\", \"orange\", \"mango\", and \"kiwi\".\n",
    "\n",
    "2.Print the tuple \"fruits\".\n",
    "\n",
    "3.print the length of the tuple \"fruits\".\n",
    "\n",
    "4.Access and print the third element of the tuple \"fruits\". Use slicing to print the elements from the second to the fourth element of the tuple \"fruits\".\n",
    "\n",
    "5.Create a new tuple named \"more_fruits\" containing the following fruits: \"grape\", \"pear\", \"pineapple\". .Concatenate the tuples \"fruits\" and \"more_fruits\" and assign the result to a new tuple named \"all_fruits\".\n",
    "\n",
    "6.Print the tuple \"all_fruits\".\n",
    "\n",
    "7.Check if \"kiwi\" is present in the tuple \"all fruits\" and print the result.\n",
    "\n",
    "8.Find and print the index of \"banana\" in the tuple \"all_fruits\"."
   ]
  },
  {
   "cell_type": "code",
   "execution_count": 5,
   "id": "eafb83f2",
   "metadata": {},
   "outputs": [
    {
     "name": "stdout",
     "output_type": "stream",
     "text": [
      "('apple', 'banana', 'orange', 'mango', 'kiwi')\n"
     ]
    }
   ],
   "source": [
    "fruits=(\"apple\", \"banana\", \"orange\", \"mango\",\"kiwi\")\n",
    "print(fruits)\n"
   ]
  },
  {
   "cell_type": "code",
   "execution_count": 6,
   "id": "aa5520e4",
   "metadata": {},
   "outputs": [
    {
     "data": {
      "text/plain": [
       "5"
      ]
     },
     "execution_count": 6,
     "metadata": {},
     "output_type": "execute_result"
    }
   ],
   "source": [
    "len(fruits)"
   ]
  },
  {
   "cell_type": "code",
   "execution_count": 7,
   "id": "a1d93b27",
   "metadata": {},
   "outputs": [
    {
     "data": {
      "text/plain": [
       "'mango'"
      ]
     },
     "execution_count": 7,
     "metadata": {},
     "output_type": "execute_result"
    }
   ],
   "source": [
    "fruits[3]"
   ]
  },
  {
   "cell_type": "code",
   "execution_count": 8,
   "id": "2b674202",
   "metadata": {},
   "outputs": [
    {
     "data": {
      "text/plain": [
       "('orange', 'mango', 'kiwi')"
      ]
     },
     "execution_count": 8,
     "metadata": {},
     "output_type": "execute_result"
    }
   ],
   "source": [
    "fruits[2:5]"
   ]
  },
  {
   "cell_type": "code",
   "execution_count": 9,
   "id": "cf450edc",
   "metadata": {},
   "outputs": [
    {
     "name": "stdout",
     "output_type": "stream",
     "text": [
      "('apple', 'banana', 'orange', 'mango', 'kiwi', 'grape', 'pear', 'pineapple')\n"
     ]
    }
   ],
   "source": [
    "more_fruits=(\"grape\", \"pear\", \"pineapple\")\n",
    "all_fruits=fruits+more_fruits\n",
    "print(all_fruits)"
   ]
  },
  {
   "cell_type": "code",
   "execution_count": 10,
   "id": "7620eb50",
   "metadata": {},
   "outputs": [
    {
     "data": {
      "text/plain": [
       "True"
      ]
     },
     "execution_count": 10,
     "metadata": {},
     "output_type": "execute_result"
    }
   ],
   "source": [
    "\"kiwi\" in all_fruits"
   ]
  },
  {
   "cell_type": "code",
   "execution_count": 11,
   "id": "d5735885",
   "metadata": {},
   "outputs": [
    {
     "data": {
      "text/plain": [
       "1"
      ]
     },
     "execution_count": 11,
     "metadata": {},
     "output_type": "execute_result"
    }
   ],
   "source": [
    "all_fruits.index(\"banana\")"
   ]
  },
  {
   "cell_type": "markdown",
   "id": "f36d651b",
   "metadata": {},
   "source": [
    "# 2. Set Operations"
   ]
  },
  {
   "cell_type": "raw",
   "id": "72be6223",
   "metadata": {},
   "source": [
    "\n",
    "1.Create a set named \"countries\" containing the following countries: \"USA\", \"Canada\", \"Mexico\", \"Brazil\", \"India\". \n",
    "\n",
    "2.Print the set \"countries\".\n",
    "\n",
    "3.Add \"China\" and \"Germany\" to the set \"countries\".\n",
    "\n",
    "4.Print the updated set \"countries\". \n",
    "\n",
    "5.Create a set named \"european_countries\" containing the following countries: \"Germany\", \"France\", \"Spain\", \"Italy\", \"United Kingdom\".\n",
    "\n",
    "6.Print the set \"european_countries\".\n",
    "\n",
    "7.Find and print the intersection of the sets \"countries\" and \"european_countries\". \n",
    "\n",
    "8.Find and print the union of the sets \"countries\" and \"european_countries\".\n",
    "\n",
    "9.Remove \"India\" from the set \"countries\". Print the undated set countries"
   ]
  },
  {
   "cell_type": "code",
   "execution_count": 12,
   "id": "ad920014",
   "metadata": {},
   "outputs": [],
   "source": [
    "countries={\"USA\", \"Canada\", \"Mexico\", \"Brazil\", \"India\"}"
   ]
  },
  {
   "cell_type": "code",
   "execution_count": 13,
   "id": "3b575721",
   "metadata": {},
   "outputs": [
    {
     "name": "stdout",
     "output_type": "stream",
     "text": [
      "{'India', 'Canada', 'Brazil', 'Mexico', 'USA'}\n"
     ]
    }
   ],
   "source": [
    "print(countries)"
   ]
  },
  {
   "cell_type": "code",
   "execution_count": 14,
   "id": "116da968",
   "metadata": {},
   "outputs": [],
   "source": [
    "countries.add(\"china\")\n",
    "countries.add(\"Germany\")"
   ]
  },
  {
   "cell_type": "code",
   "execution_count": 15,
   "id": "4a87af00",
   "metadata": {},
   "outputs": [
    {
     "name": "stdout",
     "output_type": "stream",
     "text": [
      "{'India', 'china', 'Canada', 'Brazil', 'Mexico', 'Germany', 'USA'}\n"
     ]
    }
   ],
   "source": [
    "print(countries)"
   ]
  },
  {
   "cell_type": "code",
   "execution_count": 16,
   "id": "072a2150",
   "metadata": {},
   "outputs": [],
   "source": [
    "european_countries={\"Germany\", \"France\", \"Spain\", \"Italy\", \"United Kingdom\"}"
   ]
  },
  {
   "cell_type": "code",
   "execution_count": 17,
   "id": "18a57057",
   "metadata": {},
   "outputs": [
    {
     "name": "stdout",
     "output_type": "stream",
     "text": [
      "{'United Kingdom', 'France', 'Germany', 'Spain', 'Italy'}\n"
     ]
    }
   ],
   "source": [
    "print(european_countries)"
   ]
  },
  {
   "cell_type": "code",
   "execution_count": 18,
   "id": "790dc316",
   "metadata": {},
   "outputs": [
    {
     "data": {
      "text/plain": [
       "{'Brazil',\n",
       " 'Canada',\n",
       " 'France',\n",
       " 'Germany',\n",
       " 'India',\n",
       " 'Italy',\n",
       " 'Mexico',\n",
       " 'Spain',\n",
       " 'USA',\n",
       " 'United Kingdom',\n",
       " 'china'}"
      ]
     },
     "execution_count": 18,
     "metadata": {},
     "output_type": "execute_result"
    }
   ],
   "source": [
    "european_countries.union(countries)"
   ]
  },
  {
   "cell_type": "code",
   "execution_count": 19,
   "id": "176eb9ea",
   "metadata": {},
   "outputs": [
    {
     "data": {
      "text/plain": [
       "{'Germany'}"
      ]
     },
     "execution_count": 19,
     "metadata": {},
     "output_type": "execute_result"
    }
   ],
   "source": [
    "countries.intersection(european_countries)"
   ]
  },
  {
   "cell_type": "code",
   "execution_count": 20,
   "id": "075e87a0",
   "metadata": {},
   "outputs": [
    {
     "name": "stdout",
     "output_type": "stream",
     "text": [
      "{'china', 'Canada', 'Brazil', 'Mexico', 'Germany', 'USA'}\n"
     ]
    }
   ],
   "source": [
    "countries.remove(\"India\")\n",
    "print(countries)"
   ]
  },
  {
   "cell_type": "code",
   "execution_count": null,
   "id": "8d275dfd",
   "metadata": {},
   "outputs": [],
   "source": []
  }
 ],
 "metadata": {
  "kernelspec": {
   "display_name": "Python 3 (ipykernel)",
   "language": "python",
   "name": "python3"
  },
  "language_info": {
   "codemirror_mode": {
    "name": "ipython",
    "version": 3
   },
   "file_extension": ".py",
   "mimetype": "text/x-python",
   "name": "python",
   "nbconvert_exporter": "python",
   "pygments_lexer": "ipython3",
   "version": "3.11.3"
  }
 },
 "nbformat": 4,
 "nbformat_minor": 5
}
