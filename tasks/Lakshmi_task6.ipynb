{
 "cells": [
  {
   "cell_type": "code",
   "execution_count": 40,
   "id": "8abc5b74",
   "metadata": {},
   "outputs": [
    {
     "data": {
      "text/plain": [
       "'   Data Science!@789'"
      ]
     },
     "execution_count": 40,
     "metadata": {},
     "output_type": "execute_result"
    }
   ],
   "source": [
    "name=\"   Data Science!@789\"\n",
    "name"
   ]
  },
  {
   "cell_type": "markdown",
   "id": "ce797dba",
   "metadata": {},
   "source": [
    "1.Remove leading/trailing whitespace"
   ]
  },
  {
   "cell_type": "code",
   "execution_count": 41,
   "id": "a3b9f0c0",
   "metadata": {},
   "outputs": [
    {
     "name": "stdout",
     "output_type": "stream",
     "text": [
      "Data Science!@789\n"
     ]
    }
   ],
   "source": [
    "a=name.strip()\n",
    "print(a)"
   ]
  },
  {
   "cell_type": "code",
   "execution_count": 42,
   "id": "e43f028e",
   "metadata": {},
   "outputs": [
    {
     "data": {
      "text/plain": [
       "17"
      ]
     },
     "execution_count": 42,
     "metadata": {},
     "output_type": "execute_result"
    }
   ],
   "source": [
    "len(a)"
   ]
  },
  {
   "cell_type": "markdown",
   "id": "db46c038",
   "metadata": {},
   "source": [
    "2. convert to lowercase"
   ]
  },
  {
   "cell_type": "code",
   "execution_count": 43,
   "id": "4262d606",
   "metadata": {},
   "outputs": [
    {
     "name": "stdout",
     "output_type": "stream",
     "text": [
      "data science!@789\n"
     ]
    }
   ],
   "source": [
    "b=a.lower()\n",
    "print(b)"
   ]
  },
  {
   "cell_type": "markdown",
   "id": "d0890aa3",
   "metadata": {},
   "source": [
    "3.Removes the special characters"
   ]
  },
  {
   "cell_type": "code",
   "execution_count": 44,
   "id": "3e2493dc",
   "metadata": {},
   "outputs": [
    {
     "name": "stdout",
     "output_type": "stream",
     "text": [
      "['Data Science', '789']\n"
     ]
    }
   ],
   "source": [
    "c=a.split(\"!@\")\n",
    "print(c)"
   ]
  },
  {
   "cell_type": "markdown",
   "id": "3aa983c2",
   "metadata": {},
   "source": [
    "4.Capitalize the first letter of each word"
   ]
  },
  {
   "cell_type": "code",
   "execution_count": 45,
   "id": "9401b0fe",
   "metadata": {},
   "outputs": [
    {
     "name": "stdout",
     "output_type": "stream",
     "text": [
      "Data Science!@789\n"
     ]
    }
   ],
   "source": [
    "d=b.title()\n",
    "print(d)"
   ]
  },
  {
   "cell_type": "markdown",
   "id": "27a02535",
   "metadata": {},
   "source": [
    "5. print output like: \"Data Analyst\""
   ]
  },
  {
   "cell_type": "code",
   "execution_count": 46,
   "id": "b2d7ece6",
   "metadata": {},
   "outputs": [
    {
     "name": "stdout",
     "output_type": "stream",
     "text": [
      "Data Analyst\n"
     ]
    }
   ],
   "source": [
    "e=a.replace(\"Science!@789\",\"Analyst\")\n",
    "print(e)"
   ]
  },
  {
   "cell_type": "markdown",
   "id": "c95fc047",
   "metadata": {},
   "source": [
    "6. Try possible ckecking conditions(ex: isalpha(),isdigit()...)"
   ]
  },
  {
   "cell_type": "code",
   "execution_count": 47,
   "id": "29b0fe20",
   "metadata": {},
   "outputs": [
    {
     "data": {
      "text/plain": [
       "False"
      ]
     },
     "execution_count": 47,
     "metadata": {},
     "output_type": "execute_result"
    }
   ],
   "source": [
    "name.isalnum()"
   ]
  },
  {
   "cell_type": "code",
   "execution_count": 48,
   "id": "5f660d73",
   "metadata": {},
   "outputs": [
    {
     "data": {
      "text/plain": [
       "False"
      ]
     },
     "execution_count": 48,
     "metadata": {},
     "output_type": "execute_result"
    }
   ],
   "source": [
    "name.isalpha()"
   ]
  },
  {
   "cell_type": "code",
   "execution_count": 49,
   "id": "7d2bfbc8",
   "metadata": {},
   "outputs": [
    {
     "data": {
      "text/plain": [
       "False"
      ]
     },
     "execution_count": 49,
     "metadata": {},
     "output_type": "execute_result"
    }
   ],
   "source": [
    "name.isdigit()"
   ]
  },
  {
   "cell_type": "code",
   "execution_count": 50,
   "id": "ec7582d0",
   "metadata": {},
   "outputs": [
    {
     "data": {
      "text/plain": [
       "True"
      ]
     },
     "execution_count": 50,
     "metadata": {},
     "output_type": "execute_result"
    }
   ],
   "source": [
    "\"36128371\".isdigit()"
   ]
  },
  {
   "cell_type": "code",
   "execution_count": 51,
   "id": "c9f8372a",
   "metadata": {},
   "outputs": [
    {
     "data": {
      "text/plain": [
       "False"
      ]
     },
     "execution_count": 51,
     "metadata": {},
     "output_type": "execute_result"
    }
   ],
   "source": [
    "name.isspace()"
   ]
  },
  {
   "cell_type": "markdown",
   "id": "9b45301a",
   "metadata": {},
   "source": [
    "7. output should be:'Data'"
   ]
  },
  {
   "cell_type": "markdown",
   "id": "426ed003",
   "metadata": {},
   "source": [
    "a. use string methods/functions"
   ]
  },
  {
   "cell_type": "code",
   "execution_count": 52,
   "id": "f2e673c2",
   "metadata": {},
   "outputs": [
    {
     "data": {
      "text/plain": [
       "'Data Science!@789'"
      ]
     },
     "execution_count": 52,
     "metadata": {},
     "output_type": "execute_result"
    }
   ],
   "source": [
    "a"
   ]
  },
  {
   "cell_type": "code",
   "execution_count": 53,
   "id": "83784243",
   "metadata": {},
   "outputs": [
    {
     "data": {
      "text/plain": [
       "['Data', 'Science!@789']"
      ]
     },
     "execution_count": 53,
     "metadata": {},
     "output_type": "execute_result"
    }
   ],
   "source": [
    "s=a.split()\n",
    "s"
   ]
  },
  {
   "cell_type": "code",
   "execution_count": 54,
   "id": "4942f1e0",
   "metadata": {},
   "outputs": [
    {
     "name": "stdout",
     "output_type": "stream",
     "text": [
      "Data\n"
     ]
    }
   ],
   "source": [
    "print(s[0])"
   ]
  },
  {
   "cell_type": "code",
   "execution_count": 55,
   "id": "d107431e",
   "metadata": {},
   "outputs": [
    {
     "data": {
      "text/plain": [
       "'Data'"
      ]
     },
     "execution_count": 55,
     "metadata": {},
     "output_type": "execute_result"
    }
   ],
   "source": [
    "a[0:4].capitalize()"
   ]
  },
  {
   "cell_type": "markdown",
   "id": "14b353de",
   "metadata": {},
   "source": [
    "b.use indexing/slicing concept"
   ]
  },
  {
   "cell_type": "code",
   "execution_count": 56,
   "id": "89cd33c9",
   "metadata": {},
   "outputs": [
    {
     "data": {
      "text/plain": [
       "'Data Science!@789'"
      ]
     },
     "execution_count": 56,
     "metadata": {},
     "output_type": "execute_result"
    }
   ],
   "source": [
    "a"
   ]
  },
  {
   "cell_type": "code",
   "execution_count": 57,
   "id": "230ae873",
   "metadata": {},
   "outputs": [
    {
     "data": {
      "text/plain": [
       "'Data'"
      ]
     },
     "execution_count": 57,
     "metadata": {},
     "output_type": "execute_result"
    }
   ],
   "source": [
    "a[0:4]"
   ]
  },
  {
   "cell_type": "code",
   "execution_count": 58,
   "id": "1f90a4ae",
   "metadata": {},
   "outputs": [
    {
     "data": {
      "text/plain": [
       "'Data'"
      ]
     },
     "execution_count": 58,
     "metadata": {},
     "output_type": "execute_result"
    }
   ],
   "source": [
    "a[-18:-13:1]"
   ]
  }
 ],
 "metadata": {
  "kernelspec": {
   "display_name": "Python 3 (ipykernel)",
   "language": "python",
   "name": "python3"
  },
  "language_info": {
   "codemirror_mode": {
    "name": "ipython",
    "version": 3
   },
   "file_extension": ".py",
   "mimetype": "text/x-python",
   "name": "python",
   "nbconvert_exporter": "python",
   "pygments_lexer": "ipython3",
   "version": "3.11.3"
  }
 },
 "nbformat": 4,
 "nbformat_minor": 5
}
