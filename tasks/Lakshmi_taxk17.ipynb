{
 "cells": [
  {
   "cell_type": "code",
   "execution_count": null,
   "id": "b8006f18",
   "metadata": {},
   "outputs": [],
   "source": [
    " Fahrenheit = (Celsius*9/5) + 32"
   ]
  },
  {
   "cell_type": "markdown",
   "id": "58328850",
   "metadata": {},
   "source": [
    "# Functions "
   ]
  },
  {
   "cell_type": "markdown",
   "id": "a2588833",
   "metadata": {},
   "source": [
    "**Temperature Converter**"
   ]
  },
  {
   "cell_type": "markdown",
   "id": "162a9d9b",
   "metadata": {},
   "source": [
    "Write two functions, celsius_to_fahrenheit and fahrenheit_to_celsius, that convert temperature values between Celsius and Fahrenheit. Implement a program to prompt the user to enter a temperature and its unit (C or F) and display the converted value using the appropriate function. "
   ]
  },
  {
   "cell_type": "code",
   "execution_count": 5,
   "id": "c72bdcca",
   "metadata": {},
   "outputs": [
    {
     "name": "stdout",
     "output_type": "stream",
     "text": [
      "4.5\n",
      "Fahrenheit: 40.1\n",
      "8.7\n",
      "celsius: -12.944444444444445\n"
     ]
    }
   ],
   "source": [
    "def fahrenheit_to_celsius(Celsius):\n",
    "    Fahrenheit = (Celsius*9/5) + 32\n",
    "    return Fahrenheit\n",
    "def celsius_to_fahrenheit(Fahrenheit):\n",
    "    celsius=(Fahrenheit-32)*(5/9)\n",
    "    return celsius\n",
    "s=fahrenheit_to_celsius(float(input()))\n",
    "print(\"Fahrenheit:\",s)\n",
    "res=celsius_to_fahrenheit(float(input()))\n",
    "print(\"celsius:\",res)"
   ]
  },
  {
   "cell_type": "markdown",
   "id": "2297af2e",
   "metadata": {},
   "source": [
    "**Simple Calculator**"
   ]
  },
  {
   "cell_type": "markdown",
   "id": "ad284ae9",
   "metadata": {},
   "source": [
    "Write a Python program that defines four functions: add, subtract, multiply, and divide. Each function should take two arguments and perform the respective operation. The program should prompt the user to enter two numbers and an operation (+, -, *, /), then display the result using the appropriate function. "
   ]
  },
  {
   "cell_type": "code",
   "execution_count": 2,
   "id": "51685485",
   "metadata": {},
   "outputs": [
    {
     "name": "stdout",
     "output_type": "stream",
     "text": [
      "4\n",
      "5\n",
      "6\n",
      "9\n",
      "2\n",
      "5\n",
      "7\n",
      "4\n",
      "Addition: 9\n",
      "Subtraction: -3\n",
      "Multiplication: 10\n",
      "Division: 1.75\n"
     ]
    }
   ],
   "source": [
    "def add(a,b):\n",
    "    return a+b\n",
    "def sub(a,b):\n",
    "    return a-b\n",
    "def mul(a,b):\n",
    "    return a*b\n",
    "def div(a,b):\n",
    "    return a/b\n",
    "res1=add(int(input()),int(input()))\n",
    "res2=sub(int(input()),int(input()))\n",
    "res3=mul(int(input()),int(input()))\n",
    "res4=div(int(input()),int(input()))\n",
    "print(\"Addition:\",res1)\n",
    "print(\"Subtraction:\",res2)\n",
    "print(\"Multiplication:\",res3)\n",
    "print(\"Division:\",res4)"
   ]
  },
  {
   "cell_type": "markdown",
   "id": "bf2f1694",
   "metadata": {},
   "source": [
    "# Pattern "
   ]
  },
  {
   "cell_type": "markdown",
   "id": "c27358f3",
   "metadata": {},
   "source": [
    "Write a Python program to print the following alphabet pattern . \n",
    "\n",
    "A \n",
    "\n",
    "A B \n",
    "\n",
    "A B C \n",
    "\n",
    "A B C D \n",
    "\n",
    "A B C D E "
   ]
  },
  {
   "cell_type": "code",
   "execution_count": 5,
   "id": "1b9adf30",
   "metadata": {},
   "outputs": [
    {
     "name": "stdout",
     "output_type": "stream",
     "text": [
      "5\n"
     ]
    }
   ],
   "source": [
    "n=int(input())\n"
   ]
  },
  {
   "cell_type": "code",
   "execution_count": 6,
   "id": "0a22eb2e",
   "metadata": {},
   "outputs": [],
   "source": [
    "lst2=[chr(65+i) for i in range(n)]"
   ]
  },
  {
   "cell_type": "code",
   "execution_count": 11,
   "id": "229e98d3",
   "metadata": {},
   "outputs": [
    {
     "name": "stdout",
     "output_type": "stream",
     "text": [
      "A\n",
      "AB\n",
      "ABC\n",
      "ABCD\n",
      "ABCDE\n"
     ]
    }
   ],
   "source": [
    "for i in range(n):\n",
    "    for j in range(0,i+1):\n",
    "        print(chr(65+j),end=\"\")\n",
    "    print()"
   ]
  },
  {
   "cell_type": "code",
   "execution_count": 12,
   "id": "8e663c98",
   "metadata": {},
   "outputs": [
    {
     "name": "stdout",
     "output_type": "stream",
     "text": [
      "A\n",
      "BB\n",
      "CCC\n",
      "DDDD\n",
      "EEEEE\n"
     ]
    }
   ],
   "source": [
    "for i in range(n):\n",
    "    for j in range(0,i+1):\n",
    "        print(chr(65+i),end=\"\")\n",
    "    print()"
   ]
  },
  {
   "cell_type": "markdown",
   "id": "cf0cb0df",
   "metadata": {},
   "source": [
    "# Assignment Tasks on File Handling:"
   ]
  },
  {
   "cell_type": "markdown",
   "id": "c9e9ef9a",
   "metadata": {},
   "source": [
    "**Create a file**"
   ]
  },
  {
   "cell_type": "markdown",
   "id": "ff132095",
   "metadata": {},
   "source": [
    "Write a Python program that creates a text file named \"data.txt\" and add data about python programming (should contain at least 5 lines) "
   ]
  },
  {
   "cell_type": "code",
   "execution_count": 2,
   "id": "e20490dd",
   "metadata": {},
   "outputs": [],
   "source": [
    "file=open(\"data5.txt\",\"x\")"
   ]
  },
  {
   "cell_type": "code",
   "execution_count": 3,
   "id": "e041e9b0",
   "metadata": {},
   "outputs": [],
   "source": [
    "file.writelines(\"python Programming: 1.python programm is a high programming language. 2.we can easy to learn. 3.python progarmm is a objected oriented language 4.free and open source 5.Dynamic 6.interpreted language\")"
   ]
  },
  {
   "cell_type": "code",
   "execution_count": 4,
   "id": "168beb12",
   "metadata": {},
   "outputs": [],
   "source": [
    "file.close()"
   ]
  },
  {
   "cell_type": "markdown",
   "id": "a41a0ee7",
   "metadata": {},
   "source": [
    "**Read and Display File Contents**\n",
    "\n",
    "Write a Python program that reads a text file named \"data.txt\" and displays its contents on the screen. "
   ]
  },
  {
   "cell_type": "code",
   "execution_count": 6,
   "id": "acdc8931",
   "metadata": {},
   "outputs": [
    {
     "data": {
      "text/plain": [
       "'python Programming: 1.python programm is a high programming language. 2.we can easy to learn. 3.python progarmm is a objected oriented language 4.free and open source 5.Dynamic 6.interpreted language'"
      ]
     },
     "execution_count": 6,
     "metadata": {},
     "output_type": "execute_result"
    }
   ],
   "source": [
    "file=open(\"data5.txt\",\"r\")\n",
    "file.read()"
   ]
  },
  {
   "cell_type": "markdown",
   "id": "5c1f6ac1",
   "metadata": {},
   "source": [
    "**Count Words in a File**\n",
    "\n",
    "Write a Python program that reads a text file named \"data.txt\" and counts the total number of words in the file. Display the word count on the screen. "
   ]
  },
  {
   "cell_type": "code",
   "execution_count": 7,
   "id": "3377864a",
   "metadata": {},
   "outputs": [],
   "source": [
    "file.close()"
   ]
  },
  {
   "cell_type": "code",
   "execution_count": 8,
   "id": "cdc9e911",
   "metadata": {},
   "outputs": [],
   "source": [
    "file=open(\"data5.txt\",\"r\")"
   ]
  },
  {
   "cell_type": "code",
   "execution_count": 9,
   "id": "d9096f05",
   "metadata": {},
   "outputs": [
    {
     "data": {
      "text/plain": [
       "'python Programming: 1.python programm is a high programming language. 2.we can easy to learn. 3.python progarmm is a objected oriented language 4.free and open source 5.Dynamic 6.interpreted language'"
      ]
     },
     "execution_count": 9,
     "metadata": {},
     "output_type": "execute_result"
    }
   ],
   "source": [
    "a=file.read()\n",
    "a"
   ]
  },
  {
   "cell_type": "code",
   "execution_count": 10,
   "id": "f1329621",
   "metadata": {},
   "outputs": [],
   "source": [
    "lst=a.split()"
   ]
  },
  {
   "cell_type": "code",
   "execution_count": 11,
   "id": "09b7cfad",
   "metadata": {},
   "outputs": [
    {
     "name": "stdout",
     "output_type": "stream",
     "text": [
      "['python', 'Programming:', '1.python', 'programm', 'is', 'a', 'high', 'programming', 'language.', '2.we', 'can', 'easy', 'to', 'learn.', '3.python', 'progarmm', 'is', 'a', 'objected', 'oriented', 'language', '4.free', 'and', 'open', 'source', '5.Dynamic', '6.interpreted', 'language']\n"
     ]
    }
   ],
   "source": [
    "print(lst)"
   ]
  },
  {
   "cell_type": "code",
   "execution_count": 12,
   "id": "8c96d05e",
   "metadata": {},
   "outputs": [
    {
     "name": "stdout",
     "output_type": "stream",
     "text": [
      "28\n"
     ]
    }
   ],
   "source": [
    "print(len(lst))"
   ]
  },
  {
   "cell_type": "code",
   "execution_count": 13,
   "id": "743191c1",
   "metadata": {},
   "outputs": [],
   "source": [
    "file.close()"
   ]
  },
  {
   "cell_type": "markdown",
   "id": "d1bf779f",
   "metadata": {},
   "source": [
    "**Search and Replace** \n",
    "\n",
    "Create a Python program that reads a text file named \"data.txt\" and asks the user to enter a word to search for. If the word is found in the file, replace all occurrences of the word with a new word provided by the user.  "
   ]
  },
  {
   "cell_type": "code",
   "execution_count": 14,
   "id": "2e937025",
   "metadata": {},
   "outputs": [],
   "source": [
    "file=open(\"data5.txt\",\"r\")"
   ]
  },
  {
   "cell_type": "code",
   "execution_count": 15,
   "id": "45cd853c",
   "metadata": {},
   "outputs": [],
   "source": [
    "a=file.read()"
   ]
  },
  {
   "cell_type": "code",
   "execution_count": 16,
   "id": "a2229735",
   "metadata": {},
   "outputs": [
    {
     "name": "stdout",
     "output_type": "stream",
     "text": [
      "python\n",
      "data scince\n",
      "data scince Programming: 1.data scince programm is a high programming language. 2.we can easy to learn. 3.data scince progarmm is a objected oriented language 4.free and open source 5.Dynamic 6.interpreted language\n"
     ]
    }
   ],
   "source": [
    "word=input()\n",
    "new_word=input()\n",
    "if word in a:\n",
    "    print(a.replace(word,new_word))"
   ]
  },
  {
   "cell_type": "markdown",
   "id": "5ceba6eb",
   "metadata": {},
   "source": [
    " **Append to a File**\n",
    "\n",
    "Write a Python program that prompts the user to enter a sentence. Append this sentence to an existing file named \"notes.txt\". Make sure the newly added sentence starts on a new line. "
   ]
  },
  {
   "cell_type": "code",
   "execution_count": 1,
   "id": "678e7ef5",
   "metadata": {},
   "outputs": [
    {
     "data": {
      "text/plain": [
       "\"I am python developerI'm data scientist also\\n\""
      ]
     },
     "execution_count": 1,
     "metadata": {},
     "output_type": "execute_result"
    }
   ],
   "source": [
    "file=open(\"notes.txt\",\"r\")\n",
    "file.read()"
   ]
  },
  {
   "cell_type": "code",
   "execution_count": 5,
   "id": "9df72009",
   "metadata": {},
   "outputs": [
    {
     "name": "stdout",
     "output_type": "stream",
     "text": [
      "She is java developer\n"
     ]
    },
    {
     "data": {
      "text/plain": [
       "22"
      ]
     },
     "execution_count": 5,
     "metadata": {},
     "output_type": "execute_result"
    }
   ],
   "source": [
    "file=open(\"notes.txt\",\"a\")\n",
    "sentence=input()\n",
    "file.write(sentence + \"\\n\")"
   ]
  },
  {
   "cell_type": "code",
   "execution_count": 6,
   "id": "13523eb5",
   "metadata": {},
   "outputs": [],
   "source": [
    "file.close()"
   ]
  },
  {
   "cell_type": "code",
   "execution_count": 7,
   "id": "f5fbbc2c",
   "metadata": {},
   "outputs": [
    {
     "name": "stdout",
     "output_type": "stream",
     "text": [
      "I am python developerI'm data scientist also\n",
      "data scince\n",
      "She is java developer\n"
     ]
    }
   ],
   "source": [
    "file=open(\"notes.txt\",\"r\")\n",
    "res=file.read()\n",
    "print(res,end=\"\")"
   ]
  },
  {
   "cell_type": "code",
   "execution_count": null,
   "id": "fbc2acf4",
   "metadata": {},
   "outputs": [],
   "source": []
  }
 ],
 "metadata": {
  "kernelspec": {
   "display_name": "Python 3 (ipykernel)",
   "language": "python",
   "name": "python3"
  },
  "language_info": {
   "codemirror_mode": {
    "name": "ipython",
    "version": 3
   },
   "file_extension": ".py",
   "mimetype": "text/x-python",
   "name": "python",
   "nbconvert_exporter": "python",
   "pygments_lexer": "ipython3",
   "version": "3.11.3"
  }
 },
 "nbformat": 4,
 "nbformat_minor": 5
}
