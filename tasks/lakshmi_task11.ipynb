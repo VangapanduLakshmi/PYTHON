{
 "cells": [
  {
   "cell_type": "markdown",
   "id": "14964bce",
   "metadata": {},
   "source": [
    "**1. write a program which will accept a word from the user and is going to check whether the word starts with or not**"
   ]
  },
  {
   "cell_type": "code",
   "execution_count": 25,
   "id": "0464a038",
   "metadata": {},
   "outputs": [
    {
     "name": "stdout",
     "output_type": "stream",
     "text": [
      "innomatics research lab\n",
      "the word startswith vowel\n",
      "the word not startswith vowel\n",
      "the word not startswith vowel\n"
     ]
    }
   ],
   "source": [
    "name=input()\n",
    "name=name.split()\n",
    "for i in range(len(name)):\n",
    "    if(name[i].startswith(\"a\") or name[i].startswith(\"e\")or name[i].startswith(\"i\") or name[i].startswith(\"o\") or \n",
    "    name[i].startswith(\"u\")or name[i].startswith(\"A\") or name[i].startswith(\"E\")or name[i].startswith(\"I\") or \n",
    "    name[i].startswith(\"O\") or name[i].startswith(\"U\")):\n",
    "        print(\"the word startswith vowel\")\n",
    "    else:\n",
    "        print(\"the word not startswith vowel\")"
   ]
  },
  {
   "cell_type": "markdown",
   "id": "cfe693e1",
   "metadata": {},
   "source": [
    "**2.write a program that prints the numbers from 1 to 10, each on a new line.**"
   ]
  },
  {
   "cell_type": "code",
   "execution_count": 16,
   "id": "db712fe2",
   "metadata": {},
   "outputs": [
    {
     "name": "stdout",
     "output_type": "stream",
     "text": [
      "1\n",
      "2\n",
      "3\n",
      "4\n",
      "5\n",
      "6\n",
      "7\n",
      "8\n",
      "9\n",
      "10\n"
     ]
    }
   ],
   "source": [
    "for i in range(1,11):\n",
    "    print(i)"
   ]
  },
  {
   "cell_type": "markdown",
   "id": "f4fd5811",
   "metadata": {},
   "source": [
    "**3.write a program that prints the even numbers 1 to 20, each on a new line.**"
   ]
  },
  {
   "cell_type": "code",
   "execution_count": 19,
   "id": "189a3dcc",
   "metadata": {},
   "outputs": [
    {
     "name": "stdout",
     "output_type": "stream",
     "text": [
      "2\n",
      "4\n",
      "6\n",
      "8\n",
      "10\n",
      "12\n",
      "14\n",
      "16\n",
      "18\n",
      "20\n"
     ]
    }
   ],
   "source": [
    "for i in range(1,21):\n",
    "    if(i%2==0):\n",
    "        print(i)\n",
    "    "
   ]
  },
  {
   "cell_type": "markdown",
   "id": "ff9db736",
   "metadata": {},
   "source": [
    "**4.write a program that calculates and prints the square of each number from 1 to 5.**"
   ]
  },
  {
   "cell_type": "code",
   "execution_count": 20,
   "id": "b111bf4a",
   "metadata": {},
   "outputs": [
    {
     "name": "stdout",
     "output_type": "stream",
     "text": [
      "1\n",
      "4\n",
      "9\n",
      "16\n",
      "25\n"
     ]
    }
   ],
   "source": [
    "for i in range(1,6):\n",
    "    print(i**2)"
   ]
  },
  {
   "cell_type": "markdown",
   "id": "5c9722be",
   "metadata": {},
   "source": [
    "**5.write a program that prints the multiples of 3 from 3 to 30, each on a new line.**"
   ]
  },
  {
   "cell_type": "code",
   "execution_count": 21,
   "id": "227724ef",
   "metadata": {},
   "outputs": [
    {
     "name": "stdout",
     "output_type": "stream",
     "text": [
      "3\n",
      "6\n",
      "9\n",
      "12\n",
      "15\n",
      "18\n",
      "21\n",
      "24\n",
      "27\n",
      "30\n"
     ]
    }
   ],
   "source": [
    "for i in range(3,31):\n",
    "    if(i%3==0):\n",
    "        print(i)"
   ]
  },
  {
   "cell_type": "markdown",
   "id": "68addbd7",
   "metadata": {},
   "source": [
    "**6.write a program that prints the numbers from 10 to 1 in descending order, each on a new line,**"
   ]
  },
  {
   "cell_type": "code",
   "execution_count": 23,
   "id": "f9b96123",
   "metadata": {},
   "outputs": [
    {
     "name": "stdout",
     "output_type": "stream",
     "text": [
      "10\n",
      "9\n",
      "8\n",
      "7\n",
      "6\n",
      "5\n",
      "4\n",
      "3\n",
      "2\n",
      "1\n"
     ]
    }
   ],
   "source": [
    "for i in range(10,0,-1):\n",
    "    print(i)"
   ]
  },
  {
   "cell_type": "code",
   "execution_count": null,
   "id": "c0a3922b",
   "metadata": {},
   "outputs": [],
   "source": []
  }
 ],
 "metadata": {
  "kernelspec": {
   "display_name": "Python 3 (ipykernel)",
   "language": "python",
   "name": "python3"
  },
  "language_info": {
   "codemirror_mode": {
    "name": "ipython",
    "version": 3
   },
   "file_extension": ".py",
   "mimetype": "text/x-python",
   "name": "python",
   "nbconvert_exporter": "python",
   "pygments_lexer": "ipython3",
   "version": "3.11.3"
  }
 },
 "nbformat": 4,
 "nbformat_minor": 5
}
