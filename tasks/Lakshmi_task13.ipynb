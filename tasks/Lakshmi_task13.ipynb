{
 "cells": [
  {
   "cell_type": "markdown",
   "id": "1ca2c446",
   "metadata": {},
   "source": [
    "**String Manipulation and Control Flow:**\n",
    "\n",
    "a) Write a program that prompts the user to enter a sentence. The program should reverse the words in the sentence while preserving the word order."
   ]
  },
  {
   "cell_type": "code",
   "execution_count": 14,
   "id": "8e18c8f3",
   "metadata": {},
   "outputs": [
    {
     "name": "stdout",
     "output_type": "stream",
     "text": [
      "innomatics research labs\n",
      "labs research innomatics "
     ]
    }
   ],
   "source": [
    "name=input()\n",
    "name=name.split()\n",
    "s=len(name)-1\n",
    "while(s>=0):\n",
    "    print(name[s], end=\" \")\n",
    "    s=s-1"
   ]
  },
  {
   "cell_type": "markdown",
   "id": "679a2db4",
   "metadata": {},
   "source": [
    "b) Create a program that takes a string as input and checks if it is a valid email address based on specific criteria (e.g., presence of @ symbol and valid domain name)"
   ]
  },
  {
   "cell_type": "code",
   "execution_count": 2,
   "id": "962dca20",
   "metadata": {},
   "outputs": [
    {
     "name": "stdout",
     "output_type": "stream",
     "text": [
      "registration process\n",
      "Lakshmi\n",
      "laxmivangapandu111@gmail.com\n",
      "laxmi@123\n",
      "login process\n",
      "laxmivangapandu111@gmail.com\n",
      "Laxmi@123\n",
      "set the new password\n",
      "Lakshmi@123\n",
      "enter the new password\n",
      "Lakshmi@123\n",
      "login succesfully\n"
     ]
    }
   ],
   "source": [
    "print(\"registration process\")\n",
    "user_name=input()\n",
    "email=input()\n",
    "email=email.lower()\n",
    "password=input()\n",
    "if(email.endswith(\"@gmail.com\")):\n",
    "    pass\n",
    "else:\n",
    "    print(\"please enter the valid email:@gmail.com\")\n",
    "print(\"login process\")\n",
    "email1=input()\n",
    "password1=input()\n",
    "if(email==email1 and password==password1):\n",
    "    print(\"login succesfully\")\n",
    "elif(email==email1 and password!=password1):#if we froget the password\n",
    "    print(\"set the new password\")\n",
    "    new_password=input()                      #create the new_password\n",
    "    conform_password=new_password             #conform the the new_password\n",
    "    password=conform_password                #update the registered password\n",
    "    print(\"enter the new password\")\n",
    "    password2=input()                         #enter the  password again\n",
    "    if(email==email1 and password==password2): #if the password2 is equal to update registered password. than loginsuccesfully.\n",
    "        print(\"login succesfully\")\n",
    "\n",
    "    else:\n",
    "        print(\"login fail\")\n",
    "else:\n",
    "    print(\"invalid mail/login fail\")\n"
   ]
  },
  {
   "cell_type": "markdown",
   "id": "e2b80de0",
   "metadata": {},
   "source": [
    "**Data Structures and Control Flow:**\n",
    "\n",
    "a) write a program that implements a simple contact book. The program should allow users to add contacts, search for contacts by name, and display all contacts. "
   ]
  },
  {
   "cell_type": "code",
   "execution_count": 3,
   "id": "540f5cc7",
   "metadata": {},
   "outputs": [
    {
     "name": "stdout",
     "output_type": "stream",
     "text": [
      "2\n",
      "lakshmi\n",
      "1234567890 1234653245\n",
      "laxmi\n",
      "1234659087 8909876578 5678985434\n",
      "lakshmi\n",
      "['1234567890', '1234653245']\n"
     ]
    }
   ],
   "source": [
    "dic={}\n",
    "n=int(input())\n",
    "for i in range(n):\n",
    "    contact_name=input()\n",
    "    contacts=list(map(str,input().split()))\n",
    "    for i in range(len(contacts)):\n",
    "        if(len(contacts[i])==10):\n",
    "            continue\n",
    "        else:\n",
    "            print(\"the contact should be 10 digits\")\n",
    "    dic[contact_name]=contacts\n",
    "search_contact_name=input()\n",
    "if search_contact_name in dic:\n",
    "    print(dic[search_contact_name])"
   ]
  },
  {
   "cell_type": "markdown",
   "id": "ae2ccce2",
   "metadata": {},
   "source": [
    " b) Create a program that simulates a basic inventory management system using dictionaries. The program should allow users to add items, remove items, and display the current inventory."
   ]
  },
  {
   "cell_type": "code",
   "execution_count": 6,
   "id": "ba6304f0",
   "metadata": {},
   "outputs": [
    {
     "name": "stdout",
     "output_type": "stream",
     "text": [
      "3\n",
      "lakshmi\n",
      "98\n",
      "laxmi\n",
      "90\n",
      "lucky\n",
      "97\n",
      "laxmi\n",
      "{'lakshmi': 98, 'lucky': 97}\n"
     ]
    }
   ],
   "source": [
    "dic={}\n",
    "n=int(input())\n",
    "for i in range(n):\n",
    "    name=input()\n",
    "    marks=int(input())\n",
    "    dic[name]=marks\n",
    "dic.pop(input())\n",
    "print(dic)"
   ]
  },
  {
   "cell_type": "code",
   "execution_count": null,
   "id": "a40b23a9",
   "metadata": {},
   "outputs": [],
   "source": []
  }
 ],
 "metadata": {
  "kernelspec": {
   "display_name": "Python 3 (ipykernel)",
   "language": "python",
   "name": "python3"
  },
  "language_info": {
   "codemirror_mode": {
    "name": "ipython",
    "version": 3
   },
   "file_extension": ".py",
   "mimetype": "text/x-python",
   "name": "python",
   "nbconvert_exporter": "python",
   "pygments_lexer": "ipython3",
   "version": "3.11.3"
  }
 },
 "nbformat": 4,
 "nbformat_minor": 5
}
