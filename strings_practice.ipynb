{
 "cells": [
  {
   "cell_type": "code",
   "execution_count": 39,
   "id": "12981340",
   "metadata": {},
   "outputs": [],
   "source": [
    "name=\"   data science!@789   \""
   ]
  },
  {
   "cell_type": "code",
   "execution_count": 40,
   "id": "1c077047",
   "metadata": {},
   "outputs": [
    {
     "name": "stdout",
     "output_type": "stream",
     "text": [
      "   data science!@789   \n"
     ]
    }
   ],
   "source": [
    "print(name)"
   ]
  },
  {
   "cell_type": "code",
   "execution_count": 41,
   "id": "bc4cee44",
   "metadata": {},
   "outputs": [
    {
     "data": {
      "text/plain": [
       "'data science!@789'"
      ]
     },
     "execution_count": 41,
     "metadata": {},
     "output_type": "execute_result"
    }
   ],
   "source": [
    "a=name.strip()\n",
    "a"
   ]
  },
  {
   "cell_type": "code",
   "execution_count": 42,
   "id": "2834cf2b",
   "metadata": {},
   "outputs": [
    {
     "name": "stdout",
     "output_type": "stream",
     "text": [
      "data science!@789\n"
     ]
    }
   ],
   "source": [
    "name_lower=a.lower()\n",
    "print(name_lower)"
   ]
  },
  {
   "cell_type": "code",
   "execution_count": 43,
   "id": "ccab779f",
   "metadata": {},
   "outputs": [
    {
     "data": {
      "text/plain": [
       "['   data science', '789   ']"
      ]
     },
     "execution_count": 43,
     "metadata": {},
     "output_type": "execute_result"
    }
   ],
   "source": [
    "s=name.split(\"!@\")\n",
    "s"
   ]
  },
  {
   "cell_type": "code",
   "execution_count": 44,
   "id": "ec9ccfe8",
   "metadata": {},
   "outputs": [
    {
     "data": {
      "text/plain": [
       "'Data science!@789'"
      ]
     },
     "execution_count": 44,
     "metadata": {},
     "output_type": "execute_result"
    }
   ],
   "source": [
    "a.capitalize()"
   ]
  },
  {
   "cell_type": "code",
   "execution_count": 58,
   "id": "1f11b255",
   "metadata": {},
   "outputs": [
    {
     "data": {
      "text/plain": [
       "'data science!@789'"
      ]
     },
     "execution_count": 58,
     "metadata": {},
     "output_type": "execute_result"
    }
   ],
   "source": [
    "a"
   ]
  },
  {
   "cell_type": "code",
   "execution_count": 60,
   "id": "069a7aef",
   "metadata": {},
   "outputs": [
    {
     "data": {
      "text/plain": [
       "17"
      ]
     },
     "execution_count": 60,
     "metadata": {},
     "output_type": "execute_result"
    }
   ],
   "source": [
    "len(a)"
   ]
  },
  {
   "cell_type": "code",
   "execution_count": 63,
   "id": "0dd2906f",
   "metadata": {},
   "outputs": [
    {
     "data": {
      "text/plain": [
       "'D'"
      ]
     },
     "execution_count": 63,
     "metadata": {},
     "output_type": "execute_result"
    }
   ],
   "source": [
    "a[0].capitalize()"
   ]
  },
  {
   "cell_type": "code",
   "execution_count": 65,
   "id": "35b3e382",
   "metadata": {},
   "outputs": [
    {
     "data": {
      "text/plain": [
       "'Data'"
      ]
     },
     "execution_count": 65,
     "metadata": {},
     "output_type": "execute_result"
    }
   ],
   "source": [
    "a[0:4].capitalize()"
   ]
  },
  {
   "cell_type": "code",
   "execution_count": 88,
   "id": "d29a6794",
   "metadata": {},
   "outputs": [
    {
     "data": {
      "text/plain": [
       "'Data Science!@789'"
      ]
     },
     "execution_count": 88,
     "metadata": {},
     "output_type": "execute_result"
    }
   ],
   "source": [
    "a[0:5].capitalize()+a[5:18].capitalize()"
   ]
  },
  {
   "cell_type": "code",
   "execution_count": 103,
   "id": "f6c530e6",
   "metadata": {},
   "outputs": [],
   "source": [
    "s=\"data science!@789\""
   ]
  },
  {
   "cell_type": "code",
   "execution_count": 104,
   "id": "22a753b3",
   "metadata": {},
   "outputs": [
    {
     "name": "stdout",
     "output_type": "stream",
     "text": [
      "Data Science!@789\n"
     ]
    }
   ],
   "source": [
    "for i in range(len(s)):\n",
    "    if(s[i]==\" \"):\n",
    "        print(s[0:i+1].capitalize()+s[i+1:].capitalize())"
   ]
  },
  {
   "cell_type": "code",
   "execution_count": 107,
   "id": "05edccca",
   "metadata": {},
   "outputs": [
    {
     "name": "stdout",
     "output_type": "stream",
     "text": [
      "Innomatics Research labs\n",
      "Innomatics research Labs\n"
     ]
    }
   ],
   "source": [
    "a=\"Innomatics research labs\"\n",
    "for i in range(len(a)):\n",
    "    if(a[i]==\" \"):\n",
    "        print(a[0:i+1].capitalize()+a[i+1:].capitalize())"
   ]
  },
  {
   "cell_type": "code",
   "execution_count": 121,
   "id": "c02b10ab",
   "metadata": {},
   "outputs": [
    {
     "data": {
      "text/plain": [
       "'Innomatics Research Labs'"
      ]
     },
     "execution_count": 121,
     "metadata": {},
     "output_type": "execute_result"
    }
   ],
   "source": [
    "a.title()"
   ]
  },
  {
   "cell_type": "code",
   "execution_count": 127,
   "id": "9f74ed10",
   "metadata": {},
   "outputs": [
    {
     "name": "stdout",
     "output_type": "stream",
     "text": [
      "Innomatics Research Labs\n"
     ]
    }
   ],
   "source": [
    "res=\" \".join(i.capitalize() for i in a.split())\n",
    "print(res)"
   ]
  },
  {
   "cell_type": "code",
   "execution_count": 130,
   "id": "67aa2a5d",
   "metadata": {},
   "outputs": [
    {
     "data": {
      "text/plain": [
       "['   data science', '789   ']"
      ]
     },
     "execution_count": 130,
     "metadata": {},
     "output_type": "execute_result"
    }
   ],
   "source": [
    "r=name.split(\"!@\")\n",
    "r"
   ]
  },
  {
   "cell_type": "code",
   "execution_count": 6,
   "id": "e192fcec",
   "metadata": {},
   "outputs": [
    {
     "name": "stdout",
     "output_type": "stream",
     "text": [
      "innomatics research lab\n",
      "the word startswith vowel\n",
      "the word not startswith vowel\n",
      "the word not startswith vowel\n"
     ]
    }
   ],
   "source": [
    "name=input()\n",
    "name=name.split()\n",
    "vowel=(\"a\",\"e\",\"i\",\"o\",\"u\",\"A\",\"E\",\"I\",\"O\",\"U\")\n",
    "for i in range(len(name)):\n",
    "    if(name[i].startswith(vowel)):\n",
    "        print(\"the word startswith vowel\")\n",
    "    else:\n",
    "        print(\"the word not startswith vowel\")"
   ]
  },
  {
   "cell_type": "code",
   "execution_count": 13,
   "id": "3312e567",
   "metadata": {},
   "outputs": [],
   "source": [
    "name=\"innmatics research lab\"\n",
    "name2=\"data science\""
   ]
  },
  {
   "cell_type": "code",
   "execution_count": 18,
   "id": "fe2f20b4",
   "metadata": {},
   "outputs": [],
   "source": [
    "s=name.join(name2)"
   ]
  },
  {
   "cell_type": "code",
   "execution_count": 19,
   "id": "41b01c71",
   "metadata": {},
   "outputs": [
    {
     "data": {
      "text/plain": [
       "'dinnmatics research labainnmatics research labtinnmatics research labainnmatics research lab innmatics research labsinnmatics research labcinnmatics research labiinnmatics research labeinnmatics research labninnmatics research labcinnmatics research labe'"
      ]
     },
     "execution_count": 19,
     "metadata": {},
     "output_type": "execute_result"
    }
   ],
   "source": [
    "s"
   ]
  },
  {
   "cell_type": "code",
   "execution_count": 20,
   "id": "fd7fa4bd",
   "metadata": {},
   "outputs": [
    {
     "data": {
      "text/plain": [
       "('innmatics research lab', 'd a t a   s c i e n c e')"
      ]
     },
     "execution_count": 20,
     "metadata": {},
     "output_type": "execute_result"
    }
   ],
   "source": [
    "a=name,\" \".join(name2)\n",
    "a"
   ]
  },
  {
   "cell_type": "code",
   "execution_count": 25,
   "id": "18fe7c1d",
   "metadata": {},
   "outputs": [
    {
     "data": {
      "text/plain": [
       "('innmatics research lab', 'data science')"
      ]
     },
     "execution_count": 25,
     "metadata": {},
     "output_type": "execute_result"
    }
   ],
   "source": [
    "b=name,\"\".join(name2)\n",
    "b"
   ]
  },
  {
   "cell_type": "code",
   "execution_count": 26,
   "id": "17d228c9",
   "metadata": {},
   "outputs": [
    {
     "data": {
      "text/plain": [
       "['innmatics research lab', 'data science']"
      ]
     },
     "execution_count": 26,
     "metadata": {},
     "output_type": "execute_result"
    }
   ],
   "source": [
    "list(b)"
   ]
  },
  {
   "cell_type": "code",
   "execution_count": null,
   "id": "6966df87",
   "metadata": {},
   "outputs": [],
   "source": []
  }
 ],
 "metadata": {
  "kernelspec": {
   "display_name": "Python 3 (ipykernel)",
   "language": "python",
   "name": "python3"
  },
  "language_info": {
   "codemirror_mode": {
    "name": "ipython",
    "version": 3
   },
   "file_extension": ".py",
   "mimetype": "text/x-python",
   "name": "python",
   "nbconvert_exporter": "python",
   "pygments_lexer": "ipython3",
   "version": "3.11.3"
  }
 },
 "nbformat": 4,
 "nbformat_minor": 5
}
